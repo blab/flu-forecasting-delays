{
 "cells": [
  {
   "cell_type": "code",
   "execution_count": null,
   "id": "3f06eac7-4710-4106-88bc-601ebf3bab02",
   "metadata": {},
   "outputs": [],
   "source": [
    "from matplotlib import pyplot as plt\n",
    "from matplotlib.lines import Line2D\n",
    "import pandas as pd\n",
    "import seaborn as sns"
   ]
  },
  {
   "cell_type": "code",
   "execution_count": null,
   "id": "936ae903-beb2-448c-89d9-7552ea0a2982",
   "metadata": {},
   "outputs": [],
   "source": [
    "color_by_delay_type = {\n",
    "    \"none\": \"C0\",\n",
    "    \"ideal\": \"C1\",\n",
    "    \"realistic\": \"C2\",\n",
    "}"
   ]
  },
  {
   "cell_type": "code",
   "execution_count": null,
   "id": "c340c1d9-ea0d-4d32-b5e3-35429b901138",
   "metadata": {},
   "outputs": [],
   "source": [
    "interventions = pd.read_csv(\n",
    "    \"../manuscript/tables/h3n2_effects_of_realistic_interventions.tsv\",\n",
    "    sep=\"\\t\",\n",
    "    parse_dates=[\"future_timepoint\"],\n",
    ")"
   ]
  },
  {
   "cell_type": "code",
   "execution_count": null,
   "id": "62ae7884-1ddf-4e18-843b-017dd4b33dd4",
   "metadata": {},
   "outputs": [],
   "source": [
    "interventions.head()"
   ]
  },
  {
   "cell_type": "code",
   "execution_count": null,
   "id": "2dcc5bb7-03f9-4ac9-8847-3088ca0eb922",
   "metadata": {},
   "outputs": [],
   "source": [
    "sorted_surveillance_interventions = interventions.query(\n",
    "    \"intervention_name == 'improved surveillance'\"\n",
    ").sort_values(\n",
    "    \"difference_in_total_absolute_forecast_error\"\n",
    ").reset_index()"
   ]
  },
  {
   "cell_type": "code",
   "execution_count": null,
   "id": "5d1bab3c-5410-4348-b005-a3ec14230ea0",
   "metadata": {},
   "outputs": [],
   "source": [
    "sorted_surveillance_interventions.head()"
   ]
  },
  {
   "cell_type": "code",
   "execution_count": null,
   "id": "0e78bd81-1fa4-410c-9fe5-b0619a2deb94",
   "metadata": {},
   "outputs": [],
   "source": [
    "sorted_surveillance_interventions.tail()"
   ]
  },
  {
   "cell_type": "code",
   "execution_count": null,
   "id": "9e161f7c-9eb8-48bc-8af3-b28d5664055c",
   "metadata": {},
   "outputs": [],
   "source": [
    "worst_future_timepoint = sorted_surveillance_interventions.at[0, \"future_timepoint\"]"
   ]
  },
  {
   "cell_type": "code",
   "execution_count": null,
   "id": "ba25811f-816e-4eb7-8339-d2699e9dfdb1",
   "metadata": {},
   "outputs": [],
   "source": [
    "worst_future_timepoint"
   ]
  },
  {
   "cell_type": "code",
   "execution_count": null,
   "id": "2533cf2e-cbdd-46f7-8601-688e147c28a2",
   "metadata": {},
   "outputs": [],
   "source": [
    "worst_initial_timepoint = worst_future_timepoint - pd.DateOffset(years=1)"
   ]
  },
  {
   "cell_type": "code",
   "execution_count": null,
   "id": "8afe2b2d-c1e3-4d7e-9ba1-ae3b7a69201d",
   "metadata": {},
   "outputs": [],
   "source": [
    "worst_initial_timepoint"
   ]
  },
  {
   "cell_type": "code",
   "execution_count": null,
   "id": "b430db80-eca4-4e15-863e-6926ac99ea36",
   "metadata": {},
   "outputs": [],
   "source": [
    "best_future_timepoint = sorted_surveillance_interventions.at[\n",
    "    sorted_surveillance_interventions.shape[0] - 1,\n",
    "    \"future_timepoint\"\n",
    "]"
   ]
  },
  {
   "cell_type": "code",
   "execution_count": null,
   "id": "2bcdc035-e1a6-4200-be3e-938587625793",
   "metadata": {},
   "outputs": [],
   "source": [
    "best_future_timepoint"
   ]
  },
  {
   "cell_type": "code",
   "execution_count": null,
   "id": "775b9081-737c-414b-848a-131e450ed400",
   "metadata": {},
   "outputs": [],
   "source": [
    "best_initial_timepoint = best_future_timepoint - pd.DateOffset(years=1)"
   ]
  },
  {
   "cell_type": "code",
   "execution_count": null,
   "id": "0f606c41-87ab-4c87-a64f-71695793c7dd",
   "metadata": {},
   "outputs": [],
   "source": [
    "best_initial_timepoint"
   ]
  },
  {
   "cell_type": "code",
   "execution_count": null,
   "id": "b5e98e1a-4966-4a4c-be5b-0dba444bfa9f",
   "metadata": {},
   "outputs": [],
   "source": [
    "df = pd.read_csv(\n",
    "    \"../results/clade_frequencies_for_h3n2.tsv\",\n",
    "    sep=\"\\t\",\n",
    "    parse_dates=[\n",
    "        \"timepoint\",\n",
    "        \"future_timepoint\",\n",
    "    ],\n",
    ")"
   ]
  },
  {
   "cell_type": "code",
   "execution_count": null,
   "id": "403f1a95-0b2f-44aa-86b1-b655467671c6",
   "metadata": {},
   "outputs": [],
   "source": [
    "df.head()"
   ]
  },
  {
   "cell_type": "code",
   "execution_count": null,
   "id": "3ad4aa47-e6e6-43f7-9411-4447005170e3",
   "metadata": {},
   "outputs": [],
   "source": [
    "df.loc[\n",
    "    (\n",
    "        (df[\"timepoint\"] == worst_initial_timepoint) &\n",
    "        (df[\"future_timepoint\"] == worst_future_timepoint) &\n",
    "        (df[\"delay_type\"] == \"ideal\")\n",
    "    ),\n",
    "].sort_values(\n",
    "    \"absolute_forecast_error\",\n",
    "    ascending=False,\n",
    ").head()"
   ]
  },
  {
   "cell_type": "code",
   "execution_count": null,
   "id": "3f9ea374-e02e-4419-b35b-d57e2dceede7",
   "metadata": {},
   "outputs": [],
   "source": [
    "worst_clade = df.loc[\n",
    "    (\n",
    "        (df[\"timepoint\"] == worst_initial_timepoint) &\n",
    "        (df[\"future_timepoint\"] == worst_future_timepoint) &\n",
    "        (df[\"delay_type\"] == \"ideal\")\n",
    "    ),\n",
    "].sort_values(\n",
    "    \"absolute_forecast_error\",\n",
    "    ascending=False,\n",
    ").reset_index().at[0, \"clade_membership\"]"
   ]
  },
  {
   "cell_type": "code",
   "execution_count": null,
   "id": "966d0113-d53f-4e74-96f7-4fb4179f813d",
   "metadata": {},
   "outputs": [],
   "source": [
    "worst_clade"
   ]
  },
  {
   "cell_type": "code",
   "execution_count": null,
   "id": "8d361e98-18a9-46d5-a810-e9c3b602f252",
   "metadata": {},
   "outputs": [],
   "source": [
    "worst_frequencies = df.loc[\n",
    "    (\n",
    "        (df[\"delay_type\"] == \"none\") &\n",
    "        (df[\"delta_month\"] == 12) &\n",
    "        (df[\"clade_membership\"] == worst_clade)\n",
    "    ),\n",
    "    [\n",
    "        \"timepoint\",\n",
    "        \"frequency\",\n",
    "    ],\n",
    "]"
   ]
  },
  {
   "cell_type": "code",
   "execution_count": null,
   "id": "23355899-3d7b-47c6-899b-6e5f24540503",
   "metadata": {},
   "outputs": [],
   "source": [
    "worst_forecasts = df.loc[\n",
    "    (\n",
    "        (df[\"clade_membership\"] == worst_clade) &\n",
    "        (df[\"future_timepoint\"] == worst_future_timepoint) &\n",
    "        (df[\"timepoint\"] == worst_initial_timepoint)\n",
    "    ),\n",
    "    [\n",
    "        \"timepoint\",\n",
    "        \"future_timepoint\",\n",
    "        \"frequency\",\n",
    "        \"projected_frequency\",\n",
    "        \"delay_type\",\n",
    "    ],\n",
    "]"
   ]
  },
  {
   "cell_type": "code",
   "execution_count": null,
   "id": "d28f2860-964b-47ab-9197-c7bae632cac6",
   "metadata": {},
   "outputs": [],
   "source": [
    "worst_forecasts.shape"
   ]
  },
  {
   "cell_type": "code",
   "execution_count": null,
   "id": "c382d557-277d-4dd0-a400-a428413e7865",
   "metadata": {},
   "outputs": [],
   "source": [
    "worst_forecasts.values[:5]"
   ]
  },
  {
   "cell_type": "code",
   "execution_count": null,
   "id": "68199163-c56e-4976-92c4-8d8d3d859fad",
   "metadata": {},
   "outputs": [],
   "source": [
    "fig, ax = plt.subplots(1, 1, figsize=(10, 4), dpi=120)\n",
    "\n",
    "ax.plot(\n",
    "    worst_frequencies[\"timepoint\"],\n",
    "    worst_frequencies[\"frequency\"],\n",
    "    \"o-\",\n",
    "    color=\"#999999\",\n",
    ")\n",
    "\n",
    "for (initial_timepoint, future_timepoint, initial_frequency, future_frequency, delay_type) in worst_forecasts.values:\n",
    "    ax.add_line(\n",
    "        Line2D(\n",
    "            [initial_timepoint, future_timepoint],\n",
    "            [initial_frequency, future_frequency],\n",
    "            color=color_by_delay_type[delay_type],\n",
    "        )\n",
    "    )\n",
    "\n",
    "ax.axvline(\n",
    "    x=worst_future_timepoint,\n",
    "    color=\"#999999\",\n",
    "    linestyle=\"--\",\n",
    "    zorder=-10,\n",
    ")\n",
    "\n",
    "ax.set_xlabel(\"Date\")\n",
    "ax.set_ylabel(\"Frequency\")\n",
    "\n",
    "sns.despine()"
   ]
  },
  {
   "cell_type": "code",
   "execution_count": null,
   "id": "a7380fdb-e61f-4f31-9593-b3b8c2bb354c",
   "metadata": {},
   "outputs": [],
   "source": [
    "df.loc[\n",
    "    (\n",
    "        (df[\"timepoint\"] == best_initial_timepoint) &\n",
    "        (df[\"future_timepoint\"] == best_future_timepoint) &\n",
    "        (df[\"delay_type\"] == \"ideal\") &\n",
    "        (df[\"frequency\"] >= 0.2) &\n",
    "        (df[\"frequency\"] < 0.9)\n",
    "    ),\n",
    "].sort_values(\n",
    "    \"absolute_forecast_error\",\n",
    "    ascending=True,\n",
    ").head()"
   ]
  },
  {
   "cell_type": "code",
   "execution_count": null,
   "id": "831be5a1-a3d8-4519-b0ce-ef267af3142d",
   "metadata": {},
   "outputs": [],
   "source": [
    "best_clade = df.loc[\n",
    "    (\n",
    "        (df[\"timepoint\"] == best_initial_timepoint) &\n",
    "        (df[\"future_timepoint\"] == best_future_timepoint) &\n",
    "        (df[\"delay_type\"] == \"ideal\") &\n",
    "        (df[\"frequency\"] >= 0.2) &\n",
    "        (df[\"frequency\"] < 0.9)\n",
    "    ),\n",
    "].sort_values(\n",
    "    \"absolute_forecast_error\",\n",
    "    ascending=True,\n",
    ").reset_index().at[0, \"clade_membership\"]"
   ]
  },
  {
   "cell_type": "code",
   "execution_count": null,
   "id": "520d9c10-697d-44c2-9a74-d0d7d3cdd74f",
   "metadata": {},
   "outputs": [],
   "source": [
    "best_clade"
   ]
  },
  {
   "cell_type": "code",
   "execution_count": null,
   "id": "0797f3ab-6e4e-4754-afd4-0b5af3f65e26",
   "metadata": {},
   "outputs": [],
   "source": [
    "best_frequencies = df.loc[\n",
    "    (\n",
    "        (df[\"delay_type\"] == \"none\") &\n",
    "        (df[\"delta_month\"] == 12) &\n",
    "        (df[\"clade_membership\"] == best_clade)\n",
    "    ),\n",
    "    [\n",
    "        \"timepoint\",\n",
    "        \"frequency\",\n",
    "    ],\n",
    "]"
   ]
  },
  {
   "cell_type": "code",
   "execution_count": null,
   "id": "3e05cb87-b088-4b73-bbd4-15788862b131",
   "metadata": {},
   "outputs": [],
   "source": [
    "best_forecasts = df.loc[\n",
    "    (\n",
    "        (df[\"clade_membership\"] == best_clade) &\n",
    "        (df[\"future_timepoint\"] == best_future_timepoint) &\n",
    "        (df[\"timepoint\"] == best_initial_timepoint)\n",
    "    ),\n",
    "    [\n",
    "        \"timepoint\",\n",
    "        \"future_timepoint\",\n",
    "        \"frequency\",\n",
    "        \"projected_frequency\",\n",
    "        \"delay_type\",\n",
    "    ],\n",
    "]"
   ]
  },
  {
   "cell_type": "code",
   "execution_count": null,
   "id": "78932a21-3c97-4043-a8ce-c2bd15391a7c",
   "metadata": {},
   "outputs": [],
   "source": [
    "best_forecasts"
   ]
  },
  {
   "cell_type": "code",
   "execution_count": null,
   "id": "efaf9fbc-cb1c-4d68-a9a4-166b3ea5e2fe",
   "metadata": {},
   "outputs": [],
   "source": [
    "fig, ax = plt.subplots(1, 1, figsize=(10, 4), dpi=120)\n",
    "\n",
    "ax.plot(\n",
    "    best_frequencies[\"timepoint\"],\n",
    "    best_frequencies[\"frequency\"],\n",
    "    \"o-\",\n",
    "    color=\"#999999\",\n",
    ")\n",
    "\n",
    "for (initial_timepoint, future_timepoint, initial_frequency, future_frequency, delay_type) in best_forecasts.values:\n",
    "    ax.add_line(\n",
    "        Line2D(\n",
    "            [initial_timepoint, future_timepoint],\n",
    "            [initial_frequency, future_frequency],\n",
    "            color=color_by_delay_type[delay_type],\n",
    "        )\n",
    "    )\n",
    "\n",
    "ax.axvline(\n",
    "    x=best_future_timepoint,\n",
    "    color=\"#999999\",\n",
    "    linestyle=\"--\",\n",
    "    zorder=-10,\n",
    ")\n",
    "\n",
    "ax.set_xlabel(\"Date\")\n",
    "ax.set_ylabel(\"Frequency\")\n",
    "\n",
    "sns.despine()"
   ]
  },
  {
   "cell_type": "code",
   "execution_count": null,
   "id": "e2b6d54f-76eb-449c-b89e-1c95aa9be7ee",
   "metadata": {},
   "outputs": [],
   "source": []
  }
 ],
 "metadata": {
  "kernelspec": {
   "display_name": "Python 3 (ipykernel)",
   "language": "python",
   "name": "python3"
  },
  "language_info": {
   "codemirror_mode": {
    "name": "ipython",
    "version": 3
   },
   "file_extension": ".py",
   "mimetype": "text/x-python",
   "name": "python",
   "nbconvert_exporter": "python",
   "pygments_lexer": "ipython3",
   "version": "3.8.13"
  }
 },
 "nbformat": 4,
 "nbformat_minor": 5
}
