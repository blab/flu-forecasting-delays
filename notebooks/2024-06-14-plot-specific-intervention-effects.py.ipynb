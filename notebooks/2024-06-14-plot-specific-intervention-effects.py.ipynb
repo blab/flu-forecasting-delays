{
 "cells": [
  {
   "cell_type": "code",
   "execution_count": null,
   "id": "3f06eac7-4710-4106-88bc-601ebf3bab02",
   "metadata": {},
   "outputs": [],
   "source": [
    "from matplotlib import pyplot as plt\n",
    "import pandas as pd\n",
    "import seaborn as sns"
   ]
  },
  {
   "cell_type": "code",
   "execution_count": null,
   "id": "fb5657ad-adbc-4613-957d-86c6652733ea",
   "metadata": {},
   "outputs": [],
   "source": [
    "worst_initial_timepoint = \"2012-10-01\"\n",
    "worst_future_timepoint = \"2013-10-01\"\n",
    "\n",
    "best_initial_timepoint = \"2016-01-01\"\n",
    "best_future_timepoint = \"2017-01-01\""
   ]
  },
  {
   "cell_type": "code",
   "execution_count": null,
   "id": "b5e98e1a-4966-4a4c-be5b-0dba444bfa9f",
   "metadata": {},
   "outputs": [],
   "source": [
    "df = pd.read_csv(\n",
    "    \"../results/clade_frequencies_for_h3n2.tsv\",\n",
    "    sep=\"\\t\",\n",
    "    parse_dates=[\n",
    "        \"timepoint\",\n",
    "        \"future_timepoint\",\n",
    "    ],\n",
    ")"
   ]
  },
  {
   "cell_type": "code",
   "execution_count": null,
   "id": "403f1a95-0b2f-44aa-86b1-b655467671c6",
   "metadata": {},
   "outputs": [],
   "source": [
    "df.head()"
   ]
  },
  {
   "cell_type": "code",
   "execution_count": null,
   "id": "e529e6b7-f818-473b-88e4-3a1fda834eee",
   "metadata": {},
   "outputs": [],
   "source": [
    "worst_df = df.loc[\n",
    "    (\n",
    "        (df[\"timepoint\"] == worst_initial_timepoint) &\n",
    "        (df[\"future_timepoint\"] == worst_future_timepoint) &\n",
    "        (df[\"delay_type\"].isin([\"ideal\", \"realistic\"]))\n",
    "    ),\n",
    "    :,\n",
    "].copy()"
   ]
  },
  {
   "cell_type": "code",
   "execution_count": null,
   "id": "ccae4e43-3c81-4daa-9d98-e1ecb61937b7",
   "metadata": {},
   "outputs": [],
   "source": [
    "worst_df.shape"
   ]
  },
  {
   "cell_type": "code",
   "execution_count": null,
   "id": "c94a92be-7aad-4b13-b518-826c633427da",
   "metadata": {},
   "outputs": [],
   "source": [
    "worst_df.sort_values(\"absolute_forecast_error\", ascending=False)"
   ]
  },
  {
   "cell_type": "code",
   "execution_count": null,
   "id": "e0f838de-e7f4-4a68-ab58-7115d0b84c13",
   "metadata": {},
   "outputs": [],
   "source": [
    "worst_df.query(\"frequency >= 0.1\")"
   ]
  },
  {
   "cell_type": "code",
   "execution_count": null,
   "id": "320739d3-316b-418c-9ca2-762fc66ddfd1",
   "metadata": {},
   "outputs": [],
   "source": [
    "worst_df.query(\"clade_membership == 'A.6.8.5.2.4.1'\")"
   ]
  },
  {
   "cell_type": "code",
   "execution_count": null,
   "id": "1041f62b-e9c5-4b7c-bd9a-5a451b8f772f",
   "metadata": {},
   "outputs": [],
   "source": [
    "worst_df.groupby(\"delay_type\")[\"absolute_forecast_error\"].sum()"
   ]
  },
  {
   "cell_type": "code",
   "execution_count": null,
   "id": "befc33f4-ab0b-4ad7-ab57-faf98ec2edc6",
   "metadata": {},
   "outputs": [],
   "source": [
    "worst_df.query(\"frequency >= 0.1\").groupby(\"delay_type\")[\"absolute_forecast_error\"].sum()"
   ]
  },
  {
   "cell_type": "code",
   "execution_count": null,
   "id": "69be0300-77fd-49f0-b85c-7d1916b2af07",
   "metadata": {},
   "outputs": [],
   "source": [
    "worst_df.query(\"frequency < 0.1\").groupby(\"delay_type\")[\"absolute_forecast_error\"].sum()"
   ]
  },
  {
   "cell_type": "code",
   "execution_count": null,
   "id": "d763ee22-c528-4c78-9c5a-1b66b3d8f16e",
   "metadata": {},
   "outputs": [],
   "source": [
    "worst_realistic_df = worst_df.query(\"delay_type == 'realistic'\").copy()"
   ]
  },
  {
   "cell_type": "code",
   "execution_count": null,
   "id": "a57cc389-1f17-44a1-9661-384b5d79142d",
   "metadata": {},
   "outputs": [],
   "source": [
    "worst_ideal_df = worst_df.query(\"delay_type == 'ideal'\").copy()"
   ]
  },
  {
   "cell_type": "code",
   "execution_count": null,
   "id": "7a4d5540-05ac-46a8-a5c3-fed3a202585b",
   "metadata": {},
   "outputs": [],
   "source": [
    "worst_ideal_df"
   ]
  },
  {
   "cell_type": "code",
   "execution_count": null,
   "id": "c77af1d0-1fb0-4fe4-93fe-b1e6c169286a",
   "metadata": {},
   "outputs": [],
   "source": []
  }
 ],
 "metadata": {
  "kernelspec": {
   "display_name": "Python 3 (ipykernel)",
   "language": "python",
   "name": "python3"
  },
  "language_info": {
   "codemirror_mode": {
    "name": "ipython",
    "version": 3
   },
   "file_extension": ".py",
   "mimetype": "text/x-python",
   "name": "python",
   "nbconvert_exporter": "python",
   "pygments_lexer": "ipython3",
   "version": "3.10.13"
  }
 },
 "nbformat": 4,
 "nbformat_minor": 5
}
