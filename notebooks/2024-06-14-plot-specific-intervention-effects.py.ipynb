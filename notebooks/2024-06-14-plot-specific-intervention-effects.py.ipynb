{
 "cells": [
  {
   "cell_type": "code",
   "execution_count": null,
   "id": "3f06eac7-4710-4106-88bc-601ebf3bab02",
   "metadata": {},
   "outputs": [],
   "source": [
    "from matplotlib import pyplot as plt\n",
    "import pandas as pd\n",
    "import seaborn as sns"
   ]
  },
  {
   "cell_type": "code",
   "execution_count": null,
   "id": "fb5657ad-adbc-4613-957d-86c6652733ea",
   "metadata": {},
   "outputs": [],
   "source": [
    "worst_initial_timepoint = \"2012-10-01\"\n",
    "worst_future_timepoint = \"2013-10-01\"\n",
    "\n",
    "best_initial_timepoint = \"2016-01-01\"\n",
    "best_future_timepoint = \"2017-01-01\""
   ]
  },
  {
   "cell_type": "code",
   "execution_count": null,
   "id": "b5e98e1a-4966-4a4c-be5b-0dba444bfa9f",
   "metadata": {},
   "outputs": [],
   "source": [
    "df = pd.read_csv(\n",
    "    \"../results/clade_frequencies_for_h3n2.tsv\",\n",
    "    sep=\"\\t\",\n",
    "    parse_dates=[\n",
    "        \"timepoint\",\n",
    "        \"future_timepoint\",\n",
    "    ],\n",
    ")"
   ]
  },
  {
   "cell_type": "code",
   "execution_count": null,
   "id": "403f1a95-0b2f-44aa-86b1-b655467671c6",
   "metadata": {},
   "outputs": [],
   "source": [
    "df.head()"
   ]
  },
  {
   "cell_type": "code",
   "execution_count": null,
   "id": "e529e6b7-f818-473b-88e4-3a1fda834eee",
   "metadata": {},
   "outputs": [],
   "source": [
    "worst_df = df.loc[\n",
    "    (\n",
    "        (df[\"timepoint\"] == worst_initial_timepoint) &\n",
    "        (df[\"future_timepoint\"] == worst_future_timepoint) &\n",
    "        (df[\"delay_type\"].isin([\"ideal\", \"realistic\"]))\n",
    "    ),\n",
    "    :,\n",
    "].copy()"
   ]
  },
  {
   "cell_type": "code",
   "execution_count": null,
   "id": "ccae4e43-3c81-4daa-9d98-e1ecb61937b7",
   "metadata": {},
   "outputs": [],
   "source": [
    "worst_df.shape"
   ]
  },
  {
   "cell_type": "code",
   "execution_count": null,
   "id": "c94a92be-7aad-4b13-b518-826c633427da",
   "metadata": {},
   "outputs": [],
   "source": [
    "worst_df.sort_values(\"absolute_forecast_error\", ascending=False)"
   ]
  },
  {
   "cell_type": "code",
   "execution_count": null,
   "id": "e0f838de-e7f4-4a68-ab58-7115d0b84c13",
   "metadata": {},
   "outputs": [],
   "source": [
    "worst_df.query(\"frequency >= 0.1\")"
   ]
  },
  {
   "cell_type": "code",
   "execution_count": null,
   "id": "320739d3-316b-418c-9ca2-762fc66ddfd1",
   "metadata": {},
   "outputs": [],
   "source": [
    "worst_df.query(\"clade_membership == 'A.6.8.5.2.4.1'\")"
   ]
  },
  {
   "cell_type": "code",
   "execution_count": null,
   "id": "1041f62b-e9c5-4b7c-bd9a-5a451b8f772f",
   "metadata": {},
   "outputs": [],
   "source": [
    "worst_df.groupby(\"delay_type\")[\"absolute_forecast_error\"].sum()"
   ]
  },
  {
   "cell_type": "code",
   "execution_count": null,
   "id": "befc33f4-ab0b-4ad7-ab57-faf98ec2edc6",
   "metadata": {},
   "outputs": [],
   "source": [
    "worst_df.query(\"frequency >= 0.1\").groupby(\"delay_type\")[\"absolute_forecast_error\"].sum()"
   ]
  },
  {
   "cell_type": "code",
   "execution_count": null,
   "id": "69be0300-77fd-49f0-b85c-7d1916b2af07",
   "metadata": {},
   "outputs": [],
   "source": [
    "worst_df.query(\"frequency < 0.1\").groupby(\"delay_type\")[\"absolute_forecast_error\"].sum()"
   ]
  },
  {
   "cell_type": "code",
   "execution_count": null,
   "id": "d763ee22-c528-4c78-9c5a-1b66b3d8f16e",
   "metadata": {},
   "outputs": [],
   "source": [
    "worst_realistic_df = worst_df.query(\"delay_type == 'realistic'\").copy()"
   ]
  },
  {
   "cell_type": "code",
   "execution_count": null,
   "id": "a57cc389-1f17-44a1-9661-384b5d79142d",
   "metadata": {},
   "outputs": [],
   "source": [
    "worst_ideal_df = worst_df.query(\"delay_type == 'ideal'\").copy()"
   ]
  },
  {
   "cell_type": "code",
   "execution_count": null,
   "id": "7a4d5540-05ac-46a8-a5c3-fed3a202585b",
   "metadata": {},
   "outputs": [],
   "source": [
    "worst_ideal_df"
   ]
  },
  {
   "cell_type": "code",
   "execution_count": null,
   "id": "68ead6f3-ee10-4cf5-8398-3a487657c91f",
   "metadata": {},
   "outputs": [],
   "source": [
    "def sum_child_clades(dataframe, clade, sum_fields, group_by):\n",
    "    clade_dataframe = dataframe.loc[\n",
    "        (\n",
    "            (dataframe[\"clade_membership\"] == clade) |\n",
    "            (dataframe[\"clade_membership\"].str.startswith(f\"{clade}.\"))\n",
    "        ),\n",
    "        sum_fields + group_by,\n",
    "    ].groupby(group_by).sum().reset_index()\n",
    "    clade_dataframe[\"clade_membership\"] = clade\n",
    "    \n",
    "    return clade_dataframe"
   ]
  },
  {
   "cell_type": "code",
   "execution_count": null,
   "id": "b99669cd-57f1-42bb-b8c9-f40532a9baac",
   "metadata": {},
   "outputs": [],
   "source": [
    "sum_fields = [\n",
    "    \"frequency\",\n",
    "    \"projected_frequency\",\n",
    "    \"n_strains\",\n",
    "    \"observed_frequency\",\n",
    "    \"future_n_strains\",\n",
    "]"
   ]
  },
  {
   "cell_type": "code",
   "execution_count": null,
   "id": "8241b1f8-f340-4e0d-a81f-01f6e4fb4fc0",
   "metadata": {},
   "outputs": [],
   "source": [
    "group_by = [\n",
    "    \"sample\",\n",
    "    \"timepoint\",\n",
    "    \"future_timepoint\",\n",
    "    \"delta_month\",\n",
    "    \"delay_type\",\n",
    "]"
   ]
  },
  {
   "cell_type": "code",
   "execution_count": null,
   "id": "7af2661e-b605-4fff-9725-07d0c37ad2e6",
   "metadata": {},
   "outputs": [],
   "source": [
    "# Should return a data frame with frequencies and counts grouped for the given clade\n",
    "# with frequencies all at 100%, since A.6 is the MRCA.\n",
    "sum_child_clades(worst_ideal_df, \"A.6\", sum_fields=sum_fields, group_by=group_by)"
   ]
  },
  {
   "cell_type": "code",
   "execution_count": null,
   "id": "7037bf86-c894-426d-9206-1317c60a45ee",
   "metadata": {},
   "outputs": [],
   "source": [
    "sum_child_clades(worst_ideal_df, \"A.6.8.5.2.4.1\", sum_fields=sum_fields, group_by=group_by)"
   ]
  },
  {
   "cell_type": "code",
   "execution_count": null,
   "id": "71c7da50-5ba2-4c82-b974-a1025bece4e8",
   "metadata": {},
   "outputs": [],
   "source": [
    "sum_child_clades(worst_realistic_df, \"A.6.8.5.2.4.1\", sum_fields=sum_fields, group_by=group_by)"
   ]
  },
  {
   "cell_type": "code",
   "execution_count": null,
   "id": "88be4738-be2d-4416-8acf-a9bd1cf390e0",
   "metadata": {},
   "outputs": [],
   "source": [
    "collapsed_dfs = []\n",
    "for keys, grouped_df in df.groupby(group_by):\n",
    "    print(keys)\n",
    "    collapsed_grouped_dfs = []\n",
    "    for clade in grouped_df[\"clade_membership\"].drop_duplicates().values:\n",
    "        collapsed_grouped_dfs.append(\n",
    "            sum_child_clades(\n",
    "                grouped_df,\n",
    "                clade,\n",
    "                sum_fields,\n",
    "                group_by,\n",
    "            )\n",
    "        )\n",
    "    collapsed_dfs.append(\n",
    "        pd.concat(\n",
    "            collapsed_grouped_dfs,\n",
    "            ignore_index=True,\n",
    "        )\n",
    "    )\n",
    "\n",
    "collapsed_df = pd.concat(\n",
    "    collapsed_dfs,\n",
    "    ignore_index=True,\n",
    ")"
   ]
  },
  {
   "cell_type": "code",
   "execution_count": null,
   "id": "47169e36-9918-4a8c-9517-d07b667e5ea1",
   "metadata": {},
   "outputs": [],
   "source": [
    "collapsed_df"
   ]
  },
  {
   "cell_type": "code",
   "execution_count": null,
   "id": "ac0cf29d-cdc5-4dc0-af6a-0f1bf28285c7",
   "metadata": {},
   "outputs": [],
   "source": [
    "df.shape"
   ]
  },
  {
   "cell_type": "code",
   "execution_count": null,
   "id": "72509480-a4ab-4611-97cf-dd3042179e28",
   "metadata": {},
   "outputs": [],
   "source": [
    "collapsed_df[\"forecast_error\"] = collapsed_df[\"observed_frequency\"] - collapsed_df[\"projected_frequency\"]"
   ]
  },
  {
   "cell_type": "code",
   "execution_count": null,
   "id": "e7693e9d-9749-4040-8366-aa5347250be1",
   "metadata": {},
   "outputs": [],
   "source": [
    "collapsed_df[\"absolute_forecast_error\"] = collapsed_df[\"forecast_error\"].abs()"
   ]
  },
  {
   "cell_type": "code",
   "execution_count": null,
   "id": "56df8397-050d-4dde-a3d1-e5c240aa6c74",
   "metadata": {},
   "outputs": [],
   "source": [
    "worst_df = collapsed_df.loc[\n",
    "    (\n",
    "        (collapsed_df[\"timepoint\"] == worst_initial_timepoint) &\n",
    "        (collapsed_df[\"future_timepoint\"] == worst_future_timepoint) &\n",
    "        (collapsed_df[\"delay_type\"].isin([\"ideal\", \"realistic\"]))\n",
    "    ),\n",
    "    :,\n",
    "].copy()"
   ]
  },
  {
   "cell_type": "code",
   "execution_count": null,
   "id": "d2ab06ef-519a-4679-b7a7-50592590b5ac",
   "metadata": {},
   "outputs": [],
   "source": [
    "worst_df"
   ]
  },
  {
   "cell_type": "code",
   "execution_count": null,
   "id": "ea7dd67c-12dc-4504-b11a-19da2ceed5e0",
   "metadata": {},
   "outputs": [],
   "source": [
    "worst_df.groupby(\"delay_type\")[\"absolute_forecast_error\"].sum()"
   ]
  },
  {
   "cell_type": "code",
   "execution_count": null,
   "id": "e9fcba85-ac74-44ac-ab31-330af2de3d0e",
   "metadata": {},
   "outputs": [],
   "source": []
  }
 ],
 "metadata": {
  "kernelspec": {
   "display_name": "Python 3 (ipykernel)",
   "language": "python",
   "name": "python3"
  },
  "language_info": {
   "codemirror_mode": {
    "name": "ipython",
    "version": 3
   },
   "file_extension": ".py",
   "mimetype": "text/x-python",
   "name": "python",
   "nbconvert_exporter": "python",
   "pygments_lexer": "ipython3",
   "version": "3.8.13"
  }
 },
 "nbformat": 4,
 "nbformat_minor": 5
}
