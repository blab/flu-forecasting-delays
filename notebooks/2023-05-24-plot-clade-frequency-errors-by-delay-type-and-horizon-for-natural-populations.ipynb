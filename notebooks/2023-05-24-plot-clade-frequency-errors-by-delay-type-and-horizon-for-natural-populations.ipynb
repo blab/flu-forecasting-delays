{
 "cells": [
  {
   "cell_type": "markdown",
   "id": "b3cb212a-3426-44a2-a08f-e731473ed305",
   "metadata": {},
   "source": [
    "# Plot clade frequency errors by delay type and forecast horizon for natural H3N2 populations "
   ]
  },
  {
   "cell_type": "code",
   "execution_count": null,
   "id": "7eb48dc7-7119-4e13-9865-ac2e31da1ac9",
   "metadata": {},
   "outputs": [],
   "source": [
    "import matplotlib.pyplot as plt\n",
    "import numpy as np\n",
    "import pandas as pd\n",
    "import seaborn as sns"
   ]
  },
  {
   "cell_type": "code",
   "execution_count": null,
   "id": "9c66adf7-b7bf-4721-a348-79d5294f03ef",
   "metadata": {},
   "outputs": [],
   "source": [
    "sns.set_style(\"ticks\")"
   ]
  },
  {
   "cell_type": "markdown",
   "id": "96d586db-2806-4ba4-8242-74dc69642d3f",
   "metadata": {},
   "source": [
    "## Load clade frequencies"
   ]
  },
  {
   "cell_type": "code",
   "execution_count": null,
   "id": "c8abef56-792c-403b-810f-29d12e9ded4b",
   "metadata": {},
   "outputs": [],
   "source": [
    "frequencies = pd.read_csv(\n",
    "    \"../results/clade_frequencies_for_h3n2.tsv\",\n",
    "    sep=\"\\t\",\n",
    "    parse_dates=[\"timepoint\", \"future_timepoint\"],\n",
    ").rename(\n",
    "    columns={\"delta_month\": \"horizon\"},\n",
    ")"
   ]
  },
  {
   "cell_type": "code",
   "execution_count": null,
   "id": "8e35ce85-ec45-44b1-b3e2-32a8196a9ff8",
   "metadata": {},
   "outputs": [],
   "source": [
    "frequencies[\"horizon\"] = frequencies[\"horizon\"].astype(int)"
   ]
  },
  {
   "cell_type": "code",
   "execution_count": null,
   "id": "b4e98e48-5e19-4f3a-9e5b-470ef1d41166",
   "metadata": {},
   "outputs": [],
   "source": [
    "frequencies.head()"
   ]
  },
  {
   "cell_type": "code",
   "execution_count": null,
   "id": "356324e7-5380-4ed5-9251-93061790c300",
   "metadata": {},
   "outputs": [],
   "source": [
    "frequencies[\"frequency_error\"] = frequencies[\"observed_frequency\"] - frequencies[\"projected_frequency\"]"
   ]
  },
  {
   "cell_type": "code",
   "execution_count": null,
   "id": "0f810517-888f-4568-8c14-702c765621d8",
   "metadata": {},
   "outputs": [],
   "source": [
    "frequencies[\"abs_frequency_error\"] = np.abs(frequencies[\"frequency_error\"])"
   ]
  },
  {
   "cell_type": "code",
   "execution_count": null,
   "id": "dd33884b-96c6-47dc-bfa2-eb9ea177ede6",
   "metadata": {},
   "outputs": [],
   "source": [
    "frequencies.shape"
   ]
  },
  {
   "cell_type": "markdown",
   "id": "ff5fd5da-d108-45fd-a5fc-09b46ff2bb0e",
   "metadata": {},
   "source": [
    "## Annotate initial frequency without delay to all clades"
   ]
  },
  {
   "cell_type": "code",
   "execution_count": null,
   "id": "d1306570-793d-4b0b-a508-3078e05f81ea",
   "metadata": {},
   "outputs": [],
   "source": [
    "frequencies_without_delay = frequencies.loc[\n",
    "    frequencies[\"delay_type\"] == \"none\",\n",
    "    (\"clade_membership\", \"timepoint\", \"frequency\")\n",
    "].drop_duplicates()"
   ]
  },
  {
   "cell_type": "code",
   "execution_count": null,
   "id": "9379588f-cbe7-47f7-837b-48a5f6949b63",
   "metadata": {},
   "outputs": [],
   "source": [
    "frequencies_without_delay.shape"
   ]
  },
  {
   "cell_type": "code",
   "execution_count": null,
   "id": "7e479c83-e2c6-4b5d-98c4-98221737ff35",
   "metadata": {},
   "outputs": [],
   "source": [
    "frequencies_without_delay = frequencies_without_delay.rename(\n",
    "    columns={\"frequency\": \"frequency_without_delay\"},\n",
    ")"
   ]
  },
  {
   "cell_type": "code",
   "execution_count": null,
   "id": "76f9c46f-1df2-4b27-91e5-bb4123f58354",
   "metadata": {},
   "outputs": [],
   "source": [
    "frequencies_without_delay.head()"
   ]
  },
  {
   "cell_type": "code",
   "execution_count": null,
   "id": "5e1c3911-c95c-428d-b434-b0568ba9c9fb",
   "metadata": {},
   "outputs": [],
   "source": [
    "frequencies.shape"
   ]
  },
  {
   "cell_type": "code",
   "execution_count": null,
   "id": "55fd1d0d-7509-4f33-bf12-273af4c8c80a",
   "metadata": {},
   "outputs": [],
   "source": [
    "frequencies = frequencies.merge(\n",
    "    frequencies_without_delay,\n",
    "    how=\"left\",\n",
    "    on=[\"timepoint\", \"clade_membership\"],\n",
    ")"
   ]
  },
  {
   "cell_type": "code",
   "execution_count": null,
   "id": "c782036f-760f-4e0b-945d-7c48e53240a7",
   "metadata": {},
   "outputs": [],
   "source": [
    "pd.isnull(frequencies[\"frequency_without_delay\"]).sum()"
   ]
  },
  {
   "cell_type": "code",
   "execution_count": null,
   "id": "6c73be36-52d1-45a6-bb52-3a9b1c330f14",
   "metadata": {},
   "outputs": [],
   "source": [
    "frequencies[\"frequency_without_delay\"] = frequencies[\"frequency_without_delay\"].fillna(0)"
   ]
  },
  {
   "cell_type": "code",
   "execution_count": null,
   "id": "7aa27c79-8b2f-4caf-9406-f7d098a15391",
   "metadata": {},
   "outputs": [],
   "source": [
    "frequencies.head()"
   ]
  },
  {
   "cell_type": "code",
   "execution_count": null,
   "id": "e952d5e4-81eb-4164-80bf-1767a3f9e368",
   "metadata": {},
   "outputs": [],
   "source": [
    "frequencies.loc[:, [\"frequency_without_delay\", \"frequency\"]]"
   ]
  },
  {
   "cell_type": "code",
   "execution_count": null,
   "id": "d10747fe-79ff-46a9-a0af-5775b6d19ea7",
   "metadata": {},
   "outputs": [],
   "source": [
    "(frequencies[\"frequency\"] > 0.1).sum()"
   ]
  },
  {
   "cell_type": "code",
   "execution_count": null,
   "id": "b2c97218-3885-43ca-9743-d0cefdbf1ec2",
   "metadata": {},
   "outputs": [],
   "source": [
    "(frequencies[\"frequency_without_delay\"] > 0.1).sum()"
   ]
  },
  {
   "cell_type": "code",
   "execution_count": null,
   "id": "6b3132c0-260d-4b19-805e-4b21ac422b04",
   "metadata": {},
   "outputs": [],
   "source": [
    "frequencies.loc[frequencies[\"frequency\"] > 0.1, [\"clade_membership\", \"timepoint\", \"future_timepoint\", \"delay_type\"]].drop_duplicates()"
   ]
  },
  {
   "cell_type": "code",
   "execution_count": null,
   "id": "d5ab3252-c27b-462d-a587-2817c20b464a",
   "metadata": {},
   "outputs": [],
   "source": [
    "frequencies.loc[frequencies[\"frequency_without_delay\"] > 0.1, [\"clade_membership\", \"timepoint\", \"future_timepoint\", \"delay_type\"]].drop_duplicates()"
   ]
  },
  {
   "cell_type": "code",
   "execution_count": null,
   "id": "2af2d091-2a07-4903-a046-8bb80f787602",
   "metadata": {},
   "outputs": [],
   "source": [
    "distinct_large_clades_with_delay = set(frequencies.loc[frequencies[\"frequency\"] > 0.1, \"clade_membership\"].drop_duplicates().values)"
   ]
  },
  {
   "cell_type": "code",
   "execution_count": null,
   "id": "f883b307-3059-4c5d-9bdb-c55fd28498d2",
   "metadata": {},
   "outputs": [],
   "source": [
    "distinct_large_clades_without_delay = set(frequencies.loc[frequencies[\"frequency_without_delay\"] > 0.1, \"clade_membership\"].drop_duplicates().values)"
   ]
  },
  {
   "cell_type": "code",
   "execution_count": null,
   "id": "81f91706-09bd-4ba9-be2b-dc1de464524f",
   "metadata": {},
   "outputs": [],
   "source": [
    "len(distinct_large_clades_with_delay)"
   ]
  },
  {
   "cell_type": "code",
   "execution_count": null,
   "id": "589ed229-1481-45e8-90b7-e376647327f5",
   "metadata": {},
   "outputs": [],
   "source": [
    "len(distinct_large_clades_without_delay)"
   ]
  },
  {
   "cell_type": "code",
   "execution_count": null,
   "id": "912fc45b-468b-480b-8ff9-bd7c9cedba01",
   "metadata": {},
   "outputs": [],
   "source": [
    "distinct_large_clades_with_delay - distinct_large_clades_without_delay"
   ]
  },
  {
   "cell_type": "code",
   "execution_count": null,
   "id": "1a97b46b-d7ec-4009-95bd-e6b1f051484c",
   "metadata": {},
   "outputs": [],
   "source": [
    "distinct_large_clades_without_delay - distinct_large_clades_with_delay"
   ]
  },
  {
   "cell_type": "code",
   "execution_count": null,
   "id": "e5be4373-c9e0-41d2-82b1-5fd1554fde0d",
   "metadata": {},
   "outputs": [],
   "source": [
    "frequencies[frequencies[\"clade_membership\"].isin(distinct_large_clades_with_delay - distinct_large_clades_without_delay)]"
   ]
  },
  {
   "cell_type": "markdown",
   "id": "6cb37b7c-d4bd-4a14-8429-32c95fb403c9",
   "metadata": {},
   "source": [
    "## Plot clade frequency errors by delay type and forecast horizon"
   ]
  },
  {
   "cell_type": "code",
   "execution_count": null,
   "id": "07c9d388-301d-4e91-9451-01f0d2d37d53",
   "metadata": {},
   "outputs": [],
   "source": [
    "fig, ax = plt.subplots(1, 1, figsize=(6, 4), dpi=150)\n",
    "\n",
    "sns.boxplot(\n",
    "    x=\"horizon\",\n",
    "    y=\"frequency_error\",\n",
    "    hue=\"delay_type\",\n",
    "    hue_order=(\"none\", \"ideal\", \"observed\"),\n",
    "    data=frequencies,\n",
    "    color=\"#CCCCCC\",\n",
    "    fliersize=0.0,\n",
    "    ax=ax,\n",
    ")\n",
    "sns.stripplot(\n",
    "    x=\"horizon\",\n",
    "    y=\"frequency_error\",\n",
    "    hue=\"delay_type\",\n",
    "    data=frequencies,\n",
    "    hue_order=(\"none\", \"ideal\", \"observed\"),\n",
    "    alpha=0.35,\n",
    "    ax=ax,\n",
    "    dodge=True,\n",
    ")\n",
    "\n",
    "ax.axhline(\n",
    "    y=0,\n",
    "    color=\"#000000\",\n",
    "    zorder=-10,\n",
    "    linewidth=1,\n",
    ")\n",
    "\n",
    "handles, labels = ax.get_legend_handles_labels()\n",
    "\n",
    "ax.legend(\n",
    "    handles=handles[3:],\n",
    "    labels=labels[3:],\n",
    "    loc=\"upper left\",\n",
    "    title=\"Delay type\",\n",
    "    frameon=False,\n",
    ")\n",
    "ax.set_xlabel(\"Forecast horizon (months)\")\n",
    "ax.set_ylabel(\"Clade frequency error\\n(without delay - with delay)\")\n",
    "\n",
    "sns.despine()\n",
    "plt.tight_layout()"
   ]
  },
  {
   "cell_type": "markdown",
   "id": "2b7d06dd-fab0-4673-af2a-593758560305",
   "metadata": {},
   "source": [
    "Plot clade frequency errors for larger clades only."
   ]
  },
  {
   "cell_type": "code",
   "execution_count": null,
   "id": "3b02fd37-fbda-423e-931a-1a3444f933d8",
   "metadata": {},
   "outputs": [],
   "source": [
    "large_frequency_threshold = 0.1"
   ]
  },
  {
   "cell_type": "code",
   "execution_count": null,
   "id": "5d870bca-5b10-482b-acc2-aac6523edbc3",
   "metadata": {},
   "outputs": [],
   "source": [
    "large_frequencies = frequencies.query(f\"frequency_without_delay >= {large_frequency_threshold}\")"
   ]
  },
  {
   "cell_type": "code",
   "execution_count": null,
   "id": "e1fd90bd-9c9a-44e8-b8a3-7b4d38cf0201",
   "metadata": {},
   "outputs": [],
   "source": [
    "large_frequencies.shape"
   ]
  },
  {
   "cell_type": "code",
   "execution_count": null,
   "id": "1344c417-33b8-449b-b8dc-ad22e5ca6546",
   "metadata": {},
   "outputs": [],
   "source": [
    "fig, ax = plt.subplots(1, 1, figsize=(6, 4), dpi=150)\n",
    "\n",
    "sns.boxplot(\n",
    "    x=\"horizon\",\n",
    "    y=\"frequency_error\",\n",
    "    hue=\"delay_type\",\n",
    "    hue_order=(\"none\", \"ideal\", \"observed\"),\n",
    "    data=large_frequencies,\n",
    "    color=\"#CCCCCC\",\n",
    "    fliersize=0.0,\n",
    "    ax=ax,\n",
    ")\n",
    "sns.stripplot(\n",
    "    x=\"horizon\",\n",
    "    y=\"frequency_error\",\n",
    "    hue=\"delay_type\",\n",
    "    data=large_frequencies,\n",
    "    hue_order=(\"none\", \"ideal\", \"observed\"),\n",
    "    alpha=0.35,\n",
    "    ax=ax,\n",
    "    dodge=True,\n",
    ")\n",
    "\n",
    "ax.axhline(\n",
    "    y=0,\n",
    "    color=\"#000000\",\n",
    "    zorder=-10,\n",
    "    linewidth=1,\n",
    ")\n",
    "\n",
    "handles, labels = ax.get_legend_handles_labels()\n",
    "\n",
    "ax.legend(\n",
    "    handles=handles[3:],\n",
    "    labels=labels[3:],\n",
    "    loc=\"lower left\",\n",
    "    title=\"Delay type\",\n",
    "    frameon=False,\n",
    ")\n",
    "ax.set_xlabel(\"Forecast horizon (months)\")\n",
    "ax.set_ylabel(r\"\"\"Clade frequency error\n",
    "($\\geq${large_frequency_threshold}% without delay - with delay)\"\"\".format(large_frequency_threshold=int(large_frequency_threshold * 100)))\n",
    "\n",
    "sns.despine()\n",
    "plt.tight_layout()"
   ]
  },
  {
   "cell_type": "code",
   "execution_count": null,
   "id": "60b79e32-cc4a-4353-9d7f-bcf24576bc78",
   "metadata": {},
   "outputs": [],
   "source": [
    "sns.lmplot(\n",
    "    data=large_frequencies,\n",
    "    x=\"frequency\",\n",
    "    y=\"frequency_error\",\n",
    "    hue=\"delay_type\",\n",
    "    col=\"horizon\",\n",
    "    col_wrap=2,\n",
    "    height=4,\n",
    ")"
   ]
  },
  {
   "cell_type": "code",
   "execution_count": null,
   "id": "c0880e95-d769-4f2d-8983-907c81ff48df",
   "metadata": {},
   "outputs": [],
   "source": [
    "large_frequencies"
   ]
  },
  {
   "cell_type": "markdown",
   "id": "442defb6-ced4-451d-9e77-55c883e5865f",
   "metadata": {},
   "source": [
    "## Plot absolute clade frequency errors"
   ]
  },
  {
   "cell_type": "code",
   "execution_count": null,
   "id": "88c9b2c2-b930-4474-9bbf-58473e8efd9b",
   "metadata": {},
   "outputs": [],
   "source": [
    "fig, ax = plt.subplots(1, 1, figsize=(6, 4), dpi=150)\n",
    "\n",
    "sns.boxplot(\n",
    "    x=\"horizon\",\n",
    "    y=\"abs_frequency_error\",\n",
    "    hue=\"delay_type\",\n",
    "    hue_order=(\"none\", \"ideal\", \"observed\"),\n",
    "    data=large_frequencies,\n",
    "    color=\"#CCCCCC\",\n",
    "    fliersize=0.0,\n",
    "    ax=ax,\n",
    ")\n",
    "sns.stripplot(\n",
    "    x=\"horizon\",\n",
    "    y=\"abs_frequency_error\",\n",
    "    hue=\"delay_type\",\n",
    "    data=large_frequencies,\n",
    "    hue_order=(\"none\", \"ideal\", \"observed\"),\n",
    "    alpha=0.35,\n",
    "    ax=ax,\n",
    "    dodge=True,\n",
    ")\n",
    "\n",
    "ax.axhline(\n",
    "    y=0,\n",
    "    color=\"#000000\",\n",
    "    zorder=-10,\n",
    "    linewidth=1,\n",
    ")\n",
    "\n",
    "handles, labels = ax.get_legend_handles_labels()\n",
    "\n",
    "ax.legend(\n",
    "    handles=handles[3:],\n",
    "    labels=labels[3:],\n",
    "    loc=\"upper left\",\n",
    "    title=\"Delay type\",\n",
    "    frameon=False,\n",
    ")\n",
    "ax.set_xlabel(\"Forecast horizon (months)\")\n",
    "ax.set_ylabel(r\"\"\"Absolute clade frequency error\n",
    "($\\geq${large_frequency_threshold}% without delay - with delay)\"\"\".format(large_frequency_threshold=int(large_frequency_threshold * 100)))\n",
    "\n",
    "sns.despine()\n",
    "plt.tight_layout()"
   ]
  },
  {
   "cell_type": "markdown",
   "id": "f1ee428f-51a6-47d4-b64b-a1ac384c2a89",
   "metadata": {},
   "source": [
    "## Plot effect of interventions on absolute clade frequency error by timepoint and clade"
   ]
  },
  {
   "cell_type": "code",
   "execution_count": null,
   "id": "c9bfb8d5-70f4-4265-ab6f-cfb63a23d37d",
   "metadata": {},
   "outputs": [],
   "source": [
    "status_quo = large_frequencies.query(\"(horizon == 12) & (delay_type == 'observed')\").loc[\n",
    "    :,\n",
    "    (\"future_timepoint\", \"clade_membership\", \"abs_frequency_error\")\n",
    "].copy()"
   ]
  },
  {
   "cell_type": "code",
   "execution_count": null,
   "id": "53272acf-dafc-4fbc-8b5e-d8bcd9bf37b6",
   "metadata": {},
   "outputs": [],
   "source": [
    "status_quo.head()"
   ]
  },
  {
   "cell_type": "code",
   "execution_count": null,
   "id": "030b01ac-dacd-4f4b-82b6-c03fa2d3e5e6",
   "metadata": {},
   "outputs": [],
   "source": [
    "improved_vaccine_dev = large_frequencies.query(\"(horizon == 6) & (delay_type == 'observed')\").loc[\n",
    "    :,\n",
    "    (\"future_timepoint\", \"clade_membership\", \"abs_frequency_error\")\n",
    "].copy()"
   ]
  },
  {
   "cell_type": "code",
   "execution_count": null,
   "id": "a5fe0ae5-af5b-48cc-b477-fe99e93fc339",
   "metadata": {},
   "outputs": [],
   "source": [
    "improved_vaccine_dev.head()"
   ]
  },
  {
   "cell_type": "code",
   "execution_count": null,
   "id": "5e9e0b5e-fe77-4444-a894-c8e69664fe0e",
   "metadata": {},
   "outputs": [],
   "source": [
    "status_quo_vs_improved_vaccine = status_quo.merge(\n",
    "    improved_vaccine_dev,\n",
    "    on=[\"future_timepoint\", \"clade_membership\"],\n",
    "    how=\"inner\",\n",
    "    suffixes=[\"_status_quo\", \"_intervention\"],\n",
    ")"
   ]
  },
  {
   "cell_type": "code",
   "execution_count": null,
   "id": "5be84eb2-a0c4-45b7-9945-9151d07a1b8e",
   "metadata": {},
   "outputs": [],
   "source": [
    "status_quo_vs_improved_vaccine[\"difference_in_abs_frequency_error\"] = (\n",
    "    status_quo_vs_improved_vaccine[\"abs_frequency_error_status_quo\"] - status_quo_vs_improved_vaccine[\"abs_frequency_error_intervention\"]\n",
    ")"
   ]
  },
  {
   "cell_type": "code",
   "execution_count": null,
   "id": "f6001752-83d0-464d-b9e1-6fc29255f3e4",
   "metadata": {},
   "outputs": [],
   "source": [
    "status_quo_vs_improved_vaccine.head()"
   ]
  },
  {
   "cell_type": "code",
   "execution_count": null,
   "id": "e756fb8b-5766-4ff3-b2d6-d7c0318947c1",
   "metadata": {},
   "outputs": [],
   "source": [
    "status_quo_vs_improved_vaccine.shape"
   ]
  },
  {
   "cell_type": "code",
   "execution_count": null,
   "id": "05704f1d-d68d-470e-bee4-85228afbdad9",
   "metadata": {},
   "outputs": [],
   "source": [
    "improved_surveillance = large_frequencies.query(\"(horizon == 12) & (delay_type == 'ideal')\").loc[\n",
    "    :,\n",
    "    (\"future_timepoint\", \"clade_membership\", \"abs_frequency_error\")\n",
    "].copy()"
   ]
  },
  {
   "cell_type": "code",
   "execution_count": null,
   "id": "fca18ef0-dc6f-42dc-9312-00da47cdb26c",
   "metadata": {},
   "outputs": [],
   "source": [
    "improved_surveillance.head()"
   ]
  },
  {
   "cell_type": "code",
   "execution_count": null,
   "id": "4b6e06bf-b7bc-4dd2-86da-9a6f16ebfe83",
   "metadata": {},
   "outputs": [],
   "source": [
    "status_quo_vs_improved_surveillance = status_quo.merge(\n",
    "    improved_surveillance,\n",
    "    on=[\"future_timepoint\", \"clade_membership\"],\n",
    "    how=\"inner\",\n",
    "    suffixes=[\"_status_quo\", \"_intervention\"],\n",
    ")"
   ]
  },
  {
   "cell_type": "code",
   "execution_count": null,
   "id": "10296a92-2a5b-4265-8702-fd5a1d1132cd",
   "metadata": {},
   "outputs": [],
   "source": [
    "status_quo_vs_improved_surveillance.head()"
   ]
  },
  {
   "cell_type": "code",
   "execution_count": null,
   "id": "f1e945d2-35b2-4477-88f3-02cb397690a7",
   "metadata": {},
   "outputs": [],
   "source": [
    "status_quo_vs_improved_surveillance[\"difference_in_abs_frequency_error\"] = (\n",
    "    status_quo_vs_improved_surveillance[\"abs_frequency_error_status_quo\"] - status_quo_vs_improved_surveillance[\"abs_frequency_error_intervention\"]\n",
    ")"
   ]
  },
  {
   "cell_type": "code",
   "execution_count": null,
   "id": "bbc40545-5f29-4863-8e50-188d44101c06",
   "metadata": {},
   "outputs": [],
   "source": [
    "status_quo_vs_improved_surveillance"
   ]
  },
  {
   "cell_type": "code",
   "execution_count": null,
   "id": "790f9b43-6490-4b37-b56a-6662d0db27c9",
   "metadata": {},
   "outputs": [],
   "source": [
    "improved_vaccine_and_surveillance = large_frequencies.query(\"(horizon == 6) & (delay_type == 'ideal')\").loc[\n",
    "    :,\n",
    "    (\"future_timepoint\", \"clade_membership\", \"abs_frequency_error\")\n",
    "].copy()"
   ]
  },
  {
   "cell_type": "code",
   "execution_count": null,
   "id": "cacdd30f-c75c-4ce9-bc6a-339f298934d3",
   "metadata": {},
   "outputs": [],
   "source": [
    "improved_vaccine_and_surveillance.head()"
   ]
  },
  {
   "cell_type": "code",
   "execution_count": null,
   "id": "3c73800f-6f12-42d5-98e2-28f6118a3354",
   "metadata": {},
   "outputs": [],
   "source": [
    "status_quo_vs_improved_vaccine_and_surveillance = status_quo.merge(\n",
    "    improved_vaccine_and_surveillance,\n",
    "    on=[\"future_timepoint\", \"clade_membership\"],\n",
    "    how=\"inner\",\n",
    "    suffixes=[\"_status_quo\", \"_intervention\"],\n",
    ")"
   ]
  },
  {
   "cell_type": "code",
   "execution_count": null,
   "id": "b2badfd1-838f-40d6-87a5-567f368916f1",
   "metadata": {},
   "outputs": [],
   "source": [
    "status_quo_vs_improved_vaccine_and_surveillance.shape"
   ]
  },
  {
   "cell_type": "code",
   "execution_count": null,
   "id": "09ab08bb-d2b4-40de-b697-a7c485d25bb7",
   "metadata": {},
   "outputs": [],
   "source": [
    "status_quo_vs_improved_vaccine_and_surveillance[\"difference_in_abs_frequency_error\"] = (\n",
    "    status_quo_vs_improved_vaccine_and_surveillance[\"abs_frequency_error_status_quo\"] - status_quo_vs_improved_vaccine_and_surveillance[\"abs_frequency_error_intervention\"]\n",
    ")"
   ]
  },
  {
   "cell_type": "code",
   "execution_count": null,
   "id": "4e8d5285-893a-4625-b86c-2f6074d39544",
   "metadata": {},
   "outputs": [],
   "source": [
    "status_quo_vs_improved_vaccine_and_surveillance.head()"
   ]
  },
  {
   "cell_type": "code",
   "execution_count": null,
   "id": "2330fcd7-76cd-49e5-bafa-c2c5ead4fbe7",
   "metadata": {},
   "outputs": [],
   "source": [
    "interventions = pd.concat([\n",
    "    pd.DataFrame({\n",
    "        \"intervention\": \"improved vaccine\",\n",
    "        \"difference_in_abs_frequency_error\": status_quo_vs_improved_vaccine[\"difference_in_abs_frequency_error\"],\n",
    "    }),\n",
    "    pd.DataFrame({\n",
    "        \"intervention\": \"improved surveillance\",\n",
    "        \"difference_in_abs_frequency_error\": status_quo_vs_improved_surveillance[\"difference_in_abs_frequency_error\"],\n",
    "    }),\n",
    "    pd.DataFrame({\n",
    "        \"intervention\": \"improved vaccine and surveillance\",\n",
    "        \"difference_in_abs_frequency_error\": status_quo_vs_improved_vaccine_and_surveillance[\"difference_in_abs_frequency_error\"],\n",
    "    }),\n",
    "])"
   ]
  },
  {
   "cell_type": "code",
   "execution_count": null,
   "id": "719c2473-26cf-401f-ad43-b655aeda4c5e",
   "metadata": {},
   "outputs": [],
   "source": [
    "intervention_order = [\n",
    "    \"improved vaccine\",\n",
    "    \"improved surveillance\",\n",
    "    \"improved vaccine and surveillance\",\n",
    "]"
   ]
  },
  {
   "cell_type": "code",
   "execution_count": null,
   "id": "508bdf5b-fac5-447d-b784-88bd40f0de28",
   "metadata": {},
   "outputs": [],
   "source": [
    "fig, ax = plt.subplots(1, 1, figsize=(8, 4), dpi=150)\n",
    "\n",
    "sns.boxplot(\n",
    "    x=\"intervention\",\n",
    "    y=\"difference_in_abs_frequency_error\",\n",
    "    data=interventions,\n",
    "    order=intervention_order,\n",
    "    color=\"#CCCCCC\",\n",
    "    fliersize=0.0,\n",
    "    ax=ax,\n",
    ")\n",
    "sns.stripplot(\n",
    "    x=\"intervention\",\n",
    "    y=\"difference_in_abs_frequency_error\",\n",
    "    data=interventions,\n",
    "    order=intervention_order,\n",
    "    color=\"#000000\",    \n",
    "    alpha=0.35,\n",
    "    ax=ax,\n",
    "    dodge=True,\n",
    ")\n",
    "\n",
    "ax.axhline(\n",
    "    y=0,\n",
    "    color=\"#000000\",\n",
    "    zorder=-10,\n",
    "    linewidth=1,\n",
    ")\n",
    "\n",
    "ax.set_xlabel(\"Intervention\")\n",
    "ax.set_ylabel(\"Difference in absolute clade frequency error\\n(per clade and timepoint)\")\n",
    "\n",
    "sns.despine()\n",
    "plt.tight_layout()"
   ]
  },
  {
   "cell_type": "markdown",
   "id": "01fb2ed9-4902-448b-9195-8ea160bc57d2",
   "metadata": {},
   "source": [
    "## Plot effect of interventions on median absolute clade frequency error (MAE) by timepoint"
   ]
  },
  {
   "cell_type": "code",
   "execution_count": null,
   "id": "1fc3abf0-53cc-46ad-aa38-68acdfaa0424",
   "metadata": {},
   "outputs": [],
   "source": [
    "status_quo_median_error = status_quo.groupby(\"future_timepoint\")[\"abs_frequency_error\"].median().reset_index()"
   ]
  },
  {
   "cell_type": "code",
   "execution_count": null,
   "id": "7e89e317-b4f6-4b87-bf7f-2d60dd8bc4f4",
   "metadata": {},
   "outputs": [],
   "source": [
    "status_quo_median_error[\"intervention\"] = \"status quo\""
   ]
  },
  {
   "cell_type": "code",
   "execution_count": null,
   "id": "4ac04abb-c490-4eca-990c-55bc66ec4a74",
   "metadata": {},
   "outputs": [],
   "source": [
    "status_quo_median_error.head()"
   ]
  },
  {
   "cell_type": "code",
   "execution_count": null,
   "id": "c56ed4e7-5eac-4bae-a631-e32494c3dfe7",
   "metadata": {},
   "outputs": [],
   "source": [
    "improved_vaccine_dev_median_error = improved_vaccine_dev.groupby(\"future_timepoint\")[\"abs_frequency_error\"].median().reset_index()"
   ]
  },
  {
   "cell_type": "code",
   "execution_count": null,
   "id": "41b9a616-9183-49fe-be47-ee8b392584c3",
   "metadata": {},
   "outputs": [],
   "source": [
    "improved_vaccine_dev_median_error[\"intervention\"] = \"improved vaccine\""
   ]
  },
  {
   "cell_type": "code",
   "execution_count": null,
   "id": "84dd8849-aa44-4db7-ba1e-5b70e5e36f66",
   "metadata": {},
   "outputs": [],
   "source": [
    "improved_vaccine_dev_median_error.head()"
   ]
  },
  {
   "cell_type": "code",
   "execution_count": null,
   "id": "995a5a0f-88e4-4918-9004-51003da5152c",
   "metadata": {},
   "outputs": [],
   "source": [
    "improved_surveillance_median_error = improved_surveillance.groupby(\"future_timepoint\")[\"abs_frequency_error\"].median().reset_index()"
   ]
  },
  {
   "cell_type": "code",
   "execution_count": null,
   "id": "6e2e68aa-6cb4-4292-8a8a-a0034ff37e96",
   "metadata": {},
   "outputs": [],
   "source": [
    "improved_surveillance_median_error[\"intervention\"] = \"improved surveillance\""
   ]
  },
  {
   "cell_type": "code",
   "execution_count": null,
   "id": "9529f61a-a2a9-4772-acfd-c444926e94ff",
   "metadata": {},
   "outputs": [],
   "source": [
    "improved_surveillance_median_error.head()"
   ]
  },
  {
   "cell_type": "code",
   "execution_count": null,
   "id": "4312258a-47d6-4d5d-b56a-aa9052917439",
   "metadata": {},
   "outputs": [],
   "source": [
    "improved_vaccine_and_surveillance_median_error = improved_vaccine_and_surveillance.groupby(\"future_timepoint\")[\"abs_frequency_error\"].median().reset_index()"
   ]
  },
  {
   "cell_type": "code",
   "execution_count": null,
   "id": "a39ad336-a018-4f56-9b71-40658c948bb7",
   "metadata": {},
   "outputs": [],
   "source": [
    "improved_vaccine_and_surveillance_median_error[\"intervention\"] = \"improved vaccine and surveillance\""
   ]
  },
  {
   "cell_type": "code",
   "execution_count": null,
   "id": "8a6b085d-ed03-4d97-ad4b-6a9f57c1734f",
   "metadata": {},
   "outputs": [],
   "source": [
    "improved_vaccine_and_surveillance_median_error.head()"
   ]
  },
  {
   "cell_type": "code",
   "execution_count": null,
   "id": "feb063f4-80e3-4d2f-bb17-8102a78c9bd0",
   "metadata": {},
   "outputs": [],
   "source": [
    "median_errors = pd.concat([\n",
    "    status_quo_median_error,\n",
    "    improved_vaccine_dev_median_error,\n",
    "    improved_surveillance_median_error,\n",
    "    improved_vaccine_and_surveillance_median_error,\n",
    "]).pivot_table(\n",
    "    index=\"future_timepoint\",\n",
    "    columns=\"intervention\",\n",
    "    values=\"abs_frequency_error\",\n",
    ").dropna().reset_index()"
   ]
  },
  {
   "cell_type": "code",
   "execution_count": null,
   "id": "034b88f1-3e89-4d47-858d-8ced6d9365f9",
   "metadata": {},
   "outputs": [],
   "source": [
    "median_errors.head()"
   ]
  },
  {
   "cell_type": "code",
   "execution_count": null,
   "id": "786c04d6-efb7-463c-9730-2003de38de91",
   "metadata": {},
   "outputs": [],
   "source": [
    "median_errors.shape"
   ]
  },
  {
   "cell_type": "code",
   "execution_count": null,
   "id": "4997aaaf-e33a-40ab-8b86-384ed286bca9",
   "metadata": {},
   "outputs": [],
   "source": [
    "interventions_by_timepoint = pd.concat([\n",
    "    pd.DataFrame({\n",
    "        \"intervention\": \"improved vaccine\",\n",
    "        \"difference_in_mae\": median_errors[\"status quo\"] - median_errors[\"improved vaccine\"],\n",
    "    }),\n",
    "    pd.DataFrame({\n",
    "        \"intervention\": \"improved surveillance\",\n",
    "        \"difference_in_mae\": median_errors[\"status quo\"] - median_errors[\"improved surveillance\"],\n",
    "    }),\n",
    "    pd.DataFrame({\n",
    "        \"intervention\": \"improved vaccine and surveillance\",\n",
    "        \"difference_in_mae\": median_errors[\"status quo\"] - median_errors[\"improved vaccine and surveillance\"],\n",
    "    }),\n",
    "])"
   ]
  },
  {
   "cell_type": "code",
   "execution_count": null,
   "id": "e43f9718-bf83-4111-8f75-4bec7d424510",
   "metadata": {},
   "outputs": [],
   "source": [
    "interventions_by_timepoint"
   ]
  },
  {
   "cell_type": "code",
   "execution_count": null,
   "id": "edfb5dbe-d8b0-4be1-b12a-784ed6c63a5f",
   "metadata": {},
   "outputs": [],
   "source": [
    "fig, ax = plt.subplots(1, 1, figsize=(8, 4), dpi=150)\n",
    "\n",
    "sns.boxplot(\n",
    "    x=\"intervention\",\n",
    "    y=\"difference_in_mae\",\n",
    "    data=interventions_by_timepoint,\n",
    "    order=intervention_order,\n",
    "    color=\"#CCCCCC\",\n",
    "    fliersize=0.0,\n",
    "    ax=ax,\n",
    ")\n",
    "sns.stripplot(\n",
    "    x=\"intervention\",\n",
    "    y=\"difference_in_mae\",\n",
    "    data=interventions_by_timepoint,\n",
    "    order=intervention_order,\n",
    "    color=\"#000000\",    \n",
    "    alpha=0.35,\n",
    "    ax=ax,\n",
    "    dodge=True,\n",
    ")\n",
    "\n",
    "ax.axhline(\n",
    "    y=0,\n",
    "    color=\"#000000\",\n",
    "    zorder=-10,\n",
    "    linewidth=1,\n",
    ")\n",
    "\n",
    "ax.set_xlabel(\"Intervention\")\n",
    "ax.set_ylabel(\"Difference in MAE\\n(per timepoint)\")\n",
    "\n",
    "sns.despine()\n",
    "plt.tight_layout()"
   ]
  },
  {
   "cell_type": "code",
   "execution_count": null,
   "id": "5883f090-03cc-4720-b9f4-ddec50e05ccd",
   "metadata": {},
   "outputs": [],
   "source": [
    "large_mae_frequencies = large_frequencies.groupby([\"horizon\", \"delay_type\", \"timepoint\"])[\"abs_frequency_error\"].mean().reset_index()"
   ]
  },
  {
   "cell_type": "code",
   "execution_count": null,
   "id": "ced2de3b-5906-4766-90b1-5a35e7e6f3a8",
   "metadata": {},
   "outputs": [],
   "source": [
    "large_mae_frequencies"
   ]
  },
  {
   "cell_type": "code",
   "execution_count": null,
   "id": "b3ee3ea0-a355-4974-ae98-cdfe61ca9142",
   "metadata": {},
   "outputs": [],
   "source": [
    "large_mae_frequencies_by_delays = large_mae_frequencies.pivot(\n",
    "    index=[\"horizon\", \"timepoint\"],\n",
    "    values=[\"abs_frequency_error\"],\n",
    "    columns=[\"delay_type\"],\n",
    ").fillna(0)"
   ]
  },
  {
   "cell_type": "code",
   "execution_count": null,
   "id": "725c4511-c271-4e47-ab54-012f816dc83f",
   "metadata": {},
   "outputs": [],
   "source": [
    "large_mae_frequencies_by_delays.head()"
   ]
  },
  {
   "cell_type": "code",
   "execution_count": null,
   "id": "5943c068-0684-4195-ac0c-53b7c80db70b",
   "metadata": {},
   "outputs": [],
   "source": [
    "large_mae_frequencies_by_delays.columns = [\"ideal\", \"none\", \"observed\"]"
   ]
  },
  {
   "cell_type": "code",
   "execution_count": null,
   "id": "60f5862b-837b-4805-a128-6a123017f90e",
   "metadata": {},
   "outputs": [],
   "source": [
    "large_mae_frequencies_by_delays = large_mae_frequencies_by_delays.reset_index()"
   ]
  },
  {
   "cell_type": "code",
   "execution_count": null,
   "id": "121980f5-8e9d-42c2-a187-2f8a4f8d3511",
   "metadata": {},
   "outputs": [],
   "source": [
    "large_mae_frequencies_by_delays"
   ]
  },
  {
   "cell_type": "code",
   "execution_count": null,
   "id": "a4e1dde7-27b1-482a-b057-d35c79e3c2f3",
   "metadata": {},
   "outputs": [],
   "source": [
    "large_mae_frequencies_by_delays[\"ideal_mae_difference\"] = large_mae_frequencies_by_delays[\"none\"] - large_mae_frequencies_by_delays[\"ideal\"]"
   ]
  },
  {
   "cell_type": "code",
   "execution_count": null,
   "id": "7f87e4f2-c983-49e3-b5b5-4b5a118ccd54",
   "metadata": {},
   "outputs": [],
   "source": [
    "large_mae_frequencies_by_delays[\"observed_mae_difference\"] = large_mae_frequencies_by_delays[\"none\"] - large_mae_frequencies_by_delays[\"observed\"]"
   ]
  },
  {
   "cell_type": "code",
   "execution_count": null,
   "id": "d759515c-c3a2-42ae-96d9-9216398824f4",
   "metadata": {},
   "outputs": [],
   "source": [
    "large_mae_frequency_differences = large_mae_frequencies_by_delays.melt(\n",
    "    id_vars=[\"horizon\", \"timepoint\"],\n",
    "    value_vars=[\"ideal_mae_difference\", \"observed_mae_difference\"],\n",
    "    var_name=\"delay_type\",\n",
    "    value_name=\"mae_difference\",\n",
    ")"
   ]
  },
  {
   "cell_type": "code",
   "execution_count": null,
   "id": "fc2ca77c-78d8-4f41-91f5-39d20d917afe",
   "metadata": {},
   "outputs": [],
   "source": [
    "large_mae_frequency_differences[\"delay_type\"] = large_mae_frequency_differences[\"delay_type\"].apply(lambda delay: delay.split(\"_\")[0])"
   ]
  },
  {
   "cell_type": "code",
   "execution_count": null,
   "id": "a937d4e6-05f8-4bc2-bc14-5ac2d3439cde",
   "metadata": {},
   "outputs": [],
   "source": [
    "large_mae_frequency_differences"
   ]
  },
  {
   "cell_type": "code",
   "execution_count": null,
   "id": "00454272-8bb8-46c3-b5ee-69d15df4d89b",
   "metadata": {},
   "outputs": [],
   "source": [
    "fig, ax = plt.subplots(1, 1, figsize=(6, 4), dpi=150)\n",
    "\n",
    "sns.boxplot(\n",
    "    x=\"horizon\",\n",
    "    y=\"mae_difference\",\n",
    "    hue=\"delay_type\",\n",
    "    hue_order=(\"ideal\", \"observed\"),\n",
    "    data=large_mae_frequency_differences,\n",
    "    color=\"#CCCCCC\",\n",
    "    fliersize=0.0,\n",
    "    ax=ax,\n",
    ")\n",
    "sns.stripplot(\n",
    "    x=\"horizon\",\n",
    "    y=\"mae_difference\",\n",
    "    hue=\"delay_type\",\n",
    "    data=large_mae_frequency_differences,\n",
    "    hue_order=(\"ideal\", \"observed\"),\n",
    "    alpha=0.35,\n",
    "    ax=ax,\n",
    "    dodge=True,\n",
    ")\n",
    "\n",
    "ax.axhline(\n",
    "    y=0,\n",
    "    color=\"#000000\",\n",
    "    zorder=-10,\n",
    "    linewidth=1,\n",
    ")\n",
    "\n",
    "handles, labels = ax.get_legend_handles_labels()\n",
    "\n",
    "ax.legend(\n",
    "    handles=handles[2:],\n",
    "    labels=labels[2:],\n",
    "    loc=\"lower left\",\n",
    "    title=\"Delay type\",\n",
    "    frameon=False,\n",
    ")\n",
    "ax.set_xlabel(\"Forecast horizon (months)\")\n",
    "ax.set_ylabel(\"Difference in MAE without and with delay\")\n",
    "\n",
    "sns.despine()\n",
    "plt.tight_layout()"
   ]
  },
  {
   "cell_type": "code",
   "execution_count": null,
   "id": "306803d3-0eb9-4c0a-9443-462fdd4121d5",
   "metadata": {},
   "outputs": [],
   "source": []
  },
  {
   "cell_type": "code",
   "execution_count": null,
   "id": "dea13cb8-0a5f-47e2-8e95-0d4aeadce9fd",
   "metadata": {},
   "outputs": [],
   "source": []
  }
 ],
 "metadata": {
  "kernelspec": {
   "display_name": "Python 3 (ipykernel)",
   "language": "python",
   "name": "python3"
  },
  "language_info": {
   "codemirror_mode": {
    "name": "ipython",
    "version": 3
   },
   "file_extension": ".py",
   "mimetype": "text/x-python",
   "name": "python",
   "nbconvert_exporter": "python",
   "pygments_lexer": "ipython3",
   "version": "3.10.9"
  }
 },
 "nbformat": 4,
 "nbformat_minor": 5
}
