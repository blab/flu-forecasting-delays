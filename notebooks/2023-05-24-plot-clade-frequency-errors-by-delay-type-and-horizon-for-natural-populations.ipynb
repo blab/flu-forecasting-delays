{
 "cells": [
  {
   "cell_type": "markdown",
   "id": "b3cb212a-3426-44a2-a08f-e731473ed305",
   "metadata": {},
   "source": [
    "# Plot clade frequency errors by delay type and forecast horizon for natural H3N2 populations "
   ]
  },
  {
   "cell_type": "code",
   "execution_count": null,
   "id": "7eb48dc7-7119-4e13-9865-ac2e31da1ac9",
   "metadata": {},
   "outputs": [],
   "source": [
    "import matplotlib.pyplot as plt\n",
    "import numpy as np\n",
    "import pandas as pd\n",
    "import seaborn as sns"
   ]
  },
  {
   "cell_type": "code",
   "execution_count": null,
   "id": "9c66adf7-b7bf-4721-a348-79d5294f03ef",
   "metadata": {},
   "outputs": [],
   "source": [
    "sns.set_style(\"ticks\")"
   ]
  },
  {
   "cell_type": "markdown",
   "id": "96d586db-2806-4ba4-8242-74dc69642d3f",
   "metadata": {},
   "source": [
    "## Load clade frequencies"
   ]
  },
  {
   "cell_type": "code",
   "execution_count": null,
   "id": "c8abef56-792c-403b-810f-29d12e9ded4b",
   "metadata": {},
   "outputs": [],
   "source": [
    "frequencies = pd.read_csv(\n",
    "    \"../results/clade_frequencies_for_h3n2.tsv\",\n",
    "    sep=\"\\t\",\n",
    "    parse_dates=[\"timepoint\", \"future_timepoint\"],\n",
    ").rename(\n",
    "    columns={\"delta_month\": \"horizon\"},\n",
    ")"
   ]
  },
  {
   "cell_type": "code",
   "execution_count": null,
   "id": "8e35ce85-ec45-44b1-b3e2-32a8196a9ff8",
   "metadata": {},
   "outputs": [],
   "source": [
    "frequencies[\"horizon\"] = frequencies[\"horizon\"].astype(int)"
   ]
  },
  {
   "cell_type": "code",
   "execution_count": null,
   "id": "b4e98e48-5e19-4f3a-9e5b-470ef1d41166",
   "metadata": {},
   "outputs": [],
   "source": [
    "frequencies.head()"
   ]
  },
  {
   "cell_type": "code",
   "execution_count": null,
   "id": "356324e7-5380-4ed5-9251-93061790c300",
   "metadata": {},
   "outputs": [],
   "source": [
    "frequencies[\"frequency_error\"] = frequencies[\"observed_frequency\"] - frequencies[\"projected_frequency\"]"
   ]
  },
  {
   "cell_type": "code",
   "execution_count": null,
   "id": "0f810517-888f-4568-8c14-702c765621d8",
   "metadata": {},
   "outputs": [],
   "source": [
    "frequencies[\"abs_frequency_error\"] = np.abs(frequencies[\"frequency_error\"])"
   ]
  },
  {
   "cell_type": "code",
   "execution_count": null,
   "id": "dd33884b-96c6-47dc-bfa2-eb9ea177ede6",
   "metadata": {},
   "outputs": [],
   "source": [
    "frequencies.shape"
   ]
  },
  {
   "cell_type": "markdown",
   "id": "6cb37b7c-d4bd-4a14-8429-32c95fb403c9",
   "metadata": {},
   "source": [
    "## Plot clade frequency errors by delay type and forecast horizon"
   ]
  },
  {
   "cell_type": "code",
   "execution_count": null,
   "id": "07c9d388-301d-4e91-9451-01f0d2d37d53",
   "metadata": {},
   "outputs": [],
   "source": [
    "fig, ax = plt.subplots(1, 1, figsize=(6, 4), dpi=150)\n",
    "\n",
    "sns.boxplot(\n",
    "    x=\"horizon\",\n",
    "    y=\"frequency_error\",\n",
    "    hue=\"delay_type\",\n",
    "    hue_order=(\"none\", \"ideal\", \"observed\"),\n",
    "    data=frequencies,\n",
    "    color=\"#CCCCCC\",\n",
    "    fliersize=0.0,\n",
    "    ax=ax,\n",
    ")\n",
    "sns.stripplot(\n",
    "    x=\"horizon\",\n",
    "    y=\"frequency_error\",\n",
    "    hue=\"delay_type\",\n",
    "    data=frequencies,\n",
    "    hue_order=(\"none\", \"ideal\", \"observed\"),\n",
    "    alpha=0.35,\n",
    "    ax=ax,\n",
    "    dodge=True,\n",
    ")\n",
    "\n",
    "ax.axhline(\n",
    "    y=0,\n",
    "    color=\"#000000\",\n",
    "    zorder=-10,\n",
    "    linewidth=1,\n",
    ")\n",
    "\n",
    "handles, labels = ax.get_legend_handles_labels()\n",
    "\n",
    "ax.legend(\n",
    "    handles=handles[3:],\n",
    "    labels=labels[3:],\n",
    "    loc=\"upper left\",\n",
    "    title=\"Delay type\",\n",
    "    frameon=False,\n",
    ")\n",
    "ax.set_xlabel(\"Forecast horizon (months)\")\n",
    "ax.set_ylabel(\"Clade frequency error\\n(without delay - with delay)\")\n",
    "\n",
    "sns.despine()\n",
    "plt.tight_layout()"
   ]
  },
  {
   "cell_type": "markdown",
   "id": "2b7d06dd-fab0-4673-af2a-593758560305",
   "metadata": {},
   "source": [
    "Plot clade frequency errors for larger clades only."
   ]
  },
  {
   "cell_type": "code",
   "execution_count": null,
   "id": "3b02fd37-fbda-423e-931a-1a3444f933d8",
   "metadata": {},
   "outputs": [],
   "source": [
    "large_frequency_threshold = 0.1"
   ]
  },
  {
   "cell_type": "code",
   "execution_count": null,
   "id": "5d870bca-5b10-482b-acc2-aac6523edbc3",
   "metadata": {},
   "outputs": [],
   "source": [
    "large_frequencies = frequencies.query(f\"frequency >= {large_frequency_threshold}\")"
   ]
  },
  {
   "cell_type": "code",
   "execution_count": null,
   "id": "e1fd90bd-9c9a-44e8-b8a3-7b4d38cf0201",
   "metadata": {},
   "outputs": [],
   "source": [
    "large_frequencies.shape"
   ]
  },
  {
   "cell_type": "code",
   "execution_count": null,
   "id": "1344c417-33b8-449b-b8dc-ad22e5ca6546",
   "metadata": {},
   "outputs": [],
   "source": [
    "fig, ax = plt.subplots(1, 1, figsize=(6, 4), dpi=150)\n",
    "\n",
    "sns.boxplot(\n",
    "    x=\"horizon\",\n",
    "    y=\"frequency_error\",\n",
    "    hue=\"delay_type\",\n",
    "    hue_order=(\"none\", \"ideal\", \"observed\"),\n",
    "    data=large_frequencies,\n",
    "    color=\"#CCCCCC\",\n",
    "    fliersize=0.0,\n",
    "    ax=ax,\n",
    ")\n",
    "sns.stripplot(\n",
    "    x=\"horizon\",\n",
    "    y=\"frequency_error\",\n",
    "    hue=\"delay_type\",\n",
    "    data=large_frequencies,\n",
    "    hue_order=(\"none\", \"ideal\", \"observed\"),\n",
    "    alpha=0.35,\n",
    "    ax=ax,\n",
    "    dodge=True,\n",
    ")\n",
    "\n",
    "ax.axhline(\n",
    "    y=0,\n",
    "    color=\"#000000\",\n",
    "    zorder=-10,\n",
    "    linewidth=1,\n",
    ")\n",
    "\n",
    "handles, labels = ax.get_legend_handles_labels()\n",
    "\n",
    "ax.legend(\n",
    "    handles=handles[3:],\n",
    "    labels=labels[3:],\n",
    "    loc=\"lower left\",\n",
    "    title=\"Delay type\",\n",
    "    frameon=False,\n",
    ")\n",
    "ax.set_xlabel(\"Forecast horizon (months)\")\n",
    "ax.set_ylabel(r\"\"\"Clade frequency error\n",
    "($\\geq${large_frequency_threshold}% without delay - with delay)\"\"\".format(large_frequency_threshold=int(large_frequency_threshold * 100)))\n",
    "\n",
    "sns.despine()\n",
    "plt.tight_layout()"
   ]
  },
  {
   "cell_type": "code",
   "execution_count": null,
   "id": "60b79e32-cc4a-4353-9d7f-bcf24576bc78",
   "metadata": {},
   "outputs": [],
   "source": [
    "sns.lmplot(\n",
    "    data=large_frequencies,\n",
    "    x=\"frequency\",\n",
    "    y=\"frequency_error\",\n",
    "    hue=\"delay_type\",\n",
    "    col=\"horizon\",\n",
    "    col_wrap=2,\n",
    "    height=4,\n",
    ")"
   ]
  },
  {
   "cell_type": "code",
   "execution_count": null,
   "id": "c0880e95-d769-4f2d-8983-907c81ff48df",
   "metadata": {},
   "outputs": [],
   "source": [
    "large_frequencies"
   ]
  },
  {
   "cell_type": "code",
   "execution_count": null,
   "id": "5883f090-03cc-4720-b9f4-ddec50e05ccd",
   "metadata": {},
   "outputs": [],
   "source": [
    "large_mae_frequencies = large_frequencies.groupby([\"horizon\", \"delay_type\", \"timepoint\"])[\"abs_frequency_error\"].mean().reset_index()"
   ]
  },
  {
   "cell_type": "code",
   "execution_count": null,
   "id": "ced2de3b-5906-4766-90b1-5a35e7e6f3a8",
   "metadata": {},
   "outputs": [],
   "source": [
    "large_mae_frequencies"
   ]
  },
  {
   "cell_type": "code",
   "execution_count": null,
   "id": "b3ee3ea0-a355-4974-ae98-cdfe61ca9142",
   "metadata": {},
   "outputs": [],
   "source": [
    "large_mae_frequencies_by_delays = large_mae_frequencies.pivot(\n",
    "    index=[\"horizon\", \"timepoint\"],\n",
    "    values=[\"abs_frequency_error\"],\n",
    "    columns=[\"delay_type\"],\n",
    ").fillna(0)"
   ]
  },
  {
   "cell_type": "code",
   "execution_count": null,
   "id": "725c4511-c271-4e47-ab54-012f816dc83f",
   "metadata": {},
   "outputs": [],
   "source": [
    "large_mae_frequencies_by_delays.head()"
   ]
  },
  {
   "cell_type": "code",
   "execution_count": null,
   "id": "5943c068-0684-4195-ac0c-53b7c80db70b",
   "metadata": {},
   "outputs": [],
   "source": [
    "large_mae_frequencies_by_delays.columns = [\"ideal\", \"none\", \"observed\"]"
   ]
  },
  {
   "cell_type": "code",
   "execution_count": null,
   "id": "60f5862b-837b-4805-a128-6a123017f90e",
   "metadata": {},
   "outputs": [],
   "source": [
    "large_mae_frequencies_by_delays = large_mae_frequencies_by_delays.reset_index()"
   ]
  },
  {
   "cell_type": "code",
   "execution_count": null,
   "id": "121980f5-8e9d-42c2-a187-2f8a4f8d3511",
   "metadata": {},
   "outputs": [],
   "source": [
    "large_mae_frequencies_by_delays"
   ]
  },
  {
   "cell_type": "code",
   "execution_count": null,
   "id": "a4e1dde7-27b1-482a-b057-d35c79e3c2f3",
   "metadata": {},
   "outputs": [],
   "source": [
    "large_mae_frequencies_by_delays[\"ideal_mae_difference\"] = large_mae_frequencies_by_delays[\"none\"] - large_mae_frequencies_by_delays[\"ideal\"]"
   ]
  },
  {
   "cell_type": "code",
   "execution_count": null,
   "id": "7f87e4f2-c983-49e3-b5b5-4b5a118ccd54",
   "metadata": {},
   "outputs": [],
   "source": [
    "large_mae_frequencies_by_delays[\"observed_mae_difference\"] = large_mae_frequencies_by_delays[\"none\"] - large_mae_frequencies_by_delays[\"observed\"]"
   ]
  },
  {
   "cell_type": "code",
   "execution_count": null,
   "id": "d759515c-c3a2-42ae-96d9-9216398824f4",
   "metadata": {},
   "outputs": [],
   "source": [
    "large_mae_frequency_differences = large_mae_frequencies_by_delays.melt(\n",
    "    id_vars=[\"horizon\", \"timepoint\"],\n",
    "    value_vars=[\"ideal_mae_difference\", \"observed_mae_difference\"],\n",
    "    var_name=\"delay_type\",\n",
    "    value_name=\"mae_difference\",\n",
    ")"
   ]
  },
  {
   "cell_type": "code",
   "execution_count": null,
   "id": "fc2ca77c-78d8-4f41-91f5-39d20d917afe",
   "metadata": {},
   "outputs": [],
   "source": [
    "large_mae_frequency_differences[\"delay_type\"] = large_mae_frequency_differences[\"delay_type\"].apply(lambda delay: delay.split(\"_\")[0])"
   ]
  },
  {
   "cell_type": "code",
   "execution_count": null,
   "id": "a937d4e6-05f8-4bc2-bc14-5ac2d3439cde",
   "metadata": {},
   "outputs": [],
   "source": [
    "large_mae_frequency_differences"
   ]
  },
  {
   "cell_type": "code",
   "execution_count": null,
   "id": "00454272-8bb8-46c3-b5ee-69d15df4d89b",
   "metadata": {},
   "outputs": [],
   "source": [
    "fig, ax = plt.subplots(1, 1, figsize=(6, 4), dpi=150)\n",
    "\n",
    "sns.boxplot(\n",
    "    x=\"horizon\",\n",
    "    y=\"mae_difference\",\n",
    "    hue=\"delay_type\",\n",
    "    hue_order=(\"ideal\", \"observed\"),\n",
    "    data=large_mae_frequency_differences,\n",
    "    color=\"#CCCCCC\",\n",
    "    fliersize=0.0,\n",
    "    ax=ax,\n",
    ")\n",
    "sns.stripplot(\n",
    "    x=\"horizon\",\n",
    "    y=\"mae_difference\",\n",
    "    hue=\"delay_type\",\n",
    "    data=large_mae_frequency_differences,\n",
    "    hue_order=(\"ideal\", \"observed\"),\n",
    "    alpha=0.35,\n",
    "    ax=ax,\n",
    "    dodge=True,\n",
    ")\n",
    "\n",
    "ax.axhline(\n",
    "    y=0,\n",
    "    color=\"#000000\",\n",
    "    zorder=-10,\n",
    "    linewidth=1,\n",
    ")\n",
    "\n",
    "handles, labels = ax.get_legend_handles_labels()\n",
    "\n",
    "ax.legend(\n",
    "    handles=handles[2:],\n",
    "    labels=labels[2:],\n",
    "    loc=\"lower left\",\n",
    "    title=\"Delay type\",\n",
    "    frameon=False,\n",
    ")\n",
    "ax.set_xlabel(\"Forecast horizon (months)\")\n",
    "ax.set_ylabel(\"Difference in MAE without and with delay\")\n",
    "\n",
    "sns.despine()\n",
    "plt.tight_layout()"
   ]
  },
  {
   "cell_type": "code",
   "execution_count": null,
   "id": "306803d3-0eb9-4c0a-9443-462fdd4121d5",
   "metadata": {},
   "outputs": [],
   "source": []
  },
  {
   "cell_type": "code",
   "execution_count": null,
   "id": "dea13cb8-0a5f-47e2-8e95-0d4aeadce9fd",
   "metadata": {},
   "outputs": [],
   "source": []
  }
 ],
 "metadata": {
  "kernelspec": {
   "display_name": "Python 3 (ipykernel)",
   "language": "python",
   "name": "python3"
  },
  "language_info": {
   "codemirror_mode": {
    "name": "ipython",
    "version": 3
   },
   "file_extension": ".py",
   "mimetype": "text/x-python",
   "name": "python",
   "nbconvert_exporter": "python",
   "pygments_lexer": "ipython3",
   "version": "3.10.9"
  }
 },
 "nbformat": 4,
 "nbformat_minor": 5
}
