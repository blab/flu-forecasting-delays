{
 "cells": [
  {
   "cell_type": "markdown",
   "id": "70490728-9e10-4e13-ab71-6068e8b3a8be",
   "metadata": {},
   "source": [
    "# Fit linear model to \"distance to the future\" for simulated populations"
   ]
  },
  {
   "cell_type": "markdown",
   "id": "5fc9836b-edbb-41b4-aabe-a524bd488dae",
   "metadata": {},
   "source": [
    "## Imports and configuration"
   ]
  },
  {
   "cell_type": "code",
   "execution_count": null,
   "id": "175e2638-fa83-4181-8c90-70f85a01acf1",
   "metadata": {},
   "outputs": [],
   "source": [
    "import arviz as az\n",
    "import matplotlib.pyplot as plt\n",
    "import numpy as np\n",
    "import pandas as pd\n",
    "import pymc as pm\n",
    "import seaborn as sns"
   ]
  },
  {
   "cell_type": "code",
   "execution_count": null,
   "id": "a6eeb7b7-327f-4cbb-8ba3-57a459c9404d",
   "metadata": {},
   "outputs": [],
   "source": [
    "sns.set_style(\"ticks\")"
   ]
  },
  {
   "cell_type": "code",
   "execution_count": null,
   "id": "165c870b-c8a7-498a-9421-8d556d122b5e",
   "metadata": {},
   "outputs": [],
   "source": [
    "RANDOM_SEED = 8927\n",
    "rng = np.random.default_rng(RANDOM_SEED)\n",
    "\n",
    "az.rcParams[\"stats.hdi_prob\"] = 0.89  # set credible interval for entire notebook\n",
    "az.rcParams[\"stats.information_criterion\"] = \"waic\"  # set information criterion to use in `compare`\n",
    "az.rcParams[\"stats.ic_scale\"] = \"deviance\"  # set information criterion scale"
   ]
  },
  {
   "cell_type": "markdown",
   "id": "586fd174-30f2-43b6-b88f-c1c532c0cd40",
   "metadata": {},
   "source": [
    "## Load and prepare data for analysis"
   ]
  },
  {
   "cell_type": "code",
   "execution_count": null,
   "id": "38119087-600d-4bf9-8aeb-a1eebca563f8",
   "metadata": {},
   "outputs": [],
   "source": [
    "distances = pd.read_csv(\"results/model_inputs_for_simulated_populations.tsv\", sep=\"\\t\")"
   ]
  },
  {
   "cell_type": "code",
   "execution_count": null,
   "id": "acf2db99-e15d-4ca8-803f-f5d99a83c28a",
   "metadata": {},
   "outputs": [],
   "source": [
    "distances.head()"
   ]
  },
  {
   "cell_type": "code",
   "execution_count": null,
   "id": "9a60a35f-f642-4d0d-91a5-60b9c784fef3",
   "metadata": {},
   "outputs": [],
   "source": [
    "delay_to_delay_type = {\n",
    "    0: \"none\",\n",
    "    1: \"ideal\",\n",
    "    3: \"realistic\",\n",
    "}"
   ]
  },
  {
   "cell_type": "code",
   "execution_count": null,
   "id": "199d5a2c-67d0-4bcb-9309-539d95f5b6f1",
   "metadata": {},
   "outputs": [],
   "source": [
    "distances[\"delay_type\"] = distances[\"delay\"].map(delay_to_delay_type)"
   ]
  },
  {
   "cell_type": "code",
   "execution_count": null,
   "id": "f8e5b8a9-475c-404b-88d8-920ad8113ec4",
   "metadata": {},
   "outputs": [],
   "source": [
    "distances.head()"
   ]
  },
  {
   "cell_type": "markdown",
   "id": "ea32fc5b-32a3-4f9f-a1aa-f0808d3b81bf",
   "metadata": {},
   "source": [
    "Standardize submission delay and forecast horizon values for use in models.\n",
    "Both predictors use units of \"months\"."
   ]
  },
  {
   "cell_type": "code",
   "execution_count": null,
   "id": "5db22cbd-33a5-4f63-84bd-cc3de641b8ec",
   "metadata": {},
   "outputs": [],
   "source": [
    "horizon_mean = distances[\"horizon\"].mean()"
   ]
  },
  {
   "cell_type": "code",
   "execution_count": null,
   "id": "d07baa4f-7ca6-4a18-b53c-34b64078c8dd",
   "metadata": {},
   "outputs": [],
   "source": [
    "distances[\"horizon_c\"] = (\n",
    "    (distances[\"horizon\"] - horizon_mean)\n",
    ")"
   ]
  },
  {
   "cell_type": "code",
   "execution_count": null,
   "id": "d5647066-09f9-4d3a-84e5-7743e08987df",
   "metadata": {},
   "outputs": [],
   "source": [
    "delay_mean = distances[\"delay\"].mean()"
   ]
  },
  {
   "cell_type": "code",
   "execution_count": null,
   "id": "d7845dc4-7f56-4627-bd91-cc1e3fa70c9d",
   "metadata": {},
   "outputs": [],
   "source": [
    "distances[\"delay_c\"] = (\n",
    "    (distances[\"delay\"] - delay_mean)\n",
    ")"
   ]
  },
  {
   "cell_type": "code",
   "execution_count": null,
   "id": "10dd7f72-a4b2-4af2-8ed4-dbf25e8af5d3",
   "metadata": {},
   "outputs": [],
   "source": [
    "distances.head()"
   ]
  },
  {
   "cell_type": "markdown",
   "id": "2c3be7ec-e89b-4b31-a5da-ed473ad2480f",
   "metadata": {},
   "source": [
    "## Define model"
   ]
  },
  {
   "cell_type": "code",
   "execution_count": null,
   "id": "7ec79111-6fb8-4d30-8503-75a41135a1b0",
   "metadata": {},
   "outputs": [],
   "source": [
    "with pm.Model() as model:\n",
    "    # Priors for linear model\n",
    "    a = pm.Normal(\"a\", 0, 1.0)\n",
    "    b_s = pm.Normal(\"b_s\", 0, 0.1)\n",
    "    b_h = pm.Normal(\"b_h\", 0, 0.1)\n",
    "\n",
    "    # Linear model\n",
    "    mu = pm.math.exp(a + (b_s * distances[\"delay_c\"].values) + (b_h * distances[\"horizon_c\"].values))\n",
    "    \n",
    "    # Priors for likelihood\n",
    "    sigma = pm.Exponential(\"sigma\", 0.5)\n",
    "    \n",
    "    # Likelihood\n",
    "    distance = pm.Gamma(\"distance\", mu=mu, sigma=sigma, observed=distances[\"distance\"].values)\n",
    "    \n",
    "    # Sample from the priors.\n",
    "    prior_samples = pm.sample_prior_predictive(100)"
   ]
  },
  {
   "cell_type": "markdown",
   "id": "aa358f1f-cde5-4767-95a5-0271e48974c9",
   "metadata": {},
   "source": [
    "### Prior predictive checks"
   ]
  },
  {
   "cell_type": "code",
   "execution_count": null,
   "id": "75dc1c2a-18a0-4eff-b8d0-88f8f855b8d5",
   "metadata": {},
   "outputs": [],
   "source": [
    "prior = az.extract(prior_samples[\"prior\"])"
   ]
  },
  {
   "cell_type": "code",
   "execution_count": null,
   "id": "96d149c6-729a-41bc-92cc-95528229fae4",
   "metadata": {},
   "outputs": [],
   "source": [
    "prior"
   ]
  },
  {
   "cell_type": "code",
   "execution_count": null,
   "id": "526b7c68-8abb-44a9-98f5-d052ce892fb8",
   "metadata": {},
   "outputs": [],
   "source": [
    "factors = distances.loc[:, [\"delay\", \"horizon\", \"delay_c\", \"horizon_c\"]].drop_duplicates().reset_index(drop=True)"
   ]
  },
  {
   "cell_type": "code",
   "execution_count": null,
   "id": "77bf6919-03e8-4b3a-b2d2-387a8584db66",
   "metadata": {},
   "outputs": [],
   "source": [
    "factors"
   ]
  },
  {
   "cell_type": "markdown",
   "id": "0dc0e813-c7ad-4d4d-9067-5cefa6b1a644",
   "metadata": {},
   "source": [
    "Calculate the mean distance from the prior samples at each combination of delay and horizon values."
   ]
  },
  {
   "cell_type": "code",
   "execution_count": null,
   "id": "f7a2063b-892d-455e-9c3e-3f9cec42bcd6",
   "metadata": {},
   "outputs": [],
   "source": [
    "prior_mu = np.apply_along_axis(\n",
    "    lambda row: np.exp(prior[\"a\"] + (prior[\"b_s\"] * row[0]) + (prior[\"b_h\"] * row[1])),\n",
    "    1,\n",
    "    factors.loc[:, [\"delay_c\", \"horizon_c\"]].values,\n",
    ")"
   ]
  },
  {
   "cell_type": "code",
   "execution_count": null,
   "id": "3b499b94-8716-45b8-a388-01f738682c5f",
   "metadata": {},
   "outputs": [],
   "source": [
    "prior_sigma = np.array([prior[\"sigma\"].values] * factors.shape[0])"
   ]
  },
  {
   "cell_type": "markdown",
   "id": "38cf1030-b5e8-4b88-95b8-fe9f343abd26",
   "metadata": {},
   "source": [
    "Sample distances from the gamma likelihood with the mean calculated above and the variance from the posterior (repeated once for each combination of delay/horizon factors)."
   ]
  },
  {
   "cell_type": "code",
   "execution_count": null,
   "id": "370b85c7-057b-4643-88a2-e0541a113424",
   "metadata": {},
   "outputs": [],
   "source": [
    "prior_gamma_dist = pm.Gamma.dist(mu=prior_mu, sigma=prior_sigma)"
   ]
  },
  {
   "cell_type": "code",
   "execution_count": null,
   "id": "ed644181-2fe9-40eb-b1f7-f16aaef13a96",
   "metadata": {},
   "outputs": [],
   "source": [
    "prior_distance = pm.draw(prior_gamma_dist, random_seed=rng)"
   ]
  },
  {
   "cell_type": "code",
   "execution_count": null,
   "id": "fb5f4c4f-71d5-4299-b01d-dc3622131c1a",
   "metadata": {},
   "outputs": [],
   "source": [
    "priors = pd.concat([\n",
    "    pd.DataFrame({\n",
    "        \"delay\": factors.loc[i, \"delay\"],\n",
    "        \"horizon\": factors.loc[i, \"horizon\"],\n",
    "        \"distance\": prior_distance[i, :],\n",
    "    })\n",
    "    for i in range(factors.shape[0])\n",
    "])"
   ]
  },
  {
   "cell_type": "markdown",
   "id": "e0c4d970-cea2-4668-ab97-35bf11fb5e4b",
   "metadata": {},
   "source": [
    "Plot observed distances and those from the prior predictive samples, to determine whether the latter include realistic values."
   ]
  },
  {
   "cell_type": "code",
   "execution_count": null,
   "id": "f900fffe-9c6c-47a4-886b-79a11a3628c8",
   "metadata": {},
   "outputs": [],
   "source": [
    "distances.head()"
   ]
  },
  {
   "cell_type": "code",
   "execution_count": null,
   "id": "ebf4df19-24e9-4bc7-b632-576216632340",
   "metadata": {},
   "outputs": [],
   "source": [
    "priors[\"delay_type\"] = priors[\"delay\"].map(delay_to_delay_type)"
   ]
  },
  {
   "cell_type": "code",
   "execution_count": null,
   "id": "c01dd23b-7081-4ed7-9142-4d55ebbaab15",
   "metadata": {},
   "outputs": [],
   "source": [
    "fig, (ax1, ax2) = plt.subplots(1, 2, figsize=(10, 4), dpi=150)\n",
    "\n",
    "sns.boxplot(\n",
    "    x=\"horizon\",\n",
    "    y=\"distance\",\n",
    "    hue=\"delay_type\",\n",
    "    hue_order=(\"none\", \"ideal\", \"realistic\"),\n",
    "    data=distances,\n",
    "    color=\"#CCCCCC\",\n",
    "    fliersize=0.0,\n",
    "    ax=ax1,\n",
    ")\n",
    "sns.stripplot(\n",
    "    x=\"horizon\",\n",
    "    y=\"distance\",\n",
    "    hue=\"delay_type\",\n",
    "    data=distances,\n",
    "    hue_order=(\"none\", \"ideal\", \"realistic\"),\n",
    "    alpha=0.35,\n",
    "    ax=ax1,\n",
    "    dodge=True,\n",
    ")\n",
    "\n",
    "ax1.set_ylim(bottom=-0.25)\n",
    "\n",
    "handles, labels = ax1.get_legend_handles_labels()\n",
    "\n",
    "ax1.legend(\n",
    "    handles=handles[3:],\n",
    "    labels=labels[3:],\n",
    "    loc=\"upper left\",\n",
    "    title=\"Type of delay\",\n",
    "    frameon=False,\n",
    ")\n",
    "ax1.set_xlabel(\"Forecast horizon (months)\")\n",
    "ax1.set_ylabel(\"Distance to the future (AAs)\")\n",
    "\n",
    "ax1.set_title(\"Observed\")\n",
    "\n",
    "sns.boxplot(\n",
    "    x=\"horizon\",\n",
    "    y=\"distance\",\n",
    "    hue=\"delay_type\",\n",
    "    hue_order=(\"none\", \"ideal\", \"realistic\"),\n",
    "    data=priors,\n",
    "    fliersize=0.0,\n",
    "    color=\"#CCCCCC\",\n",
    "    ax=ax2,\n",
    ")\n",
    "sns.stripplot(\n",
    "    x=\"horizon\",\n",
    "    y=\"distance\",\n",
    "    hue=\"delay_type\",\n",
    "    data=priors,\n",
    "    hue_order=(\"none\", \"ideal\", \"realistic\"),\n",
    "    alpha=0.35,\n",
    "    ax=ax2,\n",
    "    dodge=True,\n",
    ")\n",
    "\n",
    "ax2.set_ylim(bottom=-0.25)\n",
    "\n",
    "ax2.get_legend().remove()\n",
    "ax2.set_xlabel(\"Forecast horizon (months)\")\n",
    "ax2.set_ylabel(\"Distance to the future (AAs)\")\n",
    "\n",
    "ax2.set_title(\"Prior predictive\")\n",
    "                 \n",
    "sns.despine()"
   ]
  },
  {
   "cell_type": "markdown",
   "id": "1f52c774-f6cf-4abb-8dd4-62c42e9e84d8",
   "metadata": {},
   "source": [
    "## Fit the model to the data"
   ]
  },
  {
   "cell_type": "code",
   "execution_count": null,
   "id": "8f9de859-e5ff-4b3e-88ce-4ab191d244b5",
   "metadata": {},
   "outputs": [],
   "source": [
    "with model:\n",
    "    # Sample from the model.\n",
    "    trace = pm.sample(\n",
    "        draws=10000,\n",
    "        tune=5000,\n",
    "        chains=4,\n",
    "        cores=4,\n",
    "    )"
   ]
  },
  {
   "cell_type": "code",
   "execution_count": null,
   "id": "5ed431bd-1cca-4e0d-aeec-070891f6c546",
   "metadata": {},
   "outputs": [],
   "source": [
    "az.plot_energy(trace)"
   ]
  },
  {
   "cell_type": "code",
   "execution_count": null,
   "id": "d00aac5f-e476-4041-b30b-29519bb28342",
   "metadata": {},
   "outputs": [],
   "source": [
    "az.plot_trace(trace, combined=True)\n",
    "plt.tight_layout()"
   ]
  },
  {
   "cell_type": "code",
   "execution_count": null,
   "id": "2b0cd567-44ef-435b-9514-5c90752d0474",
   "metadata": {},
   "outputs": [],
   "source": [
    "az.plot_posterior(trace)"
   ]
  },
  {
   "cell_type": "code",
   "execution_count": null,
   "id": "d882fec9-64fb-410c-9e45-1e7c4a5f6b07",
   "metadata": {},
   "outputs": [],
   "source": [
    "az.plot_forest(trace, var_names=[\"b_s\", \"b_h\"], combined=True)"
   ]
  },
  {
   "cell_type": "code",
   "execution_count": null,
   "id": "656ebc4c-3925-42c3-b4b5-66e483b67deb",
   "metadata": {},
   "outputs": [],
   "source": [
    "az.summary(trace)"
   ]
  },
  {
   "cell_type": "markdown",
   "id": "592892ec-33cf-46ef-96be-0d92a64e2e54",
   "metadata": {},
   "source": [
    "### Posterior checks"
   ]
  },
  {
   "cell_type": "code",
   "execution_count": null,
   "id": "b2f24a38-ccb9-4d64-b6ed-023c54584e77",
   "metadata": {},
   "outputs": [],
   "source": [
    "full_posterior = az.extract(trace[\"posterior\"])"
   ]
  },
  {
   "cell_type": "code",
   "execution_count": null,
   "id": "af6c713f-5f4c-46ce-bf7c-6332ff287132",
   "metadata": {},
   "outputs": [],
   "source": [
    "full_posterior"
   ]
  },
  {
   "cell_type": "code",
   "execution_count": null,
   "id": "97007a3c-c93e-4374-b9b2-24ca9eec323f",
   "metadata": {},
   "outputs": [],
   "source": [
    "posterior = full_posterior.sel(draw=slice(None, None, 10))"
   ]
  },
  {
   "cell_type": "code",
   "execution_count": null,
   "id": "7a80db79-b327-4b6e-9ee4-4d39949fc6d1",
   "metadata": {},
   "outputs": [],
   "source": [
    "posterior_mu = np.apply_along_axis(\n",
    "    lambda row: np.exp(posterior[\"a\"] + (posterior[\"b_s\"] * row[0]) + (posterior[\"b_h\"] * row[1])),\n",
    "    1,\n",
    "    factors.loc[:, [\"delay_c\", \"horizon_c\"]].values,\n",
    ")"
   ]
  },
  {
   "cell_type": "code",
   "execution_count": null,
   "id": "9ae32264-9ca3-45e1-b6fa-4ca3e29601d6",
   "metadata": {},
   "outputs": [],
   "source": [
    "posterior_mu"
   ]
  },
  {
   "cell_type": "code",
   "execution_count": null,
   "id": "1341140b-7684-4d2d-b4a1-3563f767dccd",
   "metadata": {},
   "outputs": [],
   "source": [
    "posterior_mu.shape"
   ]
  },
  {
   "cell_type": "code",
   "execution_count": null,
   "id": "c3cd6394-322b-46e1-9bae-48fcb7339371",
   "metadata": {},
   "outputs": [],
   "source": [
    "posterior_sigma = np.array([posterior[\"sigma\"].values] * factors.shape[0])"
   ]
  },
  {
   "cell_type": "code",
   "execution_count": null,
   "id": "4db34e2e-c9cc-4e97-bfcb-9055b47b58a2",
   "metadata": {},
   "outputs": [],
   "source": [
    "posterior_gamma_dist = pm.Gamma.dist(mu=posterior_mu, sigma=posterior_sigma)"
   ]
  },
  {
   "cell_type": "code",
   "execution_count": null,
   "id": "8b7111c9-8a7c-4d7a-9800-44db791bdd19",
   "metadata": {},
   "outputs": [],
   "source": [
    "posterior_distance = pm.draw(posterior_gamma_dist, random_seed=rng)"
   ]
  },
  {
   "cell_type": "code",
   "execution_count": null,
   "id": "927ea6b8-e936-4861-ac8d-ea21cbfdf674",
   "metadata": {},
   "outputs": [],
   "source": [
    "posteriors = pd.concat([\n",
    "    pd.DataFrame({\n",
    "        \"delay\": factors.loc[i, \"delay\"],\n",
    "        \"horizon\": factors.loc[i, \"horizon\"],\n",
    "        \"mu\": posterior_mu[i, :],\n",
    "        \"distance\": posterior_distance[i, :],\n",
    "    })\n",
    "    for i in range(factors.shape[0])\n",
    "])"
   ]
  },
  {
   "cell_type": "code",
   "execution_count": null,
   "id": "2f054050-b117-42ee-9f05-e093575144d3",
   "metadata": {},
   "outputs": [],
   "source": [
    "posteriors[\"delay_type\"] = posteriors[\"delay\"].map(delay_to_delay_type)"
   ]
  },
  {
   "cell_type": "code",
   "execution_count": null,
   "id": "127af0d0-f655-432c-9c3d-5be2c85c5cff",
   "metadata": {},
   "outputs": [],
   "source": [
    "posteriors"
   ]
  },
  {
   "cell_type": "code",
   "execution_count": null,
   "id": "14b501f3-d277-4033-a0d5-3f99bbec66ae",
   "metadata": {},
   "outputs": [],
   "source": [
    "fig, (ax1, ax2) = plt.subplots(1, 2, figsize=(10, 4), dpi=150)\n",
    "\n",
    "sns.boxplot(\n",
    "    x=\"horizon\",\n",
    "    y=\"distance\",\n",
    "    hue=\"delay_type\",\n",
    "    hue_order=(\"none\", \"ideal\", \"realistic\"),\n",
    "    data=distances,\n",
    "    color=\"#CCCCCC\",\n",
    "    fliersize=0.0,\n",
    "    ax=ax1,\n",
    ")\n",
    "sns.stripplot(\n",
    "    x=\"horizon\",\n",
    "    y=\"distance\",\n",
    "    hue=\"delay_type\",\n",
    "    data=distances,\n",
    "    hue_order=(\"none\", \"ideal\", \"realistic\"),\n",
    "    alpha=0.35,\n",
    "    ax=ax1,\n",
    "    dodge=True,\n",
    ")\n",
    "\n",
    "ax1.set_ylim(bottom=-0.25)\n",
    "\n",
    "handles, labels = ax1.get_legend_handles_labels()\n",
    "\n",
    "ax1.legend(\n",
    "    handles=handles[3:],\n",
    "    labels=labels[3:],\n",
    "    loc=\"upper left\",\n",
    "    title=\"Type of delay\",\n",
    "    frameon=False,\n",
    ")\n",
    "ax1.set_xlabel(\"Forecast horizon (months)\")\n",
    "ax1.set_ylabel(\"Distance to the future (AAs)\")\n",
    "\n",
    "ax1.set_title(\"Observed\")\n",
    "\n",
    "sns.boxplot(\n",
    "    x=\"horizon\",\n",
    "    y=\"distance\",\n",
    "    hue=\"delay_type\",\n",
    "    hue_order=(\"none\", \"ideal\", \"realistic\"),\n",
    "    data=posteriors,\n",
    "    fliersize=0.0,\n",
    "    color=\"#CCCCCC\",\n",
    "    ax=ax2,\n",
    ")\n",
    "sns.stripplot(\n",
    "    x=\"horizon\",\n",
    "    y=\"distance\",\n",
    "    hue=\"delay_type\",\n",
    "    data=posteriors,\n",
    "    hue_order=(\"none\", \"ideal\", \"realistic\"),\n",
    "    alpha=0.35,\n",
    "    ax=ax2,\n",
    "    dodge=True,\n",
    ")\n",
    "\n",
    "ax2.set_ylim(bottom=-0.25)\n",
    "\n",
    "ax2.get_legend().remove()\n",
    "ax2.set_xlabel(\"Forecast horizon (months)\")\n",
    "ax2.set_ylabel(\"Distance to the future (AAs)\")\n",
    "\n",
    "ax2.set_title(\"Posterior predictive\")\n",
    "\n",
    "sns.despine()"
   ]
  },
  {
   "cell_type": "markdown",
   "id": "6d39a861-3c5c-4060-9469-2aebc8d250f8",
   "metadata": {},
   "source": [
    "## Plot distance to the present represented by intercept term\n",
    "\n",
    "Calculate distance to the present without delays by setting delay=0 and horizon=0."
   ]
  },
  {
   "cell_type": "code",
   "execution_count": null,
   "id": "28ca7f42-f9fe-4a4d-b67b-b0b36c658008",
   "metadata": {},
   "outputs": [],
   "source": [
    "mu_to_present_no_delay = np.exp(posterior[\"a\"] + posterior[\"b_s\"] * (0 - delay_mean) + posterior[\"b_h\"] * (0 - horizon_mean))"
   ]
  },
  {
   "cell_type": "code",
   "execution_count": null,
   "id": "97da6529-f759-42bc-852a-790f13e661f0",
   "metadata": {},
   "outputs": [],
   "source": [
    "mu_to_present_no_delay"
   ]
  },
  {
   "cell_type": "code",
   "execution_count": null,
   "id": "64434dc0-c569-4360-9be7-2cf06b3bca94",
   "metadata": {},
   "outputs": [],
   "source": [
    "mu_to_present_no_delay.values"
   ]
  },
  {
   "cell_type": "code",
   "execution_count": null,
   "id": "05ecd8e6-3b8e-4960-91ca-2a5cf703f18a",
   "metadata": {},
   "outputs": [],
   "source": [
    "posterior[\"sigma\"]"
   ]
  },
  {
   "cell_type": "code",
   "execution_count": null,
   "id": "d06e450a-83cd-484a-bb49-6c85c9c120c2",
   "metadata": {},
   "outputs": [],
   "source": [
    "gamma_dist_to_present_no_delay = pm.Gamma.dist(mu=mu_to_present_no_delay.values, sigma=posterior[\"sigma\"].values)\n",
    "distance_to_present_no_delay = pm.draw(gamma_dist_to_present_no_delay, random_seed=rng)"
   ]
  },
  {
   "cell_type": "code",
   "execution_count": null,
   "id": "c12aaac3-425f-46a4-ac0d-30212f31de90",
   "metadata": {},
   "outputs": [],
   "source": [
    "distance_to_present_no_delay"
   ]
  },
  {
   "cell_type": "code",
   "execution_count": null,
   "id": "e21395cc-5e40-4024-b5ce-4afbb7c03d37",
   "metadata": {},
   "outputs": [],
   "source": [
    "distance_to_present_no_delay.shape"
   ]
  },
  {
   "cell_type": "code",
   "execution_count": null,
   "id": "c43a03dd-fae1-409f-b373-d640b1ea9fe0",
   "metadata": {},
   "outputs": [],
   "source": [
    "bins = np.arange(distance_to_present_no_delay.min(), distance_to_present_no_delay.max() + 0.1, 0.25)"
   ]
  },
  {
   "cell_type": "code",
   "execution_count": null,
   "id": "e7b18515-efbb-4cd7-b59d-b130ec6a59af",
   "metadata": {},
   "outputs": [],
   "source": [
    "mean_average_distance_to_present = distance_to_present_no_delay.mean()"
   ]
  },
  {
   "cell_type": "code",
   "execution_count": null,
   "id": "cc969a12-89bd-453a-8f28-84cd2ab6081f",
   "metadata": {},
   "outputs": [],
   "source": [
    "mean_average_distance_to_present"
   ]
  },
  {
   "cell_type": "code",
   "execution_count": null,
   "id": "bc378859-5914-4f36-994f-ffa5dc0837dc",
   "metadata": {},
   "outputs": [],
   "source": [
    "median_average_distance_to_present = np.median(distance_to_present_no_delay)"
   ]
  },
  {
   "cell_type": "code",
   "execution_count": null,
   "id": "7f08cfba-7442-4af7-8e23-14d7707add6d",
   "metadata": {},
   "outputs": [],
   "source": [
    "median_average_distance_to_present"
   ]
  },
  {
   "cell_type": "code",
   "execution_count": null,
   "id": "621e21b5-6027-41e3-bac2-71b8a1716b5b",
   "metadata": {},
   "outputs": [],
   "source": [
    "lower_hpdi_average_distance_to_present, upper_hpdi_average_distance_to_present = az.hdi(distance_to_present_no_delay, 0.89)"
   ]
  },
  {
   "cell_type": "code",
   "execution_count": null,
   "id": "9c9dbbc6-2b22-4997-9693-5cc144327c0e",
   "metadata": {},
   "outputs": [],
   "source": [
    "lower_hpdi_average_distance_to_present"
   ]
  },
  {
   "cell_type": "code",
   "execution_count": null,
   "id": "c73bf3da-f001-4791-88f5-a4b117cc69e3",
   "metadata": {},
   "outputs": [],
   "source": [
    "upper_hpdi_average_distance_to_present"
   ]
  },
  {
   "cell_type": "code",
   "execution_count": null,
   "id": "999ec331-4515-44ee-abc8-00b752bf9730",
   "metadata": {},
   "outputs": [],
   "source": [
    "fig, ax = plt.subplots(1, 1, figsize=(8, 4), dpi=150)\n",
    "\n",
    "ax.hist(\n",
    "    distance_to_present_no_delay,\n",
    "    bins=bins,\n",
    "    color=\"#CCCCCC\",\n",
    ")\n",
    "\n",
    "ax.axvline(x=median_average_distance_to_present, color=\"#000000\")\n",
    "ax.axvline(x=lower_hpdi_average_distance_to_present, color=\"#000000\", linestyle=\"--\")\n",
    "ax.axvline(x=upper_hpdi_average_distance_to_present, color=\"#000000\", linestyle=\"--\")\n",
    "\n",
    "ax.set_xlim(left=0)\n",
    "\n",
    "ax.set_xlabel(\"Average distance to the present without delays (AAs)\")\n",
    "ax.set_ylabel(\"Number of posterior samples\")\n",
    "\n",
    "sns.despine()"
   ]
  },
  {
   "cell_type": "markdown",
   "id": "1fc7800e-5549-4845-8012-cea762968ec4",
   "metadata": {},
   "source": [
    "## Plot effect of delays on distance to present"
   ]
  },
  {
   "cell_type": "markdown",
   "id": "1904915d-3da4-4cf2-931a-bcdab103eb90",
   "metadata": {},
   "source": [
    "Create a sequence of average submission delays with standardization."
   ]
  },
  {
   "cell_type": "code",
   "execution_count": null,
   "id": "96a81633-8d9b-4e71-8706-cdda67725ae1",
   "metadata": {},
   "outputs": [],
   "source": [
    "delay_seq = np.arange(0, 4)"
   ]
  },
  {
   "cell_type": "code",
   "execution_count": null,
   "id": "bbbc611d-a301-4aad-b695-99b722571093",
   "metadata": {},
   "outputs": [],
   "source": [
    "delay_seq_c = (delay_seq - delay_mean)"
   ]
  },
  {
   "cell_type": "code",
   "execution_count": null,
   "id": "b397ad6d-40f6-4621-8c72-4c4f19ef9c2c",
   "metadata": {},
   "outputs": [],
   "source": [
    "delay_seq_c"
   ]
  },
  {
   "cell_type": "code",
   "execution_count": null,
   "id": "d790753b-c0f3-41a2-ac3c-8864d0e8bcde",
   "metadata": {},
   "outputs": [],
   "source": [
    "mu_median_for_delays = []\n",
    "mu_lower_hpdi = []\n",
    "mu_upper_hpdi = []\n",
    "distance_lower_hpdi = []\n",
    "distance_upper_hpdi = []\n",
    "\n",
    "for delay_c in delay_seq_c:\n",
    "    mu = np.exp(posterior[\"a\"] + posterior[\"b_s\"] * delay_c + posterior[\"b_h\"] * (0 - horizon_mean)).values\n",
    "    mu_median_for_delays.append(np.median(mu))\n",
    "    \n",
    "    mu_lower_hpdi_for_delay, mu_upper_hpdi_for_delay = az.hdi(mu, 0.89)\n",
    "    mu_lower_hpdi.append(mu_lower_hpdi_for_delay)\n",
    "    mu_upper_hpdi.append(mu_upper_hpdi_for_delay)\n",
    "    \n",
    "    gamma_dist_for_delay = pm.Gamma.dist(mu=mu, sigma=posterior[\"sigma\"].values)\n",
    "    distance_for_delay = pm.draw(gamma_dist_for_delay, random_seed=rng)\n",
    "    distance_lower_hpdi_for_delay, distance_upper_hpdi_for_delay = az.hdi(distance_for_delay, 0.89)\n",
    "    distance_lower_hpdi.append(distance_lower_hpdi_for_delay)\n",
    "    distance_upper_hpdi.append(distance_upper_hpdi_for_delay)"
   ]
  },
  {
   "cell_type": "code",
   "execution_count": null,
   "id": "5c940b4c-ea87-4bc8-9196-71a615c3c012",
   "metadata": {},
   "outputs": [],
   "source": [
    "mu_median_for_delays"
   ]
  },
  {
   "cell_type": "code",
   "execution_count": null,
   "id": "12f716c4-d337-4afd-9d5d-92bbc5ff0cdf",
   "metadata": {},
   "outputs": [],
   "source": [
    "mu_lower_hpdi"
   ]
  },
  {
   "cell_type": "code",
   "execution_count": null,
   "id": "62e99f3b-c99b-482b-9ce8-82bb18cf2523",
   "metadata": {},
   "outputs": [],
   "source": [
    "mu_upper_hpdi"
   ]
  },
  {
   "cell_type": "code",
   "execution_count": null,
   "id": "5adab259-19f9-4faf-9282-4775e3eb3e26",
   "metadata": {},
   "outputs": [],
   "source": [
    "fig, ax = plt.subplots(1, 1, figsize=(8, 4), dpi=200)\n",
    "\n",
    "ax.plot(\n",
    "    delay_seq,\n",
    "    mu_median_for_delays,\n",
    "    \"o-\",\n",
    "    color=\"#000000\",\n",
    ")\n",
    "\n",
    "ax.fill_between(\n",
    "    delay_seq,\n",
    "    y1=mu_lower_hpdi,\n",
    "    y2=mu_upper_hpdi,\n",
    "    color=\"#999999\",\n",
    "    alpha=0.75,\n",
    "    zorder=-10\n",
    ")\n",
    "\n",
    "ax.fill_between(\n",
    "    delay_seq,\n",
    "    y1=distance_lower_hpdi,\n",
    "    y2=distance_upper_hpdi,\n",
    "    color=\"#CCCCCC\",\n",
    "    alpha=0.75,\n",
    "    zorder=-20\n",
    ")\n",
    "\n",
    "ax.set_xticks(delay_seq)\n",
    "\n",
    "ax.set_ylim(bottom=0)\n",
    "\n",
    "ax.set_xlabel(\"Submission delay (months)\")\n",
    "ax.set_ylabel(\"Distance to the present (AAs)\")\n",
    "\n",
    "sns.despine()"
   ]
  },
  {
   "cell_type": "markdown",
   "id": "32e8c83e-4d9d-4e6d-ae08-a7bb2deab9f1",
   "metadata": {},
   "source": [
    "## Plot effect of horizons and delays"
   ]
  },
  {
   "cell_type": "code",
   "execution_count": null,
   "id": "db929b00-6077-4f40-8371-e74324df70ba",
   "metadata": {},
   "outputs": [],
   "source": [
    "horizon_seq = np.arange(3, 13, 3)"
   ]
  },
  {
   "cell_type": "code",
   "execution_count": null,
   "id": "680ade3c-4874-445d-99be-95a08af35abd",
   "metadata": {},
   "outputs": [],
   "source": [
    "horizon_seq"
   ]
  },
  {
   "cell_type": "code",
   "execution_count": null,
   "id": "5abba602-2479-4ec9-8d4b-507846767033",
   "metadata": {},
   "outputs": [],
   "source": [
    "delay_seq = np.array([0, 1, 3])"
   ]
  },
  {
   "cell_type": "code",
   "execution_count": null,
   "id": "a895137d-54c5-4baf-a873-09c29790d814",
   "metadata": {},
   "outputs": [],
   "source": [
    "posterior_simulated_distances = []\n",
    "records = []\n",
    "\n",
    "for horizon in horizon_seq:\n",
    "    horizon_c = (horizon - horizon_mean)\n",
    "    \n",
    "    for delay in delay_seq:\n",
    "        delay_c = (delay - delay_mean)\n",
    "        \n",
    "        mu = np.exp(posterior[\"a\"] + posterior[\"b_s\"] * delay_c + posterior[\"b_h\"] * horizon_c).values\n",
    "        mu_median = np.median(mu)\n",
    "\n",
    "        mu_lower_hpdi, mu_upper_hpdi = az.hdi(mu, 0.89)\n",
    "\n",
    "        gamma_dist = pm.Gamma.dist(mu=mu, sigma=posterior[\"sigma\"].values)\n",
    "        distance = pm.draw(gamma_dist, random_seed=rng)\n",
    "        distance_lower_hpdi, distance_upper_hpdi = az.hdi(distance, 0.89)\n",
    "        \n",
    "        posterior_simulated_distances.append(\n",
    "            pd.DataFrame({\n",
    "                \"horizon\": horizon,\n",
    "                \"delay\": delay,\n",
    "                \"distance\": distance,\n",
    "            })\n",
    "        )\n",
    "\n",
    "        records.append({\n",
    "            \"horizon\": horizon,\n",
    "            \"delay\": delay,\n",
    "            \"mu_median\": mu_median,\n",
    "            \"mu_lower_hpdi\": mu_lower_hpdi,\n",
    "            \"mu_upper_hpdi\": mu_upper_hpdi,\n",
    "            \"distance_lower_hpdi\": distance_lower_hpdi,\n",
    "            \"distance_upper_hpdi\": distance_upper_hpdi,\n",
    "        })"
   ]
  },
  {
   "cell_type": "code",
   "execution_count": null,
   "id": "12403139-b517-4334-a7d7-964371fc9664",
   "metadata": {},
   "outputs": [],
   "source": [
    "df = pd.DataFrame(records)"
   ]
  },
  {
   "cell_type": "code",
   "execution_count": null,
   "id": "ff13f680-4373-4530-8901-eb6e5f0601e6",
   "metadata": {
    "tags": []
   },
   "outputs": [],
   "source": [
    "df"
   ]
  },
  {
   "cell_type": "code",
   "execution_count": null,
   "id": "2b9e9a4f-db09-4cf4-bf32-99ef53f05514",
   "metadata": {},
   "outputs": [],
   "source": [
    "fig, ax = plt.subplots(1, 1, figsize=(8, 4), dpi=200)\n",
    "\n",
    "# Distance to the future without delay\n",
    "ax.plot(\n",
    "    df.query(\"delay == 0\")[\"horizon\"],\n",
    "    df.query(\"delay == 0\")[\"mu_median\"],\n",
    "    \"o-\",\n",
    "    color=\"C0\",\n",
    "    label=\"no delay\",\n",
    ")\n",
    "\n",
    "ax.fill_between(\n",
    "    df.query(\"delay == 0\")[\"horizon\"],\n",
    "    y1=df.query(\"delay == 0\")[\"mu_lower_hpdi\"],\n",
    "    y2=df.query(\"delay == 0\")[\"mu_upper_hpdi\"],\n",
    "    color=\"C0\",\n",
    "    alpha=0.5,\n",
    "    zorder=-10\n",
    ")\n",
    "\n",
    "ax.fill_between(\n",
    "    df.query(\"delay == 0\")[\"horizon\"],\n",
    "    y1=df.query(\"delay == 0\")[\"distance_lower_hpdi\"],\n",
    "    y2=df.query(\"delay == 0\")[\"distance_upper_hpdi\"],\n",
    "    color=\"C0\",\n",
    "    alpha=0.25,\n",
    "    zorder=-20\n",
    ")\n",
    "\n",
    "# Distance to the future with delay\n",
    "ax.plot(\n",
    "    df.query(\"delay == 1\")[\"horizon\"],\n",
    "    df.query(\"delay == 1\")[\"mu_median\"],\n",
    "    \"o-\",\n",
    "    color=\"C1\",\n",
    "    label=\"ideal delay\",\n",
    ")\n",
    "\n",
    "ax.fill_between(\n",
    "    df.query(\"delay == 1\")[\"horizon\"],\n",
    "    y1=df.query(\"delay == 1\")[\"mu_lower_hpdi\"],\n",
    "    y2=df.query(\"delay == 1\")[\"mu_upper_hpdi\"],\n",
    "    color=\"C1\",\n",
    "    alpha=0.5,\n",
    "    zorder=-10\n",
    ")\n",
    "\n",
    "ax.fill_between(\n",
    "    df.query(\"delay == 1\")[\"horizon\"],\n",
    "    y1=df.query(\"delay == 1\")[\"distance_lower_hpdi\"],\n",
    "    y2=df.query(\"delay == 1\")[\"distance_upper_hpdi\"],\n",
    "    color=\"C1\",\n",
    "    alpha=0.25,\n",
    "    zorder=-20\n",
    ")\n",
    "\n",
    "# Distance to the future with delay\n",
    "ax.plot(\n",
    "    df.query(\"delay == 3\")[\"horizon\"],\n",
    "    df.query(\"delay == 3\")[\"mu_median\"],\n",
    "    \"o-\",\n",
    "    color=\"C2\",\n",
    "    label=\"realistic delay\",\n",
    ")\n",
    "\n",
    "ax.fill_between(\n",
    "    df.query(\"delay == 3\")[\"horizon\"],\n",
    "    y1=df.query(\"delay == 3\")[\"mu_lower_hpdi\"],\n",
    "    y2=df.query(\"delay == 3\")[\"mu_upper_hpdi\"],\n",
    "    color=\"C2\",\n",
    "    alpha=0.5,\n",
    "    zorder=-10\n",
    ")\n",
    "\n",
    "ax.fill_between(\n",
    "    df.query(\"delay == 3\")[\"horizon\"],\n",
    "    y1=df.query(\"delay == 3\")[\"distance_lower_hpdi\"],\n",
    "    y2=df.query(\"delay == 3\")[\"distance_upper_hpdi\"],\n",
    "    color=\"C2\",\n",
    "    alpha=0.25,\n",
    "    zorder=-20\n",
    ")\n",
    "\n",
    "ax.set_xticks(horizon_seq)\n",
    "\n",
    "ax.set_ylim(bottom=0)\n",
    "\n",
    "ax.set_xlabel(\"Forecast horizon (months)\")\n",
    "ax.set_ylabel(\"Distance to the future (AAs)\")\n",
    "\n",
    "ax.legend(\n",
    "    loc=\"upper left\",\n",
    "    frameon=False,\n",
    ")\n",
    "\n",
    "sns.despine()"
   ]
  },
  {
   "cell_type": "markdown",
   "id": "3fbd1644-0382-4310-b482-cd464c3882d1",
   "metadata": {},
   "source": [
    "## Plot improvements under different realistic scenarios\n",
    "\n",
    "We consider three possible realistic scenarios for future practice of influenza genomic surveillance and vaccine development:\n",
    "\n",
    "1. A change in vaccine development reduces the required forecast horizon from 12 months to 6 months (e.g., through adoption of mRNA-based vaccines).\n",
    "2. A change in genomic surveillance capacity and policy reduces the average submission delay of genomes to GISAID from 3 months to 1 month.\n",
    "3. Both changes to vaccine development and genomic surveillance occur at once."
   ]
  },
  {
   "cell_type": "code",
   "execution_count": null,
   "id": "ee1b1cb0-baa4-4b67-86c6-960dc8332f5d",
   "metadata": {},
   "outputs": [],
   "source": [
    "posterior_simulated_distance_df = pd.concat(posterior_simulated_distances)"
   ]
  },
  {
   "cell_type": "code",
   "execution_count": null,
   "id": "55152e57-8c70-498a-a1a8-fb79991bf17e",
   "metadata": {},
   "outputs": [],
   "source": [
    "posterior_simulated_distance_df.head()"
   ]
  },
  {
   "cell_type": "markdown",
   "id": "3bf894ea-4121-4eb4-90ba-4a014f201a23",
   "metadata": {},
   "source": [
    "Get difference in distances for scenario 1 where delay=3 and horizon=12 or 6."
   ]
  },
  {
   "cell_type": "code",
   "execution_count": null,
   "id": "51755e0d-f744-40ab-a1bf-73bae974f1ce",
   "metadata": {},
   "outputs": [],
   "source": [
    "scenario_1_improvement = (\n",
    "    posterior_simulated_distance_df.query(\"(delay == 3) & (horizon == 12)\")[\"distance\"] - \n",
    "    posterior_simulated_distance_df.query(\"(delay == 3) & (horizon == 6)\")[\"distance\"]\n",
    ")"
   ]
  },
  {
   "cell_type": "code",
   "execution_count": null,
   "id": "af2ad502-1c8b-45de-9482-304e23d75ac6",
   "metadata": {},
   "outputs": [],
   "source": [
    "scenario_1_improvement_median = scenario_1_improvement.median()"
   ]
  },
  {
   "cell_type": "code",
   "execution_count": null,
   "id": "a88fa6af-cdc2-4d8a-8e6a-8e1adac37c70",
   "metadata": {},
   "outputs": [],
   "source": [
    "scenario_1_improvement_median"
   ]
  },
  {
   "cell_type": "code",
   "execution_count": null,
   "id": "301788f2-a179-46dd-8562-3e88ce10ffcc",
   "metadata": {},
   "outputs": [],
   "source": [
    "scenario_1_improvement_lower_hdi, scenario_1_improvement_upper_hdi = az.hdi(scenario_1_improvement.values, 0.89)"
   ]
  },
  {
   "cell_type": "code",
   "execution_count": null,
   "id": "e13c50df-5f4c-4e44-815c-77e41d16d331",
   "metadata": {},
   "outputs": [],
   "source": [
    "scenario_1_improvement_lower_hdi"
   ]
  },
  {
   "cell_type": "code",
   "execution_count": null,
   "id": "7502473a-c007-402c-814e-ed61002c375a",
   "metadata": {},
   "outputs": [],
   "source": [
    "scenario_1_improvement_upper_hdi"
   ]
  },
  {
   "cell_type": "markdown",
   "id": "ed9093d4-aeb9-4a0e-ae6c-c078de635ff2",
   "metadata": {},
   "source": [
    "Get difference in distances for scenario 2 where horizon=12 and delay=3 or 1."
   ]
  },
  {
   "cell_type": "code",
   "execution_count": null,
   "id": "1ce697f5-5d1c-41d4-a7ac-326f5709934e",
   "metadata": {},
   "outputs": [],
   "source": [
    "scenario_2_improvement = (\n",
    "    posterior_simulated_distance_df.query(\"(delay == 3) & (horizon == 12)\")[\"distance\"] - \n",
    "    posterior_simulated_distance_df.query(\"(delay == 1) & (horizon == 12)\")[\"distance\"]\n",
    ")"
   ]
  },
  {
   "cell_type": "code",
   "execution_count": null,
   "id": "ac3dac4c-2cbd-4017-91de-c061f252131c",
   "metadata": {},
   "outputs": [],
   "source": [
    "scenario_2_improvement_median = scenario_2_improvement.median()"
   ]
  },
  {
   "cell_type": "code",
   "execution_count": null,
   "id": "c3fbdffc-f1f3-4fad-9fd1-30c969800375",
   "metadata": {},
   "outputs": [],
   "source": [
    "scenario_2_improvement_median"
   ]
  },
  {
   "cell_type": "code",
   "execution_count": null,
   "id": "0b058fb0-6f1d-41c2-9843-90619d1fa130",
   "metadata": {},
   "outputs": [],
   "source": [
    "scenario_2_improvement_lower_hdi, scenario_2_improvement_upper_hdi = az.hdi(scenario_2_improvement.values, 0.89)"
   ]
  },
  {
   "cell_type": "code",
   "execution_count": null,
   "id": "b776b2e5-1609-429b-81aa-83706b63d1ab",
   "metadata": {},
   "outputs": [],
   "source": [
    "scenario_2_improvement_lower_hdi"
   ]
  },
  {
   "cell_type": "code",
   "execution_count": null,
   "id": "2c02b058-4a7d-453a-815e-6e414334b17a",
   "metadata": {},
   "outputs": [],
   "source": [
    "scenario_2_improvement_upper_hdi"
   ]
  },
  {
   "cell_type": "markdown",
   "id": "f3a35869-99f5-4fb0-a9ca-e72722ee4c74",
   "metadata": {},
   "source": [
    "Finally, get difference in distances for scenario 3 where horizon/delay is either 12/3 or 6/1."
   ]
  },
  {
   "cell_type": "code",
   "execution_count": null,
   "id": "d9221e93-822a-45a2-aa0f-f9cd15b711d3",
   "metadata": {},
   "outputs": [],
   "source": [
    "scenario_3_improvement = (\n",
    "    posterior_simulated_distance_df.query(\"(delay == 3) & (horizon == 12)\")[\"distance\"] - \n",
    "    posterior_simulated_distance_df.query(\"(delay == 1) & (horizon == 6)\")[\"distance\"]\n",
    ")"
   ]
  },
  {
   "cell_type": "code",
   "execution_count": null,
   "id": "f1a77667-59b3-4095-af88-5fe50129148c",
   "metadata": {},
   "outputs": [],
   "source": [
    "scenario_3_improvement_median = scenario_3_improvement.median()"
   ]
  },
  {
   "cell_type": "code",
   "execution_count": null,
   "id": "cde1763f-ec30-4521-a21d-36ab5a991d6a",
   "metadata": {},
   "outputs": [],
   "source": [
    "scenario_3_improvement_median"
   ]
  },
  {
   "cell_type": "code",
   "execution_count": null,
   "id": "382fb7d9-5e52-46e6-bce9-c703a24235f9",
   "metadata": {},
   "outputs": [],
   "source": [
    "scenario_1_improvement_median + scenario_2_improvement_median"
   ]
  },
  {
   "cell_type": "code",
   "execution_count": null,
   "id": "231aa6eb-6eaf-42c2-9606-627cc562df13",
   "metadata": {},
   "outputs": [],
   "source": [
    "scenario_3_improvement_lower_hdi, scenario_3_improvement_upper_hdi = az.hdi(scenario_3_improvement.values, 0.89)"
   ]
  },
  {
   "cell_type": "code",
   "execution_count": null,
   "id": "cf952dbc-ea6d-4251-a485-56621bd0fb1c",
   "metadata": {},
   "outputs": [],
   "source": [
    "scenario_3_improvement_lower_hdi"
   ]
  },
  {
   "cell_type": "code",
   "execution_count": null,
   "id": "f8643913-94ad-48b5-b363-8738c60427b2",
   "metadata": {},
   "outputs": [],
   "source": [
    "scenario_3_improvement_upper_hdi"
   ]
  },
  {
   "cell_type": "code",
   "execution_count": null,
   "id": "8155da27-2c1c-4a9c-9352-b87ee1dd395f",
   "metadata": {},
   "outputs": [],
   "source": [
    "bins = np.arange(\n",
    "    min(scenario_1_improvement.min(), scenario_2_improvement.min(), scenario_3_improvement.min()),\n",
    "    max(scenario_1_improvement.max(), scenario_2_improvement.max(), scenario_3_improvement.max()) + 0.1,\n",
    "    0.25,\n",
    ")"
   ]
  },
  {
   "cell_type": "code",
   "execution_count": null,
   "id": "fdcdfceb-18d0-4044-b2c0-ba65aa7ece75",
   "metadata": {},
   "outputs": [],
   "source": [
    "fig, axes = plt.subplots(3, 1, figsize=(8, 5), dpi=150, sharex=True, sharey=True)\n",
    "all_axes = axes.flatten()\n",
    "\n",
    "# Scenario 1\n",
    "ax1 = all_axes[0]\n",
    "ax1.hist(\n",
    "    scenario_1_improvement,\n",
    "    bins=bins,\n",
    "    color=\"#999999\",\n",
    ")\n",
    "ax1.axvline(x=0, color=\"#000000\", zorder=-10, linewidth=1)\n",
    "ax1.axvline(x=scenario_1_improvement_median, color=\"red\")\n",
    "ax1.axvline(x=scenario_1_improvement_lower_hdi, color=\"red\", linestyle=\"--\")\n",
    "ax1.axvline(x=scenario_1_improvement_upper_hdi, color=\"red\", linestyle=\"--\")\n",
    "\n",
    "ax1.text(\n",
    "    0.92,\n",
    "    0.5,\n",
    "    f\"{scenario_1_improvement_median:.2f} ({scenario_1_improvement_lower_hdi:.2f}, {scenario_1_improvement_upper_hdi:.2f}) AAs\",\n",
    "    horizontalalignment='right',\n",
    "    verticalalignment='center',\n",
    "    transform=ax1.transAxes,\n",
    ")\n",
    "\n",
    "ax1.set_title(\"Improved vaccine development (6-month horizon, 3-month delay)\")\n",
    "\n",
    "# Scenario 2\n",
    "ax2 = all_axes[1]\n",
    "ax2.hist(\n",
    "    scenario_2_improvement,\n",
    "    bins=bins,\n",
    "    color=\"#999999\",\n",
    ")\n",
    "ax2.axvline(x=0, color=\"#000000\", zorder=-10, linewidth=1)\n",
    "ax2.axvline(x=scenario_2_improvement_median, color=\"red\")\n",
    "ax2.axvline(x=scenario_2_improvement_lower_hdi, color=\"red\", linestyle=\"--\")\n",
    "ax2.axvline(x=scenario_3_improvement_upper_hdi, color=\"red\", linestyle=\"--\")\n",
    "\n",
    "ax2.text(\n",
    "    0.92,\n",
    "    0.5,\n",
    "    f\"{scenario_2_improvement_median:.2f} ({scenario_2_improvement_lower_hdi:.2f}, {scenario_2_improvement_upper_hdi:.2f}) AAs\",\n",
    "    horizontalalignment='right',\n",
    "    verticalalignment='center',\n",
    "    transform=ax2.transAxes,\n",
    ")\n",
    "\n",
    "ax2.set_ylabel(\"Number of posterior samples\")\n",
    "ax2.set_title(\"Improved genomic surveillance (12-month horizon, 1-month delay)\")\n",
    "\n",
    "# Scenario 3\n",
    "ax3 = all_axes[2]\n",
    "ax3.hist(\n",
    "    scenario_3_improvement,\n",
    "    bins=bins,\n",
    "    color=\"#999999\",\n",
    ")\n",
    "ax3.axvline(x=0, color=\"#000000\", zorder=-10, linewidth=1)\n",
    "ax3.axvline(x=scenario_3_improvement_median, color=\"red\")\n",
    "ax3.axvline(x=scenario_3_improvement_lower_hdi, color=\"red\", linestyle=\"--\")\n",
    "ax3.axvline(x=scenario_3_improvement_upper_hdi, color=\"red\", linestyle=\"--\")\n",
    "\n",
    "ax3.text(\n",
    "    0.92,\n",
    "    0.5,\n",
    "    f\"{scenario_3_improvement_median:.2f} ({scenario_3_improvement_lower_hdi:.2f}, {scenario_3_improvement_upper_hdi:.2f}) AAs\",\n",
    "    horizontalalignment='right',\n",
    "    verticalalignment='center',\n",
    "    transform=ax3.transAxes,\n",
    ")\n",
    "\n",
    "ax3.set_xlabel(\"Reduction in distance to the future (AAs)\")\n",
    "ax3.set_title(\"Improved vaccine and surveillance (6-month horizon, 1-month delay)\")\n",
    "\n",
    "sns.despine()\n",
    "plt.tight_layout()"
   ]
  },
  {
   "cell_type": "code",
   "execution_count": null,
   "id": "762ef07b-3091-476e-b753-1665db0fe9c5",
   "metadata": {},
   "outputs": [],
   "source": []
  }
 ],
 "metadata": {
  "kernelspec": {
   "display_name": "Python 3 (ipykernel)",
   "language": "python",
   "name": "python3"
  },
  "language_info": {
   "codemirror_mode": {
    "name": "ipython",
    "version": 3
   },
   "file_extension": ".py",
   "mimetype": "text/x-python",
   "name": "python",
   "nbconvert_exporter": "python",
   "pygments_lexer": "ipython3",
   "version": "3.10.9"
  }
 },
 "nbformat": 4,
 "nbformat_minor": 5
}
