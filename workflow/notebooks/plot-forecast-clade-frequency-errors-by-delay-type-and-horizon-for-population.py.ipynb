{
 "cells": [
  {
   "cell_type": "markdown",
   "id": "b3cb212a-3426-44a2-a08f-e731473ed305",
   "metadata": {},
   "source": [
    "# Plot clade frequency errors by delay type and forecast horizon for a given population type"
   ]
  },
  {
   "cell_type": "code",
   "execution_count": null,
   "id": "7eb48dc7-7119-4e13-9865-ac2e31da1ac9",
   "metadata": {},
   "outputs": [],
   "source": [
    "import matplotlib as mpl\n",
    "import matplotlib.pyplot as plt\n",
    "import numpy as np\n",
    "import pandas as pd\n",
    "import seaborn as sns"
   ]
  },
  {
   "cell_type": "code",
   "execution_count": null,
   "id": "9c66adf7-b7bf-4721-a348-79d5294f03ef",
   "metadata": {},
   "outputs": [],
   "source": [
    "sns.set_style(\"ticks\")"
   ]
  },
  {
   "cell_type": "code",
   "execution_count": null,
   "id": "96e9bcd2",
   "metadata": {},
   "outputs": [],
   "source": [
    "# Display figures at a reasonable default size.\n",
    "mpl.rcParams['figure.figsize'] = (6, 4)\n",
    "\n",
    "# Disable top and right spines.\n",
    "mpl.rcParams['axes.spines.top'] = False\n",
    "mpl.rcParams['axes.spines.right'] = False\n",
    "    \n",
    "# Display and save figures at higher resolution for presentations and manuscripts.\n",
    "mpl.rcParams['savefig.dpi'] = 300\n",
    "mpl.rcParams['figure.dpi'] = 150\n",
    "\n",
    "# Display text at sizes large enough for presentations and manuscripts.\n",
    "mpl.rcParams['font.weight'] = \"normal\"\n",
    "mpl.rcParams['axes.labelweight'] = \"normal\"\n",
    "mpl.rcParams['font.size'] = 14\n",
    "mpl.rcParams['axes.labelsize'] = 14\n",
    "mpl.rcParams['legend.fontsize'] = 12\n",
    "mpl.rcParams['xtick.labelsize'] = 14\n",
    "mpl.rcParams['ytick.labelsize'] = 14\n",
    "\n",
    "mpl.rc('text', usetex=False)"
   ]
  },
  {
   "cell_type": "code",
   "execution_count": null,
   "id": "bad3059c",
   "metadata": {},
   "outputs": [],
   "source": [
    "realistic_delay_type = snakemake.params.realistic_delay_type"
   ]
  },
  {
   "cell_type": "code",
   "execution_count": null,
   "id": "8a49ab6b",
   "metadata": {},
   "outputs": [],
   "source": [
    "delay_order = (\"none\", \"ideal\", realistic_delay_type)"
   ]
  },
  {
   "cell_type": "code",
   "execution_count": null,
   "id": "6fd64d8a",
   "metadata": {},
   "outputs": [],
   "source": [
    "large_frequency_lower_threshold = snakemake.params.large_frequency_lower_threshold"
   ]
  },
  {
   "cell_type": "code",
   "execution_count": null,
   "id": "442b53cd",
   "metadata": {},
   "outputs": [],
   "source": [
    "large_frequency_upper_threshold = snakemake.params.large_frequency_upper_threshold"
   ]
  },
  {
   "cell_type": "markdown",
   "id": "96d586db-2806-4ba4-8242-74dc69642d3f",
   "metadata": {},
   "source": [
    "## Load clade frequencies"
   ]
  },
  {
   "cell_type": "code",
   "execution_count": null,
   "id": "c8abef56-792c-403b-810f-29d12e9ded4b",
   "metadata": {},
   "outputs": [],
   "source": [
    "frequencies = pd.read_csv(\n",
    "    snakemake.input.frequencies,\n",
    "    sep=\"\\t\",\n",
    "    parse_dates=[\"timepoint\", \"future_timepoint\"],\n",
    ").rename(\n",
    "    columns={\"delta_month\": \"horizon\"},\n",
    ")"
   ]
  },
  {
   "cell_type": "code",
   "execution_count": null,
   "id": "8e35ce85-ec45-44b1-b3e2-32a8196a9ff8",
   "metadata": {},
   "outputs": [],
   "source": [
    "frequencies[\"horizon\"] = frequencies[\"horizon\"].astype(int)"
   ]
  },
  {
   "cell_type": "code",
   "execution_count": null,
   "id": "b4e98e48-5e19-4f3a-9e5b-470ef1d41166",
   "metadata": {},
   "outputs": [],
   "source": [
    "frequencies.head()"
   ]
  },
  {
   "cell_type": "code",
   "execution_count": null,
   "id": "356324e7-5380-4ed5-9251-93061790c300",
   "metadata": {},
   "outputs": [],
   "source": [
    "frequencies[\"frequency_error\"] = frequencies[\"observed_frequency\"] - frequencies[\"projected_frequency\"]"
   ]
  },
  {
   "cell_type": "code",
   "execution_count": null,
   "id": "0f810517-888f-4568-8c14-702c765621d8",
   "metadata": {},
   "outputs": [],
   "source": [
    "frequencies[\"abs_frequency_error\"] = np.abs(frequencies[\"frequency_error\"])"
   ]
  },
  {
   "cell_type": "code",
   "execution_count": null,
   "id": "dd33884b-96c6-47dc-bfa2-eb9ea177ede6",
   "metadata": {},
   "outputs": [],
   "source": [
    "frequencies.shape"
   ]
  },
  {
   "cell_type": "markdown",
   "id": "ff5fd5da-d108-45fd-a5fc-09b46ff2bb0e",
   "metadata": {},
   "source": [
    "## Annotate initial frequency without delay to all clades"
   ]
  },
  {
   "cell_type": "code",
   "execution_count": null,
   "id": "d1306570-793d-4b0b-a508-3078e05f81ea",
   "metadata": {},
   "outputs": [],
   "source": [
    "frequencies_without_delay = frequencies.loc[\n",
    "    frequencies[\"delay_type\"] == \"none\",\n",
    "    (\"clade_membership\", \"timepoint\", \"future_timepoint\", \"frequency\")\n",
    "].drop_duplicates()"
   ]
  },
  {
   "cell_type": "code",
   "execution_count": null,
   "id": "9379588f-cbe7-47f7-837b-48a5f6949b63",
   "metadata": {},
   "outputs": [],
   "source": [
    "frequencies_without_delay.shape"
   ]
  },
  {
   "cell_type": "code",
   "execution_count": null,
   "id": "7e479c83-e2c6-4b5d-98c4-98221737ff35",
   "metadata": {},
   "outputs": [],
   "source": [
    "frequencies_without_delay = frequencies_without_delay.rename(\n",
    "    columns={\"frequency\": \"frequency_without_delay\"},\n",
    ")"
   ]
  },
  {
   "cell_type": "code",
   "execution_count": null,
   "id": "76f9c46f-1df2-4b27-91e5-bb4123f58354",
   "metadata": {},
   "outputs": [],
   "source": [
    "frequencies_without_delay.head()"
   ]
  },
  {
   "cell_type": "code",
   "execution_count": null,
   "id": "5e1c3911-c95c-428d-b434-b0568ba9c9fb",
   "metadata": {},
   "outputs": [],
   "source": [
    "frequencies.shape"
   ]
  },
  {
   "cell_type": "code",
   "execution_count": null,
   "id": "55fd1d0d-7509-4f33-bf12-273af4c8c80a",
   "metadata": {},
   "outputs": [],
   "source": [
    "frequencies = frequencies.merge(\n",
    "    frequencies_without_delay,\n",
    "    how=\"left\",\n",
    "    on=[\"timepoint\", \"future_timepoint\", \"clade_membership\"],\n",
    ")"
   ]
  },
  {
   "cell_type": "code",
   "execution_count": null,
   "id": "c782036f-760f-4e0b-945d-7c48e53240a7",
   "metadata": {},
   "outputs": [],
   "source": [
    "pd.isnull(frequencies[\"frequency_without_delay\"]).sum()"
   ]
  },
  {
   "cell_type": "code",
   "execution_count": null,
   "id": "6c73be36-52d1-45a6-bb52-3a9b1c330f14",
   "metadata": {},
   "outputs": [],
   "source": [
    "frequencies[\"frequency_without_delay\"] = frequencies[\"frequency_without_delay\"].fillna(0)"
   ]
  },
  {
   "cell_type": "code",
   "execution_count": null,
   "id": "7aa27c79-8b2f-4caf-9406-f7d098a15391",
   "metadata": {},
   "outputs": [],
   "source": [
    "frequencies.head()"
   ]
  },
  {
   "cell_type": "code",
   "execution_count": null,
   "id": "e952d5e4-81eb-4164-80bf-1767a3f9e368",
   "metadata": {},
   "outputs": [],
   "source": [
    "frequencies.loc[:, [\"frequency_without_delay\", \"frequency\"]]"
   ]
  },
  {
   "cell_type": "code",
   "execution_count": null,
   "id": "b5a465aa",
   "metadata": {},
   "outputs": [],
   "source": [
    "frequencies[frequencies[\"frequency_without_delay\"] < 0.1]"
   ]
  },
  {
   "cell_type": "code",
   "execution_count": null,
   "id": "80fde0a0",
   "metadata": {},
   "outputs": [],
   "source": [
    "frequencies[\n",
    "    (frequencies[\"timepoint\"] == \"2011-04-01\") &\n",
    "    (frequencies[\"future_timepoint\"] == \"2011-07-01\") &\n",
    "    (frequencies[\"delay_type\"] == \"none\")\n",
    "]"
   ]
  },
  {
   "cell_type": "code",
   "execution_count": null,
   "id": "8f679ef4",
   "metadata": {},
   "outputs": [],
   "source": [
    "frequencies.shape"
   ]
  },
  {
   "cell_type": "code",
   "execution_count": null,
   "id": "14fe8b54",
   "metadata": {},
   "outputs": [],
   "source": [
    "(frequencies[\"frequency\"] >= 0.95).sum()"
   ]
  },
  {
   "cell_type": "code",
   "execution_count": null,
   "id": "6944b76a",
   "metadata": {},
   "outputs": [],
   "source": [
    "(frequencies[\"frequency\"] >= 0.01).sum()"
   ]
  },
  {
   "cell_type": "code",
   "execution_count": null,
   "id": "e138c8da",
   "metadata": {},
   "outputs": [],
   "source": [
    "(frequencies[\"frequency\"] >= 0.05).sum()"
   ]
  },
  {
   "cell_type": "code",
   "execution_count": null,
   "id": "cbc2ca4c",
   "metadata": {},
   "outputs": [],
   "source": [
    "(frequencies[\"frequency\"] >= 0.1).sum()"
   ]
  },
  {
   "cell_type": "code",
   "execution_count": null,
   "id": "2bb23eaa",
   "metadata": {},
   "outputs": [],
   "source": [
    "frequencies[\"frequency\"].max()"
   ]
  },
  {
   "cell_type": "code",
   "execution_count": null,
   "id": "34bc2f8d",
   "metadata": {},
   "outputs": [],
   "source": [
    "frequencies[\"frequency\"].min()"
   ]
  },
  {
   "cell_type": "code",
   "execution_count": null,
   "id": "d10747fe-79ff-46a9-a0af-5775b6d19ea7",
   "metadata": {},
   "outputs": [],
   "source": [
    "((frequencies[\"frequency\"] > 0.1) & (frequencies[\"frequency\"] < 0.95)).sum()"
   ]
  },
  {
   "cell_type": "code",
   "execution_count": null,
   "id": "b2c97218-3885-43ca-9743-d0cefdbf1ec2",
   "metadata": {},
   "outputs": [],
   "source": [
    "((frequencies[\"frequency_without_delay\"] > 0.1) & (frequencies[\"frequency_without_delay\"] < 0.95)).sum()"
   ]
  },
  {
   "cell_type": "code",
   "execution_count": null,
   "id": "c1f0643e-214a-4d94-b45e-f48ddba9905b",
   "metadata": {},
   "outputs": [],
   "source": [
    "((frequencies[\"frequency_without_delay\"] == 0) & (frequencies[\"observed_frequency\"] == 0)).sum()"
   ]
  },
  {
   "cell_type": "code",
   "execution_count": null,
   "id": "5109f38d-df09-4850-8aa7-80e90b968be2",
   "metadata": {},
   "outputs": [],
   "source": [
    "((frequencies[\"frequency\"] == 0) & (frequencies[\"observed_frequency\"] == 0)).sum()"
   ]
  },
  {
   "cell_type": "code",
   "execution_count": null,
   "id": "2af2d091-2a07-4903-a046-8bb80f787602",
   "metadata": {},
   "outputs": [],
   "source": [
    "distinct_large_clades_with_delay = set(frequencies.loc[\n",
    "    (frequencies[\"frequency\"] > 0.1) & (frequencies[\"frequency\"] < 0.95),\n",
    "    \"clade_membership\"\n",
    "].drop_duplicates().values)"
   ]
  },
  {
   "cell_type": "code",
   "execution_count": null,
   "id": "f883b307-3059-4c5d-9bdb-c55fd28498d2",
   "metadata": {},
   "outputs": [],
   "source": [
    "distinct_large_clades_without_delay = set(frequencies.loc[\n",
    "    (frequencies[\"frequency_without_delay\"] > 0.1) & (frequencies[\"frequency_without_delay\"] < 0.95),\n",
    "    \"clade_membership\"\n",
    "].drop_duplicates().values)"
   ]
  },
  {
   "cell_type": "code",
   "execution_count": null,
   "id": "81f91706-09bd-4ba9-be2b-dc1de464524f",
   "metadata": {},
   "outputs": [],
   "source": [
    "len(distinct_large_clades_with_delay)"
   ]
  },
  {
   "cell_type": "code",
   "execution_count": null,
   "id": "589ed229-1481-45e8-90b7-e376647327f5",
   "metadata": {},
   "outputs": [],
   "source": [
    "len(distinct_large_clades_without_delay)"
   ]
  },
  {
   "cell_type": "code",
   "execution_count": null,
   "id": "912fc45b-468b-480b-8ff9-bd7c9cedba01",
   "metadata": {},
   "outputs": [],
   "source": [
    "distinct_large_clades_with_delay - distinct_large_clades_without_delay"
   ]
  },
  {
   "cell_type": "code",
   "execution_count": null,
   "id": "1a97b46b-d7ec-4009-95bd-e6b1f051484c",
   "metadata": {},
   "outputs": [],
   "source": [
    "distinct_large_clades_without_delay - distinct_large_clades_with_delay"
   ]
  },
  {
   "cell_type": "code",
   "execution_count": null,
   "id": "e5be4373-c9e0-41d2-82b1-5fd1554fde0d",
   "metadata": {},
   "outputs": [],
   "source": [
    "frequencies[frequencies[\"clade_membership\"].isin(distinct_large_clades_with_delay - distinct_large_clades_without_delay)]"
   ]
  },
  {
   "cell_type": "markdown",
   "id": "6cb37b7c-d4bd-4a14-8429-32c95fb403c9",
   "metadata": {},
   "source": [
    "## Plot clade frequency errors by delay type and forecast horizon"
   ]
  },
  {
   "cell_type": "code",
   "execution_count": null,
   "id": "07c9d388-301d-4e91-9451-01f0d2d37d53",
   "metadata": {},
   "outputs": [],
   "source": [
    "fig, ax = plt.subplots(1, 1, figsize=(6, 4), dpi=200)\n",
    "\n",
    "sns.boxplot(\n",
    "    x=\"horizon\",\n",
    "    y=\"frequency_error\",\n",
    "    hue=\"delay_type\",\n",
    "    hue_order=delay_order,\n",
    "    data=frequencies,\n",
    "    color=\"#CCCCCC\",\n",
    "    fliersize=0.0,\n",
    "    ax=ax,\n",
    ")\n",
    "sns.stripplot(\n",
    "    x=\"horizon\",\n",
    "    y=\"frequency_error\",\n",
    "    hue=\"delay_type\",\n",
    "    data=frequencies,\n",
    "    hue_order=delay_order,\n",
    "    alpha=0.35,\n",
    "    ax=ax,\n",
    "    dodge=True,\n",
    ")\n",
    "\n",
    "ax.axhline(\n",
    "    y=0,\n",
    "    color=\"#000000\",\n",
    "    zorder=-10,\n",
    "    linewidth=1,\n",
    ")\n",
    "\n",
    "ax.text(\n",
    "    0.5,\n",
    "    0.95,\n",
    "    \"underestimated\",\n",
    "    horizontalalignment='center',\n",
    "    verticalalignment='center',\n",
    "    transform=ax.transAxes,\n",
    ")\n",
    "\n",
    "ax.text(\n",
    "    0.5,\n",
    "    0.05,\n",
    "    \"overestimated\",\n",
    "    horizontalalignment='center',\n",
    "    verticalalignment='center',\n",
    "    transform=ax.transAxes,\n",
    ")\n",
    "\n",
    "handles, labels = ax.get_legend_handles_labels()\n",
    "\n",
    "ax.legend(\n",
    "    handles=handles[3:],\n",
    "    labels=labels[3:],\n",
    "    loc=\"lower left\",\n",
    "    title=\"Delay type\",\n",
    "    frameon=False,\n",
    ")\n",
    "ax.set_xlabel(\"Forecast horizon (months)\")\n",
    "ax.set_ylabel(\"Clade frequency error (all clades)\")\n",
    "\n",
    "sns.despine()\n",
    "plt.tight_layout()"
   ]
  },
  {
   "cell_type": "code",
   "execution_count": null,
   "id": "79189095",
   "metadata": {},
   "outputs": [],
   "source": [
    "frequencies.groupby([\n",
    "    \"horizon\",\n",
    "    \"delay_type\"\n",
    "]).aggregate({\n",
    "    \"frequency_error\": [\"mean\", \"median\", \"std\"],\n",
    "})"
   ]
  },
  {
   "cell_type": "markdown",
   "id": "2b7d06dd-fab0-4673-af2a-593758560305",
   "metadata": {},
   "source": [
    "Plot clade frequency errors for larger clades only."
   ]
  },
  {
   "cell_type": "code",
   "execution_count": null,
   "id": "6a250b64",
   "metadata": {},
   "outputs": [],
   "source": [
    "large_frequency_lower_threshold"
   ]
  },
  {
   "cell_type": "code",
   "execution_count": null,
   "id": "d30c83b4",
   "metadata": {},
   "outputs": [],
   "source": [
    "large_frequency_upper_threshold"
   ]
  },
  {
   "cell_type": "code",
   "execution_count": null,
   "id": "5d870bca-5b10-482b-acc2-aac6523edbc3",
   "metadata": {},
   "outputs": [],
   "source": [
    "large_frequencies = frequencies.query(\n",
    "    f\"(frequency_without_delay >= {large_frequency_lower_threshold}) & (frequency_without_delay <= {large_frequency_upper_threshold})\"\n",
    ").copy()"
   ]
  },
  {
   "cell_type": "code",
   "execution_count": null,
   "id": "5f5a4b51-e0fd-4f68-88cf-227631492e4e",
   "metadata": {},
   "outputs": [],
   "source": [
    "large_frequencies[\"frequency_without_delay\"].describe()"
   ]
  },
  {
   "cell_type": "code",
   "execution_count": null,
   "id": "e1fd90bd-9c9a-44e8-b8a3-7b4d38cf0201",
   "metadata": {},
   "outputs": [],
   "source": [
    "large_frequencies.shape"
   ]
  },
  {
   "cell_type": "code",
   "execution_count": null,
   "id": "1344c417-33b8-449b-b8dc-ad22e5ca6546",
   "metadata": {},
   "outputs": [],
   "source": [
    "fig, ax = plt.subplots(1, 1, figsize=(7, 5), dpi=200)\n",
    "\n",
    "sns.boxplot(\n",
    "    x=\"horizon\",\n",
    "    y=\"frequency_error\",\n",
    "    hue=\"delay_type\",\n",
    "    hue_order=delay_order,\n",
    "    data=large_frequencies,\n",
    "    color=\"#CCCCCC\",\n",
    "    fliersize=0.0,\n",
    "    ax=ax,\n",
    ")\n",
    "sns.stripplot(\n",
    "    x=\"horizon\",\n",
    "    y=\"frequency_error\",\n",
    "    hue=\"delay_type\",\n",
    "    data=large_frequencies,\n",
    "    hue_order=delay_order,\n",
    "    alpha=0.35,\n",
    "    ax=ax,\n",
    "    dodge=True,\n",
    ")\n",
    "\n",
    "ax.axhline(\n",
    "    y=0,\n",
    "    color=\"#000000\",\n",
    "    zorder=-10,\n",
    "    linewidth=1,\n",
    ")\n",
    "\n",
    "ax.text(\n",
    "    0.5,\n",
    "    0.97,\n",
    "    \"underestimated\",\n",
    "    horizontalalignment='center',\n",
    "    verticalalignment='center',\n",
    "    transform=ax.transAxes,\n",
    ")\n",
    "\n",
    "ax.text(\n",
    "    0.5,\n",
    "    0.05,\n",
    "    \"overestimated\",\n",
    "    horizontalalignment='center',\n",
    "    verticalalignment='center',\n",
    "    transform=ax.transAxes,\n",
    ")\n",
    "\n",
    "handles, labels = ax.get_legend_handles_labels()\n",
    "\n",
    "ax.legend(\n",
    "    handles=handles[3:],\n",
    "    labels=labels[3:],\n",
    "    loc=\"lower left\",\n",
    "    title=\"Delay type\",\n",
    "    frameon=False,\n",
    ")\n",
    "ax.set_xlabel(\"Forecast horizon (months)\")\n",
    "ax.set_ylabel(r\"\"\"Clade frequency error\n",
    "({large_frequency_lower_threshold}% $\\leq$ initial frequency)\"\"\".format(\n",
    "    large_frequency_lower_threshold=int(large_frequency_lower_threshold * 100),\n",
    "))\n",
    "\n",
    "sns.despine()\n",
    "plt.tight_layout()\n",
    "\n",
    "plt.savefig(snakemake.output.forecast_frequency_errors_by_delay_and_horizon)"
   ]
  },
  {
   "cell_type": "code",
   "execution_count": null,
   "id": "dcd25228",
   "metadata": {},
   "outputs": [],
   "source": [
    "table_template_header = r\"\"\"\n",
    "\\begin{tabular*}{0.7\\textwidth}{rrrrr}\n",
    "\\toprule\n",
    "        &            & \\multicolumn{3}{c}{Clade frequency error} \\\\\n",
    "Horizon & Delay type & Mean & Median & Std Dev \\\\\n",
    "\\midrule\n",
    "\"\"\"\n",
    "\n",
    "absolute_table_template_header = r\"\"\"\n",
    "\\begin{tabular*}{0.7\\textwidth}{rrrrr}\n",
    "\\toprule\n",
    "        &            & \\multicolumn{3}{c}{Absolute clade frequency error} \\\\\n",
    "Horizon & Delay type & Mean & Median & Std Dev \\\\\n",
    "\\midrule\n",
    "\"\"\"\n",
    "\n",
    "total_absolute_table_template_header = r\"\"\"\n",
    "\\begin{tabular*}{0.7\\textwidth}{rrrrr}\n",
    "\\toprule\n",
    "        &            & \\multicolumn{3}{c}{Total absolute clade frequency error} \\\\\n",
    "Horizon & Delay type & Mean & Median & Std Dev \\\\\n",
    "\\midrule\n",
    "\"\"\"\n",
    "\n",
    "table_template_row = r\"{horizon} & {delay_type} & {mean:.2f} & {median:.2f} & {std:.2f} \\\\\"\n",
    "\n",
    "table_template_footer = r\"\"\"\n",
    "\\bottomrule\n",
    "\\end{tabular*}\n",
    "\"\"\""
   ]
  },
  {
   "cell_type": "code",
   "execution_count": null,
   "id": "2b326dbc-62e2-4882-8bb2-df6375378242",
   "metadata": {},
   "outputs": [],
   "source": [
    "large_frequencies_errors_summary = large_frequencies.groupby([\"horizon\", \"delay_type\"], sort=False).agg({\n",
    "    \"frequency_error\": [\"mean\", \"median\", \"std\"],\n",
    "}).round(2)"
   ]
  },
  {
   "cell_type": "code",
   "execution_count": null,
   "id": "cbe6bb93",
   "metadata": {},
   "outputs": [],
   "source": [
    "large_frequencies_errors_summary.columns = [\n",
    "    column[1]\n",
    "    for column in large_frequencies_errors_summary.columns\n",
    "]"
   ]
  },
  {
   "cell_type": "code",
   "execution_count": null,
   "id": "693d5038",
   "metadata": {},
   "outputs": [],
   "source": [
    "large_frequencies_errors_summary = large_frequencies_errors_summary.reset_index()"
   ]
  },
  {
   "cell_type": "code",
   "execution_count": null,
   "id": "b905dd96",
   "metadata": {},
   "outputs": [],
   "source": [
    "with open(snakemake.output.forecast_frequency_errors_summary_table, \"w\", encoding=\"utf-8\") as oh:\n",
    "    oh.write(table_template_header + \"\\n\")\n",
    "    \n",
    "    for record in large_frequencies_errors_summary.to_dict(orient=\"records\"):\n",
    "        oh.write(table_template_row.format(**record) + \"\\n\")\n",
    "    \n",
    "    oh.write(table_template_footer + \"\\n\")"
   ]
  },
  {
   "cell_type": "code",
   "execution_count": null,
   "id": "c0880e95-d769-4f2d-8983-907c81ff48df",
   "metadata": {},
   "outputs": [],
   "source": [
    "large_frequencies_errors_summary"
   ]
  },
  {
   "cell_type": "markdown",
   "id": "442defb6-ced4-451d-9e77-55c883e5865f",
   "metadata": {},
   "source": [
    "## Plot absolute clade frequency errors"
   ]
  },
  {
   "cell_type": "code",
   "execution_count": null,
   "id": "88c9b2c2-b930-4474-9bbf-58473e8efd9b",
   "metadata": {},
   "outputs": [],
   "source": [
    "fig, ax = plt.subplots(1, 1, figsize=(7, 5), dpi=200)\n",
    "\n",
    "sns.boxplot(\n",
    "    x=\"horizon\",\n",
    "    y=\"abs_frequency_error\",\n",
    "    hue=\"delay_type\",\n",
    "    hue_order=delay_order,\n",
    "    data=large_frequencies,\n",
    "    color=\"#CCCCCC\",\n",
    "    fliersize=0.0,\n",
    "    ax=ax,\n",
    ")\n",
    "sns.stripplot(\n",
    "    x=\"horizon\",\n",
    "    y=\"abs_frequency_error\",\n",
    "    hue=\"delay_type\",\n",
    "    data=large_frequencies,\n",
    "    hue_order=delay_order,\n",
    "    alpha=0.35,\n",
    "    ax=ax,\n",
    "    dodge=True,\n",
    ")\n",
    "\n",
    "ax.axhline(\n",
    "    y=0,\n",
    "    color=\"#000000\",\n",
    "    zorder=-10,\n",
    "    linewidth=1,\n",
    ")\n",
    "\n",
    "handles, labels = ax.get_legend_handles_labels()\n",
    "\n",
    "ax.legend(\n",
    "    handles=handles[3:],\n",
    "    labels=labels[3:],\n",
    "    loc=\"upper left\",\n",
    "    title=\"Delay type\",\n",
    "    frameon=False,\n",
    ")\n",
    "ax.set_xlabel(\"Forecast horizon (months)\")\n",
    "ax.set_ylabel(r\"\"\"Absolute clade frequency error\n",
    "({large_frequency_lower_threshold}% $\\leq$ initial frequency)\"\"\".format(\n",
    "    large_frequency_lower_threshold=int(large_frequency_lower_threshold * 100),\n",
    "))\n",
    "\n",
    "sns.despine()\n",
    "plt.tight_layout()\n",
    "\n",
    "plt.savefig(snakemake.output.absolute_forecast_frequency_errors_by_delay_and_horizon)"
   ]
  },
  {
   "cell_type": "code",
   "execution_count": null,
   "id": "fc45e6ea",
   "metadata": {},
   "outputs": [],
   "source": [
    "large_frequencies_abs_errors_summary = large_frequencies.groupby([\"horizon\", \"delay_type\"], sort=False).agg({\n",
    "    \"abs_frequency_error\": [\"mean\", \"median\", \"std\"],\n",
    "}).round(2)"
   ]
  },
  {
   "cell_type": "code",
   "execution_count": null,
   "id": "eb22045d",
   "metadata": {},
   "outputs": [],
   "source": [
    "large_frequencies_abs_errors_summary.columns = [\n",
    "    column[1]\n",
    "    for column in large_frequencies_abs_errors_summary.columns\n",
    "]"
   ]
  },
  {
   "cell_type": "code",
   "execution_count": null,
   "id": "f4686bc8",
   "metadata": {},
   "outputs": [],
   "source": [
    "large_frequencies_abs_errors_summary = large_frequencies_abs_errors_summary.reset_index()"
   ]
  },
  {
   "cell_type": "code",
   "execution_count": null,
   "id": "a6ce483f",
   "metadata": {},
   "outputs": [],
   "source": [
    "with open(snakemake.output.absolute_forecast_frequency_errors_summary_table, \"w\", encoding=\"utf-8\") as oh:\n",
    "    oh.write(absolute_table_template_header + \"\\n\")\n",
    "    \n",
    "    for record in large_frequencies_abs_errors_summary.to_dict(orient=\"records\"):\n",
    "        oh.write(table_template_row.format(**record) + \"\\n\")\n",
    "    \n",
    "    oh.write(table_template_footer + \"\\n\")"
   ]
  },
  {
   "cell_type": "code",
   "execution_count": null,
   "id": "8f3eeb2e",
   "metadata": {},
   "outputs": [],
   "source": [
    "large_frequencies_abs_errors_summary"
   ]
  },
  {
   "cell_type": "markdown",
   "id": "6b636036-da0c-4819-a97c-8b705313fb93",
   "metadata": {},
   "source": [
    "## Plot total absolute forecast errors\n",
    "\n",
    "Sum absolute forecast errors per future timepoint across all clades and plot by horizon and delay."
   ]
  },
  {
   "cell_type": "code",
   "execution_count": null,
   "id": "34d889eb",
   "metadata": {},
   "outputs": [],
   "source": [
    "large_frequencies"
   ]
  },
  {
   "cell_type": "code",
   "execution_count": null,
   "id": "bc23a85e",
   "metadata": {},
   "outputs": [],
   "source": [
    "total_absolute_forecast_errors = large_frequencies.groupby([\n",
    "    \"timepoint\",\n",
    "    \"future_timepoint\",\n",
    "    \"horizon\",\n",
    "    \"delay_type\",\n",
    "]).aggregate({\n",
    "    \"abs_frequency_error\": \"sum\",\n",
    "}).reset_index().rename(\n",
    "    columns={\n",
    "        \"abs_frequency_error\": \"total_absolute_forecast_error\",\n",
    "    }\n",
    ")"
   ]
  },
  {
   "cell_type": "code",
   "execution_count": null,
   "id": "c6285f25",
   "metadata": {},
   "outputs": [],
   "source": [
    "total_absolute_forecast_errors"
   ]
  },
  {
   "cell_type": "code",
   "execution_count": null,
   "id": "0cee1919",
   "metadata": {},
   "outputs": [],
   "source": [
    "fig, ax = plt.subplots(1, 1, figsize=(7, 5), dpi=200)\n",
    "\n",
    "sns.boxplot(\n",
    "    x=\"horizon\",\n",
    "    y=\"total_absolute_forecast_error\",\n",
    "    hue=\"delay_type\",\n",
    "    hue_order=delay_order,\n",
    "    data=total_absolute_forecast_errors,\n",
    "    color=\"#CCCCCC\",\n",
    "    fliersize=0.0,\n",
    "    ax=ax,\n",
    ")\n",
    "sns.stripplot(\n",
    "    x=\"horizon\",\n",
    "    y=\"total_absolute_forecast_error\",\n",
    "    hue=\"delay_type\",\n",
    "    data=total_absolute_forecast_errors,\n",
    "    hue_order=delay_order,\n",
    "    alpha=0.35,\n",
    "    ax=ax,\n",
    "    dodge=True,\n",
    ")\n",
    "\n",
    "ax.axhline(\n",
    "    y=0,\n",
    "    color=\"#000000\",\n",
    "    zorder=-10,\n",
    "    linewidth=1,\n",
    ")\n",
    "\n",
    "handles, labels = ax.get_legend_handles_labels()\n",
    "\n",
    "ax.legend(\n",
    "    handles=handles[3:],\n",
    "    labels=labels[3:],\n",
    "    loc=\"upper left\",\n",
    "    title=\"Delay type\",\n",
    "    frameon=False,\n",
    ")\n",
    "ax.set_xlabel(\"Forecast horizon (months)\")\n",
    "ax.set_ylabel(r\"\"\"Total absolute clade frequency error\n",
    "({large_frequency_lower_threshold}% $\\leq$ initial frequency)\"\"\".format(\n",
    "    large_frequency_lower_threshold=int(large_frequency_lower_threshold * 100),\n",
    "))\n",
    "\n",
    "sns.despine()\n",
    "plt.tight_layout()\n",
    "\n",
    "plt.savefig(snakemake.output.total_absolute_forecast_frequency_errors_by_delay_and_horizon)"
   ]
  },
  {
   "cell_type": "code",
   "execution_count": null,
   "id": "31aa667c",
   "metadata": {},
   "outputs": [],
   "source": [
    "large_frequencies_total_abs_errors_summary = total_absolute_forecast_errors.groupby(\n",
    "    [\"horizon\", \"delay_type\"],\n",
    "    sort=False,\n",
    ").agg({\n",
    "    \"total_absolute_forecast_error\": [\"mean\", \"median\", \"std\"],\n",
    "}).round(2)"
   ]
  },
  {
   "cell_type": "code",
   "execution_count": null,
   "id": "dc523fa9",
   "metadata": {},
   "outputs": [],
   "source": [
    "large_frequencies_total_abs_errors_summary.columns = [\n",
    "    column[1]\n",
    "    for column in large_frequencies_total_abs_errors_summary.columns\n",
    "]"
   ]
  },
  {
   "cell_type": "code",
   "execution_count": null,
   "id": "7c77613f",
   "metadata": {},
   "outputs": [],
   "source": [
    "large_frequencies_total_abs_errors_summary = large_frequencies_total_abs_errors_summary.reset_index()"
   ]
  },
  {
   "cell_type": "code",
   "execution_count": null,
   "id": "46fc7257",
   "metadata": {},
   "outputs": [],
   "source": [
    "with open(snakemake.output.total_absolute_forecast_frequency_errors_summary_table, \"w\", encoding=\"utf-8\") as oh:\n",
    "    oh.write(total_absolute_table_template_header + \"\\n\")\n",
    "    \n",
    "    for record in large_frequencies_total_abs_errors_summary.to_dict(orient=\"records\"):\n",
    "        oh.write(table_template_row.format(**record) + \"\\n\")\n",
    "    \n",
    "    oh.write(table_template_footer + \"\\n\")"
   ]
  },
  {
   "cell_type": "code",
   "execution_count": null,
   "id": "59167051",
   "metadata": {},
   "outputs": [],
   "source": [
    "large_frequencies_total_abs_errors_summary"
   ]
  },
  {
   "cell_type": "markdown",
   "id": "f1ee428f-51a6-47d4-b64b-a1ac384c2a89",
   "metadata": {},
   "source": [
    "## Plot effect of interventions on total absolute clade frequency error by timepoint and clade"
   ]
  },
  {
   "cell_type": "code",
   "execution_count": null,
   "id": "30b77abc",
   "metadata": {},
   "outputs": [],
   "source": [
    "total_absolute_forecast_errors.head()"
   ]
  },
  {
   "cell_type": "code",
   "execution_count": null,
   "id": "c9bfb8d5-70f4-4265-ab6f-cfb63a23d37d",
   "metadata": {},
   "outputs": [],
   "source": [
    "status_quo = total_absolute_forecast_errors.query(\n",
    "    f\"(horizon == 12) & (delay_type == '{realistic_delay_type}')\"\n",
    ").loc[\n",
    "    :,\n",
    "    (\"future_timepoint\", \"total_absolute_forecast_error\")\n",
    "].copy()"
   ]
  },
  {
   "cell_type": "code",
   "execution_count": null,
   "id": "156cd5f5-eea9-4d99-bc11-9085b07acedf",
   "metadata": {},
   "outputs": [],
   "source": [
    "status_quo[\"intervention\"] = \"status_quo\""
   ]
  },
  {
   "cell_type": "code",
   "execution_count": null,
   "id": "53272acf-dafc-4fbc-8b5e-d8bcd9bf37b6",
   "metadata": {},
   "outputs": [],
   "source": [
    "status_quo.head()"
   ]
  },
  {
   "cell_type": "code",
   "execution_count": null,
   "id": "4d16912c-1121-4952-8625-468b0cc155a6",
   "metadata": {},
   "outputs": [],
   "source": [
    "status_quo.shape"
   ]
  },
  {
   "cell_type": "code",
   "execution_count": null,
   "id": "030b01ac-dacd-4f4b-82b6-c03fa2d3e5e6",
   "metadata": {},
   "outputs": [],
   "source": [
    "improved_vaccine_dev = total_absolute_forecast_errors.query(\n",
    "    f\"(horizon == 6) & (delay_type == '{realistic_delay_type}')\"\n",
    ").loc[\n",
    "    :,\n",
    "    (\"future_timepoint\", \"total_absolute_forecast_error\")\n",
    "].copy()"
   ]
  },
  {
   "cell_type": "code",
   "execution_count": null,
   "id": "cd0eb170-4a54-4bc1-88cf-3402f0b3d91f",
   "metadata": {},
   "outputs": [],
   "source": [
    "improved_vaccine_dev[\"intervention\"] = \"improved_vaccine\""
   ]
  },
  {
   "cell_type": "code",
   "execution_count": null,
   "id": "a5fe0ae5-af5b-48cc-b477-fe99e93fc339",
   "metadata": {},
   "outputs": [],
   "source": [
    "improved_vaccine_dev.head()"
   ]
  },
  {
   "cell_type": "code",
   "execution_count": null,
   "id": "e57b95cb-d440-4b62-bf9e-6fc996e8056c",
   "metadata": {},
   "outputs": [],
   "source": [
    "improved_vaccine_dev.shape"
   ]
  },
  {
   "cell_type": "code",
   "execution_count": null,
   "id": "05704f1d-d68d-470e-bee4-85228afbdad9",
   "metadata": {},
   "outputs": [],
   "source": [
    "improved_surveillance = total_absolute_forecast_errors.query(\n",
    "    \"(horizon == 12) & (delay_type == 'ideal')\"\n",
    ").loc[\n",
    "    :,\n",
    "    (\"future_timepoint\", \"total_absolute_forecast_error\")\n",
    "].copy()"
   ]
  },
  {
   "cell_type": "code",
   "execution_count": null,
   "id": "72e26696-e641-4606-a2c9-4dc5c9a60bef",
   "metadata": {},
   "outputs": [],
   "source": [
    "improved_surveillance[\"intervention\"] = \"improved_surveillance\""
   ]
  },
  {
   "cell_type": "code",
   "execution_count": null,
   "id": "fca18ef0-dc6f-42dc-9312-00da47cdb26c",
   "metadata": {},
   "outputs": [],
   "source": [
    "improved_surveillance.head()"
   ]
  },
  {
   "cell_type": "code",
   "execution_count": null,
   "id": "9fac26fa",
   "metadata": {},
   "outputs": [],
   "source": [
    "improved_surveillance.shape"
   ]
  },
  {
   "cell_type": "code",
   "execution_count": null,
   "id": "790f9b43-6490-4b37-b56a-6662d0db27c9",
   "metadata": {},
   "outputs": [],
   "source": [
    "improved_vaccine_and_surveillance = total_absolute_forecast_errors.query(\n",
    "    \"(horizon == 6) & (delay_type == 'ideal')\"\n",
    ").loc[\n",
    "    :,\n",
    "    (\"future_timepoint\", \"total_absolute_forecast_error\")\n",
    "].copy()"
   ]
  },
  {
   "cell_type": "code",
   "execution_count": null,
   "id": "9d23b866-b510-4fbe-8669-7cf699c04621",
   "metadata": {},
   "outputs": [],
   "source": [
    "improved_vaccine_and_surveillance[\"intervention\"] = \"improved_vaccine_and_surveillance\""
   ]
  },
  {
   "cell_type": "code",
   "execution_count": null,
   "id": "cacdd30f-c75c-4ce9-bc6a-339f298934d3",
   "metadata": {},
   "outputs": [],
   "source": [
    "improved_vaccine_and_surveillance.head()"
   ]
  },
  {
   "cell_type": "code",
   "execution_count": null,
   "id": "6554da69",
   "metadata": {},
   "outputs": [],
   "source": [
    "improved_vaccine_and_surveillance.shape"
   ]
  },
  {
   "cell_type": "code",
   "execution_count": null,
   "id": "2acaf1c4-a11e-4952-9435-c4f2a9886d8a",
   "metadata": {},
   "outputs": [],
   "source": [
    "interventions = pd.concat([\n",
    "    status_quo,\n",
    "    improved_vaccine_dev,\n",
    "    improved_surveillance,\n",
    "    improved_vaccine_and_surveillance,\n",
    "])"
   ]
  },
  {
   "cell_type": "code",
   "execution_count": null,
   "id": "dc5b8371-cb04-4900-82cb-6f177e0c8477",
   "metadata": {},
   "outputs": [],
   "source": [
    "interventions.head()"
   ]
  },
  {
   "cell_type": "code",
   "execution_count": null,
   "id": "b3c76630",
   "metadata": {},
   "outputs": [],
   "source": [
    "interventions.pivot_table(\n",
    "    index=[\"future_timepoint\"],\n",
    "    columns=[\"intervention\"],\n",
    "    values=\"total_absolute_forecast_error\",\n",
    ")"
   ]
  },
  {
   "cell_type": "code",
   "execution_count": null,
   "id": "646989b1-c91b-4c24-8489-09d2c2df8006",
   "metadata": {},
   "outputs": [],
   "source": [
    "interventions_by_timepoint = interventions.pivot_table(\n",
    "    index=[\"future_timepoint\"],\n",
    "    columns=[\"intervention\"],\n",
    "    values=\"total_absolute_forecast_error\",\n",
    ").dropna()"
   ]
  },
  {
   "cell_type": "code",
   "execution_count": null,
   "id": "4d2f22a3-ba82-485f-8a80-6057ac8cc172",
   "metadata": {},
   "outputs": [],
   "source": [
    "interventions_by_timepoint"
   ]
  },
  {
   "cell_type": "code",
   "execution_count": null,
   "id": "c8d94ea8-800c-47c3-9d78-a9aad9a3fdde",
   "metadata": {},
   "outputs": [],
   "source": [
    "interventions_by_timepoint[\"status_quo_vs_improved_vaccine\"] = (\n",
    "    interventions_by_timepoint[\"status_quo\"] - interventions_by_timepoint[\"improved_vaccine\"]\n",
    ")"
   ]
  },
  {
   "cell_type": "code",
   "execution_count": null,
   "id": "d479235b-9430-4234-8ca5-18c7848a2b0a",
   "metadata": {},
   "outputs": [],
   "source": [
    "interventions_by_timepoint[\"status_quo_vs_improved_surveillance\"] = (\n",
    "    interventions_by_timepoint[\"status_quo\"] - interventions_by_timepoint[\"improved_surveillance\"]\n",
    ")"
   ]
  },
  {
   "cell_type": "code",
   "execution_count": null,
   "id": "997862aa-a5b5-4500-bc55-69f81c99f037",
   "metadata": {},
   "outputs": [],
   "source": [
    "interventions_by_timepoint[\"status_quo_vs_improved_vaccine_and_surveillance\"] = (\n",
    "    interventions_by_timepoint[\"status_quo\"] - interventions_by_timepoint[\"improved_vaccine_and_surveillance\"]\n",
    ")"
   ]
  },
  {
   "cell_type": "code",
   "execution_count": null,
   "id": "b6dd0281-dd45-4dae-b958-a87254fc95b0",
   "metadata": {},
   "outputs": [],
   "source": [
    "interventions_by_timepoint.reset_index()"
   ]
  },
  {
   "cell_type": "code",
   "execution_count": null,
   "id": "89b5fba2-6a47-47fb-9df0-7bda38502680",
   "metadata": {},
   "outputs": [],
   "source": [
    "differences_in_error_by_intervention = interventions_by_timepoint.reset_index().melt(\n",
    "    id_vars=[\n",
    "        \"future_timepoint\",\n",
    "    ],\n",
    "    value_vars=[\n",
    "        \"status_quo_vs_improved_vaccine\",\n",
    "        \"status_quo_vs_improved_surveillance\",\n",
    "        \"status_quo_vs_improved_vaccine_and_surveillance\",\n",
    "    ],\n",
    "    value_name=\"difference_in_total_absolute_forecast_error\",\n",
    ")"
   ]
  },
  {
   "cell_type": "code",
   "execution_count": null,
   "id": "c0876be0-0b81-44c4-81fa-2d922792cdd7",
   "metadata": {},
   "outputs": [],
   "source": [
    "differences_in_error_by_intervention.head()"
   ]
  },
  {
   "cell_type": "code",
   "execution_count": null,
   "id": "5d888008-8d07-475a-ad70-a60bf64eef3b",
   "metadata": {},
   "outputs": [],
   "source": [
    "differences_in_error_by_intervention[\"intervention_name\"] = differences_in_error_by_intervention[\"intervention\"].apply(\n",
    "    lambda intervention: \" \".join(intervention.replace(\"status_quo_vs_\", \"\").split(\"_\"))\n",
    ")"
   ]
  },
  {
   "cell_type": "code",
   "execution_count": null,
   "id": "2d086d2d-e440-4b8e-bc45-95c1078b1600",
   "metadata": {},
   "outputs": [],
   "source": [
    "differences_in_error_by_intervention.shape"
   ]
  },
  {
   "cell_type": "code",
   "execution_count": null,
   "id": "719c2473-26cf-401f-ad43-b655aeda4c5e",
   "metadata": {},
   "outputs": [],
   "source": [
    "intervention_order = [\n",
    "    \"improved vaccine\",\n",
    "    \"improved surveillance\",\n",
    "    \"improved vaccine and surveillance\",\n",
    "]"
   ]
  },
  {
   "cell_type": "code",
   "execution_count": null,
   "id": "508bdf5b-fac5-447d-b784-88bd40f0de28",
   "metadata": {},
   "outputs": [],
   "source": [
    "fig, ax = plt.subplots(1, 1, figsize=(10, 5), dpi=200)\n",
    "\n",
    "sns.boxplot(\n",
    "    x=\"intervention_name\",\n",
    "    y=\"difference_in_total_absolute_forecast_error\",\n",
    "    data=differences_in_error_by_intervention,\n",
    "    order=intervention_order,\n",
    "    color=\"#CCCCCC\",\n",
    "    fliersize=0.0,\n",
    "    ax=ax,\n",
    ")\n",
    "sns.stripplot(\n",
    "    x=\"intervention_name\",\n",
    "    y=\"difference_in_total_absolute_forecast_error\",\n",
    "    data=differences_in_error_by_intervention,\n",
    "    order=intervention_order,\n",
    "    color=\"#000000\",    \n",
    "    alpha=0.35,\n",
    "    ax=ax,\n",
    "    dodge=True,\n",
    ")\n",
    "\n",
    "ax.axhline(\n",
    "    y=0,\n",
    "    color=\"#000000\",\n",
    "    zorder=-10,\n",
    "    linewidth=1,\n",
    ")\n",
    "\n",
    "ax.set_xlabel(\"Intervention\")\n",
    "ax.set_ylabel(\"Difference in total absolute clade frequency\\nerror per timepoint (status quo - intervention)\")\n",
    "\n",
    "sns.despine()\n",
    "plt.tight_layout()\n",
    "\n",
    "plt.savefig(snakemake.output.effects_of_realistic_interventions)"
   ]
  },
  {
   "cell_type": "code",
   "execution_count": null,
   "id": "37223af6-a326-443c-a4b6-661af4a5652e",
   "metadata": {},
   "outputs": [],
   "source": [
    "differences_in_error_by_intervention[\"intervention_name\"].drop_duplicates()"
   ]
  },
  {
   "cell_type": "code",
   "execution_count": null,
   "id": "5d49b37f",
   "metadata": {},
   "outputs": [],
   "source": [
    "differences_in_error_by_intervention.to_csv(\n",
    "    snakemake.output.effects_of_realistic_interventions_source_table,\n",
    "    sep=\"\\t\",\n",
    "    index=False,\n",
    ")"
   ]
  },
  {
   "cell_type": "code",
   "execution_count": null,
   "id": "ddd34c23",
   "metadata": {},
   "outputs": [],
   "source": [
    "differences_in_error_by_intervention[\"intervention_improved_forecast\"] = (\n",
    "    differences_in_error_by_intervention[\"difference_in_total_absolute_forecast_error\"] > 0\n",
    ")"
   ]
  },
  {
   "cell_type": "code",
   "execution_count": null,
   "id": "6e747526",
   "metadata": {},
   "outputs": [],
   "source": [
    "differences_in_error_by_intervention.head()"
   ]
  },
  {
   "cell_type": "code",
   "execution_count": null,
   "id": "8066a0a2-475f-41a9-a79c-624ab4da6bb5",
   "metadata": {},
   "outputs": [],
   "source": [
    "intervention_summary = differences_in_error_by_intervention.groupby(\"intervention_name\", sort=False).agg({\n",
    "    \"difference_in_total_absolute_forecast_error\": [\"mean\", \"median\", \"std\"],\n",
    "    \"intervention_improved_forecast\": [\"sum\", \"count\"],\n",
    "}).round(2)"
   ]
  },
  {
   "cell_type": "code",
   "execution_count": null,
   "id": "b7435d1c",
   "metadata": {},
   "outputs": [],
   "source": [
    "intervention_summary"
   ]
  },
  {
   "cell_type": "code",
   "execution_count": null,
   "id": "6469095d",
   "metadata": {},
   "outputs": [],
   "source": [
    "intervention_summary.columns = [\n",
    "    column[1]\n",
    "    for column in intervention_summary.columns\n",
    "]"
   ]
  },
  {
   "cell_type": "code",
   "execution_count": null,
   "id": "7747f899",
   "metadata": {},
   "outputs": [],
   "source": [
    "intervention_summary = intervention_summary.reset_index()"
   ]
  },
  {
   "cell_type": "code",
   "execution_count": null,
   "id": "73d9389e",
   "metadata": {},
   "outputs": [],
   "source": [
    "intervention_summary[\"proportion_improved\"] = (intervention_summary[\"sum\"] / intervention_summary[\"count\"]).round(2)"
   ]
  },
  {
   "cell_type": "code",
   "execution_count": null,
   "id": "7153bfc4",
   "metadata": {},
   "outputs": [],
   "source": [
    "intervention_summary = intervention_summary.drop(\n",
    "    columns=[\"count\"],\n",
    ").rename(\n",
    "    columns={\"sum\": \"total_improved\"}\n",
    ")"
   ]
  },
  {
   "cell_type": "code",
   "execution_count": null,
   "id": "f09a85ae",
   "metadata": {},
   "outputs": [],
   "source": [
    "intervention_summary"
   ]
  },
  {
   "cell_type": "code",
   "execution_count": null,
   "id": "4847a378",
   "metadata": {},
   "outputs": [],
   "source": [
    "intervention_table_template_header = r\"\"\"\n",
    "\\begin{tabular*}{1.0\\textwidth}{rrrrrr}\n",
    "\\toprule\n",
    "             & \\multicolumn{3}{c}{Total absolute clade frequency error} & \\multicolumn{2}{c}{Forecasts improved} \\\\\n",
    "Intervention & Mean & Median & Std Dev & Total & Proportion \\\\\n",
    "\\midrule\n",
    "\"\"\"\n",
    "\n",
    "intervention_table_template_row = r\"{intervention_name} & {mean:.2f} & {median:.2f} & {std:.2f} & {total_improved} & {proportion_improved:.2f} \\\\\"\n",
    "\n",
    "intervention_table_template_footer = r\"\"\"\n",
    "\\bottomrule\n",
    "\\end{tabular*}\n",
    "\"\"\""
   ]
  },
  {
   "cell_type": "code",
   "execution_count": null,
   "id": "18f2f6d7",
   "metadata": {},
   "outputs": [],
   "source": [
    "with open(snakemake.output.effects_of_realistic_interventions_summary_table, \"w\", encoding=\"utf-8\") as oh:\n",
    "    oh.write(intervention_table_template_header + \"\\n\")\n",
    "    \n",
    "    for record in intervention_summary.to_dict(orient=\"records\"):\n",
    "        oh.write(intervention_table_template_row.format(**record) + \"\\n\")\n",
    "    \n",
    "    oh.write(intervention_table_template_footer + \"\\n\")"
   ]
  },
  {
   "cell_type": "markdown",
   "id": "965ec408",
   "metadata": {},
   "source": [
    "Plot frequency errors by initial frequency."
   ]
  },
  {
   "cell_type": "code",
   "execution_count": null,
   "id": "f3e14e62",
   "metadata": {},
   "outputs": [],
   "source": [
    "large_frequencies"
   ]
  },
  {
   "cell_type": "code",
   "execution_count": null,
   "id": "1f1fb7cb",
   "metadata": {
    "scrolled": false
   },
   "outputs": [],
   "source": [
    "sns.lmplot(\n",
    "    data=large_frequencies,\n",
    "    x=\"frequency\",\n",
    "    y=\"forecast_error\",\n",
    "    hue=\"delay_type\",\n",
    "    col=\"horizon\",\n",
    "    col_wrap=2,\n",
    ")"
   ]
  },
  {
   "cell_type": "code",
   "execution_count": null,
   "id": "1150c0da",
   "metadata": {},
   "outputs": [],
   "source": [
    "sns.lmplot(\n",
    "    data=large_frequencies,\n",
    "    x=\"frequency\",\n",
    "    y=\"absolute_forecast_error\",\n",
    "    hue=\"delay_type\",\n",
    "    col=\"horizon\",\n",
    "    col_wrap=2,\n",
    ")"
   ]
  },
  {
   "cell_type": "markdown",
   "id": "c12a1ba8",
   "metadata": {},
   "source": [
    "Calculate the error in the initial frequency per clade and timepoint. Then plot the forecast error as a function of the initial frequency error."
   ]
  },
  {
   "cell_type": "code",
   "execution_count": null,
   "id": "683304e2",
   "metadata": {},
   "outputs": [],
   "source": [
    "large_frequencies[\"initial_frequency_error\"] = (\n",
    "    large_frequencies[\"frequency_without_delay\"] - large_frequencies[\"frequency\"]\n",
    ")"
   ]
  },
  {
   "cell_type": "code",
   "execution_count": null,
   "id": "c3f56ec0",
   "metadata": {},
   "outputs": [],
   "source": [
    "large_frequencies"
   ]
  },
  {
   "cell_type": "code",
   "execution_count": null,
   "id": "62387498",
   "metadata": {},
   "outputs": [],
   "source": [
    "sns.lmplot(\n",
    "    data=large_frequencies.query(\"delay_type != 'none'\"),\n",
    "    x=\"initial_frequency_error\",\n",
    "    y=\"forecast_error\",\n",
    "    hue=\"delay_type\",\n",
    "    col=\"horizon\",\n",
    "    col_wrap=2,\n",
    ")"
   ]
  },
  {
   "cell_type": "code",
   "execution_count": null,
   "id": "fa3545c2",
   "metadata": {},
   "outputs": [],
   "source": []
  }
 ],
 "metadata": {
  "kernelspec": {
   "display_name": "Python 3 (ipykernel)",
   "language": "python",
   "name": "python3"
  },
  "language_info": {
   "codemirror_mode": {
    "name": "ipython",
    "version": 3
   },
   "file_extension": ".py",
   "mimetype": "text/x-python",
   "name": "python",
   "nbconvert_exporter": "python",
   "pygments_lexer": "ipython3",
   "version": "3.9.16"
  }
 },
 "nbformat": 4,
 "nbformat_minor": 5
}
