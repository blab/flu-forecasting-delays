{
 "cells": [
  {
   "cell_type": "markdown",
   "id": "cfbfd088",
   "metadata": {},
   "source": [
    "# Summarize delay between collection and submission dates"
   ]
  },
  {
   "cell_type": "markdown",
   "id": "96457c57",
   "metadata": {},
   "source": [
    "## Setup"
   ]
  },
  {
   "cell_type": "code",
   "execution_count": null,
   "id": "90465347",
   "metadata": {},
   "outputs": [],
   "source": [
    "from datetime import datetime, timedelta\n",
    "import matplotlib as mpl\n",
    "import matplotlib.dates as mdates\n",
    "import matplotlib.pyplot as plt\n",
    "import numpy as np\n",
    "import pandas as pd\n",
    "import seaborn as sns\n",
    "from scipy.stats import gamma, nbinom\n",
    "\n",
    "%matplotlib inline"
   ]
  },
  {
   "cell_type": "code",
   "execution_count": null,
   "id": "63088719",
   "metadata": {},
   "outputs": [],
   "source": [
    "import scipy\n",
    "scipy.__version__"
   ]
  },
  {
   "cell_type": "code",
   "execution_count": null,
   "id": "185d903c",
   "metadata": {},
   "outputs": [],
   "source": [
    "mpl.__version__"
   ]
  },
  {
   "cell_type": "code",
   "execution_count": null,
   "id": "14d6a4da",
   "metadata": {},
   "outputs": [],
   "source": [
    "random_seed = 314159"
   ]
  },
  {
   "cell_type": "code",
   "execution_count": null,
   "id": "2bd75b5a",
   "metadata": {},
   "outputs": [],
   "source": [
    "rng = np.random.default_rng(random_seed)"
   ]
  },
  {
   "cell_type": "code",
   "execution_count": null,
   "id": "537b6453",
   "metadata": {},
   "outputs": [],
   "source": [
    "sns.set_style(\"ticks\")"
   ]
  },
  {
   "cell_type": "code",
   "execution_count": null,
   "id": "51e599cd",
   "metadata": {},
   "outputs": [],
   "source": [
    "mpl.rcParams[\"axes.spines.top\"] = False\n",
    "mpl.rcParams[\"axes.spines.right\"] = False\n",
    "mpl.rcParams[\"savefig.dpi\"] = 300\n",
    "mpl.rcParams[\"figure.dpi\"] = 150\n",
    "mpl.rcParams[\"font.size\"] = 14\n",
    "mpl.rcParams[\"axes.labelsize\"] = 14\n",
    "mpl.rcParams[\"xtick.labelsize\"] = 14\n",
    "mpl.rcParams[\"ytick.labelsize\"] = 14\n",
    "mpl.rcParams[\"legend.fontsize\"] = 14\n",
    "mpl.rcParams[\"figure.facecolor\"] = \"white\""
   ]
  },
  {
   "cell_type": "code",
   "execution_count": null,
   "id": "4bd79cb6",
   "metadata": {},
   "outputs": [],
   "source": [
    "metadata_path = snakemake.input.metadata\n",
    "figure_path = snakemake.output.figure"
   ]
  },
  {
   "cell_type": "markdown",
   "id": "eacee4f5",
   "metadata": {},
   "source": [
    "## Prepare metadata"
   ]
  },
  {
   "cell_type": "code",
   "execution_count": null,
   "id": "8820c53d",
   "metadata": {},
   "outputs": [],
   "source": [
    "metadata = pd.read_csv(\n",
    "    metadata_path,\n",
    "    sep=\"\\t\",\n",
    "    parse_dates=[\n",
    "        \"date\",\n",
    "        \"submission_date\",\n",
    "        \"ideal_submission_date\",\n",
    "        \"realistic_submission_date\",\n",
    "    ],\n",
    ")"
   ]
  },
  {
   "cell_type": "code",
   "execution_count": null,
   "id": "9cda8f7d",
   "metadata": {},
   "outputs": [],
   "source": [
    "metadata.head()"
   ]
  },
  {
   "cell_type": "markdown",
   "id": "f4987c6d",
   "metadata": {},
   "source": [
    "## Calculate and plot delay between collection and submission"
   ]
  },
  {
   "cell_type": "code",
   "execution_count": null,
   "id": "b5417195",
   "metadata": {},
   "outputs": [],
   "source": [
    "metadata[\"submission_delay\"] = metadata[\"submission_date\"] - metadata[\"date\"]"
   ]
  },
  {
   "cell_type": "code",
   "execution_count": null,
   "id": "8f54e306",
   "metadata": {},
   "outputs": [],
   "source": [
    "metadata.head()"
   ]
  },
  {
   "cell_type": "code",
   "execution_count": null,
   "id": "e5b71dca",
   "metadata": {},
   "outputs": [],
   "source": [
    "metadata[\"submission_delay\"].describe()"
   ]
  },
  {
   "cell_type": "markdown",
   "id": "ab1ef88f",
   "metadata": {},
   "source": [
    "## Get the distribution of delays in the last complete year"
   ]
  },
  {
   "cell_type": "markdown",
   "id": "0055943c",
   "metadata": {},
   "source": [
    "Filter records to those from the last year. These should have more reasonable and consistent submission delays."
   ]
  },
  {
   "cell_type": "code",
   "execution_count": null,
   "id": "31f5ac91",
   "metadata": {},
   "outputs": [],
   "source": [
    "recent_metadata = metadata[\n",
    "    (metadata[\"date\"] >= \"2019-01-01\") &\n",
    "    (metadata[\"date\"] < \"2020-01-01\") &\n",
    "    (metadata[\"submission_date\"] < \"2020-10-01\")\n",
    "].copy()"
   ]
  },
  {
   "cell_type": "code",
   "execution_count": null,
   "id": "943f18b7",
   "metadata": {},
   "outputs": [],
   "source": [
    "metadata.shape"
   ]
  },
  {
   "cell_type": "code",
   "execution_count": null,
   "id": "798ba9e1",
   "metadata": {},
   "outputs": [],
   "source": [
    "recent_metadata.shape"
   ]
  },
  {
   "cell_type": "code",
   "execution_count": null,
   "id": "20940de4",
   "metadata": {},
   "outputs": [],
   "source": [
    "metadata.shape[0] - recent_metadata.shape[0]"
   ]
  },
  {
   "cell_type": "code",
   "execution_count": null,
   "id": "509bc5e5",
   "metadata": {},
   "outputs": [],
   "source": [
    "recent_metadata.shape[0] / metadata.shape[0]"
   ]
  },
  {
   "cell_type": "code",
   "execution_count": null,
   "id": "e3b20c81",
   "metadata": {},
   "outputs": [],
   "source": [
    "delay_in_days = recent_metadata[\"submission_delay\"].dt.days.values"
   ]
  },
  {
   "cell_type": "code",
   "execution_count": null,
   "id": "662f7e2d",
   "metadata": {},
   "outputs": [],
   "source": [
    "bins = np.linspace(\n",
    "    0,\n",
    "    delay_in_days.max(),\n",
    "    100\n",
    ")"
   ]
  },
  {
   "cell_type": "code",
   "execution_count": null,
   "id": "860b7d6e",
   "metadata": {},
   "outputs": [],
   "source": [
    "fig, ax = plt.subplots(1, 1, figsize=(8, 4))\n",
    "values, hist_bins, patches = ax.hist(delay_in_days, bins=bins)\n",
    "ax.set_xlabel(\"Delay between collection and submission (days)\")\n",
    "ax.set_ylabel(\"Number of strains\")"
   ]
  },
  {
   "cell_type": "code",
   "execution_count": null,
   "id": "416164bb",
   "metadata": {},
   "outputs": [],
   "source": [
    "np.median(delay_in_days)"
   ]
  },
  {
   "cell_type": "code",
   "execution_count": null,
   "id": "78eccffa",
   "metadata": {},
   "outputs": [],
   "source": [
    "delay_in_days.mean()"
   ]
  },
  {
   "cell_type": "code",
   "execution_count": null,
   "id": "fdab6475",
   "metadata": {},
   "outputs": [],
   "source": [
    "delay_in_days.min()"
   ]
  },
  {
   "cell_type": "code",
   "execution_count": null,
   "id": "89024e9e",
   "metadata": {},
   "outputs": [],
   "source": [
    "(delay_in_days <= 28).sum()"
   ]
  },
  {
   "cell_type": "code",
   "execution_count": null,
   "id": "13ff05f1",
   "metadata": {},
   "outputs": [],
   "source": [
    "delay_in_days.shape"
   ]
  },
  {
   "cell_type": "code",
   "execution_count": null,
   "id": "2cdcf96e",
   "metadata": {},
   "outputs": [],
   "source": [
    "(delay_in_days <= 28).sum() / delay_in_days.shape[0]"
   ]
  },
  {
   "cell_type": "code",
   "execution_count": null,
   "id": "7b862a82",
   "metadata": {},
   "outputs": [],
   "source": [
    "(delay_in_days <= 56).sum()"
   ]
  },
  {
   "cell_type": "code",
   "execution_count": null,
   "id": "14cb303e",
   "metadata": {},
   "outputs": [],
   "source": [
    "(delay_in_days <= 56).sum() / delay_in_days.shape[0]"
   ]
  },
  {
   "cell_type": "code",
   "execution_count": null,
   "id": "a8b2fc6c",
   "metadata": {},
   "outputs": [],
   "source": [
    "recent_metadata[recent_metadata[\"submission_delay\"].dt.days > 400][\"submitting_lab\"].value_counts()"
   ]
  },
  {
   "cell_type": "code",
   "execution_count": null,
   "id": "89d46fb7",
   "metadata": {},
   "outputs": [],
   "source": [
    "fig, ax = plt.subplots(1, 1, figsize=(8, 4))\n",
    "values, hist_bins, patches = ax.hist(delay_in_days, bins=bins, density=True)\n",
    "ax.set_xlabel(\"Delay between collection and submission (days)\")\n",
    "ax.set_ylabel(\"Density\")"
   ]
  },
  {
   "cell_type": "markdown",
   "id": "bf29574a",
   "metadata": {},
   "source": [
    "## Find a gamma distribution that matches the empirical distribution"
   ]
  },
  {
   "cell_type": "markdown",
   "id": "c7626151",
   "metadata": {},
   "source": [
    "Find gamma distribution parameters that best correspond to the observed delay in days for the last year using maximum likelihood estimation."
   ]
  },
  {
   "cell_type": "code",
   "execution_count": null,
   "id": "87a6b260",
   "metadata": {},
   "outputs": [],
   "source": [
    "shape, loc, scale = gamma.fit(delay_in_days)"
   ]
  },
  {
   "cell_type": "code",
   "execution_count": null,
   "id": "d661ca41",
   "metadata": {},
   "outputs": [],
   "source": [
    "shape"
   ]
  },
  {
   "cell_type": "code",
   "execution_count": null,
   "id": "5c8f2838",
   "metadata": {},
   "outputs": [],
   "source": [
    "loc"
   ]
  },
  {
   "cell_type": "code",
   "execution_count": null,
   "id": "288f608a",
   "metadata": {},
   "outputs": [],
   "source": [
    "scale"
   ]
  },
  {
   "cell_type": "code",
   "execution_count": null,
   "id": "68f5be87",
   "metadata": {},
   "outputs": [],
   "source": [
    "shape * scale"
   ]
  },
  {
   "cell_type": "markdown",
   "id": "f499ac5e",
   "metadata": {},
   "source": [
    "Generate and plot random values from the gamma distribution matching the MLE parameters from the empirical distribution."
   ]
  },
  {
   "cell_type": "code",
   "execution_count": null,
   "id": "2f8f7d0e",
   "metadata": {},
   "outputs": [],
   "source": [
    "gamma_data = gamma.rvs(\n",
    "    a=shape,\n",
    "    loc=loc,\n",
    "    scale=scale,\n",
    "    size=delay_in_days.shape[0],\n",
    "    random_state=random_seed,\n",
    ")"
   ]
  },
  {
   "cell_type": "code",
   "execution_count": null,
   "id": "b883211b",
   "metadata": {},
   "outputs": [],
   "source": [
    "fig, ax = plt.subplots(1, 1, figsize=(8, 4))\n",
    "values, hist_bins, patches = ax.hist(\n",
    "    delay_in_days,\n",
    "    bins=bins,\n",
    "    density=True,\n",
    "    alpha=0.5,\n",
    "    label=\"empirical distribution\",\n",
    "    color=\"C4\",\n",
    ")\n",
    "values, hist_bins, patches = ax.hist(\n",
    "    gamma_data,\n",
    "    bins=bins,\n",
    "    density=True,\n",
    "    alpha=0.5,\n",
    "    label=\"gamma distribution\",\n",
    "    color=\"C2\",\n",
    ")\n",
    "\n",
    "ax.set_xlabel(\"Delay in days\")\n",
    "ax.set_ylabel(\"Density\")\n",
    "ax.legend(\n",
    "    frameon=False\n",
    ")"
   ]
  },
  {
   "cell_type": "code",
   "execution_count": null,
   "id": "997420dc",
   "metadata": {},
   "outputs": [],
   "source": [
    "gamma_data.min()"
   ]
  },
  {
   "cell_type": "code",
   "execution_count": null,
   "id": "389c5bdb",
   "metadata": {},
   "outputs": [],
   "source": [
    "gamma_data.mean()"
   ]
  },
  {
   "cell_type": "code",
   "execution_count": null,
   "id": "e2d9759c",
   "metadata": {},
   "outputs": [],
   "source": [
    "delay_in_days.mean()"
   ]
  },
  {
   "cell_type": "code",
   "execution_count": null,
   "id": "17b48421",
   "metadata": {},
   "outputs": [],
   "source": [
    "shape"
   ]
  },
  {
   "cell_type": "code",
   "execution_count": null,
   "id": "6bb4ac52",
   "metadata": {},
   "outputs": [],
   "source": [
    "scale"
   ]
  },
  {
   "cell_type": "code",
   "execution_count": null,
   "id": "65aad4c7",
   "metadata": {},
   "outputs": [],
   "source": [
    "shape * scale"
   ]
  },
  {
   "cell_type": "code",
   "execution_count": null,
   "id": "3b8fc80a",
   "metadata": {},
   "outputs": [],
   "source": [
    "loc"
   ]
  },
  {
   "cell_type": "code",
   "execution_count": null,
   "id": "f26fce27",
   "metadata": {},
   "outputs": [],
   "source": [
    "ideal_scale = scale / 3.0"
   ]
  },
  {
   "cell_type": "code",
   "execution_count": null,
   "id": "d8c82d1e",
   "metadata": {},
   "outputs": [],
   "source": [
    "ideal_scale"
   ]
  },
  {
   "cell_type": "code",
   "execution_count": null,
   "id": "5f7e36b8",
   "metadata": {},
   "outputs": [],
   "source": [
    "shape * ideal_scale"
   ]
  },
  {
   "cell_type": "code",
   "execution_count": null,
   "id": "7d39c97f",
   "metadata": {},
   "outputs": [],
   "source": [
    "ideal_gamma_data = gamma.rvs(\n",
    "    a=shape,\n",
    "    loc=loc,\n",
    "    scale=ideal_scale,\n",
    "    size=delay_in_days.shape[0],\n",
    "    random_state=random_seed,\n",
    ")"
   ]
  },
  {
   "cell_type": "code",
   "execution_count": null,
   "id": "ac43c2f6",
   "metadata": {},
   "outputs": [],
   "source": [
    "fig, ax = plt.subplots(1, 1, figsize=(8, 4))\n",
    "values, hist_bins, patches = ax.hist(\n",
    "    delay_in_days,\n",
    "    bins=bins,\n",
    "    density=True,\n",
    "    color=\"C4\",\n",
    "    alpha=0.5,\n",
    "    label=\"empirical distribution\"\n",
    ")\n",
    "\n",
    "values, hist_bins, patches = ax.hist(\n",
    "    gamma_data,\n",
    "    bins=bins,\n",
    "    density=True,\n",
    "    color=\"C2\",\n",
    "    alpha=0.5,\n",
    "    label=\"gamma distribution\",\n",
    "    histtype=\"step\",\n",
    "    linewidth=2,\n",
    ")\n",
    "\n",
    "values, hist_bins, patches = ax.hist(\n",
    "    ideal_gamma_data,\n",
    "    bins=bins,\n",
    "    density=True,\n",
    "    color=\"C1\",\n",
    "    alpha=0.5,\n",
    "    label=\"ideal gamma distribution\",\n",
    "    histtype=\"step\",\n",
    "    linewidth=2,\n",
    ")\n",
    "\n",
    "ax.set_xlabel(\"Delay in days\")\n",
    "ax.set_ylabel(\"Density\")\n",
    "ax.legend(\n",
    "    frameon=False\n",
    ")"
   ]
  },
  {
   "cell_type": "code",
   "execution_count": null,
   "id": "854b2cd0",
   "metadata": {},
   "outputs": [],
   "source": [
    "ideal_gamma_data.min()"
   ]
  },
  {
   "cell_type": "code",
   "execution_count": null,
   "id": "2b2ecbf9",
   "metadata": {},
   "outputs": [],
   "source": [
    "ideal_shape = shape / 3.0"
   ]
  },
  {
   "cell_type": "code",
   "execution_count": null,
   "id": "813405fb",
   "metadata": {},
   "outputs": [],
   "source": [
    "ideal_shape"
   ]
  },
  {
   "cell_type": "code",
   "execution_count": null,
   "id": "fb1dced2",
   "metadata": {},
   "outputs": [],
   "source": [
    "ideal_shape * scale"
   ]
  },
  {
   "cell_type": "code",
   "execution_count": null,
   "id": "6e3474d4",
   "metadata": {},
   "outputs": [],
   "source": [
    "ideal_gamma_data_by_shape = gamma.rvs(\n",
    "    a=ideal_shape,\n",
    "    loc=loc,\n",
    "    scale=scale,\n",
    "    size=delay_in_days.shape[0],\n",
    "    random_state=random_seed,\n",
    ")"
   ]
  },
  {
   "cell_type": "code",
   "execution_count": null,
   "id": "9ce9e311",
   "metadata": {},
   "outputs": [],
   "source": [
    "fig, ax = plt.subplots(1, 1, figsize=(8, 4))\n",
    "values, hist_bins, patches = ax.hist(\n",
    "    delay_in_days,\n",
    "    bins=bins,\n",
    "    density=True,\n",
    "    color=\"C4\",\n",
    "    alpha=0.5,\n",
    "    label=\"empirical distribution\"\n",
    ")\n",
    "\n",
    "values, hist_bins, patches = ax.hist(\n",
    "    gamma_data,\n",
    "    bins=bins,\n",
    "    density=True,\n",
    "    color=\"C2\",\n",
    "    alpha=0.5,\n",
    "    label=\"gamma distribution\",\n",
    "    histtype=\"step\",\n",
    ")\n",
    "\n",
    "values, hist_bins, patches = ax.hist(\n",
    "    ideal_gamma_data,\n",
    "    bins=bins,\n",
    "    density=True,\n",
    "    color=\"C1\",\n",
    "    alpha=0.5,\n",
    "    label=\"ideal gamma distribution (scale)\",\n",
    "    histtype=\"step\",\n",
    ")\n",
    "\n",
    "values, hist_bins, patches = ax.hist(\n",
    "    ideal_gamma_data_by_shape,\n",
    "    bins=bins,\n",
    "    density=True,\n",
    "    color=\"C3\",\n",
    "    alpha=0.5,\n",
    "    label=\"ideal gamma distribution (shape)\",\n",
    "    histtype=\"step\",\n",
    ")\n",
    "\n",
    "\n",
    "ax.set_xlabel(\"Delay in days\")\n",
    "ax.set_ylabel(\"Density\")\n",
    "ax.legend(\n",
    "    frameon=False\n",
    ")"
   ]
  },
  {
   "cell_type": "code",
   "execution_count": null,
   "id": "41f1108d",
   "metadata": {},
   "outputs": [],
   "source": [
    "ideal_gamma_data_by_shape.min()"
   ]
  },
  {
   "cell_type": "code",
   "execution_count": null,
   "id": "126e50fe",
   "metadata": {},
   "outputs": [],
   "source": [
    "(ideal_gamma_data < 31).sum() / ideal_gamma_data.shape[0]"
   ]
  },
  {
   "cell_type": "code",
   "execution_count": null,
   "id": "acab67d3",
   "metadata": {},
   "outputs": [],
   "source": [
    "(ideal_gamma_data < 62).sum() / ideal_gamma_data.shape[0]"
   ]
  },
  {
   "cell_type": "code",
   "execution_count": null,
   "id": "4a66365c",
   "metadata": {},
   "outputs": [],
   "source": [
    "(ideal_gamma_data_by_shape < 31).sum() / ideal_gamma_data_by_shape.shape[0]"
   ]
  },
  {
   "cell_type": "code",
   "execution_count": null,
   "id": "3cbc4cd2",
   "metadata": {},
   "outputs": [],
   "source": [
    "(ideal_gamma_data_by_shape < 62).sum() / ideal_gamma_data_by_shape.shape[0]"
   ]
  },
  {
   "cell_type": "code",
   "execution_count": null,
   "id": "0a38c05e",
   "metadata": {},
   "outputs": [],
   "source": [
    "ideal_gamma_data.mean()"
   ]
  },
  {
   "cell_type": "code",
   "execution_count": null,
   "id": "cf732c86",
   "metadata": {},
   "outputs": [],
   "source": [
    "ideal_gamma_data_by_shape.mean()"
   ]
  },
  {
   "cell_type": "code",
   "execution_count": null,
   "id": "e7bd57bd",
   "metadata": {},
   "outputs": [],
   "source": [
    "fig, (ax_horizons, ax_submissions) = plt.subplots(2, 1, figsize=(8, 7))\n",
    "\n",
    "# Panel A: Forecast horizons\n",
    "\n",
    "initial_dates = [\n",
    "    \"2023-04-01\",\n",
    "    \"2023-07-01\",\n",
    "    \"2023-10-01\",\n",
    "    \"2024-01-01\",\n",
    "    \"2024-01-01\",\n",
    "    \"2024-01-01\",\n",
    "]\n",
    "initial_dates = [\n",
    "    datetime.strptime(date, \"%Y-%m-%d\")\n",
    "    for date in initial_dates\n",
    "]\n",
    "heights = list(range(len(initial_dates), 0, -1))\n",
    "final_date = datetime.strptime(\"2024-04-01\", \"%Y-%m-%d\")\n",
    "\n",
    "horizon_labels = [\n",
    "    \"12 months\",\n",
    "    \"9 months\",\n",
    "    \"6 months\",\n",
    "    \"3 months\",\n",
    "    \"\",\n",
    "    \"\",\n",
    "]\n",
    "\n",
    "colors = [\"C0\", \"C0\", \"C0\", \"C0\", \"C1\", \"C2\"]\n",
    "\n",
    "ax_horizons.scatter(\n",
    "    initial_dates,\n",
    "    heights,\n",
    "    color=colors,\n",
    "    edgecolors=\"#000000\",\n",
    "    s=70,\n",
    ")\n",
    "\n",
    "for initial_date, height, horizon_label in zip(initial_dates, heights, horizon_labels):\n",
    "    # Draw arrows from initial to final timepoints.\n",
    "    ax_horizons.annotate(\n",
    "        \"\",\n",
    "        xy=(final_date, height),\n",
    "        xycoords='data',\n",
    "        xytext=(initial_date, height),\n",
    "        textcoords='data',\n",
    "        arrowprops=dict(facecolor='black', width=3,),\n",
    "        horizontalalignment='right',\n",
    "        verticalalignment='center',\n",
    "        color=\"#000000\",\n",
    "        fontsize=12,\n",
    "        zorder=-10,\n",
    "    )\n",
    "    \n",
    "    ax_horizons.annotate(\n",
    "        horizon_label,\n",
    "        xy=(final_date + timedelta(weeks=1), height),\n",
    "        horizontalalignment='left',\n",
    "        verticalalignment='center',\n",
    "    )\n",
    "\n",
    "ax_horizons.axvline(\n",
    "    x=final_date,\n",
    "    color=\"#000000\",\n",
    "    ymax=0.9,\n",
    "    ymin=0.01,\n",
    ")\n",
    "\n",
    "ax_horizons.annotate(\n",
    "    \"initial timepoint\",\n",
    "    xy=(initial_dates[0], heights[0] + 1),\n",
    "    horizontalalignment='center',\n",
    "    verticalalignment='center',\n",
    ")\n",
    "\n",
    "ax_horizons.annotate(\n",
    "    \"final timepoint\",\n",
    "    xy=(final_date, heights[0] + 1),\n",
    "    horizontalalignment='center',\n",
    "    verticalalignment='center',\n",
    ")\n",
    "\n",
    "ax_horizons.yaxis.set_visible(False)\n",
    "ax_horizons.spines[[\"left\", \"top\", \"right\", \"bottom\"]].set_visible(False)\n",
    "\n",
    "ax_horizons.xaxis.set_ticks(sorted(set(initial_dates) | set([final_date])))\n",
    "ax_horizons.xaxis.set_major_formatter(mdates.DateFormatter(\"%b %Y\"))\n",
    "\n",
    "ax_horizons.set_xlim(right=final_date + timedelta(weeks=4))\n",
    "ax_horizons.set_ylim(top=heights[0] + 1)\n",
    "\n",
    "ax_horizons.set_xlabel(\"Date\")\n",
    "\n",
    "# Panel B: Submission delay distributions.\n",
    "\n",
    "values, hist_bins, patches = ax_submissions.hist(\n",
    "    delay_in_days,\n",
    "    bins=bins,\n",
    "    density=True,\n",
    "    color=\"C4\",\n",
    "    alpha=0.75,\n",
    "    label=\"observed delay (3-month average)\",\n",
    ")\n",
    "\n",
    "values, hist_bins, patches = ax_submissions.hist(\n",
    "    gamma_data,\n",
    "    bins=bins,\n",
    "    density=True,\n",
    "    color=\"C2\",\n",
    "    alpha=0.75,\n",
    "    label=\"realistic delay (3-month average)\",\n",
    "    histtype=\"step\",\n",
    "    linewidth=2,\n",
    ")\n",
    "\n",
    "values, hist_bins, patches = ax_submissions.hist(\n",
    "    ideal_gamma_data,\n",
    "    bins=bins,\n",
    "    density=True,\n",
    "    color=\"C1\",\n",
    "    alpha=0.75,\n",
    "    label=\"ideal delay (1-month average)\",\n",
    "    histtype=\"step\",\n",
    "    linewidth=2,\n",
    ")\n",
    "\n",
    "ax_submissions.axvline(\n",
    "    x=0,\n",
    "    color=\"C0\",\n",
    "    label=\"no delay\"\n",
    ")\n",
    "\n",
    "ax_submissions.set_xlabel(\"Delay between sample collection and submission (days)\")\n",
    "ax_submissions.set_ylabel(\"Density\")\n",
    "ax_submissions.legend(\n",
    "    frameon=False\n",
    ")\n",
    "\n",
    "ax_submissions.set_xlim(right=365)\n",
    "\n",
    "panel_labels_dict = {\n",
    "    \"weight\": \"bold\",\n",
    "    \"size\": 14,\n",
    "}\n",
    "plt.figtext(0.01, 0.97, \"A\", **panel_labels_dict)\n",
    "plt.figtext(0.01, 0.47, \"B\", **panel_labels_dict)\n",
    "\n",
    "plt.tight_layout(h_pad=1.25)\n",
    "plt.savefig(figure_path)"
   ]
  },
  {
   "cell_type": "markdown",
   "id": "2331847f",
   "metadata": {},
   "source": [
    "## Plot observed distribution of delays since the pandemic"
   ]
  },
  {
   "cell_type": "code",
   "execution_count": null,
   "id": "b8f182d4",
   "metadata": {},
   "outputs": [],
   "source": [
    "pandemic_metadata = metadata[\n",
    "    (metadata[\"date\"] >= \"2022-01-01\") &\n",
    "    (metadata[\"date\"] < \"2023-01-01\")\n",
    "].copy()"
   ]
  },
  {
   "cell_type": "code",
   "execution_count": null,
   "id": "1e0e6e44",
   "metadata": {},
   "outputs": [],
   "source": [
    "pandemic_delay_in_days = pandemic_metadata[\"submission_delay\"].dt.days.values"
   ]
  },
  {
   "cell_type": "code",
   "execution_count": null,
   "id": "4cac37d8",
   "metadata": {},
   "outputs": [],
   "source": [
    "pandemic_bins = np.linspace(\n",
    "    0,\n",
    "    pandemic_delay_in_days.max(),\n",
    "    100\n",
    ")"
   ]
  },
  {
   "cell_type": "code",
   "execution_count": null,
   "id": "dded5988",
   "metadata": {},
   "outputs": [],
   "source": [
    "fig, ax = plt.subplots(1, 1, figsize=(8, 4))\n",
    "\n",
    "values, hist_bins, patches = ax.hist(\n",
    "    delay_in_days,\n",
    "    bins=bins,\n",
    "    label=\"Pre-pandemic era\",\n",
    "    alpha=0.5,\n",
    "    color=\"C4\",\n",
    ")\n",
    "\n",
    "values, hist_bins, patches = ax.hist(\n",
    "    pandemic_delay_in_days,\n",
    "    bins=pandemic_bins,\n",
    "    label=\"Pandemic era\",\n",
    "    alpha=0.5,\n",
    "    color=\"C9\",\n",
    "    zorder=-10,\n",
    ")\n",
    "\n",
    "ax.set_xlabel(\"Delay between collection and submission (days)\")\n",
    "ax.set_ylabel(\"Number of strains\")\n",
    "\n",
    "ax.axvline(x=delay_in_days.mean(), linestyle=\"dashed\", color=\"C4\")\n",
    "ax.axvline(x=pandemic_delay_in_days.mean(), linestyle=\"dashed\", color=\"C9\")\n",
    "\n",
    "ax.legend(frameon=False)\n",
    "\n",
    "ax.text(\n",
    "    x=0.5,\n",
    "    y=0.7,\n",
    "    s=f\"Mean pre-pandemic delay: {delay_in_days.mean():.0f} days\",\n",
    "    transform=ax.transAxes,\n",
    ")\n",
    "\n",
    "ax.text(\n",
    "    x=0.5,\n",
    "    y=0.6,\n",
    "    s=f\"Mean pandemic delay: {pandemic_delay_in_days.mean():.0f} days\",\n",
    "    transform=ax.transAxes,\n",
    ")\n",
    "\n",
    "plt.tight_layout()\n",
    "plt.savefig(snakemake.output.pre_vs_post_pandemic_era)"
   ]
  },
  {
   "cell_type": "code",
   "execution_count": null,
   "id": "651ae70e",
   "metadata": {},
   "outputs": [],
   "source": [
    "delay_in_days.mean()"
   ]
  },
  {
   "cell_type": "code",
   "execution_count": null,
   "id": "e46f390e",
   "metadata": {},
   "outputs": [],
   "source": [
    "pandemic_delay_in_days.mean()"
   ]
  },
  {
   "cell_type": "code",
   "execution_count": null,
   "id": "1ce34130",
   "metadata": {},
   "outputs": [],
   "source": [
    "np.median(delay_in_days)"
   ]
  },
  {
   "cell_type": "code",
   "execution_count": null,
   "id": "4adbf1b1",
   "metadata": {},
   "outputs": [],
   "source": [
    "np.median(pandemic_delay_in_days)"
   ]
  },
  {
   "cell_type": "code",
   "execution_count": null,
   "id": "493556ac",
   "metadata": {},
   "outputs": [],
   "source": [
    "pandemic_delay_in_days.shape"
   ]
  },
  {
   "cell_type": "code",
   "execution_count": null,
   "id": "bca3ee1a",
   "metadata": {},
   "outputs": [],
   "source": [
    "delay_in_days.shape"
   ]
  },
  {
   "cell_type": "code",
   "execution_count": null,
   "id": "83cef989",
   "metadata": {},
   "outputs": [],
   "source": []
  }
 ],
 "metadata": {
  "kernelspec": {
   "display_name": "Python 3 (ipykernel)",
   "language": "python",
   "name": "python3"
  },
  "language_info": {
   "codemirror_mode": {
    "name": "ipython",
    "version": 3
   },
   "file_extension": ".py",
   "mimetype": "text/x-python",
   "name": "python",
   "nbconvert_exporter": "python",
   "pygments_lexer": "ipython3",
   "version": "3.9.16"
  }
 },
 "nbformat": 4,
 "nbformat_minor": 5
}
