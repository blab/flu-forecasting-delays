{
 "cells": [
  {
   "cell_type": "markdown",
   "id": "b3cb212a-3426-44a2-a08f-e731473ed305",
   "metadata": {},
   "source": [
    "# Plot frequency errors by delay type for natural A/H3N2 or simulated A/H3N2-like populations "
   ]
  },
  {
   "cell_type": "code",
   "execution_count": null,
   "id": "7eb48dc7-7119-4e13-9865-ac2e31da1ac9",
   "metadata": {},
   "outputs": [],
   "source": [
    "import matplotlib.pyplot as plt\n",
    "from matplotlib.gridspec import GridSpec\n",
    "import numpy as np\n",
    "import pandas as pd\n",
    "import seaborn as sns"
   ]
  },
  {
   "cell_type": "code",
   "execution_count": null,
   "id": "9c66adf7-b7bf-4721-a348-79d5294f03ef",
   "metadata": {},
   "outputs": [],
   "source": [
    "sns.set_style(\"ticks\")"
   ]
  },
  {
   "cell_type": "code",
   "execution_count": null,
   "id": "056db1d4",
   "metadata": {},
   "outputs": [],
   "source": [
    "small_frequency_threshold = snakemake.params.small_frequency_threshold"
   ]
  },
  {
   "cell_type": "code",
   "execution_count": null,
   "id": "90fe5be8-a634-4005-b675-b109913f88e6",
   "metadata": {},
   "outputs": [],
   "source": [
    "large_frequency_threshold = snakemake.params.large_frequency_threshold"
   ]
  },
  {
   "cell_type": "code",
   "execution_count": null,
   "id": "a68b9e25",
   "metadata": {},
   "outputs": [],
   "source": [
    "realistic_delay_type = snakemake.params.realistic_delay_type"
   ]
  },
  {
   "cell_type": "markdown",
   "id": "96d586db-2806-4ba4-8242-74dc69642d3f",
   "metadata": {},
   "source": [
    "## Compare clade frequencies\n",
    "\n",
    "Compare the frequencies of clades present at non-zero frequency in the \"no delay\" analysis compared to frequencies of the same clades with \"ideal\" and \"observed\" or \"realistic\" delays."
   ]
  },
  {
   "cell_type": "code",
   "execution_count": null,
   "id": "c8abef56-792c-403b-810f-29d12e9ded4b",
   "metadata": {},
   "outputs": [],
   "source": [
    "all_clade_frequencies = pd.read_csv(\n",
    "    snakemake.input.tip_attributes,\n",
    "    sep=\"\\t\",\n",
    "    parse_dates=[\"timepoint\"],\n",
    "    usecols=[\"delay_type\", \"timepoint\", \"clade_membership\", \"frequency\", \"delta_month\"],\n",
    ")"
   ]
  },
  {
   "cell_type": "markdown",
   "id": "2b3ff516",
   "metadata": {},
   "source": [
    "Select only records for a single forecast horizon (delta month), since we want to analyze differences between initial frequencies of clades at each timepoint based on their delay scenario."
   ]
  },
  {
   "cell_type": "code",
   "execution_count": null,
   "id": "24cd4680",
   "metadata": {},
   "outputs": [],
   "source": [
    "clades = all_clade_frequencies[\n",
    "    all_clade_frequencies[\"delta_month\"] == 12\n",
    "].drop(columns=[\"delta_month\"]).reset_index(drop=True)"
   ]
  },
  {
   "cell_type": "code",
   "execution_count": null,
   "id": "b4e98e48-5e19-4f3a-9e5b-470ef1d41166",
   "metadata": {},
   "outputs": [],
   "source": [
    "clades.head()"
   ]
  },
  {
   "cell_type": "code",
   "execution_count": null,
   "id": "c6d0e8b1-641f-44af-bf3e-11057d792d46",
   "metadata": {},
   "outputs": [],
   "source": [
    "clades[\"delay_type\"].value_counts()"
   ]
  },
  {
   "cell_type": "code",
   "execution_count": null,
   "id": "99ca623f",
   "metadata": {},
   "outputs": [],
   "source": [
    "no_delay_clades = clades.query(\"delay_type == 'none'\").copy()"
   ]
  },
  {
   "cell_type": "code",
   "execution_count": null,
   "id": "4ec75ed2",
   "metadata": {},
   "outputs": [],
   "source": [
    "no_delay_clades.shape"
   ]
  },
  {
   "cell_type": "code",
   "execution_count": null,
   "id": "4728902e",
   "metadata": {},
   "outputs": [],
   "source": [
    "(no_delay_clades[\"frequency\"] < small_frequency_threshold).sum()"
   ]
  },
  {
   "cell_type": "code",
   "execution_count": null,
   "id": "6bab1b63",
   "metadata": {},
   "outputs": [],
   "source": [
    "((no_delay_clades[\"frequency\"] >= small_frequency_threshold) &\n",
    " (no_delay_clades[\"frequency\"] < large_frequency_threshold)).sum()"
   ]
  },
  {
   "cell_type": "code",
   "execution_count": null,
   "id": "0ccc05b8",
   "metadata": {},
   "outputs": [],
   "source": [
    "(no_delay_clades[\"frequency\"] >= large_frequency_threshold).sum()"
   ]
  },
  {
   "cell_type": "code",
   "execution_count": null,
   "id": "aee9ec45-c0ad-4ed7-a638-7e63c4ea0c6a",
   "metadata": {},
   "outputs": [],
   "source": [
    "clades_by_delay = pd.pivot(\n",
    "    clades,\n",
    "    values=[\"frequency\"],\n",
    "    index=[\"timepoint\", \"clade_membership\"],\n",
    "    columns=[\"delay_type\"],\n",
    ").fillna(0).reset_index()"
   ]
  },
  {
   "cell_type": "code",
   "execution_count": null,
   "id": "3097d7ed-2eec-4f72-80e9-c2c39eb7fecc",
   "metadata": {},
   "outputs": [],
   "source": [
    "clades_by_delay.head()"
   ]
  },
  {
   "cell_type": "code",
   "execution_count": null,
   "id": "19e6481d-b46d-4ae6-a224-dbb8d7d0ca07",
   "metadata": {},
   "outputs": [],
   "source": [
    "clades_by_delay.columns = [\n",
    "    \"_\".join([value for value in column if value])\n",
    "    for column in clades_by_delay.columns\n",
    "]"
   ]
  },
  {
   "cell_type": "code",
   "execution_count": null,
   "id": "2729e6c6-94ff-4164-b3ac-7b69d30ea995",
   "metadata": {},
   "outputs": [],
   "source": [
    "clades_by_delay.head()"
   ]
  },
  {
   "cell_type": "code",
   "execution_count": null,
   "id": "d868e1b1-7492-4bd4-9eae-e5b287e62ad9",
   "metadata": {},
   "outputs": [],
   "source": [
    "clades_by_delay.groupby(\"timepoint\").agg({\n",
    "    \"frequency_none\": \"sum\",\n",
    "    \"frequency_ideal\": \"sum\",\n",
    "    f\"frequency_{realistic_delay_type}\": \"sum\",\n",
    "})"
   ]
  },
  {
   "cell_type": "code",
   "execution_count": null,
   "id": "5368fbaa-61be-43ea-a109-e9508abe274a",
   "metadata": {},
   "outputs": [],
   "source": [
    "clades_by_delay.shape"
   ]
  },
  {
   "cell_type": "code",
   "execution_count": null,
   "id": "60e6963d-511d-4022-9de2-478b15ad79f2",
   "metadata": {},
   "outputs": [],
   "source": [
    "total_clades_no_delay = sum(clades_by_delay[\"frequency_none\"] > 0)"
   ]
  },
  {
   "cell_type": "code",
   "execution_count": null,
   "id": "d92e7269-d657-484c-9ddb-b32d6859f681",
   "metadata": {},
   "outputs": [],
   "source": [
    "total_clades_no_delay"
   ]
  },
  {
   "cell_type": "code",
   "execution_count": null,
   "id": "79fb2e67-8763-4de1-8796-628aaf65524b",
   "metadata": {},
   "outputs": [],
   "source": [
    "total_clades_ideal_delay = sum(clades_by_delay[\"frequency_ideal\"] > 0)"
   ]
  },
  {
   "cell_type": "code",
   "execution_count": null,
   "id": "36e9bfcd-cab9-4ebc-b664-bc416cfedbd0",
   "metadata": {},
   "outputs": [],
   "source": [
    "total_clades_ideal_delay"
   ]
  },
  {
   "cell_type": "code",
   "execution_count": null,
   "id": "3bc15b25-9f79-4b1c-9e95-4c39a373adad",
   "metadata": {},
   "outputs": [],
   "source": [
    "total_clades_ideal_delay / total_clades_no_delay"
   ]
  },
  {
   "cell_type": "code",
   "execution_count": null,
   "id": "b89ec963-a5ec-40c8-8c68-fe282adc492e",
   "metadata": {},
   "outputs": [],
   "source": [
    "total_clades_realistic_delay = sum(clades_by_delay[f\"frequency_{realistic_delay_type}\"] > 0)"
   ]
  },
  {
   "cell_type": "code",
   "execution_count": null,
   "id": "178789d5-8b7b-4508-b5dd-a4eb5b0fdb03",
   "metadata": {},
   "outputs": [],
   "source": [
    "total_clades_realistic_delay"
   ]
  },
  {
   "cell_type": "code",
   "execution_count": null,
   "id": "b3735c30-18ba-4faf-b0c6-9b7dbf1435df",
   "metadata": {},
   "outputs": [],
   "source": [
    "total_clades_realistic_delay / total_clades_no_delay"
   ]
  },
  {
   "cell_type": "markdown",
   "id": "06bcbd0b-9739-41bb-8234-9746b8832879",
   "metadata": {},
   "source": [
    "## Compare clade frequencies"
   ]
  },
  {
   "cell_type": "code",
   "execution_count": null,
   "id": "1e88ebc2-8008-4f7c-a06f-50214e411235",
   "metadata": {},
   "outputs": [],
   "source": [
    "clades_by_delay"
   ]
  },
  {
   "cell_type": "code",
   "execution_count": null,
   "id": "4649dbf0-7886-4723-8b76-47a6a712d391",
   "metadata": {},
   "outputs": [],
   "source": [
    "max_clade_frequency = clades_by_delay.loc[\n",
    "    :,\n",
    "    [\"frequency_none\", \"frequency_ideal\", f\"frequency_{realistic_delay_type}\"]\n",
    "].max().max()"
   ]
  },
  {
   "cell_type": "code",
   "execution_count": null,
   "id": "66ae8b4f-f378-4b9c-807a-29865bac749b",
   "metadata": {},
   "outputs": [],
   "source": [
    "max_clade_frequency"
   ]
  },
  {
   "cell_type": "code",
   "execution_count": null,
   "id": "e0863994-259a-4e95-b95d-fd5f142c45b3",
   "metadata": {},
   "outputs": [],
   "source": [
    "max_clade_frequency_threshold = max_clade_frequency + (max_clade_frequency / 10)"
   ]
  },
  {
   "cell_type": "code",
   "execution_count": null,
   "id": "9d5fb17d-dd5e-4760-80ea-9b749df91b36",
   "metadata": {},
   "outputs": [],
   "source": [
    "x_clades = y_clades = np.linspace(0, max_clade_frequency_threshold, 10)"
   ]
  },
  {
   "cell_type": "code",
   "execution_count": null,
   "id": "2c44560b-fafb-4ef3-8cb8-3d650b56e4f7",
   "metadata": {},
   "outputs": [],
   "source": [
    "fig, (ax1, ax2) = plt.subplots(1, 2, figsize=(8, 4), dpi=200)\n",
    "\n",
    "ax1.plot(\n",
    "    clades_by_delay[\"frequency_none\"],\n",
    "    clades_by_delay[\"frequency_ideal\"],\n",
    "    \"o\",\n",
    "    color=\"#999999\",\n",
    "    alpha=0.25,\n",
    ")\n",
    "\n",
    "ax1.plot(\n",
    "    x_clades,\n",
    "    y_clades,\n",
    "    color=\"#000000\",\n",
    "    alpha=0.25,\n",
    "    zorder=-10,\n",
    ")\n",
    "\n",
    "ax1.set_xlabel(\"Clade frequency without delay\")\n",
    "ax1.set_ylabel(\"Clade frequency with ideal delay\")\n",
    "\n",
    "ax1.set_aspect('equal', 'box')\n",
    "\n",
    "ax2.plot(\n",
    "    clades_by_delay[\"frequency_none\"],\n",
    "    clades_by_delay[f\"frequency_{realistic_delay_type}\"],\n",
    "    \"o\",\n",
    "    color=\"#999999\",\n",
    "    alpha=0.25,\n",
    ")\n",
    "\n",
    "ax2.plot(\n",
    "    x_clades,\n",
    "    y_clades,\n",
    "    color=\"#000000\",\n",
    "    alpha=0.25,\n",
    "    zorder=-10,\n",
    ")\n",
    "\n",
    "ax2.set_xlabel(\"Clade frequency without delay\")\n",
    "ax2.set_ylabel(f\"Clade frequency with {realistic_delay_type} delay\")\n",
    "\n",
    "ax2.set_aspect('equal', 'box')\n",
    "\n",
    "sns.despine()\n",
    "\n",
    "plt.tight_layout()"
   ]
  },
  {
   "cell_type": "code",
   "execution_count": null,
   "id": "185a1b0a-1b3f-40bb-a424-343eeaa79af2",
   "metadata": {},
   "outputs": [],
   "source": [
    "clades_by_delay[\"ideal_error\"] = clades_by_delay[\"frequency_none\"] - clades_by_delay[\"frequency_ideal\"]"
   ]
  },
  {
   "cell_type": "code",
   "execution_count": null,
   "id": "79f46f66-b0c5-4bbb-9a5c-cb390fa18e94",
   "metadata": {},
   "outputs": [],
   "source": [
    "clades_by_delay[f\"{realistic_delay_type}_error\"] = clades_by_delay[\"frequency_none\"] - clades_by_delay[f\"frequency_{realistic_delay_type}\"]"
   ]
  },
  {
   "cell_type": "code",
   "execution_count": null,
   "id": "e3b1aeaf-2ccf-4df4-97ef-4ca3c1189298",
   "metadata": {},
   "outputs": [],
   "source": [
    "bins_min = min(clades_by_delay[\"ideal_error\"].min(), clades_by_delay[f\"{realistic_delay_type}_error\"].min())"
   ]
  },
  {
   "cell_type": "code",
   "execution_count": null,
   "id": "6d0d83f5-05bf-4b6b-8cc3-4bfd9d3cb4d7",
   "metadata": {},
   "outputs": [],
   "source": [
    "bins_max = max(clades_by_delay[\"ideal_error\"].max(), clades_by_delay[f\"{realistic_delay_type}_error\"].max())"
   ]
  },
  {
   "cell_type": "code",
   "execution_count": null,
   "id": "3f3bd3d8-1e84-4b36-a200-24cda95b6a14",
   "metadata": {},
   "outputs": [],
   "source": [
    "bins_min"
   ]
  },
  {
   "cell_type": "code",
   "execution_count": null,
   "id": "623e4dbb-daa1-4a6c-aeb1-51a6a45e8d60",
   "metadata": {},
   "outputs": [],
   "source": [
    "bins_max"
   ]
  },
  {
   "cell_type": "code",
   "execution_count": null,
   "id": "065ef404",
   "metadata": {},
   "outputs": [],
   "source": [
    "clades_by_delay[f\"{realistic_delay_type}_error\"].describe()"
   ]
  },
  {
   "cell_type": "code",
   "execution_count": null,
   "id": "56a1b006",
   "metadata": {},
   "outputs": [],
   "source": [
    "bins_min_all = clades_by_delay[f\"{realistic_delay_type}_error\"].mean() - clades_by_delay[f\"{realistic_delay_type}_error\"].std()"
   ]
  },
  {
   "cell_type": "code",
   "execution_count": null,
   "id": "63aea2d7",
   "metadata": {},
   "outputs": [],
   "source": [
    "bins_max_all = clades_by_delay[f\"{realistic_delay_type}_error\"].mean() + clades_by_delay[f\"{realistic_delay_type}_error\"].std()"
   ]
  },
  {
   "cell_type": "code",
   "execution_count": null,
   "id": "7b949323",
   "metadata": {},
   "outputs": [],
   "source": [
    "bins_min_all"
   ]
  },
  {
   "cell_type": "code",
   "execution_count": null,
   "id": "ecb26b56",
   "metadata": {},
   "outputs": [],
   "source": [
    "bins_max_all"
   ]
  },
  {
   "cell_type": "code",
   "execution_count": null,
   "id": "2abb2913-0fd9-4c2c-aeaf-8edf4ee483f3",
   "metadata": {},
   "outputs": [],
   "source": [
    "all_clades_bins = np.arange(bins_min_all - 0.005, bins_max_all + 0.005, 0.0025)"
   ]
  },
  {
   "cell_type": "code",
   "execution_count": null,
   "id": "9683a349-cd02-4c8c-9e5b-ac110dc5373e",
   "metadata": {},
   "outputs": [],
   "source": [
    "fig, ax = plt.subplots(1, 1, figsize=(8, 2), dpi=200)\n",
    "\n",
    "ax.axvline(\n",
    "    x=0,\n",
    "    label=\"none\",\n",
    "    color=\"C0\",\n",
    ")\n",
    "\n",
    "ax.hist(\n",
    "    clades_by_delay[\"ideal_error\"],\n",
    "    bins=all_clades_bins,\n",
    "    label=\"ideal\",\n",
    "    alpha=0.5,\n",
    "    color=\"C1\",\n",
    ")\n",
    "\n",
    "ax.hist(\n",
    "    clades_by_delay[f\"{realistic_delay_type}_error\"],\n",
    "    bins=all_clades_bins,\n",
    "    label=realistic_delay_type,\n",
    "    alpha=0.5,\n",
    "    color=\"C2\",\n",
    ")\n",
    "\n",
    "ax.set_xlabel(\"Clade frequency error (without delay - with delay)\")\n",
    "ax.set_ylabel(\"Number of clades\")\n",
    "\n",
    "ax.text(\n",
    "    0.25,\n",
    "    0.25,\n",
    "    \"overestimated\",\n",
    "    horizontalalignment='center',\n",
    "    verticalalignment='center',\n",
    "    transform=ax.transAxes,\n",
    ")\n",
    "\n",
    "ax.text(\n",
    "    0.75,\n",
    "    0.25,\n",
    "    \"underestimated\",\n",
    "    horizontalalignment='center',\n",
    "    verticalalignment='center',\n",
    "    transform=ax.transAxes,\n",
    ")\n",
    "\n",
    "ax.legend(\n",
    "    title=\"Delay type\",\n",
    "    frameon=False,\n",
    ")\n",
    "\n",
    "plt.tight_layout()\n",
    "sns.despine()"
   ]
  },
  {
   "cell_type": "code",
   "execution_count": null,
   "id": "04cb1be1-1192-4417-a850-1a15bd758c9c",
   "metadata": {},
   "outputs": [],
   "source": [
    "clades_by_delay[\"ideal_error\"].median()"
   ]
  },
  {
   "cell_type": "code",
   "execution_count": null,
   "id": "598ac037-6ae8-4f2a-a7a1-22fb002757e3",
   "metadata": {},
   "outputs": [],
   "source": [
    "clades_by_delay[\"ideal_error\"].mean()"
   ]
  },
  {
   "cell_type": "code",
   "execution_count": null,
   "id": "ede48298-f911-4d7d-a8cf-63a553ec9019",
   "metadata": {},
   "outputs": [],
   "source": [
    "clades_by_delay[\"ideal_error\"].std()"
   ]
  },
  {
   "cell_type": "code",
   "execution_count": null,
   "id": "67974378-9fc3-418a-9aea-8e61b96e3a69",
   "metadata": {},
   "outputs": [],
   "source": [
    "clades_by_delay[\"ideal_error\"].var()"
   ]
  },
  {
   "cell_type": "code",
   "execution_count": null,
   "id": "c81509c2-df63-439c-b75d-539b7780ca3d",
   "metadata": {},
   "outputs": [],
   "source": [
    "clades_by_delay[f\"{realistic_delay_type}_error\"].median()"
   ]
  },
  {
   "cell_type": "code",
   "execution_count": null,
   "id": "4213cb52-5f25-4d77-b25b-5d7c0a4f2bad",
   "metadata": {},
   "outputs": [],
   "source": [
    "clades_by_delay[f\"{realistic_delay_type}_error\"].mean()"
   ]
  },
  {
   "cell_type": "code",
   "execution_count": null,
   "id": "5d951417-884f-40e0-a8bb-41baac9b1ad3",
   "metadata": {},
   "outputs": [],
   "source": [
    "clades_by_delay[f\"{realistic_delay_type}_error\"].std()"
   ]
  },
  {
   "cell_type": "code",
   "execution_count": null,
   "id": "b38a2998-487e-4b54-a994-27f822b0fdbd",
   "metadata": {},
   "outputs": [],
   "source": [
    "clades_by_delay[f\"{realistic_delay_type}_error\"].var()"
   ]
  },
  {
   "cell_type": "code",
   "execution_count": null,
   "id": "1ef8a284-49b1-4fc3-904f-2537d5dbd406",
   "metadata": {},
   "outputs": [],
   "source": [
    "clades_by_delay[f\"{realistic_delay_type}_error\"].var() / clades_by_delay[\"ideal_error\"].var()"
   ]
  },
  {
   "cell_type": "markdown",
   "id": "7eb509a8",
   "metadata": {},
   "source": [
    "## Define small and large clades\n",
    "\n",
    "Small clades represent some minimum inital frequency up to the limit of the larger clades. Large clades have a higher minimum frequency."
   ]
  },
  {
   "cell_type": "code",
   "execution_count": null,
   "id": "de647bbc",
   "metadata": {},
   "outputs": [],
   "source": [
    "small_clades = clades_by_delay.query(\n",
    "    f\"(frequency_none >= {small_frequency_threshold}) & (frequency_none < {large_frequency_threshold})\"\n",
    ")"
   ]
  },
  {
   "cell_type": "code",
   "execution_count": null,
   "id": "c8ff59a6",
   "metadata": {},
   "outputs": [],
   "source": [
    "small_clades.shape"
   ]
  },
  {
   "cell_type": "code",
   "execution_count": null,
   "id": "b6bc8086",
   "metadata": {},
   "outputs": [],
   "source": [
    "small_clades_bins = np.arange(\n",
    "    small_clades.loc[:, \"realistic_error\"].min(),\n",
    "    small_clades.loc[:, \"realistic_error\"].max() + 0.005,\n",
    "    0.0025\n",
    ")"
   ]
  },
  {
   "cell_type": "code",
   "execution_count": null,
   "id": "a8167ccc-242b-4152-b259-3a12226a7a0d",
   "metadata": {},
   "outputs": [],
   "source": [
    "large_clades_bins = np.arange(bins_min, bins_max + 0.005, 0.005)"
   ]
  },
  {
   "cell_type": "code",
   "execution_count": null,
   "id": "28ca471f-93c9-4369-9287-7a2dda04164c",
   "metadata": {},
   "outputs": [],
   "source": [
    "large_clades = clades_by_delay.query(f\"frequency_none >= {large_frequency_threshold}\")"
   ]
  },
  {
   "cell_type": "code",
   "execution_count": null,
   "id": "9335027c",
   "metadata": {},
   "outputs": [],
   "source": [
    "large_clades.shape"
   ]
  },
  {
   "cell_type": "code",
   "execution_count": null,
   "id": "40574441",
   "metadata": {},
   "outputs": [],
   "source": [
    "clades_by_delay.shape"
   ]
  },
  {
   "cell_type": "code",
   "execution_count": null,
   "id": "52108f64",
   "metadata": {},
   "outputs": [],
   "source": [
    "clades_by_delay.query(\"frequency_none < 0.01\").shape"
   ]
  },
  {
   "cell_type": "code",
   "execution_count": null,
   "id": "087dd3a8",
   "metadata": {},
   "outputs": [],
   "source": [
    "clades_by_delay.query(\"frequency_none < 0.01\").shape[0] / clades_by_delay.shape[0]"
   ]
  },
  {
   "cell_type": "code",
   "execution_count": null,
   "id": "85aa5c0c",
   "metadata": {},
   "outputs": [],
   "source": [
    "clades_by_delay.query(\"frequency_none < 0.01\").groupby(\"timepoint\")[\"frequency_none\"].sum().sort_values()"
   ]
  },
  {
   "cell_type": "code",
   "execution_count": null,
   "id": "62ccdf2b",
   "metadata": {},
   "outputs": [],
   "source": [
    "clades_by_delay.query(\"frequency_none < 0.01\").groupby(\"timepoint\")[\"frequency_none\"].sum().sort_values().mean()"
   ]
  },
  {
   "cell_type": "code",
   "execution_count": null,
   "id": "05cacdb2",
   "metadata": {},
   "outputs": [],
   "source": [
    "clades_by_delay.query(\"frequency_none >= 0.01\").shape"
   ]
  },
  {
   "cell_type": "code",
   "execution_count": null,
   "id": "40f3d20d",
   "metadata": {
    "scrolled": true
   },
   "outputs": [],
   "source": [
    "clades_by_delay.query(\"frequency_none >= 0.05\").shape"
   ]
  },
  {
   "cell_type": "code",
   "execution_count": null,
   "id": "192d0b63",
   "metadata": {},
   "outputs": [],
   "source": [
    "clades_by_delay.query(\"frequency_none >= 0.1\").shape"
   ]
  },
  {
   "cell_type": "code",
   "execution_count": null,
   "id": "6c8b756b",
   "metadata": {},
   "outputs": [],
   "source": [
    "clades_by_delay.query(\"frequency_none >= 0.15\").shape"
   ]
  },
  {
   "cell_type": "code",
   "execution_count": null,
   "id": "2b8fd26b-03b1-439a-a5c5-edca7f4c1575",
   "metadata": {},
   "outputs": [],
   "source": [
    "large_clades"
   ]
  },
  {
   "cell_type": "code",
   "execution_count": null,
   "id": "335a134f",
   "metadata": {},
   "outputs": [],
   "source": [
    "fig, ax = plt.subplots(1, 1, figsize=(8, 2.5), dpi=200)\n",
    "\n",
    "ax.axvline(\n",
    "    x=0,\n",
    "    label=\"none\",\n",
    "    color=\"C0\",\n",
    ")\n",
    "\n",
    "ax.hist(\n",
    "    small_clades[\"ideal_error\"],\n",
    "    bins=small_clades_bins,\n",
    "    label=\"ideal\",\n",
    "    alpha=0.5,\n",
    "    color=\"C1\",\n",
    ")\n",
    "\n",
    "ax.hist(\n",
    "    small_clades[f\"{realistic_delay_type}_error\"],\n",
    "    bins=small_clades_bins,\n",
    "    label=realistic_delay_type,\n",
    "    alpha=0.5,\n",
    "    color=\"C2\",\n",
    ")\n",
    "\n",
    "ax.set_xlabel(\"Clade frequency error (without delay - with delay)\")\n",
    "ax.set_ylabel(r\"\"\"Number of clades\n",
    "({small_frequency_threshold}% $\\leq$ frequency $<${large_frequency_threshold}%)\"\"\".format(\n",
    "    small_frequency_threshold=int(small_frequency_threshold * 100),\n",
    "    large_frequency_threshold=int(large_frequency_threshold * 100),\n",
    "))\n",
    "\n",
    "ax.text(\n",
    "    0.25,\n",
    "    0.25,\n",
    "    \"overestimated\",\n",
    "    horizontalalignment='center',\n",
    "    verticalalignment='center',\n",
    "    transform=ax.transAxes,\n",
    ")\n",
    "\n",
    "ax.text(\n",
    "    0.75,\n",
    "    0.25,\n",
    "    \"underestimated\",\n",
    "    horizontalalignment='center',\n",
    "    verticalalignment='center',\n",
    "    transform=ax.transAxes,\n",
    ")\n",
    "\n",
    "ax.legend(\n",
    "    title=\"Delay type\",\n",
    "    frameon=False,\n",
    ")\n",
    "\n",
    "plt.tight_layout()\n",
    "sns.despine()"
   ]
  },
  {
   "cell_type": "code",
   "execution_count": null,
   "id": "a049ce41",
   "metadata": {},
   "outputs": [],
   "source": [
    "small_clades[\"ideal_error\"].min()"
   ]
  },
  {
   "cell_type": "code",
   "execution_count": null,
   "id": "c003e7b0",
   "metadata": {},
   "outputs": [],
   "source": [
    "small_clades[\"ideal_error\"].max()"
   ]
  },
  {
   "cell_type": "code",
   "execution_count": null,
   "id": "79a3e47c",
   "metadata": {},
   "outputs": [],
   "source": [
    "small_clades[\"ideal_error\"].median()"
   ]
  },
  {
   "cell_type": "code",
   "execution_count": null,
   "id": "c4bc9e8d",
   "metadata": {},
   "outputs": [],
   "source": [
    "small_clades[\"ideal_error\"].mean()"
   ]
  },
  {
   "cell_type": "code",
   "execution_count": null,
   "id": "f3874c3a",
   "metadata": {},
   "outputs": [],
   "source": [
    "small_clades[\"ideal_error\"].std()"
   ]
  },
  {
   "cell_type": "code",
   "execution_count": null,
   "id": "97c40790",
   "metadata": {},
   "outputs": [],
   "source": [
    "small_clades[\"ideal_error\"].var()"
   ]
  },
  {
   "cell_type": "code",
   "execution_count": null,
   "id": "ef370177",
   "metadata": {},
   "outputs": [],
   "source": [
    "(small_clades[\"ideal_error\"] > 0).sum()"
   ]
  },
  {
   "cell_type": "code",
   "execution_count": null,
   "id": "1dad92d5",
   "metadata": {},
   "outputs": [],
   "source": [
    "(small_clades[\"ideal_error\"] > 0).sum() / small_clades.shape[0]"
   ]
  },
  {
   "cell_type": "code",
   "execution_count": null,
   "id": "4bd1ff86",
   "metadata": {},
   "outputs": [],
   "source": [
    "(small_clades[f\"{realistic_delay_type}_error\"] > 0).sum()"
   ]
  },
  {
   "cell_type": "code",
   "execution_count": null,
   "id": "7926ce49",
   "metadata": {},
   "outputs": [],
   "source": [
    "(small_clades[f\"{realistic_delay_type}_error\"] > 0).sum() / small_clades.shape[0]"
   ]
  },
  {
   "cell_type": "code",
   "execution_count": null,
   "id": "ff9955af",
   "metadata": {},
   "outputs": [],
   "source": [
    "small_clades[f\"{realistic_delay_type}_error\"].min()"
   ]
  },
  {
   "cell_type": "code",
   "execution_count": null,
   "id": "56a2b824",
   "metadata": {},
   "outputs": [],
   "source": [
    "small_clades[f\"{realistic_delay_type}_error\"].max()"
   ]
  },
  {
   "cell_type": "code",
   "execution_count": null,
   "id": "9d4b0905",
   "metadata": {},
   "outputs": [],
   "source": [
    "small_clades[f\"{realistic_delay_type}_error\"].median()"
   ]
  },
  {
   "cell_type": "code",
   "execution_count": null,
   "id": "36f2c790",
   "metadata": {},
   "outputs": [],
   "source": [
    "small_clades[f\"{realistic_delay_type}_error\"].mean()"
   ]
  },
  {
   "cell_type": "code",
   "execution_count": null,
   "id": "06aeac7d",
   "metadata": {},
   "outputs": [],
   "source": [
    "small_clades[f\"{realistic_delay_type}_error\"].std()"
   ]
  },
  {
   "cell_type": "code",
   "execution_count": null,
   "id": "5df718ed",
   "metadata": {},
   "outputs": [],
   "source": [
    "small_clades[f\"{realistic_delay_type}_error\"].std() * 3"
   ]
  },
  {
   "cell_type": "code",
   "execution_count": null,
   "id": "f57217b5",
   "metadata": {},
   "outputs": [],
   "source": [
    "small_clades[f\"{realistic_delay_type}_error\"].var()"
   ]
  },
  {
   "cell_type": "code",
   "execution_count": null,
   "id": "e796b3a0",
   "metadata": {},
   "outputs": [],
   "source": [
    "small_clades[f\"{realistic_delay_type}_error\"].var() / large_clades[\"ideal_error\"].var()"
   ]
  },
  {
   "cell_type": "code",
   "execution_count": null,
   "id": "ca60bd58",
   "metadata": {},
   "outputs": [],
   "source": [
    "small_clades[\"ideal_error\"].std() / small_clades[f\"{realistic_delay_type}_error\"].std()"
   ]
  },
  {
   "cell_type": "code",
   "execution_count": null,
   "id": "5a66b4b0-a135-4774-bfd6-db0202359636",
   "metadata": {},
   "outputs": [],
   "source": [
    "fig, ax = plt.subplots(1, 1, figsize=(8, 2), dpi=200)\n",
    "\n",
    "ax.axvline(\n",
    "    x=0,\n",
    "    label=\"none\",\n",
    "    color=\"C0\",\n",
    ")\n",
    "\n",
    "ax.hist(\n",
    "    large_clades[\"ideal_error\"],\n",
    "    bins=large_clades_bins,\n",
    "    label=\"ideal\",\n",
    "    alpha=0.5,\n",
    "    color=\"C1\",\n",
    ")\n",
    "\n",
    "ax.hist(\n",
    "    large_clades[f\"{realistic_delay_type}_error\"],\n",
    "    bins=large_clades_bins,\n",
    "    label=realistic_delay_type,\n",
    "    alpha=0.5,\n",
    "    color=\"C2\",\n",
    ")\n",
    "\n",
    "ax.set_xlabel(\"Clade frequency error (without delay - with delay)\")\n",
    "ax.set_ylabel(r\"\"\"Number of clades\n",
    "($\\geq${large_frequency_threshold}% frequency)\"\"\".format(large_frequency_threshold=int(large_frequency_threshold * 100)))\n",
    "\n",
    "ax.text(\n",
    "    0.25,\n",
    "    0.25,\n",
    "    \"overestimated\",\n",
    "    horizontalalignment='center',\n",
    "    verticalalignment='center',\n",
    "    transform=ax.transAxes,\n",
    ")\n",
    "\n",
    "ax.text(\n",
    "    0.75,\n",
    "    0.25,\n",
    "    \"underestimated\",\n",
    "    horizontalalignment='center',\n",
    "    verticalalignment='center',\n",
    "    transform=ax.transAxes,\n",
    ")\n",
    "\n",
    "ax.legend(\n",
    "    title=\"Delay type\",\n",
    "    frameon=False,\n",
    ")\n",
    "\n",
    "plt.tight_layout()\n",
    "sns.despine()"
   ]
  },
  {
   "cell_type": "code",
   "execution_count": null,
   "id": "ddf09f70",
   "metadata": {},
   "outputs": [],
   "source": [
    "large_clades[\"ideal_error\"].min()"
   ]
  },
  {
   "cell_type": "code",
   "execution_count": null,
   "id": "fc47828e",
   "metadata": {},
   "outputs": [],
   "source": [
    "large_clades[\"ideal_error\"].max()"
   ]
  },
  {
   "cell_type": "code",
   "execution_count": null,
   "id": "e54c69ee-4676-4afe-b544-5bf74eb70e7f",
   "metadata": {},
   "outputs": [],
   "source": [
    "large_clades[\"ideal_error\"].median()"
   ]
  },
  {
   "cell_type": "code",
   "execution_count": null,
   "id": "a5b14e4d-2da3-4c7e-a92c-a72df69a6286",
   "metadata": {},
   "outputs": [],
   "source": [
    "large_clades[\"ideal_error\"].mean()"
   ]
  },
  {
   "cell_type": "code",
   "execution_count": null,
   "id": "ee328a05-c982-4e4a-a379-d0de813a59f2",
   "metadata": {},
   "outputs": [],
   "source": [
    "large_clades[\"ideal_error\"].std()"
   ]
  },
  {
   "cell_type": "code",
   "execution_count": null,
   "id": "3f929f23-9b1a-41d1-95ac-d491ee4270b2",
   "metadata": {},
   "outputs": [],
   "source": [
    "large_clades[\"ideal_error\"].var()"
   ]
  },
  {
   "cell_type": "code",
   "execution_count": null,
   "id": "00eaf67b",
   "metadata": {},
   "outputs": [],
   "source": [
    "large_clades[f\"{realistic_delay_type}_error\"].min()"
   ]
  },
  {
   "cell_type": "code",
   "execution_count": null,
   "id": "687b10c5",
   "metadata": {},
   "outputs": [],
   "source": [
    "large_clades[f\"{realistic_delay_type}_error\"].max()"
   ]
  },
  {
   "cell_type": "code",
   "execution_count": null,
   "id": "10c0e16c-856c-45c2-887d-cb7e2c77e5b9",
   "metadata": {},
   "outputs": [],
   "source": [
    "large_clades[f\"{realistic_delay_type}_error\"].median()"
   ]
  },
  {
   "cell_type": "code",
   "execution_count": null,
   "id": "d699d3a1-4eb0-4353-a3ec-de9d805628af",
   "metadata": {},
   "outputs": [],
   "source": [
    "large_clades[f\"{realistic_delay_type}_error\"].mean()"
   ]
  },
  {
   "cell_type": "code",
   "execution_count": null,
   "id": "937d19b6-e4d4-4e49-a8ca-bc65a9c06b2b",
   "metadata": {},
   "outputs": [],
   "source": [
    "large_clades[f\"{realistic_delay_type}_error\"].std()"
   ]
  },
  {
   "cell_type": "code",
   "execution_count": null,
   "id": "1828409a",
   "metadata": {},
   "outputs": [],
   "source": [
    "large_clades[f\"{realistic_delay_type}_error\"].std() * 3"
   ]
  },
  {
   "cell_type": "code",
   "execution_count": null,
   "id": "d82ac4f4-fef3-46bf-8664-75f8a63ba2db",
   "metadata": {},
   "outputs": [],
   "source": [
    "large_clades[f\"{realistic_delay_type}_error\"].var()"
   ]
  },
  {
   "cell_type": "code",
   "execution_count": null,
   "id": "7f76bc6d-b0d4-4ff7-a088-925a55dde4ef",
   "metadata": {},
   "outputs": [],
   "source": [
    "large_clades[f\"{realistic_delay_type}_error\"].var() / large_clades[\"ideal_error\"].var()"
   ]
  },
  {
   "cell_type": "code",
   "execution_count": null,
   "id": "a65dc4b5",
   "metadata": {},
   "outputs": [],
   "source": [
    "large_clades[\"ideal_error\"].std() / large_clades[f\"{realistic_delay_type}_error\"].std()"
   ]
  },
  {
   "cell_type": "code",
   "execution_count": null,
   "id": "5574c4b8-6a4b-4fd5-806a-850075b5cc06",
   "metadata": {},
   "outputs": [],
   "source": [
    "fig, (ax1, ax2) = plt.subplots(1, 2, figsize=(8, 3), dpi=150, sharex=True, sharey=True)\n",
    "\n",
    "ax1.plot(\n",
    "    large_clades[\"frequency_none\"],\n",
    "    large_clades[\"ideal_error\"],\n",
    "    \"o\",\n",
    "    alpha=0.25,\n",
    "    color=\"C1\",\n",
    ")\n",
    "ax1.axhline(y=0, color=\"#000000\", zorder=-10, linewidth=1)\n",
    "\n",
    "ax1.set_xlabel(\"Clade frequency\")\n",
    "ax1.set_ylabel(\"Clade frequency error\\nwith ideal delay\")\n",
    "\n",
    "ax2.plot(\n",
    "    large_clades[\"frequency_none\"],\n",
    "    large_clades[f\"{realistic_delay_type}_error\"],\n",
    "    \"o\",\n",
    "    alpha=0.25,\n",
    "    color=\"C2\",\n",
    ")\n",
    "ax2.axhline(y=0, color=\"#000000\", zorder=-10, linewidth=1)\n",
    "\n",
    "ax2.set_xlabel(\"Clade frequency\")\n",
    "ax2.set_ylabel(f\"Clade frequency error\\nwith {realistic_delay_type} delay\")\n",
    "\n",
    "sns.despine()\n",
    "\n",
    "plt.tight_layout()"
   ]
  },
  {
   "cell_type": "markdown",
   "id": "79c37bd4-f4be-4e12-9d7d-bb1894b3570a",
   "metadata": {},
   "source": [
    "Composite figure for manuscript."
   ]
  },
  {
   "cell_type": "code",
   "execution_count": null,
   "id": "9b238380-9042-4326-bc4c-e63d9a81c131",
   "metadata": {},
   "outputs": [],
   "source": [
    "fig = plt.figure(figsize=(6.5, 8), dpi=200)\n",
    "\n",
    "gs = GridSpec(3, 2, figure=fig)\n",
    "\n",
    "ax1 = fig.add_subplot(gs[0, 0])\n",
    "ax2 = fig.add_subplot(gs[0, 1])\n",
    "ax3 = fig.add_subplot(gs[1, :])\n",
    "ax4 = fig.add_subplot(gs[2, :])\n",
    "\n",
    "# Shared values\n",
    "\n",
    "# Calculate the maximum clade frequency and round up to the next unit of 10\n",
    "# to set the upper bound on the axes tick labels.\n",
    "max_clade_frequency = int(\n",
    "    np.ceil(\n",
    "        max(\n",
    "            clades_by_delay[\"frequency_none\"].max(),\n",
    "            clades_by_delay[\"frequency_ideal\"].max(),\n",
    "            clades_by_delay[f\"frequency_{realistic_delay_type}\"].max()\n",
    "        ) * 10\n",
    "    ) * 10\n",
    ")\n",
    "clade_frequency_ticks = list(range(0, max_clade_frequency + 1, 10))\n",
    "clade_frequency_tick_labels = [f\"{tick:.0f}%\" for tick in clade_frequency_ticks]\n",
    "\n",
    "x_clades = y_clades = np.linspace(0, max_clade_frequency, 10)\n",
    "\n",
    "# Panel A\n",
    "\n",
    "ax1.plot(\n",
    "    clades_by_delay[\"frequency_none\"] * 100,\n",
    "    clades_by_delay[\"frequency_ideal\"] * 100,\n",
    "    \"o\",\n",
    "    color=\"#999999\",\n",
    "    zorder=10,\n",
    "    alpha=0.25,\n",
    ")\n",
    "\n",
    "ax1.plot(\n",
    "    x_clades,\n",
    "    y_clades,\n",
    "    color=\"#000000\",\n",
    "    zorder=-10,\n",
    "    alpha=0.25,\n",
    ")\n",
    "\n",
    "ax1.set_xlabel(\"Clade frequency without delay\")\n",
    "ax1.set_ylabel(\"Clade frequency\\nwith ideal delay\")\n",
    "ax1.set_xticks(\n",
    "    ticks=clade_frequency_ticks,\n",
    "    labels=clade_frequency_tick_labels,\n",
    ")\n",
    "ax1.set_yticks(\n",
    "    ticks=clade_frequency_ticks,\n",
    "    labels=clade_frequency_tick_labels,\n",
    ")\n",
    "\n",
    "#ax1.set_aspect('equal', 'box')\n",
    "\n",
    "# Panel B\n",
    "\n",
    "ax2.plot(\n",
    "    clades_by_delay[\"frequency_none\"] * 100,\n",
    "    clades_by_delay[f\"frequency_{realistic_delay_type}\"] * 100,\n",
    "    \"o\",\n",
    "    color=\"#999999\",\n",
    "    zorder=10,\n",
    "    alpha=0.25,\n",
    ")\n",
    "\n",
    "ax2.plot(\n",
    "    x_clades,\n",
    "    y_clades,\n",
    "    color=\"#000000\",\n",
    "    zorder=-10,\n",
    "    alpha=0.25,\n",
    ")\n",
    "\n",
    "ax2.set_xlabel(\"Clade frequency without delay\")\n",
    "ax2.set_ylabel(f\"Clade frequency\\nwith {realistic_delay_type} delay\")\n",
    "ax2.set_xticks(\n",
    "    ticks=clade_frequency_ticks,\n",
    "    labels=clade_frequency_tick_labels,\n",
    ")\n",
    "ax2.set_yticks(\n",
    "    ticks=clade_frequency_ticks,\n",
    "    labels=clade_frequency_tick_labels,\n",
    ")\n",
    "\n",
    "#ax2.set_aspect('equal', 'box')\n",
    "\n",
    "# Panel C\n",
    "\n",
    "ax3.axvline(\n",
    "    x=0,\n",
    "    label=\"none\",\n",
    "    color=\"C0\",\n",
    "    zorder=-10,\n",
    ")\n",
    "\n",
    "ax3.hist(\n",
    "    small_clades[\"ideal_error\"] * 100,\n",
    "    bins=small_clades_bins * 100,\n",
    "    label=\"ideal\",\n",
    "    alpha=0.5,\n",
    "    color=\"C1\",\n",
    ")\n",
    "\n",
    "ax3.hist(\n",
    "    small_clades[f\"{realistic_delay_type}_error\"] * 100,\n",
    "    bins=small_clades_bins * 100,\n",
    "    label=realistic_delay_type,\n",
    "    alpha=0.5,\n",
    "    color=\"C2\",\n",
    ")\n",
    "\n",
    "ax3.axvline(\n",
    "    x=small_clades[\"ideal_error\"].median() * 100,\n",
    "    color=\"C1\",\n",
    "    zorder=-10,\n",
    "    linestyle=\"dashed\",\n",
    "    linewidth=1,\n",
    ")\n",
    "\n",
    "ax3.axvline(\n",
    "    x=small_clades[f\"{realistic_delay_type}_error\"].median() * 100,\n",
    "    color=\"C2\",\n",
    "    zorder=-10,\n",
    "    linestyle=\"dashed\",\n",
    "    linewidth=1,\n",
    ")\n",
    "\n",
    "ax3.set_xlabel(\"Clade frequency error (without delay - with delay)\")\n",
    "ax3.set_ylabel(r\"\"\"Number of clades\n",
    "({small_frequency_threshold}% $\\leq$ frequency $<${large_frequency_threshold}%)\"\"\".format(\n",
    "    small_frequency_threshold=int(small_frequency_threshold * 100),\n",
    "    large_frequency_threshold=int(large_frequency_threshold * 100),\n",
    "))\n",
    "\n",
    "ax3.text(\n",
    "    0.15,\n",
    "    0.3,\n",
    "    \"overestimated\",\n",
    "    horizontalalignment='center',\n",
    "    verticalalignment='center',\n",
    "    transform=ax3.transAxes,\n",
    ")\n",
    "\n",
    "ax3.text(\n",
    "    0.85,\n",
    "    0.3,\n",
    "    \"underestimated\",\n",
    "    horizontalalignment='center',\n",
    "    verticalalignment='center',\n",
    "    transform=ax3.transAxes,\n",
    ")\n",
    "\n",
    "ax3.legend(\n",
    "    title=\"Delay type\",\n",
    "    frameon=False,\n",
    ")\n",
    "\n",
    "ax3_xticks = ax3.get_xticks()\n",
    "ax3_tick_labels = [f\"{tick:.0f}%\" for tick in ax3_xticks]\n",
    "ax3.set_xticks(\n",
    "    ax3_xticks,\n",
    "    ax3_tick_labels,\n",
    ")\n",
    "\n",
    "# Panel D\n",
    "\n",
    "ax4.axvline(\n",
    "    x=0,\n",
    "    label=\"none\",\n",
    "    color=\"C0\",\n",
    "    zorder=-10,\n",
    ")\n",
    "\n",
    "ax4.hist(\n",
    "    large_clades[\"ideal_error\"] * 100,\n",
    "    bins=large_clades_bins * 100,\n",
    "    label=\"ideal\",\n",
    "    alpha=0.5,\n",
    "    color=\"C1\",\n",
    ")\n",
    "\n",
    "ax4.hist(\n",
    "    large_clades[f\"{realistic_delay_type}_error\"] * 100,\n",
    "    bins=large_clades_bins * 100,\n",
    "    label=realistic_delay_type,\n",
    "    alpha=0.5,\n",
    "    color=\"C2\",\n",
    ")\n",
    "\n",
    "ax4.axvline(\n",
    "    x=large_clades[\"ideal_error\"].median() * 100,\n",
    "    color=\"C1\",\n",
    "    zorder=-10,\n",
    "    linestyle=\"dashed\",\n",
    "    linewidth=1,\n",
    ")\n",
    "\n",
    "ax4.axvline(\n",
    "    x=large_clades[f\"{realistic_delay_type}_error\"].median() * 100,\n",
    "    color=\"C2\",\n",
    "    zorder=-10,\n",
    "    linestyle=\"dashed\",\n",
    "    linewidth=1,\n",
    ")\n",
    "\n",
    "ax4.set_xlabel(\"Clade frequency error (without delay - with delay)\")\n",
    "ax4.set_ylabel(r\"\"\"Number of clades\n",
    "($\\geq${large_frequency_threshold}% frequency)\"\"\".format(large_frequency_threshold=int(large_frequency_threshold * 100)))\n",
    "\n",
    "ax4.text(\n",
    "    0.15,\n",
    "    0.3,\n",
    "    \"overestimated\",\n",
    "    horizontalalignment='center',\n",
    "    verticalalignment='center',\n",
    "    transform=ax4.transAxes,\n",
    ")\n",
    "\n",
    "ax4.text(\n",
    "    0.85,\n",
    "    0.3,\n",
    "    \"underestimated\",\n",
    "    horizontalalignment='center',\n",
    "    verticalalignment='center',\n",
    "    transform=ax4.transAxes,\n",
    ")\n",
    "\n",
    "ax4_xticks = ax4.get_xticks()\n",
    "ax4_tick_labels = [f\"{tick:.0f}%\" for tick in ax4_xticks]\n",
    "ax4.set_xticks(\n",
    "    ax4_xticks,\n",
    "    ax4_tick_labels,\n",
    ")\n",
    "\n",
    "# Annotate panel labels.\n",
    "panel_labels_dict = {\n",
    "    \"weight\": \"bold\",\n",
    "    \"size\": 14\n",
    "}\n",
    "plt.figtext(0.0, 0.97, \"A\", **panel_labels_dict)\n",
    "plt.figtext(0.5, 0.97, \"B\", **panel_labels_dict)\n",
    "plt.figtext(0.0, 0.64, \"C\", **panel_labels_dict)\n",
    "plt.figtext(0.0, 0.31, \"D\", **panel_labels_dict)\n",
    "\n",
    "sns.despine()\n",
    "\n",
    "gs.tight_layout(fig, pad=0.5)\n",
    "plt.savefig(snakemake.output.current_frequency_errors_by_delay)"
   ]
  },
  {
   "cell_type": "code",
   "execution_count": null,
   "id": "c901b991",
   "metadata": {},
   "outputs": [],
   "source": []
  }
 ],
 "metadata": {
  "kernelspec": {
   "display_name": "Python 3 (ipykernel)",
   "language": "python",
   "name": "python3"
  },
  "language_info": {
   "codemirror_mode": {
    "name": "ipython",
    "version": 3
   },
   "file_extension": ".py",
   "mimetype": "text/x-python",
   "name": "python",
   "nbconvert_exporter": "python",
   "pygments_lexer": "ipython3",
   "version": "3.9.16"
  }
 },
 "nbformat": 4,
 "nbformat_minor": 5
}
