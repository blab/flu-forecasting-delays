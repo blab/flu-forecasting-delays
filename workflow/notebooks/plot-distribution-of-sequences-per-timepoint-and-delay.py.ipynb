{
 "cells": [
  {
   "cell_type": "code",
   "execution_count": null,
   "id": "d959a171",
   "metadata": {
    "scrolled": true
   },
   "outputs": [],
   "source": [
    "from matplotlib import pyplot as plt\n",
    "import pandas as pd\n",
    "import seaborn as sns"
   ]
  },
  {
   "cell_type": "code",
   "execution_count": null,
   "id": "3bb3ea73",
   "metadata": {
    "scrolled": true
   },
   "outputs": [],
   "source": [
    "df = pd.read_csv(\n",
    "    snakemake.input.metadata,\n",
    "    sep=\"\\t\",\n",
    "    parse_dates=[\"timepoint\"],\n",
    ")"
   ]
  },
  {
   "cell_type": "code",
   "execution_count": null,
   "id": "91b8ca16",
   "metadata": {
    "scrolled": true
   },
   "outputs": [],
   "source": [
    "df.head()"
   ]
  },
  {
   "cell_type": "code",
   "execution_count": null,
   "id": "756523b9",
   "metadata": {
    "scrolled": true
   },
   "outputs": [],
   "source": [
    "count_df = df.groupby([\n",
    "    \"delay_type\",\n",
    "    \"timepoint\"\n",
    "])[\"strain\"].count().reset_index().rename(\n",
    "    columns={\"strain\": \"count\"}\n",
    ")"
   ]
  },
  {
   "cell_type": "code",
   "execution_count": null,
   "id": "59246b87",
   "metadata": {
    "scrolled": true
   },
   "outputs": [],
   "source": [
    "count_df.head()"
   ]
  },
  {
   "cell_type": "code",
   "execution_count": null,
   "id": "eb5ff9ce",
   "metadata": {
    "scrolled": true
   },
   "outputs": [],
   "source": [
    "count_by_timepoint = count_df.pivot(\n",
    "    index=\"timepoint\",\n",
    "    columns=[\"delay_type\"],\n",
    "    values=\"count\",\n",
    ")"
   ]
  },
  {
   "cell_type": "code",
   "execution_count": null,
   "id": "12329903",
   "metadata": {
    "scrolled": true
   },
   "outputs": [],
   "source": [
    "count_by_timepoint[\"proportion_ideal\"] = count_by_timepoint[\"ideal\"] / count_by_timepoint[\"none\"]\n",
    "count_by_timepoint[\"proportion_realistic\"] = count_by_timepoint[\"realistic\"] / count_by_timepoint[\"none\"]"
   ]
  },
  {
   "cell_type": "code",
   "execution_count": null,
   "id": "ac92b44f",
   "metadata": {
    "scrolled": true
   },
   "outputs": [],
   "source": [
    "count_by_timepoint.head()"
   ]
  },
  {
   "cell_type": "code",
   "execution_count": null,
   "id": "8923cc32",
   "metadata": {
    "scrolled": true
   },
   "outputs": [],
   "source": [
    "proportions = count_by_timepoint.loc[\n",
    "    :,\n",
    "    [\"proportion_ideal\", \"proportion_realistic\"]\n",
    "].melt(\n",
    "    value_name=\"proportion\",\n",
    "    ignore_index=False,\n",
    ").reset_index()"
   ]
  },
  {
   "cell_type": "code",
   "execution_count": null,
   "id": "37a1baf1",
   "metadata": {
    "scrolled": true
   },
   "outputs": [],
   "source": [
    "proportions[\"delay_type\"] = proportions[\"delay_type\"].str.replace(\"proportion_\", \"\")"
   ]
  },
  {
   "cell_type": "code",
   "execution_count": null,
   "id": "f2ea1e9f",
   "metadata": {
    "scrolled": true
   },
   "outputs": [],
   "source": [
    "proportions.head()"
   ]
  },
  {
   "cell_type": "code",
   "execution_count": null,
   "id": "16f86c8f",
   "metadata": {
    "scrolled": true
   },
   "outputs": [],
   "source": [
    "fig, (ax_count, ax_proportion) = plt.subplots(2, 1, figsize=(8, 6), dpi=200)\n",
    "\n",
    "color_by_delay_type = {\n",
    "    \"none\": \"C0\",\n",
    "    \"ideal\": \"C1\",\n",
    "    \"realistic\": \"C2\",\n",
    "}\n",
    "\n",
    "for delay_type in color_by_delay_type.keys():\n",
    "    delay_df = count_df[count_df[\"delay_type\"] == delay_type]\n",
    "    \n",
    "    ax_count.plot(\n",
    "        delay_df[\"timepoint\"],\n",
    "        delay_df[\"count\"],\n",
    "        \"-\",\n",
    "        color=color_by_delay_type[delay_type],\n",
    "        label=delay_type,\n",
    "    )\n",
    "\n",
    "ax_count.legend(\n",
    "    title=\"Delay type\",\n",
    "    frameon=False,\n",
    ")\n",
    "    \n",
    "ax_count.set_xlabel(\"Date\")\n",
    "ax_count.set_ylabel(\"Number of sequences\")\n",
    "    \n",
    "ax_count.set_ylim(bottom=0)\n",
    "\n",
    "# Proportion of total without delay per delay type.\n",
    "for delay_type in color_by_delay_type.keys():\n",
    "    proportions_delay_df = proportions[proportions[\"delay_type\"] == delay_type]\n",
    "    \n",
    "    ax_proportion.plot(\n",
    "        proportions_delay_df[\"timepoint\"],\n",
    "        proportions_delay_df[\"proportion\"],\n",
    "        \"-\",\n",
    "        color=color_by_delay_type[delay_type],\n",
    "        label=delay_type,\n",
    "    )\n",
    "    \n",
    "ax_proportion.set_xlabel(\"Date\")\n",
    "ax_proportion.set_ylabel(\"Proportion of undelayed\\nsequences available at delay\")\n",
    "\n",
    "ax_proportion.set_ylim(bottom=0, top=1)\n",
    "\n",
    "panel_labels_dict = {\n",
    "    \"weight\": \"bold\",\n",
    "    \"size\": 14,\n",
    "}\n",
    "plt.figtext(0.01, 0.97, \"A\", **panel_labels_dict)\n",
    "plt.figtext(0.01, 0.47, \"B\", **panel_labels_dict)\n",
    "\n",
    "sns.despine()\n",
    "plt.tight_layout()\n",
    "plt.savefig(snakemake.output.figure)"
   ]
  },
  {
   "cell_type": "code",
   "execution_count": null,
   "id": "3ab48001",
   "metadata": {
    "scrolled": true
   },
   "outputs": [],
   "source": []
  }
 ],
 "metadata": {
  "kernelspec": {
   "display_name": "Python 3 (ipykernel)",
   "language": "python",
   "name": "python3"
  },
  "language_info": {
   "codemirror_mode": {
    "name": "ipython",
    "version": 3
   },
   "file_extension": ".py",
   "mimetype": "text/x-python",
   "name": "python",
   "nbconvert_exporter": "python",
   "pygments_lexer": "ipython3",
   "version": "3.9.16"
  }
 },
 "nbformat": 4,
 "nbformat_minor": 5
}
