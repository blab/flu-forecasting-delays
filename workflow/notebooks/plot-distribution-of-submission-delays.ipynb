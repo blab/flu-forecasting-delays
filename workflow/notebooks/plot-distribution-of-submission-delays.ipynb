{
 "cells": [
  {
   "cell_type": "markdown",
   "metadata": {},
   "outputs": [],
   "source": [
    "# Summarize delay between collection and submission dates"
   ]
  },
  {
   "cell_type": "markdown",
   "metadata": {},
   "outputs": [],
   "source": [
    "## Setup"
   ]
  },
  {
   "cell_type": "code",
   "execution_count": null,
   "metadata": {},
   "outputs": [],
   "source": [
    "import matplotlib as mpl\n",
    "import matplotlib.pyplot as plt\n",
    "import numpy as np\n",
    "import pandas as pd\n",
    "import seaborn as sns\n",
    "from scipy.stats import gamma, nbinom\n",
    "\n",
    "%matplotlib inline"
   ]
  },
  {
   "cell_type": "code",
   "execution_count": null,
   "metadata": {},
   "outputs": [],
   "source": [
    "np.random.seed(314159)"
   ]
  },
  {
   "cell_type": "code",
   "execution_count": null,
   "metadata": {},
   "outputs": [],
   "source": [
    "sns.set_style(\"ticks\")"
   ]
  },
  {
   "cell_type": "code",
   "execution_count": null,
   "metadata": {},
   "outputs": [],
   "source": [
    "mpl.rcParams[\"axes.spines.top\"] = False\n",
    "mpl.rcParams[\"axes.spines.right\"] = False\n",
    "mpl.rcParams[\"savefig.dpi\"] = 300\n",
    "mpl.rcParams[\"figure.dpi\"] = 150\n",
    "mpl.rcParams[\"font.size\"] = 14\n",
    "mpl.rcParams[\"axes.labelsize\"] = 14\n",
    "mpl.rcParams[\"xtick.labelsize\"] = 14\n",
    "mpl.rcParams[\"ytick.labelsize\"] = 14\n",
    "mpl.rcParams[\"legend.fontsize\"] = 14\n",
    "mpl.rcParams[\"figure.facecolor\"] = \"white\""
   ]
  },
  {
   "cell_type": "code",
   "execution_count": null,
   "metadata": {},
   "outputs": [],
   "source": [
    "metadata_path = snakemake.input.metadata\n",
    "figure_path = snakemake.output.figure"
   ]
  },
  {
   "cell_type": "markdown",
   "metadata": {},
   "outputs": [],
   "source": [
    "## Prepare metadata"
   ]
  },
  {
   "cell_type": "code",
   "execution_count": null,
   "metadata": {},
   "outputs": [],
   "source": [
    "metadata = pd.read_csv(\n",
    "    metadata_path,\n",
    "    sep=\"\\t\"\n",
    ")"
   ]
  },
  {
   "cell_type": "code",
   "execution_count": null,
   "metadata": {},
   "outputs": [],
   "source": [
    "metadata.head()"
   ]
  },
  {
   "cell_type": "markdown",
   "metadata": {},
   "outputs": [],
   "source": [
    "Drop records with ambiguous collection or submission dates. We need complete dates for both fields to calculate the distribution of the delay between collection and submission."
   ]
  },
  {
   "cell_type": "code",
   "execution_count": null,
   "metadata": {},
   "outputs": [],
   "source": [
    "filtered_metadata = metadata[\n",
    "    (~metadata[\"date\"].str.contains(\"X\")) &\n",
    "    (~metadata[\"submission_date\"].str.contains(\"X\"))\n",
    "].copy()"
   ]
  },
  {
   "cell_type": "code",
   "execution_count": null,
   "metadata": {},
   "outputs": [],
   "source": [
    "metadata.shape"
   ]
  },
  {
   "cell_type": "code",
   "execution_count": null,
   "metadata": {},
   "outputs": [],
   "source": [
    "filtered_metadata.shape"
   ]
  },
  {
   "cell_type": "markdown",
   "metadata": {},
   "outputs": [],
   "source": [
    "Convert date fields into timestamps."
   ]
  },
  {
   "cell_type": "code",
   "execution_count": null,
   "metadata": {},
   "outputs": [],
   "source": [
    "filtered_metadata[\"date\"] = pd.to_datetime(filtered_metadata[\"date\"])\n",
    "filtered_metadata[\"submission_date\"] = pd.to_datetime(filtered_metadata[\"submission_date\"])"
   ]
  },
  {
   "cell_type": "code",
   "execution_count": null,
   "metadata": {},
   "outputs": [],
   "source": [
    "filtered_metadata.head()"
   ]
  },
  {
   "cell_type": "markdown",
   "metadata": {},
   "outputs": [],
   "source": [
    "## Calculate and plot delay between collection and submission"
   ]
  },
  {
   "cell_type": "code",
   "execution_count": null,
   "metadata": {},
   "outputs": [],
   "source": [
    "filtered_metadata[\"submission_delay\"] = filtered_metadata[\"submission_date\"] - filtered_metadata[\"date\"]"
   ]
  },
  {
   "cell_type": "code",
   "execution_count": null,
   "metadata": {},
   "outputs": [],
   "source": [
    "filtered_metadata.head()"
   ]
  },
  {
   "cell_type": "code",
   "execution_count": null,
   "metadata": {},
   "outputs": [],
   "source": [
    "filtered_metadata[\"submission_delay\"].describe()"
   ]
  },
  {
   "cell_type": "code",
   "execution_count": null,
   "metadata": {},
   "outputs": [],
   "source": [
    "delay_in_days = filtered_metadata[\"submission_delay\"].dt.days.values"
   ]
  },
  {
   "cell_type": "code",
   "execution_count": null,
   "metadata": {},
   "outputs": [],
   "source": [
    "bins = np.linspace(\n",
    "    0,\n",
    "    delay_in_days.max(),\n",
    "    100\n",
    ")"
   ]
  },
  {
   "cell_type": "code",
   "execution_count": null,
   "metadata": {},
   "outputs": [],
   "source": [
    "fig, ax = plt.subplots(1, 1, figsize=(8, 4))\n",
    "values, hist_bins, patches = ax.hist(delay_in_days, bins=bins)\n",
    "ax.set_xlabel(\"Delay between collection and submission (days)\")\n",
    "ax.set_ylabel(\"Number of strains\")"
   ]
  },
  {
   "cell_type": "markdown",
   "metadata": {},
   "outputs": [],
   "source": [
    "To understand how the delay between collection and submission changed over time, we inspect the distribution in sliding windows that match our original forecasting analysis (6 year windows, sliding by 6 months)."
   ]
  },
  {
   "cell_type": "code",
   "execution_count": null,
   "metadata": {},
   "outputs": [],
   "source": [
    "end_dates = pd.date_range(\n",
    "    \"2006-01-01\",\n",
    "    \"2020-01-01\",\n",
    "    freq=\"6MS\"\n",
    ")"
   ]
  },
  {
   "cell_type": "code",
   "execution_count": null,
   "metadata": {},
   "outputs": [],
   "source": [
    "years_back = pd.DateOffset(years=6)"
   ]
  },
  {
   "cell_type": "code",
   "execution_count": null,
   "metadata": {},
   "outputs": [],
   "source": [
    "end_dates.shape"
   ]
  },
  {
   "cell_type": "code",
   "execution_count": null,
   "metadata": {},
   "outputs": [],
   "source": [
    "delay_in_days.max()"
   ]
  },
  {
   "cell_type": "code",
   "execution_count": null,
   "metadata": {},
   "outputs": [],
   "source": [
    "delay_in_days = filtered_metadata[\"submission_delay\"].dt.days.values"
   ]
  },
  {
   "cell_type": "code",
   "execution_count": null,
   "metadata": {},
   "outputs": [],
   "source": [
    "bins = np.arange(0, 5000, 30)"
   ]
  },
  {
   "cell_type": "code",
   "execution_count": null,
   "metadata": {},
   "outputs": [],
   "source": [
    "start_dates = []\n",
    "mean_delays = []\n",
    "std_delays = []\n",
    "\n",
    "fig, axes = plt.subplots(\n",
    "    nrows=end_dates.shape[0],\n",
    "    ncols=1,\n",
    "    figsize=(8, 12),\n",
    "    sharex=True,\n",
    "    sharey=True\n",
    ")\n",
    "\n",
    "for end_date, ax in zip(end_dates, axes.flatten()):\n",
    "    start_date = end_date - years_back\n",
    "    window_metadata = filtered_metadata[\n",
    "        (filtered_metadata[\"date\"] >= start_date) &\n",
    "        (filtered_metadata[\"date\"] < end_date)\n",
    "    ]\n",
    "    window_delay_in_days = window_metadata[\"submission_delay\"].dt.days.values\n",
    "    \n",
    "    start_dates.append(start_date)\n",
    "    mean_delays.append(window_delay_in_days.mean())\n",
    "    std_delays.append(window_delay_in_days.std())\n",
    "    ax.hist(\n",
    "        window_delay_in_days,\n",
    "        bins=bins,\n",
    "        density=True\n",
    "    )\n",
    "    ax.set_yticklabels([])"
   ]
  },
  {
   "cell_type": "code",
   "execution_count": null,
   "metadata": {},
   "outputs": [],
   "source": [
    "start_dates = pd.to_datetime(start_dates)"
   ]
  },
  {
   "cell_type": "code",
   "execution_count": null,
   "metadata": {},
   "outputs": [],
   "source": [
    "fig, ax = plt.subplots(1, 1, figsize=(8, 4))\n",
    "ax.errorbar(\n",
    "    start_dates,\n",
    "    mean_delays,\n",
    "    std_delays,\n",
    "    marker=\"o\",\n",
    "    fmt=\"\"\n",
    ")\n",
    "ax.set_xlabel(\"Start of 6-year window\")\n",
    "ax.set_ylabel(\"Delay between collection and submission\")"
   ]
  },
  {
   "cell_type": "markdown",
   "metadata": {},
   "outputs": [],
   "source": [
    "## Investigate distribution of delays in the last complete year"
   ]
  },
  {
   "cell_type": "markdown",
   "metadata": {},
   "outputs": [],
   "source": [
    "Filter records to those from the last year. These should have more reasonable and consistent submission delays."
   ]
  },
  {
   "cell_type": "code",
   "execution_count": null,
   "metadata": {},
   "outputs": [],
   "source": [
    "recent_metadata = filtered_metadata[\n",
    "    (filtered_metadata[\"date\"] >= \"2019-01-01\") &\n",
    "    (filtered_metadata[\"date\"] < \"2020-01-01\")\n",
    "].copy()"
   ]
  },
  {
   "cell_type": "code",
   "execution_count": null,
   "metadata": {},
   "outputs": [],
   "source": [
    "filtered_metadata.shape"
   ]
  },
  {
   "cell_type": "code",
   "execution_count": null,
   "metadata": {},
   "outputs": [],
   "source": [
    "recent_metadata.shape"
   ]
  },
  {
   "cell_type": "code",
   "execution_count": null,
   "metadata": {},
   "outputs": [],
   "source": [
    "filtered_metadata.shape[0] - recent_metadata.shape[0]"
   ]
  },
  {
   "cell_type": "code",
   "execution_count": null,
   "metadata": {},
   "outputs": [],
   "source": [
    "recent_metadata.shape[0] / filtered_metadata.shape[0]"
   ]
  },
  {
   "cell_type": "code",
   "execution_count": null,
   "metadata": {},
   "outputs": [],
   "source": [
    "delay_in_days = recent_metadata[\"submission_delay\"].dt.days.values"
   ]
  },
  {
   "cell_type": "code",
   "execution_count": null,
   "metadata": {},
   "outputs": [],
   "source": [
    "bins = np.linspace(\n",
    "    0,\n",
    "    delay_in_days.max(),\n",
    "    100\n",
    ")"
   ]
  },
  {
   "cell_type": "code",
   "execution_count": null,
   "metadata": {},
   "outputs": [],
   "source": [
    "fig, ax = plt.subplots(1, 1, figsize=(8, 4))\n",
    "values, hist_bins, patches = ax.hist(delay_in_days, bins=bins)\n",
    "ax.set_xlabel(\"Delay between collection and submission (days)\")\n",
    "ax.set_ylabel(\"Number of strains\")"
   ]
  },
  {
   "cell_type": "code",
   "execution_count": null,
   "metadata": {},
   "outputs": [],
   "source": [
    "delay_in_days.mean()"
   ]
  },
  {
   "cell_type": "code",
   "execution_count": null,
   "metadata": {},
   "outputs": [],
   "source": [
    "delay_in_days.min()"
   ]
  },
  {
   "cell_type": "code",
   "execution_count": null,
   "metadata": {},
   "outputs": [],
   "source": [
    "(delay_in_days <= 31).sum()"
   ]
  },
  {
   "cell_type": "code",
   "execution_count": null,
   "metadata": {},
   "outputs": [],
   "source": [
    "delay_in_days.shape"
   ]
  },
  {
   "cell_type": "code",
   "execution_count": null,
   "metadata": {},
   "outputs": [],
   "source": [
    "(delay_in_days <= 31).sum() / delay_in_days.shape[0]"
   ]
  },
  {
   "cell_type": "code",
   "execution_count": null,
   "metadata": {},
   "outputs": [],
   "source": [
    "(delay_in_days <= 62).sum()"
   ]
  },
  {
   "cell_type": "code",
   "execution_count": null,
   "metadata": {},
   "outputs": [],
   "source": [
    "(delay_in_days <= 62).sum() / delay_in_days.shape[0]"
   ]
  },
  {
   "cell_type": "code",
   "execution_count": null,
   "metadata": {},
   "outputs": [],
   "source": [
    "recent_metadata[recent_metadata[\"submission_delay\"].dt.days > 400][\"submitting_lab\"].value_counts()"
   ]
  },
  {
   "cell_type": "code",
   "execution_count": null,
   "metadata": {},
   "outputs": [],
   "source": [
    "fig, ax = plt.subplots(1, 1, figsize=(8, 4))\n",
    "values, hist_bins, patches = ax.hist(delay_in_days, bins=bins, density=True)\n",
    "ax.set_xlabel(\"Delay between collection and submission (days)\")\n",
    "ax.set_ylabel(\"Density\")"
   ]
  },
  {
   "cell_type": "markdown",
   "metadata": {},
   "outputs": [],
   "source": [
    "## Find a gamma distribution that matches the empirical distribution"
   ]
  },
  {
   "cell_type": "markdown",
   "metadata": {},
   "outputs": [],
   "source": [
    "Find gamma distribution parameters that best correspond to the observed delay in days for the last year using maximum likelihood estimation."
   ]
  },
  {
   "cell_type": "code",
   "execution_count": null,
   "metadata": {},
   "outputs": [],
   "source": [
    "shape, loc, scale = gamma.fit(delay_in_days)"
   ]
  },
  {
   "cell_type": "code",
   "execution_count": null,
   "metadata": {},
   "outputs": [],
   "source": [
    "shape"
   ]
  },
  {
   "cell_type": "code",
   "execution_count": null,
   "metadata": {},
   "outputs": [],
   "source": [
    "loc"
   ]
  },
  {
   "cell_type": "code",
   "execution_count": null,
   "metadata": {},
   "outputs": [],
   "source": [
    "scale"
   ]
  },
  {
   "cell_type": "markdown",
   "metadata": {},
   "outputs": [],
   "source": [
    "Generate and plot random values from the gamma distribution matching the MLE parameters from the empirical distribution."
   ]
  },
  {
   "cell_type": "code",
   "execution_count": null,
   "metadata": {},
   "outputs": [],
   "source": [
    "gamma_data = gamma.rvs(\n",
    "    a=shape,\n",
    "    loc=loc,\n",
    "    scale=scale,\n",
    "    size=delay_in_days.shape[0]\n",
    ")"
   ]
  },
  {
   "cell_type": "code",
   "execution_count": null,
   "metadata": {},
   "outputs": [],
   "source": [
    "fig, ax = plt.subplots(1, 1, figsize=(8, 4))\n",
    "values, hist_bins, patches = ax.hist(\n",
    "    delay_in_days,\n",
    "    bins=bins,\n",
    "    density=True,\n",
    "    alpha=0.5,\n",
    "    label=\"empirical distribution\"\n",
    ")\n",
    "values, hist_bins, patches = ax.hist(\n",
    "    gamma_data,\n",
    "    bins=bins,\n",
    "    density=True,\n",
    "    color=\"orange\",\n",
    "    alpha=0.5,\n",
    "    label=\"gamma distribution\"\n",
    ")\n",
    "\n",
    "ax.set_xlabel(\"Delay in days\")\n",
    "ax.set_ylabel(\"Density\")\n",
    "ax.legend(\n",
    "    frameon=False\n",
    ")"
   ]
  },
  {
   "cell_type": "code",
   "execution_count": null,
   "metadata": {},
   "outputs": [],
   "source": [
    "gamma_data.min()"
   ]
  },
  {
   "cell_type": "code",
   "execution_count": null,
   "metadata": {},
   "outputs": [],
   "source": [
    "gamma_data.mean()"
   ]
  },
  {
   "cell_type": "code",
   "execution_count": null,
   "metadata": {},
   "outputs": [],
   "source": [
    "delay_in_days.mean()"
   ]
  },
  {
   "cell_type": "code",
   "execution_count": null,
   "metadata": {},
   "outputs": [],
   "source": [
    "shape"
   ]
  },
  {
   "cell_type": "code",
   "execution_count": null,
   "metadata": {},
   "outputs": [],
   "source": [
    "scale"
   ]
  },
  {
   "cell_type": "code",
   "execution_count": null,
   "metadata": {},
   "outputs": [],
   "source": [
    "shape * scale"
   ]
  },
  {
   "cell_type": "code",
   "execution_count": null,
   "metadata": {},
   "outputs": [],
   "source": [
    "loc"
   ]
  },
  {
   "cell_type": "code",
   "execution_count": null,
   "metadata": {},
   "outputs": [],
   "source": [
    "ideal_scale = scale / 3.0"
   ]
  },
  {
   "cell_type": "code",
   "execution_count": null,
   "metadata": {},
   "outputs": [],
   "source": [
    "ideal_scale"
   ]
  },
  {
   "cell_type": "code",
   "execution_count": null,
   "metadata": {},
   "outputs": [],
   "source": [
    "shape * ideal_scale"
   ]
  },
  {
   "cell_type": "code",
   "execution_count": null,
   "metadata": {},
   "outputs": [],
   "source": [
    "ideal_gamma_data = gamma.rvs(\n",
    "    a=shape,\n",
    "    loc=loc,\n",
    "    scale=ideal_scale,\n",
    "    size=delay_in_days.shape[0]\n",
    ")"
   ]
  },
  {
   "cell_type": "code",
   "execution_count": null,
   "metadata": {},
   "outputs": [],
   "source": [
    "fig, ax = plt.subplots(1, 1, figsize=(8, 4))\n",
    "values, hist_bins, patches = ax.hist(\n",
    "    delay_in_days,\n",
    "    bins=bins,\n",
    "    density=True,\n",
    "    alpha=0.5,\n",
    "    label=\"empirical distribution\"\n",
    ")\n",
    "\n",
    "values, hist_bins, patches = ax.hist(\n",
    "    gamma_data,\n",
    "    bins=bins,\n",
    "    density=True,\n",
    "    color=\"orange\",\n",
    "    alpha=0.5,\n",
    "    label=\"gamma distribution\"\n",
    ")\n",
    "\n",
    "values, hist_bins, patches = ax.hist(\n",
    "    ideal_gamma_data,\n",
    "    bins=bins,\n",
    "    density=True,\n",
    "    color=\"yellow\",\n",
    "    alpha=0.5,\n",
    "    label=\"ideal gamma distribution\"\n",
    ")\n",
    "\n",
    "ax.set_xlabel(\"Delay in days\")\n",
    "ax.set_ylabel(\"Density\")\n",
    "ax.legend(\n",
    "    frameon=False\n",
    ")"
   ]
  },
  {
   "cell_type": "code",
   "execution_count": null,
   "metadata": {},
   "outputs": [],
   "source": [
    "ideal_gamma_data.min()"
   ]
  },
  {
   "cell_type": "code",
   "execution_count": null,
   "metadata": {},
   "outputs": [],
   "source": [
    "ideal_shape = shape / 3.0"
   ]
  },
  {
   "cell_type": "code",
   "execution_count": null,
   "metadata": {},
   "outputs": [],
   "source": [
    "ideal_shape"
   ]
  },
  {
   "cell_type": "code",
   "execution_count": null,
   "metadata": {},
   "outputs": [],
   "source": [
    "ideal_shape * scale"
   ]
  },
  {
   "cell_type": "code",
   "execution_count": null,
   "metadata": {},
   "outputs": [],
   "source": [
    "ideal_gamma_data_by_shape = gamma.rvs(\n",
    "    a=ideal_shape,\n",
    "    loc=loc,\n",
    "    scale=scale,\n",
    "    size=delay_in_days.shape[0]\n",
    ")"
   ]
  },
  {
   "cell_type": "code",
   "execution_count": null,
   "metadata": {},
   "outputs": [],
   "source": [
    "fig, ax = plt.subplots(1, 1, figsize=(8, 4))\n",
    "values, hist_bins, patches = ax.hist(\n",
    "    delay_in_days,\n",
    "    bins=bins,\n",
    "    density=True,\n",
    "    alpha=0.5,\n",
    "    label=\"empirical distribution\"\n",
    ")\n",
    "\n",
    "values, hist_bins, patches = ax.hist(\n",
    "    gamma_data,\n",
    "    bins=bins,\n",
    "    density=True,\n",
    "    color=\"orange\",\n",
    "    alpha=0.5,\n",
    "    label=\"gamma distribution\"\n",
    ")\n",
    "\n",
    "values, hist_bins, patches = ax.hist(\n",
    "    ideal_gamma_data,\n",
    "    bins=bins,\n",
    "    density=True,\n",
    "    color=\"yellow\",\n",
    "    alpha=0.5,\n",
    "    label=\"ideal gamma distribution (scale)\"\n",
    ")\n",
    "\n",
    "values, hist_bins, patches = ax.hist(\n",
    "    ideal_gamma_data_by_shape,\n",
    "    bins=bins,\n",
    "    density=True,\n",
    "    color=\"purple\",\n",
    "    alpha=0.5,\n",
    "    label=\"ideal gamma distribution (shape)\"\n",
    ")\n",
    "\n",
    "\n",
    "ax.set_xlabel(\"Delay in days\")\n",
    "ax.set_ylabel(\"Density\")\n",
    "ax.legend(\n",
    "    frameon=False\n",
    ")"
   ]
  },
  {
   "cell_type": "code",
   "execution_count": null,
   "metadata": {},
   "outputs": [],
   "source": [
    "ideal_gamma_data_by_shape.min()"
   ]
  },
  {
   "cell_type": "code",
   "execution_count": null,
   "metadata": {},
   "outputs": [],
   "source": [
    "(ideal_gamma_data < 31).sum() / ideal_gamma_data.shape[0]"
   ]
  },
  {
   "cell_type": "code",
   "execution_count": null,
   "metadata": {},
   "outputs": [],
   "source": [
    "(ideal_gamma_data < 62).sum() / ideal_gamma_data.shape[0]"
   ]
  },
  {
   "cell_type": "code",
   "execution_count": null,
   "metadata": {},
   "outputs": [],
   "source": [
    "(ideal_gamma_data_by_shape < 31).sum() / ideal_gamma_data_by_shape.shape[0]"
   ]
  },
  {
   "cell_type": "code",
   "execution_count": null,
   "metadata": {},
   "outputs": [],
   "source": [
    "(ideal_gamma_data_by_shape < 62).sum() / ideal_gamma_data_by_shape.shape[0]"
   ]
  },
  {
   "cell_type": "code",
   "execution_count": null,
   "metadata": {},
   "outputs": [],
   "source": [
    "ideal_gamma_data.mean()"
   ]
  },
  {
   "cell_type": "code",
   "execution_count": null,
   "metadata": {},
   "outputs": [],
   "source": [
    "ideal_gamma_data_by_shape.mean()"
   ]
  },
  {
   "cell_type": "code",
   "execution_count": null,
   "metadata": {},
   "outputs": [],
   "source": [
    "fig, ax = plt.subplots(1, 1, figsize=(8, 4))\n",
    "values, hist_bins, patches = ax.hist(\n",
    "    delay_in_days,\n",
    "    bins=bins,\n",
    "    density=True,\n",
    "    alpha=0.75,\n",
    "    label=\"empirical distribution\"\n",
    ")\n",
    "\n",
    "values, hist_bins, patches = ax.hist(\n",
    "    gamma_data,\n",
    "    bins=bins,\n",
    "    density=True,\n",
    "    color=\"orange\",\n",
    "    alpha=0.5,\n",
    "    label=\"ML gamma distribution\"\n",
    ")\n",
    "\n",
    "values, hist_bins, patches = ax.hist(\n",
    "    ideal_gamma_data,\n",
    "    bins=bins,\n",
    "    density=True,\n",
    "    color=\"purple\",\n",
    "    alpha=0.5,\n",
    "    label=\"ideal gamma distribution\"\n",
    ")\n",
    "\n",
    "ax.axvline(\n",
    "    x=0,\n",
    "    color=\"#999999\",\n",
    "    label=\"retrospective delay\"\n",
    ")\n",
    "\n",
    "ax.set_xlabel(\"Delay between sample collection and submission (days)\")\n",
    "ax.set_ylabel(\"Density\")\n",
    "ax.legend(\n",
    "    frameon=False\n",
    ")\n",
    "\n",
    "plt.tight_layout()\n",
    "plt.savefig(figure_path)"
   ]
  },
  {
   "cell_type": "code",
   "execution_count": null,
   "metadata": {},
   "outputs": [],
   "source": []
  }
 ],
 "metadata": {
  "kernelspec": {
   "display_name": "Python 3",
   "language": "python",
   "name": "python3"
  },
  "language_info": {
   "codemirror_mode": {
    "name": "ipython",
    "version": 3
   },
   "file_extension": ".py",
   "mimetype": "text/x-python",
   "name": "python",
   "nbconvert_exporter": "python",
   "pygments_lexer": "ipython3",
   "version": "3.6.7"
  }
 },
 "nbformat": 4,
 "nbformat_minor": 4
}
