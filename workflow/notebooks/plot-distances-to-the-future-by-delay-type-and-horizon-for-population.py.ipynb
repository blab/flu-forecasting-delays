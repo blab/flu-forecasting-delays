{
 "cells": [
  {
   "cell_type": "code",
   "execution_count": null,
   "id": "7eb48dc7-7119-4e13-9865-ac2e31da1ac9",
   "metadata": {},
   "outputs": [],
   "source": [
    "import matplotlib.pyplot as plt\n",
    "import numpy as np\n",
    "import pandas as pd\n",
    "import seaborn as sns\n",
    "\n",
    "%matplotlib inline"
   ]
  },
  {
   "cell_type": "code",
   "execution_count": null,
   "id": "9c66adf7-b7bf-4721-a348-79d5294f03ef",
   "metadata": {},
   "outputs": [],
   "source": [
    "sns.set_style(\"ticks\")"
   ]
  },
  {
   "cell_type": "markdown",
   "id": "210b7913-2d42-4beb-9146-9554f2855b3f",
   "metadata": {},
   "source": [
    "## Compare distances\n",
    "\n",
    "Compare the model distances between the estimated and observed future populations when the estimated populations depend on different data delay conditions. We expect that the \"no delay\" scenario will be closer to the true future on average followed by the \"ideal\" and then the \"realistic\" conditions."
   ]
  },
  {
   "cell_type": "code",
   "execution_count": null,
   "id": "20003bcb-0156-4b20-a5c1-29562e7a7cee",
   "metadata": {},
   "outputs": [],
   "source": [
    "distances = pd.read_csv(\n",
    "    snakemake.input.distances,\n",
    "    sep=\"\\t\",\n",
    "    parse_dates=[\n",
    "        \"initial_timepoint\",\n",
    "        \"future_timepoint\",\n",
    "    ]\n",
    ")"
   ]
  },
  {
   "cell_type": "code",
   "execution_count": null,
   "id": "65f3a0f1-b8cd-405e-bff5-d61282c53e34",
   "metadata": {},
   "outputs": [],
   "source": [
    "distances"
   ]
  },
  {
   "cell_type": "code",
   "execution_count": null,
   "id": "06c229a3",
   "metadata": {},
   "outputs": [],
   "source": [
    "delay_types = set(distances[\"delay_type\"].drop_duplicates().values)"
   ]
  },
  {
   "cell_type": "code",
   "execution_count": null,
   "id": "2d89bc7f",
   "metadata": {},
   "outputs": [],
   "source": [
    "delay_types"
   ]
  },
  {
   "cell_type": "code",
   "execution_count": null,
   "id": "eab4679d",
   "metadata": {},
   "outputs": [],
   "source": [
    "realistic_delay_type = list(delay_types - {\"none\", \"ideal\"})[0]"
   ]
  },
  {
   "cell_type": "code",
   "execution_count": null,
   "id": "7be1c9df",
   "metadata": {},
   "outputs": [],
   "source": [
    "realistic_delay_type"
   ]
  },
  {
   "cell_type": "code",
   "execution_count": null,
   "id": "0dc8c4a1-a764-4bba-af9f-a228c4988cc0",
   "metadata": {},
   "outputs": [],
   "source": [
    "summary_distances_by_delay_and_horizon = distances.groupby([\"horizon\", \"delay_type\"], sort=False).agg({\n",
    "    \"distance\": [\"mean\", \"median\", \"std\"],\n",
    "}).round(2)"
   ]
  },
  {
   "cell_type": "code",
   "execution_count": null,
   "id": "6e855244",
   "metadata": {},
   "outputs": [],
   "source": [
    "summary_distances_by_delay_and_horizon[(\"distance\", \"mean\")]"
   ]
  },
  {
   "cell_type": "code",
   "execution_count": null,
   "id": "bda0442e",
   "metadata": {},
   "outputs": [],
   "source": [
    "summary_distances_by_delay_and_horizon.columns"
   ]
  },
  {
   "cell_type": "code",
   "execution_count": null,
   "id": "1aa26b17",
   "metadata": {},
   "outputs": [],
   "source": [
    "summary_distances_by_delay_and_horizon.columns = [\n",
    "    column[1]\n",
    "    for column in summary_distances_by_delay_and_horizon.columns\n",
    "]"
   ]
  },
  {
   "cell_type": "code",
   "execution_count": null,
   "id": "de6af4ac",
   "metadata": {},
   "outputs": [],
   "source": [
    "summary_distances_by_delay_and_horizon"
   ]
  },
  {
   "cell_type": "code",
   "execution_count": null,
   "id": "fdd1b016",
   "metadata": {},
   "outputs": [],
   "source": [
    "summary_distances_by_delay_and_horizon[\"mean_std\"] = summary_distances_by_delay_and_horizon.apply(\n",
    "    lambda row: f\"{row['mean']:.2f} +/- {row['std']:.2f}\",\n",
    "    axis=1,\n",
    ")"
   ]
  },
  {
   "cell_type": "code",
   "execution_count": null,
   "id": "cebfc718",
   "metadata": {},
   "outputs": [],
   "source": [
    "summary_distances_by_delay_and_horizon"
   ]
  },
  {
   "cell_type": "code",
   "execution_count": null,
   "id": "52f3674b",
   "metadata": {},
   "outputs": [],
   "source": [
    "summary_distances_by_delay_and_horizon = summary_distances_by_delay_and_horizon.pivot_table(\n",
    "    values=[\"mean_std\"],\n",
    "    index=[\"horizon\"],\n",
    "    columns=[\"delay_type\"],\n",
    "    aggfunc=lambda value: value,\n",
    "    sort=False,\n",
    ")"
   ]
  },
  {
   "cell_type": "code",
   "execution_count": null,
   "id": "fd09532b",
   "metadata": {},
   "outputs": [],
   "source": [
    "summary_distances_by_delay_and_horizon"
   ]
  },
  {
   "cell_type": "code",
   "execution_count": null,
   "id": "cca9a789",
   "metadata": {},
   "outputs": [],
   "source": [
    "summary_distances_by_delay_and_horizon.columns = [\n",
    "    column[1]\n",
    "    for column in summary_distances_by_delay_and_horizon.columns\n",
    "]"
   ]
  },
  {
   "cell_type": "code",
   "execution_count": null,
   "id": "7d758dda",
   "metadata": {},
   "outputs": [],
   "source": [
    "summary_distances_by_delay_and_horizon = summary_distances_by_delay_and_horizon.reset_index()"
   ]
  },
  {
   "cell_type": "code",
   "execution_count": null,
   "id": "88f0fd4a",
   "metadata": {},
   "outputs": [],
   "source": [
    "summary_distances_by_delay_and_horizon"
   ]
  },
  {
   "cell_type": "code",
   "execution_count": null,
   "id": "3aad1bbb",
   "metadata": {},
   "outputs": [],
   "source": [
    "if realistic_delay_type == \"observed\":\n",
    "    table_template_header = r\"\"\"\n",
    "\\begin{tabular*}{0.7\\textwidth}{rrrr}\n",
    "\\toprule\n",
    "          & \\multicolumn{3}{c}{Distance to future (mean +/- std dev AAs)} \\\\\n",
    "  Horizon & No delay & Ideal delay & Observed delay \\\\\n",
    "\\midrule\n",
    "\"\"\"\n",
    "    table_template_row = r\"{horizon} & {none} & {ideal} & {observed} \\\\\"\n",
    "else:\n",
    "    table_template_header = r\"\"\"\n",
    "\\begin{tabular*}{0.7\\textwidth}{rrrr}\n",
    "\\toprule\n",
    "          & \\multicolumn{3}{c}{Distance to future (mean +/- std dev AAs)} \\\\\n",
    "  Horizon & No delay & Ideal delay & Realistic delay \\\\\n",
    "\\midrule\n",
    "\"\"\"\n",
    "    table_template_row = r\"{horizon} & {none} & {ideal} & {realistic} \\\\\"\n",
    "\n",
    "table_template_footer = r\"\"\"\n",
    "\\bottomrule\n",
    "\\end{tabular*}\n",
    "\"\"\""
   ]
  },
  {
   "cell_type": "code",
   "execution_count": null,
   "id": "a880e6b0",
   "metadata": {},
   "outputs": [],
   "source": [
    "with open(snakemake.output.distances_summary_table, \"w\", encoding=\"utf-8\") as oh:\n",
    "    oh.write(table_template_header + \"\\n\")\n",
    "    \n",
    "    for record in summary_distances_by_delay_and_horizon.to_dict(orient=\"records\"):\n",
    "        oh.write(table_template_row.format(**record) + \"\\n\")\n",
    "    \n",
    "    oh.write(table_template_footer + \"\\n\")"
   ]
  },
  {
   "cell_type": "code",
   "execution_count": null,
   "id": "db790745-e3eb-42d0-af18-0f47978ff1e1",
   "metadata": {},
   "outputs": [],
   "source": [
    "delay_order = (\"none\", \"ideal\", realistic_delay_type)"
   ]
  },
  {
   "cell_type": "code",
   "execution_count": null,
   "id": "bbd650f1-5933-4f21-93ad-fa699f8d9b4b",
   "metadata": {},
   "outputs": [],
   "source": [
    "fig, ax = plt.subplots(1, 1, figsize=(6, 4), dpi=300)\n",
    "\n",
    "sns.violinplot(\n",
    "    x=\"horizon\",\n",
    "    y=\"distance\",\n",
    "    hue=\"delay_type\",\n",
    "    hue_order=delay_order,\n",
    "    data=distances,\n",
    "    palette=[\"#FFFFFF\"] * len(delay_order),\n",
    "    inner=\"quartile\",\n",
    "    cut=0,\n",
    "    ax=ax,\n",
    ")\n",
    "sns.stripplot(\n",
    "    x=\"horizon\",\n",
    "    y=\"distance\",\n",
    "    hue=\"delay_type\",\n",
    "    data=distances,\n",
    "    hue_order=delay_order,\n",
    "    alpha=0.25,\n",
    "    ax=ax,\n",
    "    dodge=True,\n",
    ")\n",
    "\n",
    "ax.set_ylim(bottom=0)\n",
    "\n",
    "handles, labels = ax.get_legend_handles_labels()\n",
    "for handle in handles:\n",
    "    handle.set_alpha(1)\n",
    "\n",
    "ax.legend(\n",
    "    handles=handles[3:],\n",
    "    labels=labels[3:],\n",
    "    loc=\"upper left\",\n",
    "    title=\"Type of delay\",\n",
    "    frameon=False,\n",
    ")\n",
    "ax.set_xlabel(\"Forecast horizon (months)\")\n",
    "ax.set_ylabel(\"Distance to the future (AAs)\")\n",
    "\n",
    "sns.despine()\n",
    "\n",
    "plt.tight_layout()\n",
    "\n",
    "plt.savefig(snakemake.output.distances_figure)"
   ]
  },
  {
   "cell_type": "code",
   "execution_count": null,
   "id": "773c3f4f",
   "metadata": {},
   "outputs": [],
   "source": [
    "fig, ax = plt.subplots(1, 1, figsize=(6, 4), dpi=300)\n",
    "\n",
    "sns.violinplot(\n",
    "    x=\"horizon\",\n",
    "    y=\"optimal_distance\",\n",
    "    hue=\"delay_type\",\n",
    "    hue_order=delay_order,\n",
    "    data=distances,\n",
    "    palette=[\"#FFFFFF\"] * len(delay_order),\n",
    "    inner=\"quartile\",\n",
    "    cut=0,\n",
    "    ax=ax,\n",
    ")\n",
    "sns.stripplot(\n",
    "    x=\"horizon\",\n",
    "    y=\"optimal_distance\",\n",
    "    hue=\"delay_type\",\n",
    "    data=distances,\n",
    "    hue_order=delay_order,\n",
    "    alpha=0.25,\n",
    "    ax=ax,\n",
    "    dodge=True,\n",
    ")\n",
    "\n",
    "ax.set_ylim(bottom=0)\n",
    "\n",
    "handles, labels = ax.get_legend_handles_labels()\n",
    "for handle in handles:\n",
    "    handle.set_alpha(1)\n",
    "\n",
    "ax.legend(\n",
    "    handles=handles[3:],\n",
    "    labels=labels[3:],\n",
    "    loc=\"upper left\",\n",
    "    title=\"Type of delay\",\n",
    "    frameon=False,\n",
    ")\n",
    "ax.set_xlabel(\"Forecast horizon (months)\")\n",
    "ax.set_ylabel(\"Optimal distance to the future (AAs)\")\n",
    "\n",
    "sns.despine()\n",
    "\n",
    "plt.tight_layout()\n",
    "\n",
    "plt.savefig(snakemake.output.optimal_distances_figure)"
   ]
  },
  {
   "cell_type": "markdown",
   "id": "4a170539",
   "metadata": {},
   "source": [
    "## Plot effects of interventions on distances to the future"
   ]
  },
  {
   "cell_type": "code",
   "execution_count": null,
   "id": "61a82bf5",
   "metadata": {},
   "outputs": [],
   "source": [
    "distances"
   ]
  },
  {
   "cell_type": "markdown",
   "id": "5e44c8ac",
   "metadata": {},
   "source": [
    "### Compare effects of interventions on distance to the future for fitness metric"
   ]
  },
  {
   "cell_type": "code",
   "execution_count": null,
   "id": "16787b90",
   "metadata": {},
   "outputs": [],
   "source": [
    "status_quo = distances.query(\n",
    "    f\"(horizon == 12) & (delay_type == '{realistic_delay_type}')\"\n",
    ").loc[\n",
    "    :,\n",
    "    (\"future_timepoint\", \"distance\")\n",
    "].copy()"
   ]
  },
  {
   "cell_type": "code",
   "execution_count": null,
   "id": "d12851aa",
   "metadata": {},
   "outputs": [],
   "source": [
    "status_quo[\"intervention\"] = \"status_quo\""
   ]
  },
  {
   "cell_type": "code",
   "execution_count": null,
   "id": "29ad912f",
   "metadata": {},
   "outputs": [],
   "source": [
    "improved_vaccine_dev = distances.query(\n",
    "    f\"(horizon == 6) & (delay_type == '{realistic_delay_type}')\"\n",
    ").loc[\n",
    "    :,\n",
    "    (\"future_timepoint\", \"distance\")\n",
    "].copy()"
   ]
  },
  {
   "cell_type": "code",
   "execution_count": null,
   "id": "92a22937",
   "metadata": {},
   "outputs": [],
   "source": [
    "improved_vaccine_dev[\"intervention\"] = \"improved_vaccine\""
   ]
  },
  {
   "cell_type": "code",
   "execution_count": null,
   "id": "d9a2163e",
   "metadata": {},
   "outputs": [],
   "source": [
    "improved_surveillance = distances.query(\n",
    "    f\"(horizon == 12) & (delay_type == 'ideal')\"\n",
    ").loc[\n",
    "    :,\n",
    "    (\"future_timepoint\", \"distance\")\n",
    "].copy()"
   ]
  },
  {
   "cell_type": "code",
   "execution_count": null,
   "id": "b14e60ba",
   "metadata": {},
   "outputs": [],
   "source": [
    "improved_surveillance[\"intervention\"] = \"improved_surveillance\""
   ]
  },
  {
   "cell_type": "code",
   "execution_count": null,
   "id": "cb7df7e3",
   "metadata": {},
   "outputs": [],
   "source": [
    "improved_vaccine_and_surveillance = distances.query(\n",
    "    f\"(horizon == 6) & (delay_type == 'ideal')\"\n",
    ").loc[\n",
    "    :,\n",
    "    (\"future_timepoint\", \"distance\")\n",
    "].copy()"
   ]
  },
  {
   "cell_type": "code",
   "execution_count": null,
   "id": "d7066627",
   "metadata": {},
   "outputs": [],
   "source": [
    "improved_vaccine_and_surveillance[\"intervention\"] = \"improved_vaccine_and_surveillance\""
   ]
  },
  {
   "cell_type": "code",
   "execution_count": null,
   "id": "dfa9f27f",
   "metadata": {},
   "outputs": [],
   "source": [
    "interventions = pd.concat([\n",
    "    status_quo,\n",
    "    improved_vaccine_dev,\n",
    "    improved_surveillance,\n",
    "    improved_vaccine_and_surveillance,\n",
    "])"
   ]
  },
  {
   "cell_type": "code",
   "execution_count": null,
   "id": "31d352f9",
   "metadata": {},
   "outputs": [],
   "source": [
    "interventions.head()"
   ]
  },
  {
   "cell_type": "code",
   "execution_count": null,
   "id": "07e0bf11",
   "metadata": {},
   "outputs": [],
   "source": [
    "interventions_by_timepoint = interventions.pivot_table(\n",
    "    index=[\"future_timepoint\"],\n",
    "    columns=[\"intervention\"],\n",
    "    values=\"distance\",\n",
    ").dropna()"
   ]
  },
  {
   "cell_type": "code",
   "execution_count": null,
   "id": "e089bd04",
   "metadata": {},
   "outputs": [],
   "source": [
    "interventions_by_timepoint"
   ]
  },
  {
   "cell_type": "code",
   "execution_count": null,
   "id": "f74eb87f",
   "metadata": {},
   "outputs": [],
   "source": [
    "interventions_by_timepoint[\"status_quo_vs_improved_vaccine\"] = (\n",
    "    interventions_by_timepoint[\"status_quo\"] - interventions_by_timepoint[\"improved_vaccine\"]\n",
    ")\n",
    "\n",
    "interventions_by_timepoint[\"status_quo_vs_improved_surveillance\"] = (\n",
    "    interventions_by_timepoint[\"status_quo\"] - interventions_by_timepoint[\"improved_surveillance\"]\n",
    ")\n",
    "\n",
    "interventions_by_timepoint[\"status_quo_vs_improved_vaccine_and_surveillance\"] = (\n",
    "    interventions_by_timepoint[\"status_quo\"] - interventions_by_timepoint[\"improved_vaccine_and_surveillance\"]\n",
    ")"
   ]
  },
  {
   "cell_type": "code",
   "execution_count": null,
   "id": "af405540",
   "metadata": {},
   "outputs": [],
   "source": [
    "differences_by_intervention = interventions_by_timepoint.reset_index().melt(\n",
    "    id_vars=[\n",
    "        \"future_timepoint\",\n",
    "    ],\n",
    "    value_vars=[\n",
    "        \"status_quo_vs_improved_vaccine\",\n",
    "        \"status_quo_vs_improved_surveillance\",\n",
    "        \"status_quo_vs_improved_vaccine_and_surveillance\",\n",
    "    ],\n",
    "    value_name=\"difference_in_distance\",\n",
    ")"
   ]
  },
  {
   "cell_type": "code",
   "execution_count": null,
   "id": "95d373f3",
   "metadata": {},
   "outputs": [],
   "source": [
    "differences_by_intervention[\"intervention_name\"] = differences_by_intervention[\"intervention\"].apply(\n",
    "    lambda intervention: \" \".join(intervention.replace(\"status_quo_vs_\", \"\").split(\"_\"))\n",
    ")"
   ]
  },
  {
   "cell_type": "code",
   "execution_count": null,
   "id": "b4bc9a4d",
   "metadata": {},
   "outputs": [],
   "source": [
    "differences_by_intervention"
   ]
  },
  {
   "cell_type": "code",
   "execution_count": null,
   "id": "ec565eb5",
   "metadata": {},
   "outputs": [],
   "source": [
    "intervention_order = [\n",
    "    \"improved vaccine\",\n",
    "    \"improved surveillance\",\n",
    "    \"improved vaccine and surveillance\",\n",
    "]"
   ]
  },
  {
   "cell_type": "code",
   "execution_count": null,
   "id": "d19097b7",
   "metadata": {},
   "outputs": [],
   "source": [
    "fig, ax = plt.subplots(1, 1, figsize=(10, 5), dpi=300)\n",
    "\n",
    "sns.violinplot(\n",
    "    x=\"intervention_name\",\n",
    "    y=\"difference_in_distance\",\n",
    "    data=differences_by_intervention,\n",
    "    order=intervention_order,\n",
    "    color=\"#FFFFFF\",\n",
    "    cut=0,\n",
    "    inner=\"quartile\",\n",
    "    ax=ax,\n",
    ")\n",
    "sns.stripplot(\n",
    "    x=\"intervention_name\",\n",
    "    y=\"difference_in_distance\",\n",
    "    data=differences_by_intervention,\n",
    "    order=intervention_order,\n",
    "    color=\"#000000\",    \n",
    "    alpha=0.35,\n",
    "    ax=ax,\n",
    "    dodge=True,\n",
    ")\n",
    "\n",
    "ax.axhline(\n",
    "    y=0,\n",
    "    color=\"#000000\",\n",
    "    zorder=-10,\n",
    "    linewidth=1,\n",
    ")\n",
    "\n",
    "ax.set_xlabel(\"Intervention\")\n",
    "ax.set_ylabel(\"Difference in distance to future per timepoint\\n(status quo - intervention)\")\n",
    "\n",
    "#ax.set_ylim(\n",
    "#    bottom=differences_in_error_by_intervention[\"difference_in_total_absolute_forecast_error\"].min() - 0.2,\n",
    "#)\n",
    "\n",
    "ax.text(\n",
    "    0.5,\n",
    "    0.95,\n",
    "    \"more accurate\",\n",
    "    horizontalalignment='center',\n",
    "    verticalalignment='center',\n",
    "    transform=ax.transAxes,\n",
    ")\n",
    "\n",
    "ax.text(\n",
    "    0.5,\n",
    "    0.05,\n",
    "    \"less accurate\",\n",
    "    horizontalalignment='center',\n",
    "    verticalalignment='center',\n",
    "    transform=ax.transAxes,\n",
    ")\n",
    "\n",
    "sns.despine()\n",
    "plt.tight_layout()\n",
    "\n",
    "plt.savefig(snakemake.output.effects_of_realistic_interventions)"
   ]
  },
  {
   "cell_type": "code",
   "execution_count": null,
   "id": "2aef4573",
   "metadata": {
    "scrolled": true
   },
   "outputs": [],
   "source": [
    "differences_by_intervention.sort_values(\"difference_in_distance\").head(10)"
   ]
  },
  {
   "cell_type": "markdown",
   "id": "52c34224",
   "metadata": {},
   "source": [
    "### Compare effects of interventions on optimal distance to the future"
   ]
  },
  {
   "cell_type": "code",
   "execution_count": null,
   "id": "fad0dba5",
   "metadata": {},
   "outputs": [],
   "source": [
    "status_quo = distances.query(\n",
    "    f\"(horizon == 12) & (delay_type == '{realistic_delay_type}')\"\n",
    ").loc[\n",
    "    :,\n",
    "    (\"future_timepoint\", \"optimal_distance\")\n",
    "].copy()"
   ]
  },
  {
   "cell_type": "code",
   "execution_count": null,
   "id": "23cd8772",
   "metadata": {},
   "outputs": [],
   "source": [
    "status_quo[\"intervention\"] = \"status_quo\""
   ]
  },
  {
   "cell_type": "code",
   "execution_count": null,
   "id": "b38d3228",
   "metadata": {},
   "outputs": [],
   "source": [
    "improved_vaccine_dev = distances.query(\n",
    "    f\"(horizon == 6) & (delay_type == '{realistic_delay_type}')\"\n",
    ").loc[\n",
    "    :,\n",
    "    (\"future_timepoint\", \"optimal_distance\")\n",
    "].copy()"
   ]
  },
  {
   "cell_type": "code",
   "execution_count": null,
   "id": "d22efe1f",
   "metadata": {},
   "outputs": [],
   "source": [
    "improved_vaccine_dev[\"intervention\"] = \"improved_vaccine\""
   ]
  },
  {
   "cell_type": "code",
   "execution_count": null,
   "id": "58ce5953",
   "metadata": {},
   "outputs": [],
   "source": [
    "improved_surveillance = distances.query(\n",
    "    f\"(horizon == 12) & (delay_type == 'ideal')\"\n",
    ").loc[\n",
    "    :,\n",
    "    (\"future_timepoint\", \"optimal_distance\")\n",
    "].copy()"
   ]
  },
  {
   "cell_type": "code",
   "execution_count": null,
   "id": "5699e8fd",
   "metadata": {},
   "outputs": [],
   "source": [
    "improved_surveillance[\"intervention\"] = \"improved_surveillance\""
   ]
  },
  {
   "cell_type": "code",
   "execution_count": null,
   "id": "73681b4a",
   "metadata": {},
   "outputs": [],
   "source": [
    "improved_vaccine_and_surveillance = distances.query(\n",
    "    f\"(horizon == 6) & (delay_type == 'ideal')\"\n",
    ").loc[\n",
    "    :,\n",
    "    (\"future_timepoint\", \"optimal_distance\")\n",
    "].copy()"
   ]
  },
  {
   "cell_type": "code",
   "execution_count": null,
   "id": "38fc1a4e",
   "metadata": {},
   "outputs": [],
   "source": [
    "improved_vaccine_and_surveillance[\"intervention\"] = \"improved_vaccine_and_surveillance\""
   ]
  },
  {
   "cell_type": "code",
   "execution_count": null,
   "id": "1c30a06c",
   "metadata": {},
   "outputs": [],
   "source": [
    "interventions = pd.concat([\n",
    "    status_quo,\n",
    "    improved_vaccine_dev,\n",
    "    improved_surveillance,\n",
    "    improved_vaccine_and_surveillance,\n",
    "])"
   ]
  },
  {
   "cell_type": "code",
   "execution_count": null,
   "id": "745c652e",
   "metadata": {},
   "outputs": [],
   "source": [
    "interventions.head()"
   ]
  },
  {
   "cell_type": "code",
   "execution_count": null,
   "id": "83650b26",
   "metadata": {},
   "outputs": [],
   "source": [
    "interventions_by_timepoint = interventions.pivot_table(\n",
    "    index=[\"future_timepoint\"],\n",
    "    columns=[\"intervention\"],\n",
    "    values=\"optimal_distance\",\n",
    ").dropna()"
   ]
  },
  {
   "cell_type": "code",
   "execution_count": null,
   "id": "e1981651",
   "metadata": {},
   "outputs": [],
   "source": [
    "interventions_by_timepoint"
   ]
  },
  {
   "cell_type": "code",
   "execution_count": null,
   "id": "eb9727c9",
   "metadata": {},
   "outputs": [],
   "source": [
    "interventions_by_timepoint[\"status_quo_vs_improved_vaccine\"] = (\n",
    "    interventions_by_timepoint[\"status_quo\"] - interventions_by_timepoint[\"improved_vaccine\"]\n",
    ")\n",
    "\n",
    "interventions_by_timepoint[\"status_quo_vs_improved_surveillance\"] = (\n",
    "    interventions_by_timepoint[\"status_quo\"] - interventions_by_timepoint[\"improved_surveillance\"]\n",
    ")\n",
    "\n",
    "interventions_by_timepoint[\"status_quo_vs_improved_vaccine_and_surveillance\"] = (\n",
    "    interventions_by_timepoint[\"status_quo\"] - interventions_by_timepoint[\"improved_vaccine_and_surveillance\"]\n",
    ")"
   ]
  },
  {
   "cell_type": "code",
   "execution_count": null,
   "id": "9fb6ea2a",
   "metadata": {},
   "outputs": [],
   "source": [
    "differences_by_intervention = interventions_by_timepoint.reset_index().melt(\n",
    "    id_vars=[\n",
    "        \"future_timepoint\",\n",
    "    ],\n",
    "    value_vars=[\n",
    "        \"status_quo_vs_improved_vaccine\",\n",
    "        \"status_quo_vs_improved_surveillance\",\n",
    "        \"status_quo_vs_improved_vaccine_and_surveillance\",\n",
    "    ],\n",
    "    value_name=\"difference_in_optimal_distance\",\n",
    ")"
   ]
  },
  {
   "cell_type": "code",
   "execution_count": null,
   "id": "1ed6b2ba",
   "metadata": {},
   "outputs": [],
   "source": [
    "differences_by_intervention[\"intervention_name\"] = differences_by_intervention[\"intervention\"].apply(\n",
    "    lambda intervention: \" \".join(intervention.replace(\"status_quo_vs_\", \"\").split(\"_\"))\n",
    ")"
   ]
  },
  {
   "cell_type": "code",
   "execution_count": null,
   "id": "e589ad07",
   "metadata": {},
   "outputs": [],
   "source": [
    "differences_by_intervention"
   ]
  },
  {
   "cell_type": "code",
   "execution_count": null,
   "id": "067fe7c1",
   "metadata": {},
   "outputs": [],
   "source": [
    "intervention_order = [\n",
    "    \"improved vaccine\",\n",
    "    \"improved surveillance\",\n",
    "    \"improved vaccine and surveillance\",\n",
    "]"
   ]
  },
  {
   "cell_type": "code",
   "execution_count": null,
   "id": "62a58b51",
   "metadata": {},
   "outputs": [],
   "source": [
    "fig, ax = plt.subplots(1, 1, figsize=(10, 5), dpi=300)\n",
    "\n",
    "sns.violinplot(\n",
    "    x=\"intervention_name\",\n",
    "    y=\"difference_in_optimal_distance\",\n",
    "    data=differences_by_intervention,\n",
    "    order=intervention_order,\n",
    "    color=\"#FFFFFF\",\n",
    "    cut=0,\n",
    "    inner=\"quartile\",\n",
    "    ax=ax,\n",
    ")\n",
    "sns.stripplot(\n",
    "    x=\"intervention_name\",\n",
    "    y=\"difference_in_optimal_distance\",\n",
    "    data=differences_by_intervention,\n",
    "    order=intervention_order,\n",
    "    color=\"#000000\",    \n",
    "    alpha=0.35,\n",
    "    ax=ax,\n",
    "    dodge=True,\n",
    ")\n",
    "\n",
    "ax.axhline(\n",
    "    y=0,\n",
    "    color=\"#000000\",\n",
    "    zorder=-10,\n",
    "    linewidth=1,\n",
    ")\n",
    "\n",
    "ax.set_xlabel(\"Intervention\")\n",
    "ax.set_ylabel(\"Difference in optimal distance to future per timepoint\\n(status quo - intervention)\")\n",
    "\n",
    "ax.set_ylim(\n",
    "    bottom=differences_by_intervention[\"difference_in_optimal_distance\"].min() - 0.5,\n",
    ")\n",
    "\n",
    "ax.text(\n",
    "    0.5,\n",
    "    0.95,\n",
    "    \"more accurate\",\n",
    "    horizontalalignment='center',\n",
    "    verticalalignment='center',\n",
    "    transform=ax.transAxes,\n",
    ")\n",
    "\n",
    "ax.text(\n",
    "    0.5,\n",
    "    0.05,\n",
    "    \"less accurate\",\n",
    "    horizontalalignment='center',\n",
    "    verticalalignment='center',\n",
    "    transform=ax.transAxes,\n",
    ")\n",
    "\n",
    "sns.despine()\n",
    "plt.tight_layout()\n",
    "\n",
    "plt.savefig(snakemake.output.optimal_effects_of_realistic_interventions)"
   ]
  },
  {
   "cell_type": "code",
   "execution_count": null,
   "id": "a64a5cc7",
   "metadata": {},
   "outputs": [],
   "source": [
    "differences_by_intervention.groupby(\"intervention_name\")[\"difference_in_optimal_distance\"].mean()"
   ]
  },
  {
   "cell_type": "code",
   "execution_count": null,
   "id": "feabace6-3f7c-4fec-b4f6-8d842809ab1a",
   "metadata": {},
   "outputs": [],
   "source": []
  }
 ],
 "metadata": {
  "kernelspec": {
   "display_name": "Python 3 (ipykernel)",
   "language": "python",
   "name": "python3"
  },
  "language_info": {
   "codemirror_mode": {
    "name": "ipython",
    "version": 3
   },
   "file_extension": ".py",
   "mimetype": "text/x-python",
   "name": "python",
   "nbconvert_exporter": "python",
   "pygments_lexer": "ipython3",
   "version": "3.12.4"
  }
 },
 "nbformat": 4,
 "nbformat_minor": 5
}
