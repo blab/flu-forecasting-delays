{
 "cells": [
  {
   "cell_type": "code",
   "execution_count": null,
   "id": "7eb48dc7-7119-4e13-9865-ac2e31da1ac9",
   "metadata": {},
   "outputs": [],
   "source": [
    "import matplotlib.pyplot as plt\n",
    "import numpy as np\n",
    "import pandas as pd\n",
    "import seaborn as sns\n",
    "\n",
    "%matplotlib inline"
   ]
  },
  {
   "cell_type": "code",
   "execution_count": null,
   "id": "9c66adf7-b7bf-4721-a348-79d5294f03ef",
   "metadata": {},
   "outputs": [],
   "source": [
    "sns.set_style(\"ticks\")"
   ]
  },
  {
   "cell_type": "markdown",
   "id": "210b7913-2d42-4beb-9146-9554f2855b3f",
   "metadata": {},
   "source": [
    "## Compare distances\n",
    "\n",
    "Compare the model distances between the estimated and observed future populations when the estimated populations depend on different data delay conditions. We expect that the \"no delay\" scenario will be closer to the true future on average followed by the \"ideal\" and then the \"realistic\" conditions."
   ]
  },
  {
   "cell_type": "code",
   "execution_count": null,
   "id": "20003bcb-0156-4b20-a5c1-29562e7a7cee",
   "metadata": {},
   "outputs": [],
   "source": [
    "distances = pd.read_csv(\n",
    "    snakemake.input.distances,\n",
    "    sep=\"\\t\",\n",
    "    parse_dates=[\n",
    "        \"initial_timepoint\",\n",
    "        \"future_timepoint\",\n",
    "    ]\n",
    ")"
   ]
  },
  {
   "cell_type": "code",
   "execution_count": null,
   "id": "65f3a0f1-b8cd-405e-bff5-d61282c53e34",
   "metadata": {},
   "outputs": [],
   "source": [
    "distances"
   ]
  },
  {
   "cell_type": "code",
   "execution_count": null,
   "id": "06c229a3",
   "metadata": {},
   "outputs": [],
   "source": [
    "delay_types = set(distances[\"delay_type\"].drop_duplicates().values)"
   ]
  },
  {
   "cell_type": "code",
   "execution_count": null,
   "id": "2d89bc7f",
   "metadata": {},
   "outputs": [],
   "source": [
    "delay_types"
   ]
  },
  {
   "cell_type": "code",
   "execution_count": null,
   "id": "eab4679d",
   "metadata": {},
   "outputs": [],
   "source": [
    "realistic_delay_type = list(delay_types - {\"none\", \"ideal\"})[0]"
   ]
  },
  {
   "cell_type": "code",
   "execution_count": null,
   "id": "7be1c9df",
   "metadata": {},
   "outputs": [],
   "source": [
    "realistic_delay_type"
   ]
  },
  {
   "cell_type": "code",
   "execution_count": null,
   "id": "0dc8c4a1-a764-4bba-af9f-a228c4988cc0",
   "metadata": {},
   "outputs": [],
   "source": [
    "summary_distances_by_delay_and_horizon = distances.groupby([\"horizon\", \"delay_type\"], sort=False).agg({\n",
    "    \"distance\": [\"mean\", \"median\", \"std\"],\n",
    "}).round(2)"
   ]
  },
  {
   "cell_type": "code",
   "execution_count": null,
   "id": "6e855244",
   "metadata": {},
   "outputs": [],
   "source": [
    "summary_distances_by_delay_and_horizon[(\"distance\", \"mean\")]"
   ]
  },
  {
   "cell_type": "code",
   "execution_count": null,
   "id": "bda0442e",
   "metadata": {},
   "outputs": [],
   "source": [
    "summary_distances_by_delay_and_horizon.columns"
   ]
  },
  {
   "cell_type": "code",
   "execution_count": null,
   "id": "1aa26b17",
   "metadata": {},
   "outputs": [],
   "source": [
    "summary_distances_by_delay_and_horizon.columns = [\n",
    "    column[1]\n",
    "    for column in summary_distances_by_delay_and_horizon.columns\n",
    "]"
   ]
  },
  {
   "cell_type": "code",
   "execution_count": null,
   "id": "de6af4ac",
   "metadata": {},
   "outputs": [],
   "source": [
    "summary_distances_by_delay_and_horizon"
   ]
  },
  {
   "cell_type": "code",
   "execution_count": null,
   "id": "fdd1b016",
   "metadata": {},
   "outputs": [],
   "source": [
    "summary_distances_by_delay_and_horizon[\"mean_std\"] = summary_distances_by_delay_and_horizon.apply(\n",
    "    lambda row: f\"{row['mean']:.2f} +/- {row['std']:.2f}\",\n",
    "    axis=1,\n",
    ")"
   ]
  },
  {
   "cell_type": "code",
   "execution_count": null,
   "id": "cebfc718",
   "metadata": {},
   "outputs": [],
   "source": [
    "summary_distances_by_delay_and_horizon"
   ]
  },
  {
   "cell_type": "code",
   "execution_count": null,
   "id": "52f3674b",
   "metadata": {},
   "outputs": [],
   "source": [
    "summary_distances_by_delay_and_horizon = summary_distances_by_delay_and_horizon.pivot_table(\n",
    "    values=[\"mean_std\"],\n",
    "    index=[\"horizon\"],\n",
    "    columns=[\"delay_type\"],\n",
    "    aggfunc=lambda value: value,\n",
    "    sort=False,\n",
    ")"
   ]
  },
  {
   "cell_type": "code",
   "execution_count": null,
   "id": "fd09532b",
   "metadata": {},
   "outputs": [],
   "source": [
    "summary_distances_by_delay_and_horizon"
   ]
  },
  {
   "cell_type": "code",
   "execution_count": null,
   "id": "cca9a789",
   "metadata": {},
   "outputs": [],
   "source": [
    "summary_distances_by_delay_and_horizon.columns = [\n",
    "    column[1]\n",
    "    for column in summary_distances_by_delay_and_horizon.columns\n",
    "]"
   ]
  },
  {
   "cell_type": "code",
   "execution_count": null,
   "id": "7d758dda",
   "metadata": {},
   "outputs": [],
   "source": [
    "summary_distances_by_delay_and_horizon = summary_distances_by_delay_and_horizon.reset_index()"
   ]
  },
  {
   "cell_type": "code",
   "execution_count": null,
   "id": "88f0fd4a",
   "metadata": {},
   "outputs": [],
   "source": [
    "summary_distances_by_delay_and_horizon"
   ]
  },
  {
   "cell_type": "code",
   "execution_count": null,
   "id": "3aad1bbb",
   "metadata": {},
   "outputs": [],
   "source": [
    "if realistic_delay_type == \"observed\":\n",
    "    table_template_header = r\"\"\"\n",
    "\\begin{tabular*}{0.7\\textwidth}{rrrr}\n",
    "\\toprule\n",
    "          & \\multicolumn{3}{c}{Distance to future (mean +/- std dev AAs)} \\\\\n",
    "  Horizon & No delay & Ideal delay & Observed delay \\\\\n",
    "\\midrule\n",
    "\"\"\"\n",
    "    table_template_row = r\"{horizon} & {none} & {ideal} & {observed} \\\\\"\n",
    "else:\n",
    "    table_template_header = r\"\"\"\n",
    "\\begin{tabular*}{0.7\\textwidth}{rrrr}\n",
    "\\toprule\n",
    "          & \\multicolumn{3}{c}{Distance to future (mean +/- std dev AAs)} \\\\\n",
    "  Horizon & No delay & Ideal delay & Realistic delay \\\\\n",
    "\\midrule\n",
    "\"\"\"\n",
    "    table_template_row = r\"{horizon} & {none} & {ideal} & {realistic} \\\\\"\n",
    "\n",
    "table_template_footer = r\"\"\"\n",
    "\\bottomrule\n",
    "\\end{tabular*}\n",
    "\"\"\""
   ]
  },
  {
   "cell_type": "code",
   "execution_count": null,
   "id": "a880e6b0",
   "metadata": {},
   "outputs": [],
   "source": [
    "with open(snakemake.output.distances_summary_table, \"w\", encoding=\"utf-8\") as oh:\n",
    "    oh.write(table_template_header + \"\\n\")\n",
    "    \n",
    "    for record in summary_distances_by_delay_and_horizon.to_dict(orient=\"records\"):\n",
    "        oh.write(table_template_row.format(**record) + \"\\n\")\n",
    "    \n",
    "    oh.write(table_template_footer + \"\\n\")"
   ]
  },
  {
   "cell_type": "code",
   "execution_count": null,
   "id": "bbd650f1-5933-4f21-93ad-fa699f8d9b4b",
   "metadata": {},
   "outputs": [],
   "source": [
    "fig, ax = plt.subplots(1, 1, figsize=(6, 4), dpi=200)\n",
    "sns.boxplot(\n",
    "    x=\"horizon\",\n",
    "    y=\"distance\",\n",
    "    hue=\"delay_type\",\n",
    "    hue_order=(\"none\", \"ideal\", realistic_delay_type),\n",
    "    data=distances,\n",
    "    color=\"#CCCCCC\",\n",
    "    ax=ax,\n",
    "    fliersize=0,\n",
    ")\n",
    "sns.stripplot(\n",
    "    x=\"horizon\",\n",
    "    y=\"distance\",\n",
    "    hue=\"delay_type\",\n",
    "    data=distances,\n",
    "    hue_order=(\"none\", \"ideal\", realistic_delay_type),\n",
    "    alpha=0.35,\n",
    "    ax=ax,\n",
    "    dodge=True,\n",
    ")\n",
    "\n",
    "ax.set_ylim(bottom=0)\n",
    "\n",
    "handles, labels = ax.get_legend_handles_labels()\n",
    "\n",
    "ax.legend(\n",
    "    handles=handles[3:],\n",
    "    labels=labels[3:],\n",
    "    loc=\"upper left\",\n",
    "    title=\"Type of delay\",\n",
    "    frameon=False,\n",
    ")\n",
    "ax.set_xlabel(\"Forecast horizon (months)\")\n",
    "ax.set_ylabel(\"Distance to the future (AAs)\")\n",
    "\n",
    "sns.despine()\n",
    "\n",
    "plt.tight_layout()\n",
    "\n",
    "plt.savefig(snakemake.output.distances_figure)"
   ]
  },
  {
   "cell_type": "code",
   "execution_count": null,
   "id": "aaff726d-b752-4ca8-9b43-63a3b83257ec",
   "metadata": {},
   "outputs": [],
   "source": []
  }
 ],
 "metadata": {
  "kernelspec": {
   "display_name": "Python 3 (ipykernel)",
   "language": "python",
   "name": "python3"
  },
  "language_info": {
   "codemirror_mode": {
    "name": "ipython",
    "version": 3
   },
   "file_extension": ".py",
   "mimetype": "text/x-python",
   "name": "python",
   "nbconvert_exporter": "python",
   "pygments_lexer": "ipython3",
   "version": "3.9.16"
  }
 },
 "nbformat": 4,
 "nbformat_minor": 5
}
