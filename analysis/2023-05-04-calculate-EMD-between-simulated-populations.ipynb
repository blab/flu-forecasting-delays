{
 "cells": [
  {
   "cell_type": "code",
   "execution_count": 88,
   "id": "8ba9f54e-b962-4072-970b-b0498454265f",
   "metadata": {},
   "outputs": [],
   "source": [
    "from augur.io import read_metadata\n",
    "from Bio import SeqIO\n",
    "import cv2\n",
    "import jellyfish\n",
    "from matplotlib import pyplot as plt\n",
    "import numpy as np\n",
    "import seaborn as sns"
   ]
  },
  {
   "cell_type": "code",
   "execution_count": 70,
   "id": "832aa964-e819-4d87-9fe3-228d512452af",
   "metadata": {},
   "outputs": [],
   "source": [
    "def sample_population_pairs_by_year(metadata, size):\n",
    "    \"\"\"Given a metadata data frame with a \"year\" column,\n",
    "    randomly select a year and then randomly subsample\n",
    "    two pairs of populations of the same size from that year.\n",
    "    Returns a tuple of tuples of strain names.\n",
    "    \"\"\"\n",
    "    year = np.random.choice(metadata[\"year\"].drop_duplicates().values)\n",
    "    sample_1 = metadata[metadata[\"year\"] == year].sample(n=size, replace=True).index.values\n",
    "    sample_2 = metadata[metadata[\"year\"] == year].sample(n=size, replace=True).index.values\n",
    "    \n",
    "    return sample_1, sample_2"
   ]
  },
  {
   "cell_type": "code",
   "execution_count": 11,
   "id": "557d79af-0f19-4cea-9c8d-744094c07ee4",
   "metadata": {},
   "outputs": [],
   "source": [
    "def hamming_distance(sequence_a, sequence_b):\n",
    "    \"\"\"Light-weight wrapper around a fast Hamming distance calculation.\"\"\"\n",
    "    return jellyfish.hamming_distance(\n",
    "        sequence_a,\n",
    "        sequence_b\n",
    "    )"
   ]
  },
  {
   "cell_type": "code",
   "execution_count": 52,
   "id": "1b0a76ce-9e3a-4c6a-85be-b06af4594d10",
   "metadata": {},
   "outputs": [],
   "source": [
    "metadata = read_metadata(\"filtered_metadata.tsv\")"
   ]
  },
  {
   "cell_type": "code",
   "execution_count": 67,
   "id": "d2ed80ea-dcc9-4993-a7b4-4552275899df",
   "metadata": {},
   "outputs": [
    {
     "data": {
      "text/html": [
       "<div>\n",
       "<style scoped>\n",
       "    .dataframe tbody tr th:only-of-type {\n",
       "        vertical-align: middle;\n",
       "    }\n",
       "\n",
       "    .dataframe tbody tr th {\n",
       "        vertical-align: top;\n",
       "    }\n",
       "\n",
       "    .dataframe thead th {\n",
       "        text-align: right;\n",
       "    }\n",
       "</style>\n",
       "<table border=\"1\" class=\"dataframe\">\n",
       "  <thead>\n",
       "    <tr style=\"text-align: right;\">\n",
       "      <th></th>\n",
       "      <th>generation</th>\n",
       "      <th>fitness</th>\n",
       "      <th>num_date</th>\n",
       "      <th>date</th>\n",
       "      <th>year</th>\n",
       "      <th>month</th>\n",
       "    </tr>\n",
       "    <tr>\n",
       "      <th>strain</th>\n",
       "      <th></th>\n",
       "      <th></th>\n",
       "      <th></th>\n",
       "      <th></th>\n",
       "      <th></th>\n",
       "      <th></th>\n",
       "    </tr>\n",
       "  </thead>\n",
       "  <tbody>\n",
       "    <tr>\n",
       "      <th>sample_10000_79</th>\n",
       "      <td>10000</td>\n",
       "      <td>0.139349</td>\n",
       "      <td>2050.0</td>\n",
       "      <td>2050-01-01</td>\n",
       "      <td>2050</td>\n",
       "      <td>1</td>\n",
       "    </tr>\n",
       "    <tr>\n",
       "      <th>sample_10000_94</th>\n",
       "      <td>10000</td>\n",
       "      <td>0.152067</td>\n",
       "      <td>2050.0</td>\n",
       "      <td>2050-01-01</td>\n",
       "      <td>2050</td>\n",
       "      <td>1</td>\n",
       "    </tr>\n",
       "    <tr>\n",
       "      <th>sample_10000_19</th>\n",
       "      <td>10000</td>\n",
       "      <td>0.166518</td>\n",
       "      <td>2050.0</td>\n",
       "      <td>2050-01-01</td>\n",
       "      <td>2050</td>\n",
       "      <td>1</td>\n",
       "    </tr>\n",
       "    <tr>\n",
       "      <th>sample_10000_38</th>\n",
       "      <td>10000</td>\n",
       "      <td>0.148693</td>\n",
       "      <td>2050.0</td>\n",
       "      <td>2050-01-01</td>\n",
       "      <td>2050</td>\n",
       "      <td>1</td>\n",
       "    </tr>\n",
       "    <tr>\n",
       "      <th>sample_10000_49</th>\n",
       "      <td>10000</td>\n",
       "      <td>0.141225</td>\n",
       "      <td>2050.0</td>\n",
       "      <td>2050-01-01</td>\n",
       "      <td>2050</td>\n",
       "      <td>1</td>\n",
       "    </tr>\n",
       "  </tbody>\n",
       "</table>\n",
       "</div>"
      ],
      "text/plain": [
       "                 generation   fitness  num_date        date  year  month\n",
       "strain                                                                  \n",
       "sample_10000_79       10000  0.139349    2050.0  2050-01-01  2050      1\n",
       "sample_10000_94       10000  0.152067    2050.0  2050-01-01  2050      1\n",
       "sample_10000_19       10000  0.166518    2050.0  2050-01-01  2050      1\n",
       "sample_10000_38       10000  0.148693    2050.0  2050-01-01  2050      1\n",
       "sample_10000_49       10000  0.141225    2050.0  2050-01-01  2050      1"
      ]
     },
     "execution_count": 67,
     "metadata": {},
     "output_type": "execute_result"
    }
   ],
   "source": [
    "metadata.head()"
   ]
  },
  {
   "cell_type": "code",
   "execution_count": 104,
   "id": "0fd6429c-3391-4d93-948d-8473925c3e67",
   "metadata": {},
   "outputs": [
    {
     "data": {
      "text/plain": [
       "year\n",
       "2010    240\n",
       "2011    240\n",
       "2012    240\n",
       "2013    240\n",
       "2014    240\n",
       "2015    240\n",
       "2016    240\n",
       "2017    240\n",
       "2018    240\n",
       "2019    240\n",
       "2020    240\n",
       "2021    240\n",
       "2022    240\n",
       "2023    240\n",
       "2024    240\n",
       "2025    240\n",
       "2026    240\n",
       "2027    240\n",
       "2028    240\n",
       "2029    240\n",
       "2030    240\n",
       "2031    240\n",
       "2032    240\n",
       "2033    240\n",
       "2034    240\n",
       "2035    240\n",
       "2036    240\n",
       "2037    240\n",
       "2038    240\n",
       "2039    240\n",
       "2040    240\n",
       "2041    240\n",
       "2042    240\n",
       "2043    240\n",
       "2044    240\n",
       "2045    240\n",
       "2046    240\n",
       "2047    240\n",
       "2048    240\n",
       "2049    240\n",
       "2050     20\n",
       "Name: date, dtype: int64"
      ]
     },
     "execution_count": 104,
     "metadata": {},
     "output_type": "execute_result"
    }
   ],
   "source": [
    "metadata.groupby(\"year\")[\"date\"].count()"
   ]
  },
  {
   "cell_type": "code",
   "execution_count": 64,
   "id": "c55d4695-391d-49f3-8bc4-e804de60ded4",
   "metadata": {},
   "outputs": [],
   "source": [
    "sequences_by_name = {\n",
    "    record.name: str(record.seq)\n",
    "    for record in SeqIO.parse(\"aa_sequence.HA.fasta\", \"fasta\")\n",
    "}"
   ]
  },
  {
   "cell_type": "code",
   "execution_count": 66,
   "id": "ac114b76-b869-4688-92ac-67f24efe9cef",
   "metadata": {},
   "outputs": [
    {
     "data": {
      "text/plain": [
       "'MKTIIALSYILCLVFAQKLPGNDNSTATLCLGHHAVPNGTLVKTISNDQIEATNASELVQSSSTGRICETPHRILDGKNCTLIDALLGDPHCDGFQNKEWDLFVDRSKAYSNCYPYEVPDYASLRSLAASSGTLEFVNEDFNWTGVAQDGGSYACKRGSLNSFFSRLNWLHRSEYKYSALNVTMLNNGRFDKLYIWGVHHPSTDKDQTSLYVRASGRVTVSTKRSQQTVTPNIGSRPWVRGQTSRISIYWTIVKQGDILLINSTGNLIAPRGYFKIRNGKSSIMKSDAPIGTCSSECITPNGSIPNDKIFQNVNRITYGACPSYVKQNTLKLATGMRNVPEKQTRGIFGAIAGFIENGWEGMVDGWYGFRHQNSEGTGQAADLKSTQAAIDQINGKLNRLIEKTNEKFHQIEKEFSEVEGRIQDLEKYVEDTKIDLWSYNAELLVAAENQHTIDLTDSEMNRLFEKTRKQLRENAEDMGNGCFKIYHKCDNACIGSIRNGTYDHDVYRDEALNNRFQIKGVELKSGYKDWILWISFAISCFLLCVVLLGFIMWACQKGNIRCNICI'"
      ]
     },
     "execution_count": 66,
     "metadata": {},
     "output_type": "execute_result"
    }
   ],
   "source": [
    "sequences_by_name[\"sample_2000_84\"]"
   ]
  },
  {
   "cell_type": "code",
   "execution_count": 132,
   "id": "e5cc4fec-5254-42b7-bd1a-5dbd2461e08e",
   "metadata": {},
   "outputs": [],
   "source": [
    "distances = []\n",
    "for i in range(200):\n",
    "    sample_a, sample_b = sample_population_pairs_by_year(metadata, 60)\n",
    "    sequences_a = [sequences_by_name[name] for name in sample_a]\n",
    "    sequences_b = [sequences_by_name[name] for name in sample_b]\n",
    "\n",
    "    sample_a_frequencies = (np.ones((len(sequences_a), 1)) / len(sequences_a)).reshape(-1, 1).astype(np.float32)\n",
    "    sample_b_frequencies = (np.ones((len(sequences_b), 1)) / len(sequences_b)).reshape(-1, 1).astype(np.float32)\n",
    "\n",
    "    distance_matrix = np.zeros((len(sequences_a), len(sequences_b)))\n",
    "    for i, sequence_a in enumerate(sequences_a):\n",
    "        for j, sequence_b in enumerate(sequences_b):\n",
    "            distance_matrix[i, j] = hamming_distance(sequence_a, sequence_b)\n",
    "\n",
    "    distance_matrix = distance_matrix.astype(np.float32)\n",
    "\n",
    "    emd, _, model_flow = cv2.EMD(\n",
    "        sample_a_frequencies,\n",
    "        sample_b_frequencies,\n",
    "        cv2.DIST_USER,\n",
    "        cost=distance_matrix\n",
    "    )\n",
    "    distances.append(emd)"
   ]
  },
  {
   "cell_type": "code",
   "execution_count": 133,
   "id": "bf5daa30-4a2d-454c-b8cb-c0530894bbab",
   "metadata": {},
   "outputs": [],
   "source": [
    "bins = np.arange(0, int(np.ceil(max(distances))) + 1, 0.5)"
   ]
  },
  {
   "cell_type": "code",
   "execution_count": 134,
   "id": "0ad560af-d11a-4553-aaf8-28aa88808179",
   "metadata": {},
   "outputs": [
    {
     "data": {
      "text/plain": [
       "array([0. , 0.5, 1. , 1.5, 2. , 2.5, 3. , 3.5, 4. , 4.5, 5. , 5.5, 6. ,\n",
       "       6.5])"
      ]
     },
     "execution_count": 134,
     "metadata": {},
     "output_type": "execute_result"
    }
   ],
   "source": [
    "bins"
   ]
  },
  {
   "cell_type": "code",
   "execution_count": 135,
   "id": "a7c38899-8944-4913-a778-cace4816acf1",
   "metadata": {},
   "outputs": [
    {
     "data": {
      "text/plain": [
       "2.466667413711548"
      ]
     },
     "execution_count": 135,
     "metadata": {},
     "output_type": "execute_result"
    }
   ],
   "source": [
    "min(distances)"
   ]
  },
  {
   "cell_type": "code",
   "execution_count": 136,
   "id": "24a68c3d-255e-438b-96fe-188992482016",
   "metadata": {},
   "outputs": [
    {
     "data": {
      "text/plain": [
       "5.966668605804443"
      ]
     },
     "execution_count": 136,
     "metadata": {},
     "output_type": "execute_result"
    }
   ],
   "source": [
    "max(distances)"
   ]
  },
  {
   "cell_type": "code",
   "execution_count": 137,
   "id": "557a3713-baf6-4db5-8d17-8bef75d1acb5",
   "metadata": {},
   "outputs": [
    {
     "data": {
      "text/plain": [
       "4.249251470565796"
      ]
     },
     "execution_count": 137,
     "metadata": {},
     "output_type": "execute_result"
    }
   ],
   "source": [
    "np.mean(distances)"
   ]
  },
  {
   "cell_type": "code",
   "execution_count": 138,
   "id": "ffb56c92-9f5f-4a03-b833-905e9f53ccfe",
   "metadata": {},
   "outputs": [
    {
     "data": {
      "text/plain": [
       "4.283334732055664"
      ]
     },
     "execution_count": 138,
     "metadata": {},
     "output_type": "execute_result"
    }
   ],
   "source": [
    "np.median(distances)"
   ]
  },
  {
   "cell_type": "code",
   "execution_count": 139,
   "id": "937d4e34-63eb-4711-81bf-b50d9af484cd",
   "metadata": {},
   "outputs": [
    {
     "data": {
      "image/png": "[encoded data removed]",
      "text/plain": [
       "<Figure size 720x480 with 1 Axes>"
      ]
     },
     "metadata": {},
     "output_type": "display_data"
    }
   ],
   "source": [
    "fig, ax = plt.subplots(1, 1, figsize=(6, 4), dpi=120)\n",
    "ax.hist(\n",
    "    distances,\n",
    "    bins=bins,\n",
    ")\n",
    "ax.set_xlabel(\"EMD (AAs)\")\n",
    "ax.set_ylabel(\"Number of comparisons\")\n",
    "\n",
    "sns.despine()"
   ]
  },
  {
   "cell_type": "code",
   "execution_count": null,
   "id": "e51f8f82-e3f5-423c-ae2b-bb1c50e9fcc1",
   "metadata": {},
   "outputs": [],
   "source": []
  }
 ],
 "metadata": {
  "kernelspec": {
   "display_name": "Python 3 (ipykernel)",
   "language": "python",
   "name": "python3"
  },
  "language_info": {
   "codemirror_mode": {
    "name": "ipython",
    "version": 3
   },
   "file_extension": ".py",
   "mimetype": "text/x-python",
   "name": "python",
   "nbconvert_exporter": "python",
   "pygments_lexer": "ipython3",
   "version": "3.10.9"
  }
 },
 "nbformat": 4,
 "nbformat_minor": 5
}
