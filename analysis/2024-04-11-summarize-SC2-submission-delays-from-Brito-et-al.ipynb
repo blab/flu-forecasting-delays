{
 "cells": [
  {
   "cell_type": "code",
   "execution_count": 1,
   "id": "a0b2993f-b289-4763-9a76-a60f97693b4a",
   "metadata": {},
   "outputs": [],
   "source": [
    "import altair as alt\n",
    "import pandas as pd"
   ]
  },
  {
   "cell_type": "code",
   "execution_count": 2,
   "id": "1cc113c1-d817-4ee4-a2f9-d8792c336a7c",
   "metadata": {},
   "outputs": [],
   "source": [
    "df = pd.read_csv(\"genomes_submission_delays.tsv\", sep=\"\\t\")"
   ]
  },
  {
   "cell_type": "code",
   "execution_count": 3,
   "id": "dfcbc196-7041-4314-9b61-201f9dfe739a",
   "metadata": {},
   "outputs": [
    {
     "data": {
      "text/html": [
       "<div>\n",
       "<style scoped>\n",
       "    .dataframe tbody tr th:only-of-type {\n",
       "        vertical-align: middle;\n",
       "    }\n",
       "\n",
       "    .dataframe tbody tr th {\n",
       "        vertical-align: top;\n",
       "    }\n",
       "\n",
       "    .dataframe thead th {\n",
       "        text-align: right;\n",
       "    }\n",
       "</style>\n",
       "<table border=\"1\" class=\"dataframe\">\n",
       "  <thead>\n",
       "    <tr style=\"text-align: right;\">\n",
       "      <th></th>\n",
       "      <th>month_sample_collection</th>\n",
       "      <th>country_code</th>\n",
       "      <th>country_exposure</th>\n",
       "      <th>turnaround_time_days</th>\n",
       "    </tr>\n",
       "  </thead>\n",
       "  <tbody>\n",
       "    <tr>\n",
       "      <th>0</th>\n",
       "      <td>2020-03</td>\n",
       "      <td>GBR</td>\n",
       "      <td>United Kingdom</td>\n",
       "      <td>102</td>\n",
       "    </tr>\n",
       "    <tr>\n",
       "      <th>1</th>\n",
       "      <td>2020-03</td>\n",
       "      <td>ESP</td>\n",
       "      <td>Spain</td>\n",
       "      <td>201</td>\n",
       "    </tr>\n",
       "    <tr>\n",
       "      <th>2</th>\n",
       "      <td>2020-03</td>\n",
       "      <td>ESP</td>\n",
       "      <td>Spain</td>\n",
       "      <td>201</td>\n",
       "    </tr>\n",
       "    <tr>\n",
       "      <th>3</th>\n",
       "      <td>2020-03</td>\n",
       "      <td>BEL</td>\n",
       "      <td>Belgium</td>\n",
       "      <td>30</td>\n",
       "    </tr>\n",
       "    <tr>\n",
       "      <th>4</th>\n",
       "      <td>2020-03</td>\n",
       "      <td>GBR</td>\n",
       "      <td>United Kingdom</td>\n",
       "      <td>102</td>\n",
       "    </tr>\n",
       "  </tbody>\n",
       "</table>\n",
       "</div>"
      ],
      "text/plain": [
       "  month_sample_collection country_code country_exposure  turnaround_time_days\n",
       "0                 2020-03          GBR   United Kingdom                   102\n",
       "1                 2020-03          ESP            Spain                   201\n",
       "2                 2020-03          ESP            Spain                   201\n",
       "3                 2020-03          BEL          Belgium                    30\n",
       "4                 2020-03          GBR   United Kingdom                   102"
      ]
     },
     "execution_count": 3,
     "metadata": {},
     "output_type": "execute_result"
    }
   ],
   "source": [
    "df.head()"
   ]
  },
  {
   "cell_type": "code",
   "execution_count": 4,
   "id": "e977b1cb-b469-4022-aaa1-c530488a0d1f",
   "metadata": {},
   "outputs": [
    {
     "data": {
      "text/plain": [
       "(8947455, 4)"
      ]
     },
     "execution_count": 4,
     "metadata": {},
     "output_type": "execute_result"
    }
   ],
   "source": [
    "df.shape"
   ]
  },
  {
   "cell_type": "code",
   "execution_count": 7,
   "id": "42d3f93e-84ec-4a9f-9f24-704136382857",
   "metadata": {},
   "outputs": [],
   "source": [
    "df[\"year_of_collection\"] = df[\"month_sample_collection\"].apply(lambda month: int(month.split(\"-\")[0]))"
   ]
  },
  {
   "cell_type": "code",
   "execution_count": 9,
   "id": "c8cd160c-3152-4858-bc65-e07d04bc3bf4",
   "metadata": {},
   "outputs": [
    {
     "data": {
      "text/plain": [
       "year_of_collection\n",
       "2020    138.342505\n",
       "2021     35.358089\n",
       "2022     18.134653\n",
       "Name: turnaround_time_days, dtype: float64"
      ]
     },
     "execution_count": 9,
     "metadata": {},
     "output_type": "execute_result"
    }
   ],
   "source": [
    "df.groupby(\"year_of_collection\")[\"turnaround_time_days\"].mean()"
   ]
  },
  {
   "cell_type": "code",
   "execution_count": null,
   "id": "dcbbfed3-f605-4693-ac95-0fcfec5a398b",
   "metadata": {},
   "outputs": [],
   "source": []
  }
 ],
 "metadata": {
  "kernelspec": {
   "display_name": "Python 3 (ipykernel)",
   "language": "python",
   "name": "python3"
  },
  "language_info": {
   "codemirror_mode": {
    "name": "ipython",
    "version": 3
   },
   "file_extension": ".py",
   "mimetype": "text/x-python",
   "name": "python",
   "nbconvert_exporter": "python",
   "pygments_lexer": "ipython3",
   "version": "3.10.13"
  }
 },
 "nbformat": 4,
 "nbformat_minor": 5
}
