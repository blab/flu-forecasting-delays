{
 "cells": [
  {
   "cell_type": "markdown",
   "metadata": {},
   "source": [
    "# Summarize delay between collection and submission dates"
   ]
  },
  {
   "cell_type": "markdown",
   "metadata": {},
   "source": [
    "## Setup"
   ]
  },
  {
   "cell_type": "code",
   "execution_count": 1,
   "metadata": {},
   "outputs": [],
   "source": [
    "import matplotlib as mpl\n",
    "import matplotlib.pyplot as plt\n",
    "import numpy as np\n",
    "import pandas as pd\n",
    "import seaborn as sns\n",
    "from scipy.stats import gamma, nbinom\n",
    "\n",
    "%matplotlib inline"
   ]
  },
  {
   "cell_type": "code",
   "execution_count": 2,
   "metadata": {},
   "outputs": [],
   "source": [
    "sns.set_style(\"ticks\")"
   ]
  },
  {
   "cell_type": "code",
   "execution_count": 78,
   "metadata": {},
   "outputs": [],
   "source": [
    "mpl.rcParams[\"axes.spines.top\"] = False\n",
    "mpl.rcParams[\"axes.spines.right\"] = False\n",
    "mpl.rcParams[\"savefig.dpi\"] = 300\n",
    "mpl.rcParams[\"figure.dpi\"] = 150\n",
    "mpl.rcParams[\"font.size\"] = 14\n",
    "mpl.rcParams[\"axes.labelsize\"] = 14\n",
    "mpl.rcParams[\"xtick.labelsize\"] = 14\n",
    "mpl.rcParams[\"ytick.labelsize\"] = 14\n",
    "mpl.rcParams[\"legend.fontsize\"] = 14\n",
    "mpl.rcParams[\"figure.facecolor\"] = \"white\""
   ]
  },
  {
   "cell_type": "code",
   "execution_count": 75,
   "metadata": {},
   "outputs": [],
   "source": [
    "metadata_path = \"../data/natural/h3n2/metadata.tsv\"\n",
    "\n",
    "figure_path = \"../results/figures/distribution_of_delays.pdf\""
   ]
  },
  {
   "cell_type": "markdown",
   "metadata": {},
   "source": [
    "## Prepare metadata"
   ]
  },
  {
   "cell_type": "code",
   "execution_count": 5,
   "metadata": {},
   "outputs": [],
   "source": [
    "metadata = pd.read_csv(\n",
    "    metadata_path,\n",
    "    sep=\"\\t\"\n",
    ")"
   ]
  },
  {
   "cell_type": "code",
   "execution_count": 6,
   "metadata": {},
   "outputs": [
    {
     "data": {
      "text/html": [
       "<div>\n",
       "<style scoped>\n",
       "    .dataframe tbody tr th:only-of-type {\n",
       "        vertical-align: middle;\n",
       "    }\n",
       "\n",
       "    .dataframe tbody tr th {\n",
       "        vertical-align: top;\n",
       "    }\n",
       "\n",
       "    .dataframe thead th {\n",
       "        text-align: right;\n",
       "    }\n",
       "</style>\n",
       "<table border=\"1\" class=\"dataframe\">\n",
       "  <thead>\n",
       "    <tr style=\"text-align: right;\">\n",
       "      <th></th>\n",
       "      <th>strain</th>\n",
       "      <th>virus</th>\n",
       "      <th>accession</th>\n",
       "      <th>date</th>\n",
       "      <th>submission_date</th>\n",
       "      <th>region</th>\n",
       "      <th>country</th>\n",
       "      <th>division</th>\n",
       "      <th>location</th>\n",
       "      <th>passage</th>\n",
       "      <th>submitting_lab</th>\n",
       "      <th>age</th>\n",
       "      <th>gender</th>\n",
       "    </tr>\n",
       "  </thead>\n",
       "  <tbody>\n",
       "    <tr>\n",
       "      <th>0</th>\n",
       "      <td>A/Ningbo/1246/2004</td>\n",
       "      <td>flu</td>\n",
       "      <td>EPI360859</td>\n",
       "      <td>2004-09-21</td>\n",
       "      <td>2016-09-03</td>\n",
       "      <td>china</td>\n",
       "      <td>china</td>\n",
       "      <td>zhejiang</td>\n",
       "      <td>ningbo</td>\n",
       "      <td>undetermined</td>\n",
       "      <td>other_database_import</td>\n",
       "      <td>?</td>\n",
       "      <td>?</td>\n",
       "    </tr>\n",
       "    <tr>\n",
       "      <th>1</th>\n",
       "      <td>A/Basel/USB0026554/2017</td>\n",
       "      <td>flu</td>\n",
       "      <td>EPI1569085</td>\n",
       "      <td>2017-01-13</td>\n",
       "      <td>2019-08-26</td>\n",
       "      <td>europe</td>\n",
       "      <td>switzerland</td>\n",
       "      <td>basel</td>\n",
       "      <td>basel</td>\n",
       "      <td>undetermined</td>\n",
       "      <td>import_from_public_domain</td>\n",
       "      <td>?</td>\n",
       "      <td>?</td>\n",
       "    </tr>\n",
       "    <tr>\n",
       "      <th>2</th>\n",
       "      <td>A/Jeonbuk/2217/2007</td>\n",
       "      <td>flu</td>\n",
       "      <td>EPI254261</td>\n",
       "      <td>2007-01-21</td>\n",
       "      <td>2016-09-03</td>\n",
       "      <td>japan_korea</td>\n",
       "      <td>south_korea</td>\n",
       "      <td>seoul</td>\n",
       "      <td>gangnam</td>\n",
       "      <td>undetermined</td>\n",
       "      <td>other_database_import</td>\n",
       "      <td>?</td>\n",
       "      <td>?</td>\n",
       "    </tr>\n",
       "    <tr>\n",
       "      <th>3</th>\n",
       "      <td>A/Guyane/439/2019</td>\n",
       "      <td>flu</td>\n",
       "      <td>EPI1507887</td>\n",
       "      <td>2019-04-29</td>\n",
       "      <td>2019-08-02</td>\n",
       "      <td>south_america</td>\n",
       "      <td>french_guiana</td>\n",
       "      <td>french_guiana</td>\n",
       "      <td>french_guiana</td>\n",
       "      <td>unpassaged</td>\n",
       "      <td>centers_for_disease_control_and_prevention</td>\n",
       "      <td>25y</td>\n",
       "      <td>male</td>\n",
       "    </tr>\n",
       "    <tr>\n",
       "      <th>4</th>\n",
       "      <td>A/NewYork/1009/2006</td>\n",
       "      <td>flu</td>\n",
       "      <td>EPI524474</td>\n",
       "      <td>2006-01-12</td>\n",
       "      <td>2016-09-03</td>\n",
       "      <td>north_america</td>\n",
       "      <td>usa</td>\n",
       "      <td>new_york</td>\n",
       "      <td>new_york</td>\n",
       "      <td>undetermined</td>\n",
       "      <td>other_database_import</td>\n",
       "      <td>4m</td>\n",
       "      <td>male</td>\n",
       "    </tr>\n",
       "  </tbody>\n",
       "</table>\n",
       "</div>"
      ],
      "text/plain": [
       "                    strain virus   accession        date submission_date  \\\n",
       "0       A/Ningbo/1246/2004   flu   EPI360859  2004-09-21      2016-09-03   \n",
       "1  A/Basel/USB0026554/2017   flu  EPI1569085  2017-01-13      2019-08-26   \n",
       "2      A/Jeonbuk/2217/2007   flu   EPI254261  2007-01-21      2016-09-03   \n",
       "3        A/Guyane/439/2019   flu  EPI1507887  2019-04-29      2019-08-02   \n",
       "4      A/NewYork/1009/2006   flu   EPI524474  2006-01-12      2016-09-03   \n",
       "\n",
       "          region        country       division       location       passage  \\\n",
       "0          china          china       zhejiang         ningbo  undetermined   \n",
       "1         europe    switzerland          basel          basel  undetermined   \n",
       "2    japan_korea    south_korea          seoul        gangnam  undetermined   \n",
       "3  south_america  french_guiana  french_guiana  french_guiana    unpassaged   \n",
       "4  north_america            usa       new_york       new_york  undetermined   \n",
       "\n",
       "                               submitting_lab  age gender  \n",
       "0                       other_database_import    ?      ?  \n",
       "1                   import_from_public_domain    ?      ?  \n",
       "2                       other_database_import    ?      ?  \n",
       "3  centers_for_disease_control_and_prevention  25y   male  \n",
       "4                       other_database_import   4m   male  "
      ]
     },
     "execution_count": 6,
     "metadata": {},
     "output_type": "execute_result"
    }
   ],
   "source": [
    "metadata.head()"
   ]
  },
  {
   "cell_type": "markdown",
   "metadata": {},
   "source": [
    "Drop records with ambiguous collection or submission dates. We need complete dates for both fields to calculate the distribution of the delay between collection and submission."
   ]
  },
  {
   "cell_type": "code",
   "execution_count": 7,
   "metadata": {},
   "outputs": [],
   "source": [
    "filtered_metadata = metadata[\n",
    "    (~metadata[\"date\"].str.contains(\"X\")) &\n",
    "    (~metadata[\"submission_date\"].str.contains(\"X\"))\n",
    "].copy()"
   ]
  },
  {
   "cell_type": "code",
   "execution_count": 8,
   "metadata": {},
   "outputs": [
    {
     "data": {
      "text/plain": [
       "(77786, 13)"
      ]
     },
     "execution_count": 8,
     "metadata": {},
     "output_type": "execute_result"
    }
   ],
   "source": [
    "metadata.shape"
   ]
  },
  {
   "cell_type": "code",
   "execution_count": 9,
   "metadata": {},
   "outputs": [
    {
     "data": {
      "text/plain": [
       "(73066, 13)"
      ]
     },
     "execution_count": 9,
     "metadata": {},
     "output_type": "execute_result"
    }
   ],
   "source": [
    "filtered_metadata.shape"
   ]
  },
  {
   "cell_type": "markdown",
   "metadata": {},
   "source": [
    "Convert date fields into timestamps."
   ]
  },
  {
   "cell_type": "code",
   "execution_count": 10,
   "metadata": {},
   "outputs": [],
   "source": [
    "filtered_metadata[\"date\"] = pd.to_datetime(filtered_metadata[\"date\"])\n",
    "filtered_metadata[\"submission_date\"] = pd.to_datetime(filtered_metadata[\"submission_date\"])"
   ]
  },
  {
   "cell_type": "code",
   "execution_count": 11,
   "metadata": {},
   "outputs": [
    {
     "data": {
      "text/html": [
       "<div>\n",
       "<style scoped>\n",
       "    .dataframe tbody tr th:only-of-type {\n",
       "        vertical-align: middle;\n",
       "    }\n",
       "\n",
       "    .dataframe tbody tr th {\n",
       "        vertical-align: top;\n",
       "    }\n",
       "\n",
       "    .dataframe thead th {\n",
       "        text-align: right;\n",
       "    }\n",
       "</style>\n",
       "<table border=\"1\" class=\"dataframe\">\n",
       "  <thead>\n",
       "    <tr style=\"text-align: right;\">\n",
       "      <th></th>\n",
       "      <th>strain</th>\n",
       "      <th>virus</th>\n",
       "      <th>accession</th>\n",
       "      <th>date</th>\n",
       "      <th>submission_date</th>\n",
       "      <th>region</th>\n",
       "      <th>country</th>\n",
       "      <th>division</th>\n",
       "      <th>location</th>\n",
       "      <th>passage</th>\n",
       "      <th>submitting_lab</th>\n",
       "      <th>age</th>\n",
       "      <th>gender</th>\n",
       "    </tr>\n",
       "  </thead>\n",
       "  <tbody>\n",
       "    <tr>\n",
       "      <th>0</th>\n",
       "      <td>A/Ningbo/1246/2004</td>\n",
       "      <td>flu</td>\n",
       "      <td>EPI360859</td>\n",
       "      <td>2004-09-21</td>\n",
       "      <td>2016-09-03</td>\n",
       "      <td>china</td>\n",
       "      <td>china</td>\n",
       "      <td>zhejiang</td>\n",
       "      <td>ningbo</td>\n",
       "      <td>undetermined</td>\n",
       "      <td>other_database_import</td>\n",
       "      <td>?</td>\n",
       "      <td>?</td>\n",
       "    </tr>\n",
       "    <tr>\n",
       "      <th>1</th>\n",
       "      <td>A/Basel/USB0026554/2017</td>\n",
       "      <td>flu</td>\n",
       "      <td>EPI1569085</td>\n",
       "      <td>2017-01-13</td>\n",
       "      <td>2019-08-26</td>\n",
       "      <td>europe</td>\n",
       "      <td>switzerland</td>\n",
       "      <td>basel</td>\n",
       "      <td>basel</td>\n",
       "      <td>undetermined</td>\n",
       "      <td>import_from_public_domain</td>\n",
       "      <td>?</td>\n",
       "      <td>?</td>\n",
       "    </tr>\n",
       "    <tr>\n",
       "      <th>2</th>\n",
       "      <td>A/Jeonbuk/2217/2007</td>\n",
       "      <td>flu</td>\n",
       "      <td>EPI254261</td>\n",
       "      <td>2007-01-21</td>\n",
       "      <td>2016-09-03</td>\n",
       "      <td>japan_korea</td>\n",
       "      <td>south_korea</td>\n",
       "      <td>seoul</td>\n",
       "      <td>gangnam</td>\n",
       "      <td>undetermined</td>\n",
       "      <td>other_database_import</td>\n",
       "      <td>?</td>\n",
       "      <td>?</td>\n",
       "    </tr>\n",
       "    <tr>\n",
       "      <th>3</th>\n",
       "      <td>A/Guyane/439/2019</td>\n",
       "      <td>flu</td>\n",
       "      <td>EPI1507887</td>\n",
       "      <td>2019-04-29</td>\n",
       "      <td>2019-08-02</td>\n",
       "      <td>south_america</td>\n",
       "      <td>french_guiana</td>\n",
       "      <td>french_guiana</td>\n",
       "      <td>french_guiana</td>\n",
       "      <td>unpassaged</td>\n",
       "      <td>centers_for_disease_control_and_prevention</td>\n",
       "      <td>25y</td>\n",
       "      <td>male</td>\n",
       "    </tr>\n",
       "    <tr>\n",
       "      <th>4</th>\n",
       "      <td>A/NewYork/1009/2006</td>\n",
       "      <td>flu</td>\n",
       "      <td>EPI524474</td>\n",
       "      <td>2006-01-12</td>\n",
       "      <td>2016-09-03</td>\n",
       "      <td>north_america</td>\n",
       "      <td>usa</td>\n",
       "      <td>new_york</td>\n",
       "      <td>new_york</td>\n",
       "      <td>undetermined</td>\n",
       "      <td>other_database_import</td>\n",
       "      <td>4m</td>\n",
       "      <td>male</td>\n",
       "    </tr>\n",
       "  </tbody>\n",
       "</table>\n",
       "</div>"
      ],
      "text/plain": [
       "                    strain virus   accession       date submission_date  \\\n",
       "0       A/Ningbo/1246/2004   flu   EPI360859 2004-09-21      2016-09-03   \n",
       "1  A/Basel/USB0026554/2017   flu  EPI1569085 2017-01-13      2019-08-26   \n",
       "2      A/Jeonbuk/2217/2007   flu   EPI254261 2007-01-21      2016-09-03   \n",
       "3        A/Guyane/439/2019   flu  EPI1507887 2019-04-29      2019-08-02   \n",
       "4      A/NewYork/1009/2006   flu   EPI524474 2006-01-12      2016-09-03   \n",
       "\n",
       "          region        country       division       location       passage  \\\n",
       "0          china          china       zhejiang         ningbo  undetermined   \n",
       "1         europe    switzerland          basel          basel  undetermined   \n",
       "2    japan_korea    south_korea          seoul        gangnam  undetermined   \n",
       "3  south_america  french_guiana  french_guiana  french_guiana    unpassaged   \n",
       "4  north_america            usa       new_york       new_york  undetermined   \n",
       "\n",
       "                               submitting_lab  age gender  \n",
       "0                       other_database_import    ?      ?  \n",
       "1                   import_from_public_domain    ?      ?  \n",
       "2                       other_database_import    ?      ?  \n",
       "3  centers_for_disease_control_and_prevention  25y   male  \n",
       "4                       other_database_import   4m   male  "
      ]
     },
     "execution_count": 11,
     "metadata": {},
     "output_type": "execute_result"
    }
   ],
   "source": [
    "filtered_metadata.head()"
   ]
  },
  {
   "cell_type": "markdown",
   "metadata": {},
   "source": [
    "## Calculate and plot delay between collection and submission"
   ]
  },
  {
   "cell_type": "code",
   "execution_count": 12,
   "metadata": {},
   "outputs": [],
   "source": [
    "filtered_metadata[\"submission_delay\"] = filtered_metadata[\"submission_date\"] - filtered_metadata[\"date\"]"
   ]
  },
  {
   "cell_type": "code",
   "execution_count": 13,
   "metadata": {},
   "outputs": [
    {
     "data": {
      "text/html": [
       "<div>\n",
       "<style scoped>\n",
       "    .dataframe tbody tr th:only-of-type {\n",
       "        vertical-align: middle;\n",
       "    }\n",
       "\n",
       "    .dataframe tbody tr th {\n",
       "        vertical-align: top;\n",
       "    }\n",
       "\n",
       "    .dataframe thead th {\n",
       "        text-align: right;\n",
       "    }\n",
       "</style>\n",
       "<table border=\"1\" class=\"dataframe\">\n",
       "  <thead>\n",
       "    <tr style=\"text-align: right;\">\n",
       "      <th></th>\n",
       "      <th>strain</th>\n",
       "      <th>virus</th>\n",
       "      <th>accession</th>\n",
       "      <th>date</th>\n",
       "      <th>submission_date</th>\n",
       "      <th>region</th>\n",
       "      <th>country</th>\n",
       "      <th>division</th>\n",
       "      <th>location</th>\n",
       "      <th>passage</th>\n",
       "      <th>submitting_lab</th>\n",
       "      <th>age</th>\n",
       "      <th>gender</th>\n",
       "      <th>submission_delay</th>\n",
       "    </tr>\n",
       "  </thead>\n",
       "  <tbody>\n",
       "    <tr>\n",
       "      <th>0</th>\n",
       "      <td>A/Ningbo/1246/2004</td>\n",
       "      <td>flu</td>\n",
       "      <td>EPI360859</td>\n",
       "      <td>2004-09-21</td>\n",
       "      <td>2016-09-03</td>\n",
       "      <td>china</td>\n",
       "      <td>china</td>\n",
       "      <td>zhejiang</td>\n",
       "      <td>ningbo</td>\n",
       "      <td>undetermined</td>\n",
       "      <td>other_database_import</td>\n",
       "      <td>?</td>\n",
       "      <td>?</td>\n",
       "      <td>4365 days</td>\n",
       "    </tr>\n",
       "    <tr>\n",
       "      <th>1</th>\n",
       "      <td>A/Basel/USB0026554/2017</td>\n",
       "      <td>flu</td>\n",
       "      <td>EPI1569085</td>\n",
       "      <td>2017-01-13</td>\n",
       "      <td>2019-08-26</td>\n",
       "      <td>europe</td>\n",
       "      <td>switzerland</td>\n",
       "      <td>basel</td>\n",
       "      <td>basel</td>\n",
       "      <td>undetermined</td>\n",
       "      <td>import_from_public_domain</td>\n",
       "      <td>?</td>\n",
       "      <td>?</td>\n",
       "      <td>955 days</td>\n",
       "    </tr>\n",
       "    <tr>\n",
       "      <th>2</th>\n",
       "      <td>A/Jeonbuk/2217/2007</td>\n",
       "      <td>flu</td>\n",
       "      <td>EPI254261</td>\n",
       "      <td>2007-01-21</td>\n",
       "      <td>2016-09-03</td>\n",
       "      <td>japan_korea</td>\n",
       "      <td>south_korea</td>\n",
       "      <td>seoul</td>\n",
       "      <td>gangnam</td>\n",
       "      <td>undetermined</td>\n",
       "      <td>other_database_import</td>\n",
       "      <td>?</td>\n",
       "      <td>?</td>\n",
       "      <td>3513 days</td>\n",
       "    </tr>\n",
       "    <tr>\n",
       "      <th>3</th>\n",
       "      <td>A/Guyane/439/2019</td>\n",
       "      <td>flu</td>\n",
       "      <td>EPI1507887</td>\n",
       "      <td>2019-04-29</td>\n",
       "      <td>2019-08-02</td>\n",
       "      <td>south_america</td>\n",
       "      <td>french_guiana</td>\n",
       "      <td>french_guiana</td>\n",
       "      <td>french_guiana</td>\n",
       "      <td>unpassaged</td>\n",
       "      <td>centers_for_disease_control_and_prevention</td>\n",
       "      <td>25y</td>\n",
       "      <td>male</td>\n",
       "      <td>95 days</td>\n",
       "    </tr>\n",
       "    <tr>\n",
       "      <th>4</th>\n",
       "      <td>A/NewYork/1009/2006</td>\n",
       "      <td>flu</td>\n",
       "      <td>EPI524474</td>\n",
       "      <td>2006-01-12</td>\n",
       "      <td>2016-09-03</td>\n",
       "      <td>north_america</td>\n",
       "      <td>usa</td>\n",
       "      <td>new_york</td>\n",
       "      <td>new_york</td>\n",
       "      <td>undetermined</td>\n",
       "      <td>other_database_import</td>\n",
       "      <td>4m</td>\n",
       "      <td>male</td>\n",
       "      <td>3887 days</td>\n",
       "    </tr>\n",
       "  </tbody>\n",
       "</table>\n",
       "</div>"
      ],
      "text/plain": [
       "                    strain virus   accession       date submission_date  \\\n",
       "0       A/Ningbo/1246/2004   flu   EPI360859 2004-09-21      2016-09-03   \n",
       "1  A/Basel/USB0026554/2017   flu  EPI1569085 2017-01-13      2019-08-26   \n",
       "2      A/Jeonbuk/2217/2007   flu   EPI254261 2007-01-21      2016-09-03   \n",
       "3        A/Guyane/439/2019   flu  EPI1507887 2019-04-29      2019-08-02   \n",
       "4      A/NewYork/1009/2006   flu   EPI524474 2006-01-12      2016-09-03   \n",
       "\n",
       "          region        country       division       location       passage  \\\n",
       "0          china          china       zhejiang         ningbo  undetermined   \n",
       "1         europe    switzerland          basel          basel  undetermined   \n",
       "2    japan_korea    south_korea          seoul        gangnam  undetermined   \n",
       "3  south_america  french_guiana  french_guiana  french_guiana    unpassaged   \n",
       "4  north_america            usa       new_york       new_york  undetermined   \n",
       "\n",
       "                               submitting_lab  age gender submission_delay  \n",
       "0                       other_database_import    ?      ?        4365 days  \n",
       "1                   import_from_public_domain    ?      ?         955 days  \n",
       "2                       other_database_import    ?      ?        3513 days  \n",
       "3  centers_for_disease_control_and_prevention  25y   male          95 days  \n",
       "4                       other_database_import   4m   male        3887 days  "
      ]
     },
     "execution_count": 13,
     "metadata": {},
     "output_type": "execute_result"
    }
   ],
   "source": [
    "filtered_metadata.head()"
   ]
  },
  {
   "cell_type": "code",
   "execution_count": 14,
   "metadata": {},
   "outputs": [
    {
     "data": {
      "text/plain": [
       "count                           73066\n",
       "mean     1001 days 21:49:04.702050208\n",
       "std      1489 days 03:22:00.285664864\n",
       "min                   5 days 00:00:00\n",
       "25%                  84 days 00:00:00\n",
       "50%                 277 days 00:00:00\n",
       "75%                1341 days 00:00:00\n",
       "max               41908 days 00:00:00\n",
       "Name: submission_delay, dtype: object"
      ]
     },
     "execution_count": 14,
     "metadata": {},
     "output_type": "execute_result"
    }
   ],
   "source": [
    "filtered_metadata[\"submission_delay\"].describe()"
   ]
  },
  {
   "cell_type": "code",
   "execution_count": 15,
   "metadata": {},
   "outputs": [],
   "source": [
    "delay_in_days = filtered_metadata[\"submission_delay\"].dt.days.values"
   ]
  },
  {
   "cell_type": "code",
   "execution_count": 16,
   "metadata": {},
   "outputs": [],
   "source": [
    "bins = np.linspace(\n",
    "    0,\n",
    "    delay_in_days.max(),\n",
    "    100\n",
    ")"
   ]
  },
  {
   "cell_type": "code",
   "execution_count": 17,
   "metadata": {},
   "outputs": [
    {
     "data": {
      "text/plain": [
       "Text(0,0.5,'Number of strains')"
      ]
     },
     "execution_count": 17,
     "metadata": {},
     "output_type": "execute_result"
    },
    {
     "data": {
      "image/png": "[encoded data removed]",
      "text/plain": [
       "<Figure size 576x288 with 1 Axes>"
      ]
     },
     "metadata": {},
     "output_type": "display_data"
    }
   ],
   "source": [
    "fig, ax = plt.subplots(1, 1, figsize=(8, 4))\n",
    "values, hist_bins, patches = ax.hist(delay_in_days, bins=bins)\n",
    "ax.set_xlabel(\"Delay between collection and submission (days)\")\n",
    "ax.set_ylabel(\"Number of strains\")"
   ]
  },
  {
   "cell_type": "markdown",
   "metadata": {},
   "source": [
    "To understand how the delay between collection and submission changed over time, we inspect the distribution in sliding windows that match our original forecasting analysis (6 year windows, sliding by 6 months)."
   ]
  },
  {
   "cell_type": "code",
   "execution_count": 18,
   "metadata": {},
   "outputs": [],
   "source": [
    "end_dates = pd.date_range(\n",
    "    \"2006-01-01\",\n",
    "    \"2020-01-01\",\n",
    "    freq=\"6MS\"\n",
    ")"
   ]
  },
  {
   "cell_type": "code",
   "execution_count": 19,
   "metadata": {},
   "outputs": [],
   "source": [
    "years_back = pd.DateOffset(years=6)"
   ]
  },
  {
   "cell_type": "code",
   "execution_count": 20,
   "metadata": {},
   "outputs": [
    {
     "data": {
      "text/plain": [
       "(29,)"
      ]
     },
     "execution_count": 20,
     "metadata": {},
     "output_type": "execute_result"
    }
   ],
   "source": [
    "end_dates.shape"
   ]
  },
  {
   "cell_type": "code",
   "execution_count": 21,
   "metadata": {},
   "outputs": [
    {
     "data": {
      "text/plain": [
       "41908"
      ]
     },
     "execution_count": 21,
     "metadata": {},
     "output_type": "execute_result"
    }
   ],
   "source": [
    "delay_in_days.max()"
   ]
  },
  {
   "cell_type": "code",
   "execution_count": 22,
   "metadata": {},
   "outputs": [],
   "source": [
    "delay_in_days = filtered_metadata[\"submission_delay\"].dt.days.values"
   ]
  },
  {
   "cell_type": "code",
   "execution_count": 23,
   "metadata": {},
   "outputs": [],
   "source": [
    "bins = np.arange(0, 5000, 30)"
   ]
  },
  {
   "cell_type": "code",
   "execution_count": 24,
   "metadata": {},
   "outputs": [
    {
     "data": {
      "image/png": "[encoded data removed]",
      "text/plain": [
       "<Figure size 576x864 with 29 Axes>"
      ]
     },
     "metadata": {},
     "output_type": "display_data"
    }
   ],
   "source": [
    "start_dates = []\n",
    "mean_delays = []\n",
    "std_delays = []\n",
    "\n",
    "fig, axes = plt.subplots(\n",
    "    nrows=end_dates.shape[0],\n",
    "    ncols=1,\n",
    "    figsize=(8, 12),\n",
    "    sharex=True,\n",
    "    sharey=True\n",
    ")\n",
    "\n",
    "for end_date, ax in zip(end_dates, axes.flatten()):\n",
    "    start_date = end_date - years_back\n",
    "    window_metadata = filtered_metadata[\n",
    "        (filtered_metadata[\"date\"] >= start_date) &\n",
    "        (filtered_metadata[\"date\"] < end_date)\n",
    "    ]\n",
    "    window_delay_in_days = window_metadata[\"submission_delay\"].dt.days.values\n",
    "    \n",
    "    start_dates.append(start_date)\n",
    "    mean_delays.append(window_delay_in_days.mean())\n",
    "    std_delays.append(window_delay_in_days.std())\n",
    "    ax.hist(\n",
    "        window_delay_in_days,\n",
    "        bins=bins,\n",
    "        density=True\n",
    "    )\n",
    "    ax.set_yticklabels([])"
   ]
  },
  {
   "cell_type": "code",
   "execution_count": 25,
   "metadata": {},
   "outputs": [],
   "source": [
    "start_dates = pd.to_datetime(start_dates)"
   ]
  },
  {
   "cell_type": "code",
   "execution_count": 26,
   "metadata": {},
   "outputs": [
    {
     "data": {
      "text/plain": [
       "Text(0,0.5,'Delay between collection and submission')"
      ]
     },
     "execution_count": 26,
     "metadata": {},
     "output_type": "execute_result"
    },
    {
     "data": {
      "image/png": "[encoded data removed]",
      "text/plain": [
       "<Figure size 576x288 with 1 Axes>"
      ]
     },
     "metadata": {},
     "output_type": "display_data"
    }
   ],
   "source": [
    "fig, ax = plt.subplots(1, 1, figsize=(8, 4))\n",
    "ax.errorbar(\n",
    "    start_dates,\n",
    "    mean_delays,\n",
    "    std_delays,\n",
    "    marker=\"o\",\n",
    "    fmt=\"\"\n",
    ")\n",
    "ax.set_xlabel(\"Start of 6-year window\")\n",
    "ax.set_ylabel(\"Delay between collection and submission\")"
   ]
  },
  {
   "cell_type": "markdown",
   "metadata": {},
   "source": [
    "## Investigate distribution of delays in the last complete year"
   ]
  },
  {
   "cell_type": "markdown",
   "metadata": {},
   "source": [
    "Filter records to those from the last year. These should have more reasonable and consistent submission delays."
   ]
  },
  {
   "cell_type": "code",
   "execution_count": 27,
   "metadata": {},
   "outputs": [],
   "source": [
    "recent_metadata = filtered_metadata[\n",
    "    (filtered_metadata[\"date\"] >= \"2019-01-01\") &\n",
    "    (filtered_metadata[\"date\"] < \"2020-01-01\")\n",
    "].copy()"
   ]
  },
  {
   "cell_type": "code",
   "execution_count": 28,
   "metadata": {},
   "outputs": [
    {
     "data": {
      "text/plain": [
       "(73066, 14)"
      ]
     },
     "execution_count": 28,
     "metadata": {},
     "output_type": "execute_result"
    }
   ],
   "source": [
    "filtered_metadata.shape"
   ]
  },
  {
   "cell_type": "code",
   "execution_count": 29,
   "metadata": {},
   "outputs": [
    {
     "data": {
      "text/plain": [
       "(11218, 14)"
      ]
     },
     "execution_count": 29,
     "metadata": {},
     "output_type": "execute_result"
    }
   ],
   "source": [
    "recent_metadata.shape"
   ]
  },
  {
   "cell_type": "code",
   "execution_count": 30,
   "metadata": {},
   "outputs": [
    {
     "data": {
      "text/plain": [
       "61848"
      ]
     },
     "execution_count": 30,
     "metadata": {},
     "output_type": "execute_result"
    }
   ],
   "source": [
    "filtered_metadata.shape[0] - recent_metadata.shape[0]"
   ]
  },
  {
   "cell_type": "code",
   "execution_count": 31,
   "metadata": {},
   "outputs": [
    {
     "data": {
      "text/plain": [
       "0.1535324227410834"
      ]
     },
     "execution_count": 31,
     "metadata": {},
     "output_type": "execute_result"
    }
   ],
   "source": [
    "recent_metadata.shape[0] / filtered_metadata.shape[0]"
   ]
  },
  {
   "cell_type": "code",
   "execution_count": 32,
   "metadata": {},
   "outputs": [],
   "source": [
    "delay_in_days = recent_metadata[\"submission_delay\"].dt.days.values"
   ]
  },
  {
   "cell_type": "code",
   "execution_count": 33,
   "metadata": {},
   "outputs": [],
   "source": [
    "bins = np.linspace(\n",
    "    0,\n",
    "    delay_in_days.max(),\n",
    "    100\n",
    ")"
   ]
  },
  {
   "cell_type": "code",
   "execution_count": 34,
   "metadata": {},
   "outputs": [
    {
     "data": {
      "text/plain": [
       "Text(0,0.5,'Number of strains')"
      ]
     },
     "execution_count": 34,
     "metadata": {},
     "output_type": "execute_result"
    },
    {
     "data": {
      "image/png": "[encoded data removed]",
      "text/plain": [
       "<Figure size 576x288 with 1 Axes>"
      ]
     },
     "metadata": {},
     "output_type": "display_data"
    }
   ],
   "source": [
    "fig, ax = plt.subplots(1, 1, figsize=(8, 4))\n",
    "values, hist_bins, patches = ax.hist(delay_in_days, bins=bins)\n",
    "ax.set_xlabel(\"Delay between collection and submission (days)\")\n",
    "ax.set_ylabel(\"Number of strains\")"
   ]
  },
  {
   "cell_type": "code",
   "execution_count": 35,
   "metadata": {},
   "outputs": [
    {
     "data": {
      "text/plain": [
       "103.93537172401497"
      ]
     },
     "execution_count": 35,
     "metadata": {},
     "output_type": "execute_result"
    }
   ],
   "source": [
    "delay_in_days.mean()"
   ]
  },
  {
   "cell_type": "code",
   "execution_count": 36,
   "metadata": {},
   "outputs": [
    {
     "data": {
      "text/plain": [
       "7"
      ]
     },
     "execution_count": 36,
     "metadata": {},
     "output_type": "execute_result"
    }
   ],
   "source": [
    "delay_in_days.min()"
   ]
  },
  {
   "cell_type": "code",
   "execution_count": 37,
   "metadata": {},
   "outputs": [
    {
     "data": {
      "text/plain": [
       "977"
      ]
     },
     "execution_count": 37,
     "metadata": {},
     "output_type": "execute_result"
    }
   ],
   "source": [
    "(delay_in_days <= 31).sum()"
   ]
  },
  {
   "cell_type": "code",
   "execution_count": 38,
   "metadata": {},
   "outputs": [
    {
     "data": {
      "text/plain": [
       "(11218,)"
      ]
     },
     "execution_count": 38,
     "metadata": {},
     "output_type": "execute_result"
    }
   ],
   "source": [
    "delay_in_days.shape"
   ]
  },
  {
   "cell_type": "code",
   "execution_count": 39,
   "metadata": {},
   "outputs": [
    {
     "data": {
      "text/plain": [
       "0.08709217329292208"
      ]
     },
     "execution_count": 39,
     "metadata": {},
     "output_type": "execute_result"
    }
   ],
   "source": [
    "(delay_in_days <= 31).sum() / delay_in_days.shape[0]"
   ]
  },
  {
   "cell_type": "code",
   "execution_count": 40,
   "metadata": {},
   "outputs": [
    {
     "data": {
      "text/plain": [
       "4030"
      ]
     },
     "execution_count": 40,
     "metadata": {},
     "output_type": "execute_result"
    }
   ],
   "source": [
    "(delay_in_days <= 62).sum()"
   ]
  },
  {
   "cell_type": "code",
   "execution_count": 41,
   "metadata": {},
   "outputs": [
    {
     "data": {
      "text/plain": [
       "0.3592440720270993"
      ]
     },
     "execution_count": 41,
     "metadata": {},
     "output_type": "execute_result"
    }
   ],
   "source": [
    "(delay_in_days <= 62).sum() / delay_in_days.shape[0]"
   ]
  },
  {
   "cell_type": "code",
   "execution_count": 42,
   "metadata": {},
   "outputs": [
    {
     "data": {
      "text/plain": [
       "microbiology_services_colindale,_public_health_england              97\n",
       "centers_for_disease_control_and_prevention                          11\n",
       "niigata_university                                                   3\n",
       "who_national_influenza_centre_russian_federation                     2\n",
       "who_collaborating_centre_for_reference_and_research_on_influenza     2\n",
       "Name: submitting_lab, dtype: int64"
      ]
     },
     "execution_count": 42,
     "metadata": {},
     "output_type": "execute_result"
    }
   ],
   "source": [
    "recent_metadata[recent_metadata[\"submission_delay\"].dt.days > 400][\"submitting_lab\"].value_counts()"
   ]
  },
  {
   "cell_type": "code",
   "execution_count": 43,
   "metadata": {},
   "outputs": [
    {
     "data": {
      "text/plain": [
       "Text(0,0.5,'Density')"
      ]
     },
     "execution_count": 43,
     "metadata": {},
     "output_type": "execute_result"
    },
    {
     "data": {
      "image/png": "[encoded data removed]",
      "text/plain": [
       "<Figure size 576x288 with 1 Axes>"
      ]
     },
     "metadata": {},
     "output_type": "display_data"
    }
   ],
   "source": [
    "fig, ax = plt.subplots(1, 1, figsize=(8, 4))\n",
    "values, hist_bins, patches = ax.hist(delay_in_days, bins=bins, density=True)\n",
    "ax.set_xlabel(\"Delay between collection and submission (days)\")\n",
    "ax.set_ylabel(\"Density\")"
   ]
  },
  {
   "cell_type": "markdown",
   "metadata": {},
   "source": [
    "## Find a gamma distribution that matches the empirical distribution"
   ]
  },
  {
   "cell_type": "markdown",
   "metadata": {},
   "source": [
    "Find gamma distribution parameters that best correspond to the observed delay in days for the last year using maximum likelihood estimation."
   ]
  },
  {
   "cell_type": "code",
   "execution_count": 44,
   "metadata": {},
   "outputs": [],
   "source": [
    "shape, loc, scale = gamma.fit(delay_in_days)"
   ]
  },
  {
   "cell_type": "code",
   "execution_count": 45,
   "metadata": {},
   "outputs": [
    {
     "data": {
      "text/plain": [
       "1.8671767801174228"
      ]
     },
     "execution_count": 45,
     "metadata": {},
     "output_type": "execute_result"
    }
   ],
   "source": [
    "shape"
   ]
  },
  {
   "cell_type": "code",
   "execution_count": 46,
   "metadata": {},
   "outputs": [
    {
     "data": {
      "text/plain": [
       "6.965981588630028"
      ]
     },
     "execution_count": 46,
     "metadata": {},
     "output_type": "execute_result"
    }
   ],
   "source": [
    "loc"
   ]
  },
  {
   "cell_type": "code",
   "execution_count": 47,
   "metadata": {},
   "outputs": [
    {
     "data": {
      "text/plain": [
       "51.93367387724644"
      ]
     },
     "execution_count": 47,
     "metadata": {},
     "output_type": "execute_result"
    }
   ],
   "source": [
    "scale"
   ]
  },
  {
   "cell_type": "markdown",
   "metadata": {},
   "source": [
    "Generate and plot random values from the gamma distribution matching the MLE parameters from the empirical distribution."
   ]
  },
  {
   "cell_type": "code",
   "execution_count": 48,
   "metadata": {},
   "outputs": [],
   "source": [
    "gamma_data = gamma.rvs(\n",
    "    a=shape,\n",
    "    loc=loc,\n",
    "    scale=scale,\n",
    "    size=delay_in_days.shape[0]\n",
    ")"
   ]
  },
  {
   "cell_type": "code",
   "execution_count": 49,
   "metadata": {},
   "outputs": [
    {
     "data": {
      "text/plain": [
       "<matplotlib.legend.Legend at 0x12708f588>"
      ]
     },
     "execution_count": 49,
     "metadata": {},
     "output_type": "execute_result"
    },
    {
     "data": {
      "image/png": "[encoded data removed]",
      "text/plain": [
       "<Figure size 576x288 with 1 Axes>"
      ]
     },
     "metadata": {},
     "output_type": "display_data"
    }
   ],
   "source": [
    "fig, ax = plt.subplots(1, 1, figsize=(8, 4))\n",
    "values, hist_bins, patches = ax.hist(\n",
    "    delay_in_days,\n",
    "    bins=bins,\n",
    "    density=True,\n",
    "    alpha=0.5,\n",
    "    label=\"empirical distribution\"\n",
    ")\n",
    "values, hist_bins, patches = ax.hist(\n",
    "    gamma_data,\n",
    "    bins=bins,\n",
    "    density=True,\n",
    "    color=\"orange\",\n",
    "    alpha=0.5,\n",
    "    label=\"gamma distribution\"\n",
    ")\n",
    "\n",
    "ax.set_xlabel(\"Delay in days\")\n",
    "ax.set_ylabel(\"Density\")\n",
    "ax.legend(\n",
    "    frameon=False\n",
    ")"
   ]
  },
  {
   "cell_type": "code",
   "execution_count": 50,
   "metadata": {},
   "outputs": [
    {
     "data": {
      "text/plain": [
       "7.1955825736269"
      ]
     },
     "execution_count": 50,
     "metadata": {},
     "output_type": "execute_result"
    }
   ],
   "source": [
    "gamma_data.min()"
   ]
  },
  {
   "cell_type": "code",
   "execution_count": 51,
   "metadata": {},
   "outputs": [
    {
     "data": {
      "text/plain": [
       "105.13901002715424"
      ]
     },
     "execution_count": 51,
     "metadata": {},
     "output_type": "execute_result"
    }
   ],
   "source": [
    "gamma_data.mean()"
   ]
  },
  {
   "cell_type": "code",
   "execution_count": 52,
   "metadata": {},
   "outputs": [
    {
     "data": {
      "text/plain": [
       "103.93537172401497"
      ]
     },
     "execution_count": 52,
     "metadata": {},
     "output_type": "execute_result"
    }
   ],
   "source": [
    "delay_in_days.mean()"
   ]
  },
  {
   "cell_type": "code",
   "execution_count": 53,
   "metadata": {},
   "outputs": [
    {
     "data": {
      "text/plain": [
       "1.8671767801174228"
      ]
     },
     "execution_count": 53,
     "metadata": {},
     "output_type": "execute_result"
    }
   ],
   "source": [
    "shape"
   ]
  },
  {
   "cell_type": "code",
   "execution_count": 54,
   "metadata": {},
   "outputs": [
    {
     "data": {
      "text/plain": [
       "51.93367387724644"
      ]
     },
     "execution_count": 54,
     "metadata": {},
     "output_type": "execute_result"
    }
   ],
   "source": [
    "scale"
   ]
  },
  {
   "cell_type": "code",
   "execution_count": 55,
   "metadata": {},
   "outputs": [
    {
     "data": {
      "text/plain": [
       "96.96934996978533"
      ]
     },
     "execution_count": 55,
     "metadata": {},
     "output_type": "execute_result"
    }
   ],
   "source": [
    "shape * scale"
   ]
  },
  {
   "cell_type": "code",
   "execution_count": 56,
   "metadata": {},
   "outputs": [
    {
     "data": {
      "text/plain": [
       "6.965981588630028"
      ]
     },
     "execution_count": 56,
     "metadata": {},
     "output_type": "execute_result"
    }
   ],
   "source": [
    "loc"
   ]
  },
  {
   "cell_type": "code",
   "execution_count": 57,
   "metadata": {},
   "outputs": [],
   "source": [
    "ideal_scale = scale / 3.0"
   ]
  },
  {
   "cell_type": "code",
   "execution_count": 58,
   "metadata": {},
   "outputs": [
    {
     "data": {
      "text/plain": [
       "17.311224625748814"
      ]
     },
     "execution_count": 58,
     "metadata": {},
     "output_type": "execute_result"
    }
   ],
   "source": [
    "ideal_scale"
   ]
  },
  {
   "cell_type": "code",
   "execution_count": 59,
   "metadata": {},
   "outputs": [
    {
     "data": {
      "text/plain": [
       "32.32311665659511"
      ]
     },
     "execution_count": 59,
     "metadata": {},
     "output_type": "execute_result"
    }
   ],
   "source": [
    "shape * ideal_scale"
   ]
  },
  {
   "cell_type": "code",
   "execution_count": 60,
   "metadata": {},
   "outputs": [],
   "source": [
    "ideal_gamma_data = gamma.rvs(\n",
    "    a=shape,\n",
    "    loc=loc,\n",
    "    scale=ideal_scale,\n",
    "    size=delay_in_days.shape[0]\n",
    ")"
   ]
  },
  {
   "cell_type": "code",
   "execution_count": 61,
   "metadata": {},
   "outputs": [
    {
     "data": {
      "text/plain": [
       "<matplotlib.legend.Legend at 0x128734668>"
      ]
     },
     "execution_count": 61,
     "metadata": {},
     "output_type": "execute_result"
    },
    {
     "data": {
      "image/png": "[encoded data removed]",
      "text/plain": [
       "<Figure size 576x288 with 1 Axes>"
      ]
     },
     "metadata": {},
     "output_type": "display_data"
    }
   ],
   "source": [
    "fig, ax = plt.subplots(1, 1, figsize=(8, 4))\n",
    "values, hist_bins, patches = ax.hist(\n",
    "    delay_in_days,\n",
    "    bins=bins,\n",
    "    density=True,\n",
    "    alpha=0.5,\n",
    "    label=\"empirical distribution\"\n",
    ")\n",
    "\n",
    "values, hist_bins, patches = ax.hist(\n",
    "    gamma_data,\n",
    "    bins=bins,\n",
    "    density=True,\n",
    "    color=\"orange\",\n",
    "    alpha=0.5,\n",
    "    label=\"gamma distribution\"\n",
    ")\n",
    "\n",
    "values, hist_bins, patches = ax.hist(\n",
    "    ideal_gamma_data,\n",
    "    bins=bins,\n",
    "    density=True,\n",
    "    color=\"yellow\",\n",
    "    alpha=0.5,\n",
    "    label=\"ideal gamma distribution\"\n",
    ")\n",
    "\n",
    "ax.set_xlabel(\"Delay in days\")\n",
    "ax.set_ylabel(\"Density\")\n",
    "ax.legend(\n",
    "    frameon=False\n",
    ")"
   ]
  },
  {
   "cell_type": "code",
   "execution_count": 62,
   "metadata": {},
   "outputs": [
    {
     "data": {
      "text/plain": [
       "7.120609712569673"
      ]
     },
     "execution_count": 62,
     "metadata": {},
     "output_type": "execute_result"
    }
   ],
   "source": [
    "ideal_gamma_data.min()"
   ]
  },
  {
   "cell_type": "code",
   "execution_count": 63,
   "metadata": {},
   "outputs": [],
   "source": [
    "ideal_shape = shape / 3.0"
   ]
  },
  {
   "cell_type": "code",
   "execution_count": 64,
   "metadata": {},
   "outputs": [
    {
     "data": {
      "text/plain": [
       "0.6223922600391409"
      ]
     },
     "execution_count": 64,
     "metadata": {},
     "output_type": "execute_result"
    }
   ],
   "source": [
    "ideal_shape"
   ]
  },
  {
   "cell_type": "code",
   "execution_count": 65,
   "metadata": {},
   "outputs": [
    {
     "data": {
      "text/plain": [
       "32.32311665659511"
      ]
     },
     "execution_count": 65,
     "metadata": {},
     "output_type": "execute_result"
    }
   ],
   "source": [
    "ideal_shape * scale"
   ]
  },
  {
   "cell_type": "code",
   "execution_count": 66,
   "metadata": {},
   "outputs": [],
   "source": [
    "ideal_gamma_data_by_shape = gamma.rvs(\n",
    "    a=ideal_shape,\n",
    "    loc=loc,\n",
    "    scale=scale,\n",
    "    size=delay_in_days.shape[0]\n",
    ")"
   ]
  },
  {
   "cell_type": "code",
   "execution_count": 67,
   "metadata": {},
   "outputs": [
    {
     "data": {
      "text/plain": [
       "<matplotlib.legend.Legend at 0x128e409b0>"
      ]
     },
     "execution_count": 67,
     "metadata": {},
     "output_type": "execute_result"
    },
    {
     "data": {
      "image/png": "[encoded data removed]",
      "text/plain": [
       "<Figure size 576x288 with 1 Axes>"
      ]
     },
     "metadata": {},
     "output_type": "display_data"
    }
   ],
   "source": [
    "fig, ax = plt.subplots(1, 1, figsize=(8, 4))\n",
    "values, hist_bins, patches = ax.hist(\n",
    "    delay_in_days,\n",
    "    bins=bins,\n",
    "    density=True,\n",
    "    alpha=0.5,\n",
    "    label=\"empirical distribution\"\n",
    ")\n",
    "\n",
    "values, hist_bins, patches = ax.hist(\n",
    "    gamma_data,\n",
    "    bins=bins,\n",
    "    density=True,\n",
    "    color=\"orange\",\n",
    "    alpha=0.5,\n",
    "    label=\"gamma distribution\"\n",
    ")\n",
    "\n",
    "values, hist_bins, patches = ax.hist(\n",
    "    ideal_gamma_data,\n",
    "    bins=bins,\n",
    "    density=True,\n",
    "    color=\"yellow\",\n",
    "    alpha=0.5,\n",
    "    label=\"ideal gamma distribution (scale)\"\n",
    ")\n",
    "\n",
    "values, hist_bins, patches = ax.hist(\n",
    "    ideal_gamma_data_by_shape,\n",
    "    bins=bins,\n",
    "    density=True,\n",
    "    color=\"purple\",\n",
    "    alpha=0.5,\n",
    "    label=\"ideal gamma distribution (shape)\"\n",
    ")\n",
    "\n",
    "\n",
    "ax.set_xlabel(\"Delay in days\")\n",
    "ax.set_ylabel(\"Density\")\n",
    "ax.legend(\n",
    "    frameon=False\n",
    ")"
   ]
  },
  {
   "cell_type": "code",
   "execution_count": 68,
   "metadata": {},
   "outputs": [
    {
     "data": {
      "text/plain": [
       "6.96599450755683"
      ]
     },
     "execution_count": 68,
     "metadata": {},
     "output_type": "execute_result"
    }
   ],
   "source": [
    "ideal_gamma_data_by_shape.min()"
   ]
  },
  {
   "cell_type": "code",
   "execution_count": 69,
   "metadata": {},
   "outputs": [
    {
     "data": {
      "text/plain": [
       "0.4468711000178285"
      ]
     },
     "execution_count": 69,
     "metadata": {},
     "output_type": "execute_result"
    }
   ],
   "source": [
    "(ideal_gamma_data < 31).sum() / ideal_gamma_data.shape[0]"
   ]
  },
  {
   "cell_type": "code",
   "execution_count": 70,
   "metadata": {},
   "outputs": [
    {
     "data": {
      "text/plain": [
       "0.8487252629702264"
      ]
     },
     "execution_count": 70,
     "metadata": {},
     "output_type": "execute_result"
    }
   ],
   "source": [
    "(ideal_gamma_data < 62).sum() / ideal_gamma_data.shape[0]"
   ]
  },
  {
   "cell_type": "code",
   "execution_count": 71,
   "metadata": {},
   "outputs": [
    {
     "data": {
      "text/plain": [
       "0.5915492957746479"
      ]
     },
     "execution_count": 71,
     "metadata": {},
     "output_type": "execute_result"
    }
   ],
   "source": [
    "(ideal_gamma_data_by_shape < 31).sum() / ideal_gamma_data_by_shape.shape[0]"
   ]
  },
  {
   "cell_type": "code",
   "execution_count": 72,
   "metadata": {},
   "outputs": [
    {
     "data": {
      "text/plain": [
       "0.8111962916740952"
      ]
     },
     "execution_count": 72,
     "metadata": {},
     "output_type": "execute_result"
    }
   ],
   "source": [
    "(ideal_gamma_data_by_shape < 62).sum() / ideal_gamma_data_by_shape.shape[0]"
   ]
  },
  {
   "cell_type": "code",
   "execution_count": 73,
   "metadata": {},
   "outputs": [
    {
     "data": {
      "text/plain": [
       "39.1916191268706"
      ]
     },
     "execution_count": 73,
     "metadata": {},
     "output_type": "execute_result"
    }
   ],
   "source": [
    "ideal_gamma_data.mean()"
   ]
  },
  {
   "cell_type": "code",
   "execution_count": 74,
   "metadata": {},
   "outputs": [
    {
     "data": {
      "text/plain": [
       "38.96864962129439"
      ]
     },
     "execution_count": 74,
     "metadata": {},
     "output_type": "execute_result"
    }
   ],
   "source": [
    "ideal_gamma_data_by_shape.mean()"
   ]
  },
  {
   "cell_type": "code",
   "execution_count": 87,
   "metadata": {},
   "outputs": [
    {
     "data": {
      "image/png": "[encoded data removed]",
      "text/plain": [
       "<Figure size 1200x600 with 1 Axes>"
      ]
     },
     "metadata": {},
     "output_type": "display_data"
    }
   ],
   "source": [
    "fig, ax = plt.subplots(1, 1, figsize=(8, 4))\n",
    "values, hist_bins, patches = ax.hist(\n",
    "    delay_in_days,\n",
    "    bins=bins,\n",
    "    density=True,\n",
    "    alpha=0.75,\n",
    "    label=\"empirical distribution\"\n",
    ")\n",
    "\n",
    "values, hist_bins, patches = ax.hist(\n",
    "    gamma_data,\n",
    "    bins=bins,\n",
    "    density=True,\n",
    "    color=\"orange\",\n",
    "    alpha=0.5,\n",
    "    label=\"ML gamma distribution\"\n",
    ")\n",
    "\n",
    "values, hist_bins, patches = ax.hist(\n",
    "    ideal_gamma_data,\n",
    "    bins=bins,\n",
    "    density=True,\n",
    "    color=\"purple\",\n",
    "    alpha=0.5,\n",
    "    label=\"ideal gamma distribution\"\n",
    ")\n",
    "\n",
    "ax.axvline(\n",
    "    x=0,\n",
    "    color=\"#999999\",\n",
    "    label=\"retrospective delay\"\n",
    ")\n",
    "\n",
    "ax.set_xlabel(\"Delay between sample collection and submission (days)\")\n",
    "ax.set_ylabel(\"Density\")\n",
    "ax.legend(\n",
    "    frameon=False\n",
    ")\n",
    "\n",
    "plt.tight_layout()\n",
    "plt.savefig(figure_path)"
   ]
  },
  {
   "cell_type": "code",
   "execution_count": null,
   "metadata": {},
   "outputs": [],
   "source": []
  }
 ],
 "metadata": {
  "kernelspec": {
   "display_name": "Python 3",
   "language": "python",
   "name": "python3"
  },
  "language_info": {
   "codemirror_mode": {
    "name": "ipython",
    "version": 3
   },
   "file_extension": ".py",
   "mimetype": "text/x-python",
   "name": "python",
   "nbconvert_exporter": "python",
   "pygments_lexer": "ipython3",
   "version": "3.6.7"
  }
 },
 "nbformat": 4,
 "nbformat_minor": 4
}
