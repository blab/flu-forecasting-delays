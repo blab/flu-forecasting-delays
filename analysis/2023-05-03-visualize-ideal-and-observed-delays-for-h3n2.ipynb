{
 "cells": [
  {
   "cell_type": "code",
   "execution_count": 1,
   "id": "45351e04-4e02-4204-a31f-3a62422ebb1e",
   "metadata": {},
   "outputs": [],
   "source": [
    "from matplotlib import pyplot as plt\n",
    "import numpy as np\n",
    "import pandas as pd\n",
    "import seaborn as sns"
   ]
  },
  {
   "cell_type": "code",
   "execution_count": 2,
   "id": "080ce5af-8ac6-4f29-a71a-0ccb3dd5c1ab",
   "metadata": {},
   "outputs": [],
   "source": [
    "df = pd.read_csv(\n",
    "    \"annotated_metadata.tsv\",\n",
    "    sep=\"\\t\",\n",
    "    parse_dates=[\"date\", \"submission_date\", \"ideal_submission_date\"],\n",
    ")"
   ]
  },
  {
   "cell_type": "code",
   "execution_count": 3,
   "id": "f6a020f6-48ee-4e90-bf94-5903963f2f3d",
   "metadata": {},
   "outputs": [
    {
     "data": {
      "text/html": [
       "<div>\n",
       "<style scoped>\n",
       "    .dataframe tbody tr th:only-of-type {\n",
       "        vertical-align: middle;\n",
       "    }\n",
       "\n",
       "    .dataframe tbody tr th {\n",
       "        vertical-align: top;\n",
       "    }\n",
       "\n",
       "    .dataframe thead th {\n",
       "        text-align: right;\n",
       "    }\n",
       "</style>\n",
       "<table border=\"1\" class=\"dataframe\">\n",
       "  <thead>\n",
       "    <tr style=\"text-align: right;\">\n",
       "      <th></th>\n",
       "      <th>strain</th>\n",
       "      <th>virus</th>\n",
       "      <th>segment</th>\n",
       "      <th>accession</th>\n",
       "      <th>date</th>\n",
       "      <th>submission_date</th>\n",
       "      <th>region</th>\n",
       "      <th>country</th>\n",
       "      <th>division</th>\n",
       "      <th>location</th>\n",
       "      <th>passage</th>\n",
       "      <th>originating_lab</th>\n",
       "      <th>submitting_lab</th>\n",
       "      <th>age</th>\n",
       "      <th>gender</th>\n",
       "      <th>ideal_submission_date</th>\n",
       "    </tr>\n",
       "  </thead>\n",
       "  <tbody>\n",
       "    <tr>\n",
       "      <th>0</th>\n",
       "      <td>A/Victoria/50/2022</td>\n",
       "      <td>flu</td>\n",
       "      <td>ha</td>\n",
       "      <td>EPI2030270</td>\n",
       "      <td>2022-03-21</td>\n",
       "      <td>2022-05-09</td>\n",
       "      <td>oceania</td>\n",
       "      <td>australia</td>\n",
       "      <td>victoria</td>\n",
       "      <td>victoria</td>\n",
       "      <td>cell</td>\n",
       "      <td>dorevtich_pathology</td>\n",
       "      <td>who_collaborating_centre_for_reference_and_res...</td>\n",
       "      <td>82y</td>\n",
       "      <td>female</td>\n",
       "      <td>2022-04-25</td>\n",
       "    </tr>\n",
       "    <tr>\n",
       "      <th>1</th>\n",
       "      <td>A/Victoria/53/2022</td>\n",
       "      <td>flu</td>\n",
       "      <td>ha</td>\n",
       "      <td>EPI2030222</td>\n",
       "      <td>2022-03-22</td>\n",
       "      <td>2022-05-09</td>\n",
       "      <td>oceania</td>\n",
       "      <td>australia</td>\n",
       "      <td>victoria</td>\n",
       "      <td>victoria</td>\n",
       "      <td>cell</td>\n",
       "      <td>dorevtich_pathology</td>\n",
       "      <td>who_collaborating_centre_for_reference_and_res...</td>\n",
       "      <td>68y</td>\n",
       "      <td>female</td>\n",
       "      <td>2022-04-26</td>\n",
       "    </tr>\n",
       "    <tr>\n",
       "      <th>2</th>\n",
       "      <td>A/Victoria/52/2022</td>\n",
       "      <td>flu</td>\n",
       "      <td>ha</td>\n",
       "      <td>EPI2030214</td>\n",
       "      <td>2022-03-23</td>\n",
       "      <td>2022-05-09</td>\n",
       "      <td>oceania</td>\n",
       "      <td>australia</td>\n",
       "      <td>victoria</td>\n",
       "      <td>victoria</td>\n",
       "      <td>cell</td>\n",
       "      <td>dorevtich_pathology</td>\n",
       "      <td>who_collaborating_centre_for_reference_and_res...</td>\n",
       "      <td>21y</td>\n",
       "      <td>male</td>\n",
       "      <td>2022-04-27</td>\n",
       "    </tr>\n",
       "    <tr>\n",
       "      <th>3</th>\n",
       "      <td>A/Victoria/54/2022</td>\n",
       "      <td>flu</td>\n",
       "      <td>ha</td>\n",
       "      <td>EPI2030230</td>\n",
       "      <td>2022-03-23</td>\n",
       "      <td>2022-05-09</td>\n",
       "      <td>oceania</td>\n",
       "      <td>australia</td>\n",
       "      <td>victoria</td>\n",
       "      <td>victoria</td>\n",
       "      <td>cell</td>\n",
       "      <td>dorevtich_pathology</td>\n",
       "      <td>who_collaborating_centre_for_reference_and_res...</td>\n",
       "      <td>18y</td>\n",
       "      <td>male</td>\n",
       "      <td>2022-04-27</td>\n",
       "    </tr>\n",
       "    <tr>\n",
       "      <th>4</th>\n",
       "      <td>A/Victoria/51/2022</td>\n",
       "      <td>flu</td>\n",
       "      <td>ha</td>\n",
       "      <td>EPI2030206</td>\n",
       "      <td>2022-03-22</td>\n",
       "      <td>2022-05-09</td>\n",
       "      <td>oceania</td>\n",
       "      <td>australia</td>\n",
       "      <td>victoria</td>\n",
       "      <td>victoria</td>\n",
       "      <td>cell</td>\n",
       "      <td>dorevtich_pathology</td>\n",
       "      <td>who_collaborating_centre_for_reference_and_res...</td>\n",
       "      <td>19y</td>\n",
       "      <td>female</td>\n",
       "      <td>2022-04-26</td>\n",
       "    </tr>\n",
       "  </tbody>\n",
       "</table>\n",
       "</div>"
      ],
      "text/plain": [
       "               strain virus segment   accession       date submission_date  \\\n",
       "0  A/Victoria/50/2022   flu      ha  EPI2030270 2022-03-21      2022-05-09   \n",
       "1  A/Victoria/53/2022   flu      ha  EPI2030222 2022-03-22      2022-05-09   \n",
       "2  A/Victoria/52/2022   flu      ha  EPI2030214 2022-03-23      2022-05-09   \n",
       "3  A/Victoria/54/2022   flu      ha  EPI2030230 2022-03-23      2022-05-09   \n",
       "4  A/Victoria/51/2022   flu      ha  EPI2030206 2022-03-22      2022-05-09   \n",
       "\n",
       "    region    country  division  location passage      originating_lab  \\\n",
       "0  oceania  australia  victoria  victoria    cell  dorevtich_pathology   \n",
       "1  oceania  australia  victoria  victoria    cell  dorevtich_pathology   \n",
       "2  oceania  australia  victoria  victoria    cell  dorevtich_pathology   \n",
       "3  oceania  australia  victoria  victoria    cell  dorevtich_pathology   \n",
       "4  oceania  australia  victoria  victoria    cell  dorevtich_pathology   \n",
       "\n",
       "                                      submitting_lab  age  gender  \\\n",
       "0  who_collaborating_centre_for_reference_and_res...  82y  female   \n",
       "1  who_collaborating_centre_for_reference_and_res...  68y  female   \n",
       "2  who_collaborating_centre_for_reference_and_res...  21y    male   \n",
       "3  who_collaborating_centre_for_reference_and_res...  18y    male   \n",
       "4  who_collaborating_centre_for_reference_and_res...  19y  female   \n",
       "\n",
       "  ideal_submission_date  \n",
       "0            2022-04-25  \n",
       "1            2022-04-26  \n",
       "2            2022-04-27  \n",
       "3            2022-04-27  \n",
       "4            2022-04-26  "
      ]
     },
     "execution_count": 3,
     "metadata": {},
     "output_type": "execute_result"
    }
   ],
   "source": [
    "df.head()"
   ]
  },
  {
   "cell_type": "code",
   "execution_count": 4,
   "id": "63f8f475-0d5e-48f2-88a1-7b01cae6e133",
   "metadata": {},
   "outputs": [],
   "source": [
    "observed_delay = (df[\"submission_date\"] - df[\"date\"]).dt.days.values"
   ]
  },
  {
   "cell_type": "code",
   "execution_count": 5,
   "id": "7e726e8f-9141-40af-8d06-677d313bfdb3",
   "metadata": {},
   "outputs": [
    {
     "data": {
      "text/plain": [
       "array([ 49,  48,  47, ..., 130,  87,  47])"
      ]
     },
     "execution_count": 5,
     "metadata": {},
     "output_type": "execute_result"
    }
   ],
   "source": [
    "observed_delay"
   ]
  },
  {
   "cell_type": "code",
   "execution_count": 6,
   "id": "93208557-a65a-4489-a4ae-edcadeb74a6c",
   "metadata": {},
   "outputs": [],
   "source": [
    "ideal_delay = (df[\"ideal_submission_date\"] - df[\"date\"]).dt.days.values"
   ]
  },
  {
   "cell_type": "code",
   "execution_count": 7,
   "id": "c53830ac-b783-4bbe-a5ba-86ccafdb3f36",
   "metadata": {},
   "outputs": [
    {
     "data": {
      "text/plain": [
       "array([35, 35, 35, ..., 71, 43, 47])"
      ]
     },
     "execution_count": 7,
     "metadata": {},
     "output_type": "execute_result"
    }
   ],
   "source": [
    "ideal_delay"
   ]
  },
  {
   "cell_type": "code",
   "execution_count": 10,
   "id": "dedc4713-a9b8-4f62-8135-80e1dd290502",
   "metadata": {},
   "outputs": [],
   "source": [
    "bins = np.arange(0, 365, 7)"
   ]
  },
  {
   "cell_type": "code",
   "execution_count": 11,
   "id": "86042590-cdc3-439f-b573-5678af746314",
   "metadata": {},
   "outputs": [
    {
     "data": {
      "text/plain": [
       "array([  0,   7,  14,  21,  28,  35,  42,  49,  56,  63,  70,  77,  84,\n",
       "        91,  98, 105, 112, 119, 126, 133, 140, 147, 154, 161, 168, 175,\n",
       "       182, 189, 196, 203, 210, 217, 224, 231, 238, 245, 252, 259, 266,\n",
       "       273, 280, 287, 294, 301, 308, 315, 322, 329, 336, 343, 350, 357,\n",
       "       364])"
      ]
     },
     "execution_count": 11,
     "metadata": {},
     "output_type": "execute_result"
    }
   ],
   "source": [
    "bins"
   ]
  },
  {
   "cell_type": "code",
   "execution_count": 18,
   "id": "aac085f8-2b81-499f-ac9e-8940416d93ba",
   "metadata": {},
   "outputs": [
    {
     "data": {
      "image/png": "[encoded data removed]",
      "text/plain": [
       "<Figure size 900x600 with 1 Axes>"
      ]
     },
     "metadata": {},
     "output_type": "display_data"
    }
   ],
   "source": [
    "fig, ax = plt.subplots(1, 1, figsize=(6, 4), dpi=150)\n",
    "ax.hist(\n",
    "    observed_delay,\n",
    "    bins=bins,\n",
    "    label=\"observed\",\n",
    "    alpha=0.75,\n",
    ")\n",
    "ax.hist(\n",
    "    ideal_delay,\n",
    "    bins=bins,\n",
    "    label=\"ideal\",\n",
    "    alpha=0.75,\n",
    ")\n",
    "\n",
    "ax.legend(\n",
    "    frameon=False,\n",
    "    title=\"Delay type\",\n",
    ")\n",
    "\n",
    "ax.set_xlabel(\"Submission delay (days)\")\n",
    "ax.set_ylabel(\"Number of records\")\n",
    "\n",
    "sns.despine()"
   ]
  },
  {
   "cell_type": "code",
   "execution_count": 21,
   "id": "720f634b-b0dd-4c61-8bf3-7622697d8c8d",
   "metadata": {},
   "outputs": [
    {
     "data": {
      "text/plain": [
       "303.04079814545173"
      ]
     },
     "execution_count": 21,
     "metadata": {},
     "output_type": "execute_result"
    }
   ],
   "source": [
    "np.mean(observed_delay)"
   ]
  },
  {
   "cell_type": "code",
   "execution_count": 22,
   "id": "7fe4bf06-a868-4604-a16a-301f890287c5",
   "metadata": {},
   "outputs": [
    {
     "data": {
      "text/plain": [
       "85.0"
      ]
     },
     "execution_count": 22,
     "metadata": {},
     "output_type": "execute_result"
    }
   ],
   "source": [
    "np.median(observed_delay)"
   ]
  },
  {
   "cell_type": "code",
   "execution_count": 23,
   "id": "ac9e69b2-240c-450a-a00f-f01e76589f13",
   "metadata": {},
   "outputs": [
    {
     "data": {
      "text/plain": [
       "32.46201816231129"
      ]
     },
     "execution_count": 23,
     "metadata": {},
     "output_type": "execute_result"
    }
   ],
   "source": [
    "np.mean(ideal_delay)"
   ]
  },
  {
   "cell_type": "code",
   "execution_count": 24,
   "id": "0a666978-65a0-4111-8eed-57084d0bded5",
   "metadata": {},
   "outputs": [
    {
     "data": {
      "text/plain": [
       "28.0"
      ]
     },
     "execution_count": 24,
     "metadata": {},
     "output_type": "execute_result"
    }
   ],
   "source": [
    "np.median(ideal_delay)"
   ]
  },
  {
   "cell_type": "code",
   "execution_count": 25,
   "id": "ee23df48-275f-4545-bce2-1f8f169805b1",
   "metadata": {},
   "outputs": [
    {
     "data": {
      "text/plain": [
       "0.32941176470588235"
      ]
     },
     "execution_count": 25,
     "metadata": {},
     "output_type": "execute_result"
    }
   ],
   "source": [
    "np.median(ideal_delay) / np.median(observed_delay)"
   ]
  },
  {
   "cell_type": "code",
   "execution_count": null,
   "id": "fb10ce5d-9c01-478b-b89b-ffd04a50f4dd",
   "metadata": {},
   "outputs": [],
   "source": []
  }
 ],
 "metadata": {
  "kernelspec": {
   "display_name": "Python 3 (ipykernel)",
   "language": "python",
   "name": "python3"
  },
  "language_info": {
   "codemirror_mode": {
    "name": "ipython",
    "version": 3
   },
   "file_extension": ".py",
   "mimetype": "text/x-python",
   "name": "python",
   "nbconvert_exporter": "python",
   "pygments_lexer": "ipython3",
   "version": "3.10.9"
  }
 },
 "nbformat": 4,
 "nbformat_minor": 5
}
