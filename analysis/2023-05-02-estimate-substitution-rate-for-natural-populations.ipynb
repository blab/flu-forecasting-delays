{
 "cells": [
  {
   "cell_type": "markdown",
   "id": "6c9a5364-45e6-4568-83a8-c48563747c31",
   "metadata": {},
   "source": [
    "# Estimate substitution rate for natural populations\n",
    "\n",
    "Estimate the number of amino acid substitutions per year for simulated populations."
   ]
  },
  {
   "cell_type": "code",
   "execution_count": 1,
   "id": "d036f427-f4a2-4f80-b244-3de1c6c67727",
   "metadata": {},
   "outputs": [],
   "source": [
    "from augur.types import ValidationMode\n",
    "from augur.utils import annotate_parents_for_tree, read_node_data, read_tree\n",
    "from matplotlib import pyplot as plt\n",
    "import numpy as np\n",
    "import pandas as pd\n",
    "from scipy.stats import linregress\n",
    "import seaborn as sns"
   ]
  },
  {
   "cell_type": "code",
   "execution_count": 2,
   "id": "b19019dd-b129-43b4-a7be-bb1240e5bef5",
   "metadata": {},
   "outputs": [],
   "source": [
    "tree = read_tree(\"analysis/natural_substitution_rate/2019-10-01/tree.nwk\")"
   ]
  },
  {
   "cell_type": "code",
   "execution_count": 3,
   "id": "47e4cc42-9d30-4e8c-9e4f-54699caaac3b",
   "metadata": {},
   "outputs": [],
   "source": [
    "tree = annotate_parents_for_tree(tree)"
   ]
  },
  {
   "cell_type": "code",
   "execution_count": 4,
   "id": "248bc8a1-8393-45fe-aa25-5c3e65593a00",
   "metadata": {},
   "outputs": [
    {
     "name": "stdout",
     "output_type": "stream",
     "text": [
      "Validating schema of 'analysis/natural_substitution_rate/2019-10-01/aa_muts.json'...\n"
     ]
    }
   ],
   "source": [
    "node_data = read_node_data(\n",
    "    [\n",
    "        \"analysis/natural_substitution_rate/2019-10-01/branch_lengths.json\",\n",
    "        \"analysis/natural_substitution_rate/2019-10-01/aa_muts.json\",\n",
    "    ],\n",
    "    validation_mode=ValidationMode.SKIP,\n",
    ")"
   ]
  },
  {
   "cell_type": "code",
   "execution_count": 5,
   "id": "bffa3e4a-8f5f-4505-96cd-3e422b385749",
   "metadata": {},
   "outputs": [
    {
     "data": {
      "text/plain": [
       "19000"
      ]
     },
     "execution_count": 5,
     "metadata": {},
     "output_type": "execute_result"
    }
   ],
   "source": [
    "len(node_data[\"nodes\"])"
   ]
  },
  {
   "cell_type": "code",
   "execution_count": 6,
   "id": "cea3985f-d43c-4166-8a7c-8b7d64818092",
   "metadata": {},
   "outputs": [],
   "source": [
    "# Count cumulative mutations per node.\n",
    "for node in tree.find_clades():\n",
    "    node_aa_muts = sum(len(muts) for muts in node_data[\"nodes\"][node.name][\"aa_muts\"].values())\n",
    "    node.total_aa_muts = getattr(node.parent, \"total_aa_muts\", 0) + node_aa_muts if node.parent else node_aa_muts"
   ]
  },
  {
   "cell_type": "code",
   "execution_count": 7,
   "id": "cb592d20-2f98-4cfa-a9f1-17315ed55fef",
   "metadata": {},
   "outputs": [],
   "source": [
    "# Get pairs of dates and cumulative mutations.\n",
    "dates = []\n",
    "total_aa_muts = []\n",
    "\n",
    "for node in tree.find_clades():\n",
    "    date = node_data[\"nodes\"][node.name][\"numdate\"]\n",
    "    if date > 2000:\n",
    "        dates.append(date)\n",
    "        total_aa_muts.append(node.total_aa_muts)"
   ]
  },
  {
   "cell_type": "code",
   "execution_count": 8,
   "id": "7035d216-62c4-43a2-88c4-32fdc7c470cf",
   "metadata": {},
   "outputs": [
    {
     "data": {
      "text/plain": [
       "[2008.950406119168,\n",
       " 2008.9518878285648,\n",
       " 2012.4303278688524,\n",
       " 2008.968160835984,\n",
       " 2009.010018408284]"
      ]
     },
     "execution_count": 8,
     "metadata": {},
     "output_type": "execute_result"
    }
   ],
   "source": [
    "dates[:5]"
   ]
  },
  {
   "cell_type": "code",
   "execution_count": 9,
   "id": "64e09b6b-ee63-4de5-a572-7f26ce7ea461",
   "metadata": {},
   "outputs": [
    {
     "data": {
      "text/plain": [
       "[0, 0, 0, 0, 0]"
      ]
     },
     "execution_count": 9,
     "metadata": {},
     "output_type": "execute_result"
    }
   ],
   "source": [
    "total_aa_muts[:5]"
   ]
  },
  {
   "cell_type": "code",
   "execution_count": 10,
   "id": "b2af08f4-b426-4ece-ae5b-0660c6c359e2",
   "metadata": {},
   "outputs": [],
   "source": [
    "# Fit linear regression to estimate cumulative AA mutations per year.\n",
    "slope, intercept, rvalue, pvalue, stderr = linregress(dates, total_aa_muts)"
   ]
  },
  {
   "cell_type": "code",
   "execution_count": 11,
   "id": "037804c3-3476-4a9e-a7f4-7035eea817e0",
   "metadata": {},
   "outputs": [
    {
     "data": {
      "text/plain": [
       "2.5926765488960735"
      ]
     },
     "execution_count": 11,
     "metadata": {},
     "output_type": "execute_result"
    }
   ],
   "source": [
    "slope"
   ]
  },
  {
   "cell_type": "code",
   "execution_count": 12,
   "id": "c9852f98-dcd3-46eb-85d7-86146dfa335d",
   "metadata": {},
   "outputs": [
    {
     "data": {
      "text/plain": [
       "-5216.592409156279"
      ]
     },
     "execution_count": 12,
     "metadata": {},
     "output_type": "execute_result"
    }
   ],
   "source": [
    "intercept"
   ]
  },
  {
   "cell_type": "code",
   "execution_count": 13,
   "id": "7808ef3b-2ed2-45fb-a70f-40961ffb14c7",
   "metadata": {},
   "outputs": [
    {
     "data": {
      "text/plain": [
       "0.9012251064671226"
      ]
     },
     "execution_count": 13,
     "metadata": {},
     "output_type": "execute_result"
    }
   ],
   "source": [
    "rvalue"
   ]
  },
  {
   "cell_type": "code",
   "execution_count": 14,
   "id": "143a32a6-2311-4af8-a711-68711f638241",
   "metadata": {},
   "outputs": [
    {
     "data": {
      "text/plain": [
       "0.8122066925266765"
      ]
     },
     "execution_count": 14,
     "metadata": {},
     "output_type": "execute_result"
    }
   ],
   "source": [
    "rvalue ** 2"
   ]
  },
  {
   "cell_type": "code",
   "execution_count": 15,
   "id": "f8fdec48-7e1f-44a3-bd09-83f4f4a89d33",
   "metadata": {},
   "outputs": [
    {
     "data": {
      "text/plain": [
       "0.009044845886350928"
      ]
     },
     "execution_count": 15,
     "metadata": {},
     "output_type": "execute_result"
    }
   ],
   "source": [
    "stderr"
   ]
  },
  {
   "cell_type": "code",
   "execution_count": 16,
   "id": "cb9ecaf4-6d08-4447-94f1-3a62abed3a34",
   "metadata": {},
   "outputs": [],
   "source": [
    "x = np.linspace(min(dates), max(dates) + 1, 100)"
   ]
  },
  {
   "cell_type": "code",
   "execution_count": 17,
   "id": "7d3478d3-2e62-40ea-958c-f91d82f3de77",
   "metadata": {},
   "outputs": [],
   "source": [
    "y = slope * x + intercept"
   ]
  },
  {
   "cell_type": "code",
   "execution_count": 18,
   "id": "dc4b13e9-61dc-4228-a42c-d950ff08b3a6",
   "metadata": {},
   "outputs": [
    {
     "data": {
      "image/png": "[encoded data removed]",
      "text/plain": [
       "<Figure size 720x720 with 1 Axes>"
      ]
     },
     "metadata": {},
     "output_type": "display_data"
    }
   ],
   "source": [
    "fig, ax = plt.subplots(1, 1, figsize=(6, 6), dpi=120)\n",
    "ax.plot(\n",
    "    dates,\n",
    "    total_aa_muts,\n",
    "    \"o\",\n",
    "    alpha=0.5,\n",
    ")\n",
    "\n",
    "ax.plot(\n",
    "    x,\n",
    "    y,\n",
    "    color=\"C1\",\n",
    ")\n",
    "\n",
    "ax.set_xlabel(\"Date\")\n",
    "ax.set_ylabel(\"Cumulative AA mutations\")\n",
    "sns.despine()"
   ]
  },
  {
   "cell_type": "code",
   "execution_count": 19,
   "id": "a1831ae6-0c69-4347-b5e8-c7773faf9a93",
   "metadata": {},
   "outputs": [],
   "source": [
    "df = pd.DataFrame({\"date\": dates, \"total_aa_muts\": total_aa_muts})"
   ]
  },
  {
   "cell_type": "code",
   "execution_count": 20,
   "id": "740f0e76-cf02-4737-b7f0-d89c8f69952c",
   "metadata": {},
   "outputs": [
    {
     "data": {
      "text/html": [
       "<div>\n",
       "<style scoped>\n",
       "    .dataframe tbody tr th:only-of-type {\n",
       "        vertical-align: middle;\n",
       "    }\n",
       "\n",
       "    .dataframe tbody tr th {\n",
       "        vertical-align: top;\n",
       "    }\n",
       "\n",
       "    .dataframe thead th {\n",
       "        text-align: right;\n",
       "    }\n",
       "</style>\n",
       "<table border=\"1\" class=\"dataframe\">\n",
       "  <thead>\n",
       "    <tr style=\"text-align: right;\">\n",
       "      <th></th>\n",
       "      <th>date</th>\n",
       "      <th>total_aa_muts</th>\n",
       "    </tr>\n",
       "  </thead>\n",
       "  <tbody>\n",
       "    <tr>\n",
       "      <th>0</th>\n",
       "      <td>2008.950406</td>\n",
       "      <td>0</td>\n",
       "    </tr>\n",
       "    <tr>\n",
       "      <th>1</th>\n",
       "      <td>2008.951888</td>\n",
       "      <td>0</td>\n",
       "    </tr>\n",
       "    <tr>\n",
       "      <th>2</th>\n",
       "      <td>2012.430328</td>\n",
       "      <td>0</td>\n",
       "    </tr>\n",
       "    <tr>\n",
       "      <th>3</th>\n",
       "      <td>2008.968161</td>\n",
       "      <td>0</td>\n",
       "    </tr>\n",
       "    <tr>\n",
       "      <th>4</th>\n",
       "      <td>2009.010018</td>\n",
       "      <td>0</td>\n",
       "    </tr>\n",
       "  </tbody>\n",
       "</table>\n",
       "</div>"
      ],
      "text/plain": [
       "          date  total_aa_muts\n",
       "0  2008.950406              0\n",
       "1  2008.951888              0\n",
       "2  2012.430328              0\n",
       "3  2008.968161              0\n",
       "4  2009.010018              0"
      ]
     },
     "execution_count": 20,
     "metadata": {},
     "output_type": "execute_result"
    }
   ],
   "source": [
    "df.head()"
   ]
  },
  {
   "cell_type": "code",
   "execution_count": 21,
   "id": "354f33d7-0e37-4a03-8a36-a17d6710ec7d",
   "metadata": {},
   "outputs": [],
   "source": [
    "df[\"year\"] = df[\"date\"].astype(int)"
   ]
  },
  {
   "cell_type": "code",
   "execution_count": 29,
   "id": "97359f6f-19df-4a37-82b8-21b7716ea045",
   "metadata": {},
   "outputs": [],
   "source": [
    "range_of_total_aa_muts = np.diff(df.query(\"year > 2008\").groupby(\"year\").agg({\"total_aa_muts\": [\"min\", \"max\"]}))[:, 0]"
   ]
  },
  {
   "cell_type": "code",
   "execution_count": 30,
   "id": "2d1be96a-8056-4554-850f-a767dd969678",
   "metadata": {},
   "outputs": [
    {
     "data": {
      "text/plain": [
       "2008"
      ]
     },
     "execution_count": 30,
     "metadata": {},
     "output_type": "execute_result"
    }
   ],
   "source": [
    "df[\"year\"].min()"
   ]
  },
  {
   "cell_type": "code",
   "execution_count": 31,
   "id": "a5afc18c-52fd-4a18-a6cf-5b3d40e5e521",
   "metadata": {},
   "outputs": [
    {
     "data": {
      "text/plain": [
       "array([12,  4,  7, 10, 14, 14, 19, 17, 16, 17])"
      ]
     },
     "execution_count": 31,
     "metadata": {},
     "output_type": "execute_result"
    }
   ],
   "source": [
    "range_of_total_aa_muts"
   ]
  },
  {
   "cell_type": "code",
   "execution_count": 32,
   "id": "13198d73-ab74-4c35-8ef3-268ac593e598",
   "metadata": {},
   "outputs": [
    {
     "data": {
      "text/plain": [
       "13.0"
      ]
     },
     "execution_count": 32,
     "metadata": {},
     "output_type": "execute_result"
    }
   ],
   "source": [
    "range_of_total_aa_muts.mean()"
   ]
  },
  {
   "cell_type": "code",
   "execution_count": 33,
   "id": "50d7ff39-dde0-4c2e-ba24-601c4256c7ec",
   "metadata": {},
   "outputs": [
    {
     "data": {
      "text/plain": [
       "14.0"
      ]
     },
     "execution_count": 33,
     "metadata": {},
     "output_type": "execute_result"
    }
   ],
   "source": [
    "np.median(range_of_total_aa_muts)"
   ]
  },
  {
   "cell_type": "code",
   "execution_count": 34,
   "id": "7ddcbf22-6c6e-46fe-95e9-c54d33207948",
   "metadata": {},
   "outputs": [
    {
     "data": {
      "text/plain": [
       "4"
      ]
     },
     "execution_count": 34,
     "metadata": {},
     "output_type": "execute_result"
    }
   ],
   "source": [
    "range_of_total_aa_muts.min()"
   ]
  },
  {
   "cell_type": "code",
   "execution_count": 35,
   "id": "e2231bf0-67ab-4f3a-9b06-171aa11aa9cd",
   "metadata": {},
   "outputs": [
    {
     "data": {
      "text/plain": [
       "19"
      ]
     },
     "execution_count": 35,
     "metadata": {},
     "output_type": "execute_result"
    }
   ],
   "source": [
    "range_of_total_aa_muts.max()"
   ]
  },
  {
   "cell_type": "code",
   "execution_count": 37,
   "id": "ec96a730-2357-4be3-93e8-894d4c697515",
   "metadata": {},
   "outputs": [
    {
     "data": {
      "text/plain": [
       "<Axes: xlabel='year', ylabel='total_aa_muts'>"
      ]
     },
     "execution_count": 37,
     "metadata": {},
     "output_type": "execute_result"
    },
    {
     "data": {
      "image/png": "[encoded data removed]",
      "text/plain": [
       "<Figure size 640x480 with 1 Axes>"
      ]
     },
     "metadata": {},
     "output_type": "display_data"
    }
   ],
   "source": [
    "sns.boxplot(\n",
    "    data=df,\n",
    "    x=\"year\",\n",
    "    y=\"total_aa_muts\",\n",
    ")"
   ]
  },
  {
   "cell_type": "code",
   "execution_count": 47,
   "id": "3742296f-b07c-4b76-904d-9d72d80dd054",
   "metadata": {},
   "outputs": [],
   "source": [
    "aa_quantiles = df.groupby(\"year\")[\"total_aa_muts\"].quantile([0.25, 0.75]).reset_index().rename(columns={\"level_1\": \"quantile\"})"
   ]
  },
  {
   "cell_type": "code",
   "execution_count": 49,
   "id": "440ba213-9d17-4c43-9b2e-f5dc1ea381ed",
   "metadata": {},
   "outputs": [
    {
     "data": {
      "text/html": [
       "<div>\n",
       "<style scoped>\n",
       "    .dataframe tbody tr th:only-of-type {\n",
       "        vertical-align: middle;\n",
       "    }\n",
       "\n",
       "    .dataframe tbody tr th {\n",
       "        vertical-align: top;\n",
       "    }\n",
       "\n",
       "    .dataframe thead th {\n",
       "        text-align: right;\n",
       "    }\n",
       "</style>\n",
       "<table border=\"1\" class=\"dataframe\">\n",
       "  <thead>\n",
       "    <tr style=\"text-align: right;\">\n",
       "      <th></th>\n",
       "      <th>year</th>\n",
       "      <th>quantile</th>\n",
       "      <th>total_aa_muts</th>\n",
       "    </tr>\n",
       "  </thead>\n",
       "  <tbody>\n",
       "    <tr>\n",
       "      <th>0</th>\n",
       "      <td>2008</td>\n",
       "      <td>0.25</td>\n",
       "      <td>0.0</td>\n",
       "    </tr>\n",
       "    <tr>\n",
       "      <th>1</th>\n",
       "      <td>2008</td>\n",
       "      <td>0.75</td>\n",
       "      <td>0.0</td>\n",
       "    </tr>\n",
       "    <tr>\n",
       "      <th>2</th>\n",
       "      <td>2009</td>\n",
       "      <td>0.25</td>\n",
       "      <td>1.0</td>\n",
       "    </tr>\n",
       "    <tr>\n",
       "      <th>3</th>\n",
       "      <td>2009</td>\n",
       "      <td>0.75</td>\n",
       "      <td>5.0</td>\n",
       "    </tr>\n",
       "    <tr>\n",
       "      <th>4</th>\n",
       "      <td>2011</td>\n",
       "      <td>0.25</td>\n",
       "      <td>2.0</td>\n",
       "    </tr>\n",
       "  </tbody>\n",
       "</table>\n",
       "</div>"
      ],
      "text/plain": [
       "   year  quantile  total_aa_muts\n",
       "0  2008      0.25            0.0\n",
       "1  2008      0.75            0.0\n",
       "2  2009      0.25            1.0\n",
       "3  2009      0.75            5.0\n",
       "4  2011      0.25            2.0"
      ]
     },
     "execution_count": 49,
     "metadata": {},
     "output_type": "execute_result"
    }
   ],
   "source": [
    "aa_quantiles.head()"
   ]
  },
  {
   "cell_type": "code",
   "execution_count": 54,
   "id": "ccdde566-ce04-4be5-9256-42b0c6f9f334",
   "metadata": {},
   "outputs": [],
   "source": [
    "aa_quantile_table = pd.pivot_table(\n",
    "    aa_quantiles,\n",
    "    values=\"total_aa_muts\",\n",
    "    columns=\"quantile\",\n",
    "    index=\"year\",\n",
    ").reset_index()"
   ]
  },
  {
   "cell_type": "code",
   "execution_count": 55,
   "id": "a4bcef77-c224-4d4f-b28b-4881e29d7576",
   "metadata": {},
   "outputs": [
    {
     "data": {
      "text/html": [
       "<div>\n",
       "<style scoped>\n",
       "    .dataframe tbody tr th:only-of-type {\n",
       "        vertical-align: middle;\n",
       "    }\n",
       "\n",
       "    .dataframe tbody tr th {\n",
       "        vertical-align: top;\n",
       "    }\n",
       "\n",
       "    .dataframe thead th {\n",
       "        text-align: right;\n",
       "    }\n",
       "</style>\n",
       "<table border=\"1\" class=\"dataframe\">\n",
       "  <thead>\n",
       "    <tr style=\"text-align: right;\">\n",
       "      <th>quantile</th>\n",
       "      <th>year</th>\n",
       "      <th>0.25</th>\n",
       "      <th>0.75</th>\n",
       "    </tr>\n",
       "  </thead>\n",
       "  <tbody>\n",
       "    <tr>\n",
       "      <th>0</th>\n",
       "      <td>2008</td>\n",
       "      <td>0.0</td>\n",
       "      <td>0.0</td>\n",
       "    </tr>\n",
       "    <tr>\n",
       "      <th>1</th>\n",
       "      <td>2009</td>\n",
       "      <td>1.0</td>\n",
       "      <td>5.0</td>\n",
       "    </tr>\n",
       "    <tr>\n",
       "      <th>2</th>\n",
       "      <td>2011</td>\n",
       "      <td>2.0</td>\n",
       "      <td>4.0</td>\n",
       "    </tr>\n",
       "    <tr>\n",
       "      <th>3</th>\n",
       "      <td>2012</td>\n",
       "      <td>0.5</td>\n",
       "      <td>3.0</td>\n",
       "    </tr>\n",
       "    <tr>\n",
       "      <th>4</th>\n",
       "      <td>2013</td>\n",
       "      <td>3.0</td>\n",
       "      <td>5.0</td>\n",
       "    </tr>\n",
       "    <tr>\n",
       "      <th>5</th>\n",
       "      <td>2014</td>\n",
       "      <td>6.0</td>\n",
       "      <td>8.0</td>\n",
       "    </tr>\n",
       "    <tr>\n",
       "      <th>6</th>\n",
       "      <td>2015</td>\n",
       "      <td>8.0</td>\n",
       "      <td>10.0</td>\n",
       "    </tr>\n",
       "    <tr>\n",
       "      <th>7</th>\n",
       "      <td>2016</td>\n",
       "      <td>10.0</td>\n",
       "      <td>13.0</td>\n",
       "    </tr>\n",
       "    <tr>\n",
       "      <th>8</th>\n",
       "      <td>2017</td>\n",
       "      <td>12.0</td>\n",
       "      <td>16.0</td>\n",
       "    </tr>\n",
       "    <tr>\n",
       "      <th>9</th>\n",
       "      <td>2018</td>\n",
       "      <td>14.0</td>\n",
       "      <td>18.0</td>\n",
       "    </tr>\n",
       "    <tr>\n",
       "      <th>10</th>\n",
       "      <td>2019</td>\n",
       "      <td>18.0</td>\n",
       "      <td>22.0</td>\n",
       "    </tr>\n",
       "  </tbody>\n",
       "</table>\n",
       "</div>"
      ],
      "text/plain": [
       "quantile  year  0.25  0.75\n",
       "0         2008   0.0   0.0\n",
       "1         2009   1.0   5.0\n",
       "2         2011   2.0   4.0\n",
       "3         2012   0.5   3.0\n",
       "4         2013   3.0   5.0\n",
       "5         2014   6.0   8.0\n",
       "6         2015   8.0  10.0\n",
       "7         2016  10.0  13.0\n",
       "8         2017  12.0  16.0\n",
       "9         2018  14.0  18.0\n",
       "10        2019  18.0  22.0"
      ]
     },
     "execution_count": 55,
     "metadata": {},
     "output_type": "execute_result"
    }
   ],
   "source": [
    "aa_quantile_table"
   ]
  },
  {
   "cell_type": "code",
   "execution_count": 58,
   "id": "b9d822ba-c02d-46b8-9595-b67cf1ca3131",
   "metadata": {},
   "outputs": [
    {
     "data": {
      "text/plain": [
       "0     0.0\n",
       "2     2.0\n",
       "4     2.0\n",
       "5     2.0\n",
       "6     2.0\n",
       "3     2.5\n",
       "7     3.0\n",
       "1     4.0\n",
       "8     4.0\n",
       "9     4.0\n",
       "10    4.0\n",
       "dtype: float64"
      ]
     },
     "execution_count": 58,
     "metadata": {},
     "output_type": "execute_result"
    }
   ],
   "source": [
    "(aa_quantile_table[0.75] - aa_quantile_table[0.25]).sort_values()"
   ]
  },
  {
   "cell_type": "code",
   "execution_count": null,
   "id": "a2721186-65bf-4c07-be35-08e34d218795",
   "metadata": {},
   "outputs": [],
   "source": []
  }
 ],
 "metadata": {
  "kernelspec": {
   "display_name": "Python 3 (ipykernel)",
   "language": "python",
   "name": "python3"
  },
  "language_info": {
   "codemirror_mode": {
    "name": "ipython",
    "version": 3
   },
   "file_extension": ".py",
   "mimetype": "text/x-python",
   "name": "python",
   "nbconvert_exporter": "python",
   "pygments_lexer": "ipython3",
   "version": "3.10.9"
  }
 },
 "nbformat": 4,
 "nbformat_minor": 5
}
